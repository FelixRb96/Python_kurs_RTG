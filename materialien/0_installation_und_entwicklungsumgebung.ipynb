{
 "cells": [
  {
   "cell_type": "markdown",
   "metadata": {
    "slideshow": {
     "slide_type": "slide"
    }
   },
   "source": [
    "#1 Installation von notwendigen Programmen"
   ]
  },
  {
   "cell_type": "markdown",
   "metadata": {
    "slideshow": {
     "slide_type": "slide"
    }
   },
   "source": [
    "# Installation von Python und einem Texteditor (30 Minuten)\n",
    "\n",
    "## Installation von Visual Studio Code MAC OS\n",
    "\n",
    "1. Ladet euch zunächst Visual Studio Code runter https://code.visualstudio.com/docs?dv=osx\n",
    "\n",
    "<img src= \"img/VSCode.PNG\" width=450 />\n",
    "\n",
    "<img src= \"img/Mac.png\" width=450 />\n",
    "\n",
    "2. Öffnet VS-Code in dem Download Ordner\n",
    "\n",
    "3. Zieht Visual Studio Code in den Application/Programme Ordner  \n",
    "\n",
    "4. Solltet nun VS-Code unter euren Anwendungen öffnen können \n"
   ]
  },
  {
   "source": [
    "## Installation von Python in VS-Code \n",
    "\n",
    "1. In dem Menü ganz links sollte euch als 4te Option 4 Quadrate angezeigt werden mit dem Namen Extensions\n",
    "\n",
    "\n",
    "\n",
    "<img src= \"img/Extensions.png\" width=250 />\n",
    "\n",
    "2. Gebt in der Suchleiste Python ein und drückt auf Install \n",
    "\n",
    "<img src= \"img/Python2.png\" width=450 />"
   ],
   "cell_type": "markdown",
   "metadata": {}
  },
  {
   "source": [
    "## Installieren eines Python Interpreters über Homebrew\n",
    "\n",
    "1. Öffnet das Terminal \n",
    "\n",
    "Die nächsten zwei Schritte könnt ihr überspringen, wenn ihr homebrew installiert habt\n",
    "\n",
    "2. Installiert Xcode, um homebrew zu installieren: \n",
    "\n",
    "  **xcode-select --install**\n",
    "3. Ihr müsst jetzt den ein oder anderen Spaß akzeptieren\n",
    "\n",
    "4. Mit dem folgenden Befehl könnt ihr nun homebrew installieren:\n",
    "\n",
    "**/usr/bin/ruby -e \"$(curl -fsSL https://raw.githubusercontent.com/Homebrew/install/master/install)\"**\n",
    "\n",
    "\n",
    "5. Installiert Python über den Befehl: brew install python3\n",
    "\n",
    "<img src= \"img/Install.png\" width=450 />\n",
    "\n",
    "6. Verifiziert, dass alles geklappt hat über den Befehl python3 --version\n",
    "\n",
    "<img src= \"img/Verifizierung.png\" width=450 />"
   ],
   "cell_type": "markdown",
   "metadata": {}
  },
  {
   "source": [
    "## Installieren von Python über die Webseite \n",
    "\n",
    "1. Geht auf https://www.python.org/downloads/ und ladet euch Python runter\n",
    "\n",
    "2. Führt den Python Installer aus \n",
    "\n"
   ],
   "cell_type": "markdown",
   "metadata": {}
  },
  {
   "source": [
    "## Öffnen einer .py Datei \n",
    "\n",
    "1. Öffnet einen neuen Ordner \n",
    "\n",
    "2. Erstellt eine Datei und benennt sie z.B. hello.py \n",
    "\n",
    "<img src= \"img/Datei.png\" width=450 />\n",
    "\n",
    "3. Gebt print(\"Hello world\") ein \n",
    "\n",
    "4. Führt die Zeile über Shift+Enter aus\n",
    "\n",
    "<img src= \"img/Output.png\" width=550 />"
   ],
   "cell_type": "markdown",
   "metadata": {}
  },
  {
   "source": [
    "## Öffnen über Python - Get Started \n",
    "\n",
    "* Einfaches erstellen einer .py Datei\n",
    "\n",
    "* Öffnen eines Notebooks\n",
    "\n",
    "<img src= \"img/GetStarted.png\" />\n"
   ],
   "cell_type": "markdown",
   "metadata": {}
  }
 ],
 "metadata": {
  "celltoolbar": "Slideshow",
  "kernelspec": {
   "display_name": "Python 3",
   "language": "python",
   "name": "python3"
  },
  "language_info": {
   "codemirror_mode": {
    "name": "ipython",
    "version": 3
   },
   "file_extension": ".py",
   "mimetype": "text/x-python",
   "name": "python",
   "nbconvert_exporter": "python",
   "pygments_lexer": "ipython3",
   "version": "3.8.5"
  }
 },
 "nbformat": 4,
 "nbformat_minor": 4
}
