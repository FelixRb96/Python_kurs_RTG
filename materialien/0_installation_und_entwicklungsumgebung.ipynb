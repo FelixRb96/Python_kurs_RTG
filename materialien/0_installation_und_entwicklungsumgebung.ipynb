{
 "cells": [
  {
   "cell_type": "markdown",
   "metadata": {
    "slideshow": {
     "slide_type": "slide"
    }
   },
   "source": [
    "# Installation von Python und einem Texteditor (30 Minuten)\n",
    "\n",
    "## Installation von Visual Studio Code MAC OS\n",
    "\n",
    "1. Ladet euch zunächst Visual Studio Code runter https://code.visualstudio.com/docs?dv=osx\n",
    "\n",
    "<img src= \"img/VSCode.png\" width=650 />\n",
    "\n",
    "<img src= \"img/Mac.png\" width=650 />\n",
    "\n",
    "2. Öffnet VS-Code in dem Download Ordner\n",
    "\n",
    "3. Zieht Visual Studio Code in den Application/Programme Ordner  \n",
    "\n",
    "4. Solltet nun VS-Code unter euren Anwendungen öffnen können \n"
   ]
  },
  {
   "source": [
    "## Installation von Python in VS-Code \n",
    "\n",
    "1. In dem Menü ganz links sollte euch als 4te Option 4 Quadrate angezeigt werden mit dem Namen Extensions\n",
    "\n",
    "\n",
    "\n",
    "<img src= \"img/Extensions.png\" width=250 />\n",
    "\n",
    "2. Gebt in der Suchleiste Python ein und drückt auf Install \n",
    "\n",
    "<img src= \"img/Python2.png\" width=450 />"
   ],
   "cell_type": "markdown",
   "metadata": {}
  },
  {
   "source": [
    "## Installieren eines Python Interpreters über Homebrew\n",
    "\n",
    "1. Öffnet das Terminal \n",
    "\n",
    "Die nächsten zwei Schritte könnt ihr überspringen, wenn ihr homebrew installiert habt\n",
    "\n",
    "2. Installiert Xcode, um homebrew zu installieren: \n",
    "\n",
    "  **`xcode-select --install`**\n",
    "3. Ihr müsst jetzt den ein oder anderen Spaß akzeptieren\n",
    "\n",
    "4. Mit dem folgenden Befehl könnt ihr nun homebrew installieren:\n",
    "\n",
    "**`/usr/bin/ruby -e \"$(curl -fsSL https://raw.githubusercontent.com/Homebrew/install/master/install)\"`**\n",
    "\n",
    "\n",
    "5. Installiert Python über den Befehl: \n",
    "\n",
    "**`brew install python3`**\n",
    "\n",
    "<img src= \"img/Install.png\" width=450 />\n",
    "\n",
    "6. Verifiziert, dass alles geklappt hat über den Befehl\n",
    "\n",
    " **`python3 --version`**\n",
    "\n",
    "<img src= \"img/Verifizierung.png\" width=450 />"
   ],
   "cell_type": "markdown",
   "metadata": {}
  },
  {
   "source": [
    "## Installieren von Python über die Webseite \n",
    "\n",
    "1. Geht auf https://www.python.org/downloads/ und ladet euch Python runter\n",
    "\n",
    "2. Führt den Python Installer aus \n",
    "\n"
   ],
   "cell_type": "markdown",
   "metadata": {}
  },
  {
   "source": [
    "## Öffnen einer .py Datei \n",
    "\n",
    "1. Öffnet einen neuen Ordner \n",
    "\n",
    "2. Erstellt eine Datei und benennt sie z.B. hello.py \n",
    "\n",
    "<img src= \"img/Datei.png\" width=450 />\n",
    "\n",
    "3. Gebt **`print(\"Hello world\")`** ein \n",
    "\n",
    "4. Führt die Zeile über Shift+Enter aus\n",
    "\n",
    "<img src= \"img/Output.png\" width=550 />"
   ],
   "cell_type": "markdown",
   "metadata": {}
  },
  {
   "source": [
    "## Öffnen über Python - Get Started \n",
    "\n",
    "* Einfaches erstellen einer .py Datei\n",
    "\n",
    "* Öffnen eines Notebooks\n",
    "\n",
    "<img src= \"img/GetStarted.png\" width = 750 />\n"
   ],
   "cell_type": "markdown",
   "metadata": {}
  },
  {
   "source": [
    "## Installation auf Windows "
   ],
   "cell_type": "markdown",
   "metadata": {}
  },
  {
   "source": [
    "### Installation von Visual Studio Code"
   ],
   "cell_type": "markdown",
   "metadata": {}
  },
  {
   "source": [
    "1. Öffnet den folgenden Link https://code.visualstudio.com/download \n",
    "2. Klickt auf Windows Download\n",
    "\n",
    "<img src= \"img/VSCWind.png\" width=750 />\n",
    "\n",
    "3. In dem Menü ganz links sollte euch als 4te Option 4 Quadrate angezeigt werden mit dem Namen Extensions\n",
    "\n",
    "\n",
    "\n",
    "<img src= \"img/Extensions.png\" width=250 />\n",
    "\n",
    "4. Gebt in der Suchleiste Python ein und drückt auf Install \n",
    "\n",
    "<img src= \"img/Python2.png\" width=450 />"
   ],
   "cell_type": "markdown",
   "metadata": {}
  },
  {
   "source": [
    "## Installation eines Python Interpreters"
   ],
   "cell_type": "markdown",
   "metadata": {}
  },
  {
   "source": [
    "1. Klickt den https://www.python.org/downloads/\n",
    "2. Wählt das entsprechende Download für Windows aus\n",
    "3. Führt die Installation standardgemäß durch\n",
    "4. Verfiziert die Installation indem ihr die Kommando Zeile öffnet und:\n",
    "\n",
    " **`py -3 --version`**\n",
    "\n",
    " eingebt"
   ],
   "cell_type": "markdown",
   "metadata": {}
  },
  {
   "source": [
    "## Öffnen einer Python Datei in VS Code\n",
    "\n"
   ],
   "cell_type": "markdown",
   "metadata": {}
  },
  {
   "source": [
    "1. Öffne einen Folder und erstelle in diesem Folder eine Datei\n",
    "2. Bennent sie .py am Ende\n",
    "3. Es sollte sich das Python - Get Started Fenster öffnen für das einfache erstellen einer Python Datei \n",
    "\n",
    "<img src= \"img/GetStarted.png\" width=750 />"
   ],
   "cell_type": "markdown",
   "metadata": {}
  },
  {
   "source": [
    "## Öffnen einer .py Datei \n",
    "\n",
    "1. Öffnet einen neuen Ordner \n",
    "\n",
    "2. Erstellt eine Datei und benennt sie z.B. hello.py \n",
    "\n",
    "<img src= \"img/Datei.png\" width=450 />\n",
    "\n",
    "3. Gebt **`print(\"Hello world\")`** ein \n",
    "\n",
    "4. Führt die Zeile über Shift+Enter aus\n",
    "\n",
    "<img src= \"img/Output.png\" width=550 />"
   ],
   "cell_type": "markdown",
   "metadata": {}
  },
  {
   "source": [
    "## Öffnen über Python - Get Started \n",
    "\n",
    "* Einfaches erstellen einer .py Datei\n",
    "\n",
    "* Öffnen eines Notebooks\n",
    "\n",
    "<img src= \"img/GetStarted.png\" width = 750 />"
   ],
   "cell_type": "markdown",
   "metadata": {}
  },
  {
   "cell_type": "code",
   "execution_count": 1,
   "metadata": {},
   "outputs": [
    {
     "output_type": "stream",
     "name": "stdout",
     "text": [
      "Geschafft!\n"
     ]
    }
   ],
   "source": [
    "print('Geschafft!')"
   ]
  }
 ],
 "metadata": {
  "celltoolbar": "Slideshow",
  "kernelspec": {
   "name": "python394jvsc74a57bd06b2e5d8b7546ff9e0bd174f331b2857b7f0362a490d1c0e3fac15b0e9786b32d",
   "display_name": "Python 3.9.4 64-bit"
  },
  "language_info": {
   "codemirror_mode": {
    "name": "ipython",
    "version": 3
   },
   "file_extension": ".py",
   "mimetype": "text/x-python",
   "name": "python",
   "nbconvert_exporter": "python",
   "pygments_lexer": "ipython3",
   "version": "3.9.4"
  },
  "metadata": {
   "interpreter": {
    "hash": "6b2e5d8b7546ff9e0bd174f331b2857b7f0362a490d1c0e3fac15b0e9786b32d"
   }
  }
 },
 "nbformat": 4,
 "nbformat_minor": 4
}