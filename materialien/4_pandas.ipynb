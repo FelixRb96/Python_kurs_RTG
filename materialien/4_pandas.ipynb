{
 "metadata": {
  "language_info": {
   "codemirror_mode": {
    "name": "ipython",
    "version": 3
   },
   "file_extension": ".py",
   "mimetype": "text/x-python",
   "name": "python",
   "nbconvert_exporter": "python",
   "pygments_lexer": "ipython3",
   "version": "3.8.2"
  },
  "orig_nbformat": 2,
  "kernelspec": {
   "name": "python382jvsc74a57bd0082e9a3bcad0a290d0001e938aa60b99250c6c2ef33a923c00b70f9826caf4b7",
   "display_name": "Python 3.8.2 64-bit"
  },
  "metadata": {
   "interpreter": {
    "hash": "082e9a3bcad0a290d0001e938aa60b99250c6c2ef33a923c00b70f9826caf4b7"
   }
  }
 },
 "nbformat": 4,
 "nbformat_minor": 2,
 "cells": [
  {
   "source": [
    "\n",
    "# Willkommen zum Pandas Tutorial\n",
    "\n",
    "## Übersicht\n",
    "\n",
    "1. Series vs Dataframe\n",
    "2. Kreiren einer Series und eines Dataframes\n",
    "3. Überblick über den Dataframe bekommen\n",
    "4. Datentransformationen\n",
    "5. Zugriff auf die Daten(Getting)\n",
    "6. Daten verändern(Setting)\n",
    "7. Fehlende Daten\n",
    "8. Operationen\n",
    "9. Mergen\n",
    "10. Gruppieren\n",
    "11. Plotten\n",
    "12. Dateien einlesen\n",
    "\n",
    "\n"
   ],
   "cell_type": "markdown",
   "metadata": {}
  },
  {
   "source": [
    "## Series vs Dataframe\n",
    "\n",
    "Benutzt man Pandas arbeitet man mit Series und Dataframes\n",
    "\n",
    "\n",
    "**Was ist Series?**\n",
    "* Eine Series ist ein eindimensionaler Array, welcher gelabelt ist\n",
    "* Kann jeden möglichen Datentyp enthalten\n",
    "* Lässt sich als Excel Spalter interpretieren\n",
    "\n",
    "**Was ist ein Dataframe?**\n",
    "* Series ist die Datenstruktur einer Spalte eines Dataframes\n",
    "* Ein Dataframe ist somit eine Kollektion aus Series \n"
   ],
   "cell_type": "markdown",
   "metadata": {}
  },
  {
   "source": [
    "## Kreieren einer Series und Dataframes"
   ],
   "cell_type": "markdown",
   "metadata": {}
  },
  {
   "cell_type": "code",
   "execution_count": 1,
   "metadata": {},
   "outputs": [],
   "source": [
    "# Zunächst müssen wir pandas importieren nutzen hierfür eine Abkürzung\n",
    "import pandas as pd\n",
    "import numpy as np"
   ]
  },
  {
   "cell_type": "code",
   "execution_count": 2,
   "metadata": {},
   "outputs": [
    {
     "output_type": "execute_result",
     "data": {
      "text/plain": [
       "0   -0.501123\n",
       "1    0.444445\n",
       "2    0.299596\n",
       "3   -0.182051\n",
       "4   -1.217211\n",
       "5   -0.711059\n",
       "dtype: float64"
      ]
     },
     "metadata": {},
     "execution_count": 2
    }
   ],
   "source": [
    "#Kreieren einer panda Series durch Zufallszahlen\n",
    "\n",
    "s = pd.Series(np.random.randn(6))\n",
    "s"
   ]
  },
  {
   "source": [
    "* Erhalten 6 standardnormalverteilte Zufallsvariablen und speichern die als Series\n",
    "* Erhalten die automatisch generierten Indizes 0-6\n",
    "* Kriegen den Datentyp angezeigt"
   ],
   "cell_type": "markdown",
   "metadata": {}
  },
  {
   "cell_type": "code",
   "execution_count": 3,
   "metadata": {},
   "outputs": [
    {
     "output_type": "execute_result",
     "data": {
      "text/plain": [
       "          0         1         2         3\n",
       "0  1.368797  0.765061  1.459671 -0.187818\n",
       "1  0.543279  0.219730  0.470182  0.146887\n",
       "2 -0.652950  0.913473  0.057604  0.211095\n",
       "3  1.033487 -0.388164 -0.437154 -0.705411\n",
       "4  1.456145  0.806080 -1.180514 -0.697039\n",
       "5  1.014239  0.619523 -0.965299 -0.656414"
      ],
      "text/html": "<div>\n<style scoped>\n    .dataframe tbody tr th:only-of-type {\n        vertical-align: middle;\n    }\n\n    .dataframe tbody tr th {\n        vertical-align: top;\n    }\n\n    .dataframe thead th {\n        text-align: right;\n    }\n</style>\n<table border=\"1\" class=\"dataframe\">\n  <thead>\n    <tr style=\"text-align: right;\">\n      <th></th>\n      <th>0</th>\n      <th>1</th>\n      <th>2</th>\n      <th>3</th>\n    </tr>\n  </thead>\n  <tbody>\n    <tr>\n      <th>0</th>\n      <td>1.368797</td>\n      <td>0.765061</td>\n      <td>1.459671</td>\n      <td>-0.187818</td>\n    </tr>\n    <tr>\n      <th>1</th>\n      <td>0.543279</td>\n      <td>0.219730</td>\n      <td>0.470182</td>\n      <td>0.146887</td>\n    </tr>\n    <tr>\n      <th>2</th>\n      <td>-0.652950</td>\n      <td>0.913473</td>\n      <td>0.057604</td>\n      <td>0.211095</td>\n    </tr>\n    <tr>\n      <th>3</th>\n      <td>1.033487</td>\n      <td>-0.388164</td>\n      <td>-0.437154</td>\n      <td>-0.705411</td>\n    </tr>\n    <tr>\n      <th>4</th>\n      <td>1.456145</td>\n      <td>0.806080</td>\n      <td>-1.180514</td>\n      <td>-0.697039</td>\n    </tr>\n    <tr>\n      <th>5</th>\n      <td>1.014239</td>\n      <td>0.619523</td>\n      <td>-0.965299</td>\n      <td>-0.656414</td>\n    </tr>\n  </tbody>\n</table>\n</div>"
     },
     "metadata": {},
     "execution_count": 3
    }
   ],
   "source": [
    "#Kreieren eines Dataframes\n",
    "\n",
    "df = pd.DataFrame(np.random.randn(6,4))\n",
    "df"
   ]
  },
  {
   "source": [
    "* Erhalten Dataframe mit 6 Zeilen und 4 Spalten\n",
    "* automatisierte Spalten und Zeilen\n",
    "\n",
    "**Wie können wir Spalten und Zeilen benennen?**"
   ],
   "cell_type": "markdown",
   "metadata": {}
  },
  {
   "cell_type": "code",
   "execution_count": 4,
   "metadata": {},
   "outputs": [
    {
     "output_type": "execute_result",
     "data": {
      "text/plain": [
       "          A         B         C         D\n",
       "0  1.368797  0.765061  1.459671 -0.187818\n",
       "1  0.543279  0.219730  0.470182  0.146887\n",
       "2 -0.652950  0.913473  0.057604  0.211095\n",
       "3  1.033487 -0.388164 -0.437154 -0.705411\n",
       "4  1.456145  0.806080 -1.180514 -0.697039\n",
       "5  1.014239  0.619523 -0.965299 -0.656414"
      ],
      "text/html": "<div>\n<style scoped>\n    .dataframe tbody tr th:only-of-type {\n        vertical-align: middle;\n    }\n\n    .dataframe tbody tr th {\n        vertical-align: top;\n    }\n\n    .dataframe thead th {\n        text-align: right;\n    }\n</style>\n<table border=\"1\" class=\"dataframe\">\n  <thead>\n    <tr style=\"text-align: right;\">\n      <th></th>\n      <th>A</th>\n      <th>B</th>\n      <th>C</th>\n      <th>D</th>\n    </tr>\n  </thead>\n  <tbody>\n    <tr>\n      <th>0</th>\n      <td>1.368797</td>\n      <td>0.765061</td>\n      <td>1.459671</td>\n      <td>-0.187818</td>\n    </tr>\n    <tr>\n      <th>1</th>\n      <td>0.543279</td>\n      <td>0.219730</td>\n      <td>0.470182</td>\n      <td>0.146887</td>\n    </tr>\n    <tr>\n      <th>2</th>\n      <td>-0.652950</td>\n      <td>0.913473</td>\n      <td>0.057604</td>\n      <td>0.211095</td>\n    </tr>\n    <tr>\n      <th>3</th>\n      <td>1.033487</td>\n      <td>-0.388164</td>\n      <td>-0.437154</td>\n      <td>-0.705411</td>\n    </tr>\n    <tr>\n      <th>4</th>\n      <td>1.456145</td>\n      <td>0.806080</td>\n      <td>-1.180514</td>\n      <td>-0.697039</td>\n    </tr>\n    <tr>\n      <th>5</th>\n      <td>1.014239</td>\n      <td>0.619523</td>\n      <td>-0.965299</td>\n      <td>-0.656414</td>\n    </tr>\n  </tbody>\n</table>\n</div>"
     },
     "metadata": {},
     "execution_count": 4
    }
   ],
   "source": [
    "df.columns = list('ABCD')\n",
    "df"
   ]
  },
  {
   "cell_type": "code",
   "execution_count": 5,
   "metadata": {},
   "outputs": [
    {
     "output_type": "execute_result",
     "data": {
      "text/plain": [
       "                   A         B         C         D\n",
       "2021-05-07  1.368797  0.765061  1.459671 -0.187818\n",
       "2021-05-08  0.543279  0.219730  0.470182  0.146887\n",
       "2021-05-09 -0.652950  0.913473  0.057604  0.211095\n",
       "2021-05-10  1.033487 -0.388164 -0.437154 -0.705411\n",
       "2021-05-11  1.456145  0.806080 -1.180514 -0.697039\n",
       "2021-05-12  1.014239  0.619523 -0.965299 -0.656414"
      ],
      "text/html": "<div>\n<style scoped>\n    .dataframe tbody tr th:only-of-type {\n        vertical-align: middle;\n    }\n\n    .dataframe tbody tr th {\n        vertical-align: top;\n    }\n\n    .dataframe thead th {\n        text-align: right;\n    }\n</style>\n<table border=\"1\" class=\"dataframe\">\n  <thead>\n    <tr style=\"text-align: right;\">\n      <th></th>\n      <th>A</th>\n      <th>B</th>\n      <th>C</th>\n      <th>D</th>\n    </tr>\n  </thead>\n  <tbody>\n    <tr>\n      <th>2021-05-07</th>\n      <td>1.368797</td>\n      <td>0.765061</td>\n      <td>1.459671</td>\n      <td>-0.187818</td>\n    </tr>\n    <tr>\n      <th>2021-05-08</th>\n      <td>0.543279</td>\n      <td>0.219730</td>\n      <td>0.470182</td>\n      <td>0.146887</td>\n    </tr>\n    <tr>\n      <th>2021-05-09</th>\n      <td>-0.652950</td>\n      <td>0.913473</td>\n      <td>0.057604</td>\n      <td>0.211095</td>\n    </tr>\n    <tr>\n      <th>2021-05-10</th>\n      <td>1.033487</td>\n      <td>-0.388164</td>\n      <td>-0.437154</td>\n      <td>-0.705411</td>\n    </tr>\n    <tr>\n      <th>2021-05-11</th>\n      <td>1.456145</td>\n      <td>0.806080</td>\n      <td>-1.180514</td>\n      <td>-0.697039</td>\n    </tr>\n    <tr>\n      <th>2021-05-12</th>\n      <td>1.014239</td>\n      <td>0.619523</td>\n      <td>-0.965299</td>\n      <td>-0.656414</td>\n    </tr>\n  </tbody>\n</table>\n</div>"
     },
     "metadata": {},
     "execution_count": 5
    }
   ],
   "source": [
    "#Bennen der Zeilen durch Datum\n",
    "dates = pd.date_range('20210507',periods=6)\n",
    "dates \n",
    "\n",
    "df.index = dates \n",
    "df"
   ]
  },
  {
   "source": [
    "**Ist es möglich unsere Spalten und Zeilen bei der Initialisierung schon zu benennen?**"
   ],
   "cell_type": "markdown",
   "metadata": {}
  },
  {
   "cell_type": "code",
   "execution_count": 6,
   "metadata": {},
   "outputs": [
    {
     "output_type": "execute_result",
     "data": {
      "text/plain": [
       "                   A         B         C         D\n",
       "2021-05-07 -2.512309  0.812689 -0.842973  0.168490\n",
       "2021-05-08 -0.897469 -0.341551  2.071681  0.703704\n",
       "2021-05-09 -1.602417  0.187154  0.615322 -0.255759\n",
       "2021-05-10  1.597100  0.517334 -0.111778 -1.569112\n",
       "2021-05-11  0.578180  0.641486 -0.223627  0.731030\n",
       "2021-05-12  1.790699 -1.528190  0.070404 -0.905850"
      ],
      "text/html": "<div>\n<style scoped>\n    .dataframe tbody tr th:only-of-type {\n        vertical-align: middle;\n    }\n\n    .dataframe tbody tr th {\n        vertical-align: top;\n    }\n\n    .dataframe thead th {\n        text-align: right;\n    }\n</style>\n<table border=\"1\" class=\"dataframe\">\n  <thead>\n    <tr style=\"text-align: right;\">\n      <th></th>\n      <th>A</th>\n      <th>B</th>\n      <th>C</th>\n      <th>D</th>\n    </tr>\n  </thead>\n  <tbody>\n    <tr>\n      <th>2021-05-07</th>\n      <td>-2.512309</td>\n      <td>0.812689</td>\n      <td>-0.842973</td>\n      <td>0.168490</td>\n    </tr>\n    <tr>\n      <th>2021-05-08</th>\n      <td>-0.897469</td>\n      <td>-0.341551</td>\n      <td>2.071681</td>\n      <td>0.703704</td>\n    </tr>\n    <tr>\n      <th>2021-05-09</th>\n      <td>-1.602417</td>\n      <td>0.187154</td>\n      <td>0.615322</td>\n      <td>-0.255759</td>\n    </tr>\n    <tr>\n      <th>2021-05-10</th>\n      <td>1.597100</td>\n      <td>0.517334</td>\n      <td>-0.111778</td>\n      <td>-1.569112</td>\n    </tr>\n    <tr>\n      <th>2021-05-11</th>\n      <td>0.578180</td>\n      <td>0.641486</td>\n      <td>-0.223627</td>\n      <td>0.731030</td>\n    </tr>\n    <tr>\n      <th>2021-05-12</th>\n      <td>1.790699</td>\n      <td>-1.528190</td>\n      <td>0.070404</td>\n      <td>-0.905850</td>\n    </tr>\n  </tbody>\n</table>\n</div>"
     },
     "metadata": {},
     "execution_count": 6
    }
   ],
   "source": [
    "df2 = pd.DataFrame(np.random.randn(6,4), index=dates, columns= list('ABCD'))\n",
    "df2"
   ]
  },
  {
   "source": [
    "**Erstellen eines Dataframes durch ein Dictionary**\n",
    " "
   ],
   "cell_type": "markdown",
   "metadata": {}
  },
  {
   "cell_type": "code",
   "execution_count": 7,
   "metadata": {},
   "outputs": [
    {
     "output_type": "execute_result",
     "data": {
      "text/plain": [
       "     A      B    C  D      E\n",
       "0  1.0  Hallo  2.5  3   test\n",
       "1  1.0    ich  2.5  3  train\n",
       "2  1.0    bin  2.5  3   test\n",
       "3  1.0   Till  2.5  3  train"
      ],
      "text/html": "<div>\n<style scoped>\n    .dataframe tbody tr th:only-of-type {\n        vertical-align: middle;\n    }\n\n    .dataframe tbody tr th {\n        vertical-align: top;\n    }\n\n    .dataframe thead th {\n        text-align: right;\n    }\n</style>\n<table border=\"1\" class=\"dataframe\">\n  <thead>\n    <tr style=\"text-align: right;\">\n      <th></th>\n      <th>A</th>\n      <th>B</th>\n      <th>C</th>\n      <th>D</th>\n      <th>E</th>\n    </tr>\n  </thead>\n  <tbody>\n    <tr>\n      <th>0</th>\n      <td>1.0</td>\n      <td>Hallo</td>\n      <td>2.5</td>\n      <td>3</td>\n      <td>test</td>\n    </tr>\n    <tr>\n      <th>1</th>\n      <td>1.0</td>\n      <td>ich</td>\n      <td>2.5</td>\n      <td>3</td>\n      <td>train</td>\n    </tr>\n    <tr>\n      <th>2</th>\n      <td>1.0</td>\n      <td>bin</td>\n      <td>2.5</td>\n      <td>3</td>\n      <td>test</td>\n    </tr>\n    <tr>\n      <th>3</th>\n      <td>1.0</td>\n      <td>Till</td>\n      <td>2.5</td>\n      <td>3</td>\n      <td>train</td>\n    </tr>\n  </tbody>\n</table>\n</div>"
     },
     "metadata": {},
     "execution_count": 7
    }
   ],
   "source": [
    "df3 = pd.DataFrame(\n",
    "    {\n",
    "        'A':1.0,\n",
    "        'B':['Hallo','ich','bin','Till'],\n",
    "        'C': pd.Series(2.5, index=list(range(4)), dtype=\"float32\"),\n",
    "        'D':np.array([3] * 4, dtype=\"int32\"),\n",
    "        'E': pd.Categorical([\"test\", \"train\", \"test\", \"train\"])\n",
    "\n",
    "    })\n",
    "df3"
   ]
  },
  {
   "cell_type": "code",
   "execution_count": 8,
   "metadata": {},
   "outputs": [
    {
     "output_type": "execute_result",
     "data": {
      "text/plain": [
       "A     float64\n",
       "B      object\n",
       "C     float32\n",
       "D       int32\n",
       "E    category\n",
       "dtype: object"
      ]
     },
     "metadata": {},
     "execution_count": 8
    }
   ],
   "source": [
    "#Datentypen ausgeben lassen\n",
    "\n",
    "df3.dtypes"
   ]
  },
  {
   "source": [
    "## kleine Zusammenfassung\n",
    "\n",
    "* Wir sehen, dass jede Spalte verschiedene Datentypen beinhält\n",
    "* Jede einzelne Spalte ist hierbei eine panda Series \n",
    "* die Kollektion aus den Series ergibt dann unseren Dataframe\n",
    "* Praktisch: Die keys unseres Dictionaries dienen direkt als Spalten des Dataframes "
   ],
   "cell_type": "markdown",
   "metadata": {}
  },
  {
   "source": [
    "### Einschub Maps\n",
    "\n",
    "* pd.maps() wird benutzt um Werte von 2 Series, die eine Spalte gemeinsam haben, aufeinander abzubilden\n",
    "* nimmt als Input Funktionen, Dictionaries oder Series \n",
    "* Für die Abbildung von 2 Series sollte die letzte Spalte der ersten Series der Index Spalte der zweiten Series entsprechen"
   ],
   "cell_type": "markdown",
   "metadata": {}
  },
  {
   "source": [
    "s = pd.Series(['Döring', 'Roggenkamp', np.nan, 'Schlather'])\n",
    "s"
   ],
   "cell_type": "code",
   "metadata": {},
   "execution_count": 9,
   "outputs": [
    {
     "output_type": "execute_result",
     "data": {
      "text/plain": [
       "0        Döring\n",
       "1    Roggenkamp\n",
       "2           NaN\n",
       "3     Schlather\n",
       "dtype: object"
      ]
     },
     "metadata": {},
     "execution_count": 9
    }
   ]
  },
  {
   "cell_type": "code",
   "execution_count": 10,
   "metadata": {},
   "outputs": [
    {
     "output_type": "execute_result",
     "data": {
      "text/plain": [
       "0    Ana1\n",
       "1     LA1\n",
       "2     NaN\n",
       "3     NaN\n",
       "dtype: object"
      ]
     },
     "metadata": {},
     "execution_count": 10
    }
   ],
   "source": [
    "s.map({ 'Roggenkamp' : 'LA1',  'Döring' : 'Ana1'})"
   ]
  },
  {
   "cell_type": "code",
   "execution_count": 11,
   "metadata": {},
   "outputs": [
    {
     "output_type": "execute_result",
     "data": {
      "text/plain": [
       "0        Gehalten von Professor Döring\n",
       "1    Gehalten von Professor Roggenkamp\n",
       "2           Gehalten von Professor nan\n",
       "3     Gehalten von Professor Schlather\n",
       "dtype: object"
      ]
     },
     "metadata": {},
     "execution_count": 11
    }
   ],
   "source": [
    "s.map('Gehalten von Professor {}'.format)"
   ]
  },
  {
   "cell_type": "code",
   "execution_count": 12,
   "metadata": {},
   "outputs": [
    {
     "output_type": "execute_result",
     "data": {
      "text/plain": [
       "0        Gehalten von Professor Döring\n",
       "1    Gehalten von Professor Roggenkamp\n",
       "2                                  NaN\n",
       "3     Gehalten von Professor Schlather\n",
       "dtype: object"
      ]
     },
     "metadata": {},
     "execution_count": 12
    }
   ],
   "source": [
    "s.map('Gehalten von Professor {}'.format, na_action='ignore' )"
   ]
  },
  {
   "cell_type": "code",
   "execution_count": 13,
   "metadata": {},
   "outputs": [
    {
     "output_type": "execute_result",
     "data": {
      "text/plain": [
       "Semester        Döring\n",
       "Semester    Roggenkamp\n",
       "Semester      Göttlich\n",
       "Semester     Schlather\n",
       "Name: Professoren, dtype: object"
      ]
     },
     "metadata": {},
     "execution_count": 13
    }
   ],
   "source": [
    "s1 = pd.Series(['Döring', 'Roggenkamp', 'Göttlich', 'Schlather'], name='Professoren', index = ['Semester'] *4)\n",
    "s1"
   ]
  },
  {
   "cell_type": "code",
   "execution_count": 14,
   "metadata": {},
   "outputs": [
    {
     "output_type": "execute_result",
     "data": {
      "text/plain": [
       "Döring        1\n",
       "Roggenkamp    1\n",
       "Göttlich      3\n",
       "Schlather     4\n",
       "dtype: int64"
      ]
     },
     "metadata": {},
     "execution_count": 14
    }
   ],
   "source": [
    "s2 = pd.Series([1, 1, 3, 4], index= ['Döring', 'Roggenkamp', 'Göttlich', 'Schlather'])\n",
    "s2"
   ]
  },
  {
   "cell_type": "code",
   "execution_count": 15,
   "metadata": {},
   "outputs": [
    {
     "output_type": "execute_result",
     "data": {
      "text/plain": [
       "Semester    1\n",
       "Semester    1\n",
       "Semester    3\n",
       "Semester    4\n",
       "Name: Professoren, dtype: int64"
      ]
     },
     "metadata": {},
     "execution_count": 15
    }
   ],
   "source": [
    "new = s1.map(s2)\n",
    "new"
   ]
  },
  {
   "source": [
    "## Überblick über unsere Daten bekommen\n"
   ],
   "cell_type": "markdown",
   "metadata": {}
  },
  {
   "source": [
    "* Oftmals sehr viele Daten\n",
    "* oft externe Daten\n",
    "\n",
    "** Wie bekomme ich einen schnellen Überblick? **"
   ],
   "cell_type": "markdown",
   "metadata": {}
  },
  {
   "cell_type": "code",
   "execution_count": 16,
   "metadata": {},
   "outputs": [
    {
     "output_type": "execute_result",
     "data": {
      "text/plain": [
       "                   A         B         C         D\n",
       "2021-05-07  1.368797  0.765061  1.459671 -0.187818\n",
       "2021-05-08  0.543279  0.219730  0.470182  0.146887\n",
       "2021-05-09 -0.652950  0.913473  0.057604  0.211095\n",
       "2021-05-10  1.033487 -0.388164 -0.437154 -0.705411\n",
       "2021-05-11  1.456145  0.806080 -1.180514 -0.697039"
      ],
      "text/html": "<div>\n<style scoped>\n    .dataframe tbody tr th:only-of-type {\n        vertical-align: middle;\n    }\n\n    .dataframe tbody tr th {\n        vertical-align: top;\n    }\n\n    .dataframe thead th {\n        text-align: right;\n    }\n</style>\n<table border=\"1\" class=\"dataframe\">\n  <thead>\n    <tr style=\"text-align: right;\">\n      <th></th>\n      <th>A</th>\n      <th>B</th>\n      <th>C</th>\n      <th>D</th>\n    </tr>\n  </thead>\n  <tbody>\n    <tr>\n      <th>2021-05-07</th>\n      <td>1.368797</td>\n      <td>0.765061</td>\n      <td>1.459671</td>\n      <td>-0.187818</td>\n    </tr>\n    <tr>\n      <th>2021-05-08</th>\n      <td>0.543279</td>\n      <td>0.219730</td>\n      <td>0.470182</td>\n      <td>0.146887</td>\n    </tr>\n    <tr>\n      <th>2021-05-09</th>\n      <td>-0.652950</td>\n      <td>0.913473</td>\n      <td>0.057604</td>\n      <td>0.211095</td>\n    </tr>\n    <tr>\n      <th>2021-05-10</th>\n      <td>1.033487</td>\n      <td>-0.388164</td>\n      <td>-0.437154</td>\n      <td>-0.705411</td>\n    </tr>\n    <tr>\n      <th>2021-05-11</th>\n      <td>1.456145</td>\n      <td>0.806080</td>\n      <td>-1.180514</td>\n      <td>-0.697039</td>\n    </tr>\n  </tbody>\n</table>\n</div>"
     },
     "metadata": {},
     "execution_count": 16
    }
   ],
   "source": [
    "# Ausgabe der ersten n Daten\n",
    "df.head()\n"
   ]
  },
  {
   "cell_type": "code",
   "execution_count": 17,
   "metadata": {},
   "outputs": [
    {
     "output_type": "execute_result",
     "data": {
      "text/plain": [
       "                   A         B         C         D\n",
       "2021-05-11  1.456145  0.806080 -1.180514 -0.697039\n",
       "2021-05-12  1.014239  0.619523 -0.965299 -0.656414"
      ],
      "text/html": "<div>\n<style scoped>\n    .dataframe tbody tr th:only-of-type {\n        vertical-align: middle;\n    }\n\n    .dataframe tbody tr th {\n        vertical-align: top;\n    }\n\n    .dataframe thead th {\n        text-align: right;\n    }\n</style>\n<table border=\"1\" class=\"dataframe\">\n  <thead>\n    <tr style=\"text-align: right;\">\n      <th></th>\n      <th>A</th>\n      <th>B</th>\n      <th>C</th>\n      <th>D</th>\n    </tr>\n  </thead>\n  <tbody>\n    <tr>\n      <th>2021-05-11</th>\n      <td>1.456145</td>\n      <td>0.806080</td>\n      <td>-1.180514</td>\n      <td>-0.697039</td>\n    </tr>\n    <tr>\n      <th>2021-05-12</th>\n      <td>1.014239</td>\n      <td>0.619523</td>\n      <td>-0.965299</td>\n      <td>-0.656414</td>\n    </tr>\n  </tbody>\n</table>\n</div>"
     },
     "metadata": {},
     "execution_count": 17
    }
   ],
   "source": [
    "#Ausgabe der letzten n Daten\n",
    "df.tail(2)"
   ]
  },
  {
   "cell_type": "code",
   "execution_count": 18,
   "metadata": {},
   "outputs": [
    {
     "output_type": "execute_result",
     "data": {
      "text/plain": [
       "DatetimeIndex(['2021-05-07', '2021-05-08', '2021-05-09', '2021-05-10',\n",
       "               '2021-05-11', '2021-05-12'],\n",
       "              dtype='datetime64[ns]', freq='D')"
      ]
     },
     "metadata": {},
     "execution_count": 18
    }
   ],
   "source": [
    "#Ausgabe der Indizes \n",
    "df.index "
   ]
  },
  {
   "cell_type": "code",
   "execution_count": 19,
   "metadata": {},
   "outputs": [
    {
     "output_type": "execute_result",
     "data": {
      "text/plain": [
       "Index(['A', 'B', 'C', 'D'], dtype='object')"
      ]
     },
     "metadata": {},
     "execution_count": 19
    }
   ],
   "source": [
    "#Ausgabe der Spalten\n",
    "df.columns"
   ]
  },
  {
   "cell_type": "code",
   "execution_count": 20,
   "metadata": {},
   "outputs": [
    {
     "output_type": "execute_result",
     "data": {
      "text/plain": [
       "              A         B         C         D\n",
       "count  6.000000  6.000000  6.000000  6.000000\n",
       "mean   0.793833  0.489284 -0.099252 -0.314783\n",
       "std    0.778616  0.493130  0.981065  0.429238\n",
       "min   -0.652950 -0.388164 -1.180514 -0.705411\n",
       "25%    0.661019  0.319678 -0.833262 -0.686883\n",
       "50%    1.023863  0.692292 -0.189775 -0.422116\n",
       "75%    1.284969  0.795826  0.367037  0.063210\n",
       "max    1.456145  0.913473  1.459671  0.211095"
      ],
      "text/html": "<div>\n<style scoped>\n    .dataframe tbody tr th:only-of-type {\n        vertical-align: middle;\n    }\n\n    .dataframe tbody tr th {\n        vertical-align: top;\n    }\n\n    .dataframe thead th {\n        text-align: right;\n    }\n</style>\n<table border=\"1\" class=\"dataframe\">\n  <thead>\n    <tr style=\"text-align: right;\">\n      <th></th>\n      <th>A</th>\n      <th>B</th>\n      <th>C</th>\n      <th>D</th>\n    </tr>\n  </thead>\n  <tbody>\n    <tr>\n      <th>count</th>\n      <td>6.000000</td>\n      <td>6.000000</td>\n      <td>6.000000</td>\n      <td>6.000000</td>\n    </tr>\n    <tr>\n      <th>mean</th>\n      <td>0.793833</td>\n      <td>0.489284</td>\n      <td>-0.099252</td>\n      <td>-0.314783</td>\n    </tr>\n    <tr>\n      <th>std</th>\n      <td>0.778616</td>\n      <td>0.493130</td>\n      <td>0.981065</td>\n      <td>0.429238</td>\n    </tr>\n    <tr>\n      <th>min</th>\n      <td>-0.652950</td>\n      <td>-0.388164</td>\n      <td>-1.180514</td>\n      <td>-0.705411</td>\n    </tr>\n    <tr>\n      <th>25%</th>\n      <td>0.661019</td>\n      <td>0.319678</td>\n      <td>-0.833262</td>\n      <td>-0.686883</td>\n    </tr>\n    <tr>\n      <th>50%</th>\n      <td>1.023863</td>\n      <td>0.692292</td>\n      <td>-0.189775</td>\n      <td>-0.422116</td>\n    </tr>\n    <tr>\n      <th>75%</th>\n      <td>1.284969</td>\n      <td>0.795826</td>\n      <td>0.367037</td>\n      <td>0.063210</td>\n    </tr>\n    <tr>\n      <th>max</th>\n      <td>1.456145</td>\n      <td>0.913473</td>\n      <td>1.459671</td>\n      <td>0.211095</td>\n    </tr>\n  </tbody>\n</table>\n</div>"
     },
     "metadata": {},
     "execution_count": 20
    }
   ],
   "source": [
    "#Ausgabe einer statischen Übersicht des DataFrames\n",
    "df.describe()"
   ]
  },
  {
   "source": [
    "## Kurzer Einschub Pandas vs Numpy\n",
    "\n",
    "* DataFrame.to_numpy() ermöglicht es die Daten im Numpy Format zu präsentieren\n",
    "* Spalten haben jedoch verschiedene Datentypen -> müssen alle zum gleichen Datentyp transformiert werden\n",
    "\n",
    "**Unterschied: Numpy Arrays haben nur einen Datentyp, während Panda Dataframes einen Datentyp pro Spalte haben**"
   ],
   "cell_type": "markdown",
   "metadata": {}
  },
  {
   "cell_type": "code",
   "execution_count": 21,
   "metadata": {},
   "outputs": [
    {
     "output_type": "execute_result",
     "data": {
      "text/plain": [
       "array([[ 1.36879691,  0.76506082,  1.4596707 , -0.18781782],\n",
       "       [ 0.54327869,  0.21972977,  0.47018208,  0.14688656],\n",
       "       [-0.65295002,  0.91347279,  0.05760353,  0.21109538],\n",
       "       [ 1.03348677, -0.38816361, -0.43715385, -0.70541057],\n",
       "       [ 1.4561447 ,  0.80608042, -1.18051427, -0.69703901],\n",
       "       [ 1.01423874,  0.61952253, -0.96529858, -0.65641416]])"
      ]
     },
     "metadata": {},
     "execution_count": 21
    }
   ],
   "source": [
    "#Umwandlung zu Numpy Array\n",
    "\n",
    "df.to_numpy()"
   ]
  },
  {
   "source": [
    "#Bei verschiedenen Datentypen eine sehr kostspielige Methode\n",
    "df3.to_numpy()"
   ],
   "cell_type": "code",
   "metadata": {},
   "execution_count": 22,
   "outputs": [
    {
     "output_type": "execute_result",
     "data": {
      "text/plain": [
       "array([[1.0, 'Hallo', 2.5, 3, 'test'],\n",
       "       [1.0, 'ich', 2.5, 3, 'train'],\n",
       "       [1.0, 'bin', 2.5, 3, 'test'],\n",
       "       [1.0, 'Till', 2.5, 3, 'train']], dtype=object)"
      ]
     },
     "metadata": {},
     "execution_count": 22
    }
   ]
  },
  {
   "source": [
    "## Datentransformationen"
   ],
   "cell_type": "markdown",
   "metadata": {}
  },
  {
   "cell_type": "code",
   "execution_count": 23,
   "metadata": {},
   "outputs": [
    {
     "output_type": "execute_result",
     "data": {
      "text/plain": [
       "   2021-05-07  2021-05-08  2021-05-09  2021-05-10  2021-05-11  2021-05-12\n",
       "A    1.368797    0.543279   -0.652950    1.033487    1.456145    1.014239\n",
       "B    0.765061    0.219730    0.913473   -0.388164    0.806080    0.619523\n",
       "C    1.459671    0.470182    0.057604   -0.437154   -1.180514   -0.965299\n",
       "D   -0.187818    0.146887    0.211095   -0.705411   -0.697039   -0.656414"
      ],
      "text/html": "<div>\n<style scoped>\n    .dataframe tbody tr th:only-of-type {\n        vertical-align: middle;\n    }\n\n    .dataframe tbody tr th {\n        vertical-align: top;\n    }\n\n    .dataframe thead th {\n        text-align: right;\n    }\n</style>\n<table border=\"1\" class=\"dataframe\">\n  <thead>\n    <tr style=\"text-align: right;\">\n      <th></th>\n      <th>2021-05-07</th>\n      <th>2021-05-08</th>\n      <th>2021-05-09</th>\n      <th>2021-05-10</th>\n      <th>2021-05-11</th>\n      <th>2021-05-12</th>\n    </tr>\n  </thead>\n  <tbody>\n    <tr>\n      <th>A</th>\n      <td>1.368797</td>\n      <td>0.543279</td>\n      <td>-0.652950</td>\n      <td>1.033487</td>\n      <td>1.456145</td>\n      <td>1.014239</td>\n    </tr>\n    <tr>\n      <th>B</th>\n      <td>0.765061</td>\n      <td>0.219730</td>\n      <td>0.913473</td>\n      <td>-0.388164</td>\n      <td>0.806080</td>\n      <td>0.619523</td>\n    </tr>\n    <tr>\n      <th>C</th>\n      <td>1.459671</td>\n      <td>0.470182</td>\n      <td>0.057604</td>\n      <td>-0.437154</td>\n      <td>-1.180514</td>\n      <td>-0.965299</td>\n    </tr>\n    <tr>\n      <th>D</th>\n      <td>-0.187818</td>\n      <td>0.146887</td>\n      <td>0.211095</td>\n      <td>-0.705411</td>\n      <td>-0.697039</td>\n      <td>-0.656414</td>\n    </tr>\n  </tbody>\n</table>\n</div>"
     },
     "metadata": {},
     "execution_count": 23
    }
   ],
   "source": [
    "#Transponieren der Daten\n",
    "\n",
    "df.T"
   ]
  },
  {
   "cell_type": "code",
   "execution_count": 24,
   "metadata": {},
   "outputs": [
    {
     "output_type": "execute_result",
     "data": {
      "text/plain": [
       "                   D         C         B         A\n",
       "2021-05-07 -0.187818  1.459671  0.765061  1.368797\n",
       "2021-05-08  0.146887  0.470182  0.219730  0.543279\n",
       "2021-05-09  0.211095  0.057604  0.913473 -0.652950\n",
       "2021-05-10 -0.705411 -0.437154 -0.388164  1.033487\n",
       "2021-05-11 -0.697039 -1.180514  0.806080  1.456145\n",
       "2021-05-12 -0.656414 -0.965299  0.619523  1.014239"
      ],
      "text/html": "<div>\n<style scoped>\n    .dataframe tbody tr th:only-of-type {\n        vertical-align: middle;\n    }\n\n    .dataframe tbody tr th {\n        vertical-align: top;\n    }\n\n    .dataframe thead th {\n        text-align: right;\n    }\n</style>\n<table border=\"1\" class=\"dataframe\">\n  <thead>\n    <tr style=\"text-align: right;\">\n      <th></th>\n      <th>D</th>\n      <th>C</th>\n      <th>B</th>\n      <th>A</th>\n    </tr>\n  </thead>\n  <tbody>\n    <tr>\n      <th>2021-05-07</th>\n      <td>-0.187818</td>\n      <td>1.459671</td>\n      <td>0.765061</td>\n      <td>1.368797</td>\n    </tr>\n    <tr>\n      <th>2021-05-08</th>\n      <td>0.146887</td>\n      <td>0.470182</td>\n      <td>0.219730</td>\n      <td>0.543279</td>\n    </tr>\n    <tr>\n      <th>2021-05-09</th>\n      <td>0.211095</td>\n      <td>0.057604</td>\n      <td>0.913473</td>\n      <td>-0.652950</td>\n    </tr>\n    <tr>\n      <th>2021-05-10</th>\n      <td>-0.705411</td>\n      <td>-0.437154</td>\n      <td>-0.388164</td>\n      <td>1.033487</td>\n    </tr>\n    <tr>\n      <th>2021-05-11</th>\n      <td>-0.697039</td>\n      <td>-1.180514</td>\n      <td>0.806080</td>\n      <td>1.456145</td>\n    </tr>\n    <tr>\n      <th>2021-05-12</th>\n      <td>-0.656414</td>\n      <td>-0.965299</td>\n      <td>0.619523</td>\n      <td>1.014239</td>\n    </tr>\n  </tbody>\n</table>\n</div>"
     },
     "metadata": {},
     "execution_count": 24
    }
   ],
   "source": [
    "#Sortieren nach Index \n",
    "df.sort_index(axis=1,ascending=False)"
   ]
  },
  {
   "source": [
    "* Axis legt hierbei fest, ob wir uns auf die Spalte oder Reihe beziehen wollen\n",
    "* Axis = 0 (default) bezieht sich auf die Reihen\n",
    "* Axis = 1 bezieht sich auf die Spalten \n",
    "* Ascending ist per default auf True, wollen wir also absteigend müssen wir es explizit bestimmen"
   ],
   "cell_type": "markdown",
   "metadata": {}
  },
  {
   "cell_type": "code",
   "execution_count": 25,
   "metadata": {},
   "outputs": [
    {
     "output_type": "execute_result",
     "data": {
      "text/plain": [
       "                   A         B         C         D\n",
       "2021-05-10  1.033487 -0.388164 -0.437154 -0.705411\n",
       "2021-05-08  0.543279  0.219730  0.470182  0.146887\n",
       "2021-05-12  1.014239  0.619523 -0.965299 -0.656414\n",
       "2021-05-07  1.368797  0.765061  1.459671 -0.187818\n",
       "2021-05-11  1.456145  0.806080 -1.180514 -0.697039\n",
       "2021-05-09 -0.652950  0.913473  0.057604  0.211095"
      ],
      "text/html": "<div>\n<style scoped>\n    .dataframe tbody tr th:only-of-type {\n        vertical-align: middle;\n    }\n\n    .dataframe tbody tr th {\n        vertical-align: top;\n    }\n\n    .dataframe thead th {\n        text-align: right;\n    }\n</style>\n<table border=\"1\" class=\"dataframe\">\n  <thead>\n    <tr style=\"text-align: right;\">\n      <th></th>\n      <th>A</th>\n      <th>B</th>\n      <th>C</th>\n      <th>D</th>\n    </tr>\n  </thead>\n  <tbody>\n    <tr>\n      <th>2021-05-10</th>\n      <td>1.033487</td>\n      <td>-0.388164</td>\n      <td>-0.437154</td>\n      <td>-0.705411</td>\n    </tr>\n    <tr>\n      <th>2021-05-08</th>\n      <td>0.543279</td>\n      <td>0.219730</td>\n      <td>0.470182</td>\n      <td>0.146887</td>\n    </tr>\n    <tr>\n      <th>2021-05-12</th>\n      <td>1.014239</td>\n      <td>0.619523</td>\n      <td>-0.965299</td>\n      <td>-0.656414</td>\n    </tr>\n    <tr>\n      <th>2021-05-07</th>\n      <td>1.368797</td>\n      <td>0.765061</td>\n      <td>1.459671</td>\n      <td>-0.187818</td>\n    </tr>\n    <tr>\n      <th>2021-05-11</th>\n      <td>1.456145</td>\n      <td>0.806080</td>\n      <td>-1.180514</td>\n      <td>-0.697039</td>\n    </tr>\n    <tr>\n      <th>2021-05-09</th>\n      <td>-0.652950</td>\n      <td>0.913473</td>\n      <td>0.057604</td>\n      <td>0.211095</td>\n    </tr>\n  </tbody>\n</table>\n</div>"
     },
     "metadata": {},
     "execution_count": 25
    }
   ],
   "source": [
    "# Sortieren nach Werten \n",
    "df.sort_values(by='B',axis=0)"
   ]
  },
  {
   "source": [
    "**Anmerkung:**\n",
    "\n",
    "* Die ganze Reihe wird getauscht "
   ],
   "cell_type": "markdown",
   "metadata": {}
  },
  {
   "source": [
    "## Zugriff/Abruf von Daten\n"
   ],
   "cell_type": "markdown",
   "metadata": {}
  },
  {
   "source": [
    "**Auswahl einer Spalte**"
   ],
   "cell_type": "markdown",
   "metadata": {}
  },
  {
   "cell_type": "code",
   "execution_count": 26,
   "metadata": {},
   "outputs": [
    {
     "output_type": "execute_result",
     "data": {
      "text/plain": [
       "                   A\n",
       "2021-05-07  1.368797\n",
       "2021-05-08  0.543279\n",
       "2021-05-09 -0.652950\n",
       "2021-05-10  1.033487\n",
       "2021-05-11  1.456145\n",
       "2021-05-12  1.014239"
      ],
      "text/html": "<div>\n<style scoped>\n    .dataframe tbody tr th:only-of-type {\n        vertical-align: middle;\n    }\n\n    .dataframe tbody tr th {\n        vertical-align: top;\n    }\n\n    .dataframe thead th {\n        text-align: right;\n    }\n</style>\n<table border=\"1\" class=\"dataframe\">\n  <thead>\n    <tr style=\"text-align: right;\">\n      <th></th>\n      <th>A</th>\n    </tr>\n  </thead>\n  <tbody>\n    <tr>\n      <th>2021-05-07</th>\n      <td>1.368797</td>\n    </tr>\n    <tr>\n      <th>2021-05-08</th>\n      <td>0.543279</td>\n    </tr>\n    <tr>\n      <th>2021-05-09</th>\n      <td>-0.652950</td>\n    </tr>\n    <tr>\n      <th>2021-05-10</th>\n      <td>1.033487</td>\n    </tr>\n    <tr>\n      <th>2021-05-11</th>\n      <td>1.456145</td>\n    </tr>\n    <tr>\n      <th>2021-05-12</th>\n      <td>1.014239</td>\n    </tr>\n  </tbody>\n</table>\n</div>"
     },
     "metadata": {},
     "execution_count": 26
    }
   ],
   "source": [
    "# Auswahl der Spalte A\n",
    "df[['A']]"
   ]
  },
  {
   "cell_type": "code",
   "execution_count": 27,
   "metadata": {},
   "outputs": [
    {
     "output_type": "execute_result",
     "data": {
      "text/plain": [
       "                   A         B         C         D\n",
       "2021-05-07  1.368797  0.765061  1.459671 -0.187818\n",
       "2021-05-08  0.543279  0.219730  0.470182  0.146887\n",
       "2021-05-09 -0.652950  0.913473  0.057604  0.211095"
      ],
      "text/html": "<div>\n<style scoped>\n    .dataframe tbody tr th:only-of-type {\n        vertical-align: middle;\n    }\n\n    .dataframe tbody tr th {\n        vertical-align: top;\n    }\n\n    .dataframe thead th {\n        text-align: right;\n    }\n</style>\n<table border=\"1\" class=\"dataframe\">\n  <thead>\n    <tr style=\"text-align: right;\">\n      <th></th>\n      <th>A</th>\n      <th>B</th>\n      <th>C</th>\n      <th>D</th>\n    </tr>\n  </thead>\n  <tbody>\n    <tr>\n      <th>2021-05-07</th>\n      <td>1.368797</td>\n      <td>0.765061</td>\n      <td>1.459671</td>\n      <td>-0.187818</td>\n    </tr>\n    <tr>\n      <th>2021-05-08</th>\n      <td>0.543279</td>\n      <td>0.219730</td>\n      <td>0.470182</td>\n      <td>0.146887</td>\n    </tr>\n    <tr>\n      <th>2021-05-09</th>\n      <td>-0.652950</td>\n      <td>0.913473</td>\n      <td>0.057604</td>\n      <td>0.211095</td>\n    </tr>\n  </tbody>\n</table>\n</div>"
     },
     "metadata": {},
     "execution_count": 27
    }
   ],
   "source": [
    "#Auswahl mehrerer Reihen über Nummerierung\n",
    "df[0:3]"
   ]
  },
  {
   "cell_type": "code",
   "execution_count": 28,
   "metadata": {},
   "outputs": [
    {
     "output_type": "execute_result",
     "data": {
      "text/plain": [
       "                   A         B         C         D\n",
       "2021-05-07  1.368797  0.765061  1.459671 -0.187818\n",
       "2021-05-08  0.543279  0.219730  0.470182  0.146887\n",
       "2021-05-09 -0.652950  0.913473  0.057604  0.211095"
      ],
      "text/html": "<div>\n<style scoped>\n    .dataframe tbody tr th:only-of-type {\n        vertical-align: middle;\n    }\n\n    .dataframe tbody tr th {\n        vertical-align: top;\n    }\n\n    .dataframe thead th {\n        text-align: right;\n    }\n</style>\n<table border=\"1\" class=\"dataframe\">\n  <thead>\n    <tr style=\"text-align: right;\">\n      <th></th>\n      <th>A</th>\n      <th>B</th>\n      <th>C</th>\n      <th>D</th>\n    </tr>\n  </thead>\n  <tbody>\n    <tr>\n      <th>2021-05-07</th>\n      <td>1.368797</td>\n      <td>0.765061</td>\n      <td>1.459671</td>\n      <td>-0.187818</td>\n    </tr>\n    <tr>\n      <th>2021-05-08</th>\n      <td>0.543279</td>\n      <td>0.219730</td>\n      <td>0.470182</td>\n      <td>0.146887</td>\n    </tr>\n    <tr>\n      <th>2021-05-09</th>\n      <td>-0.652950</td>\n      <td>0.913473</td>\n      <td>0.057604</td>\n      <td>0.211095</td>\n    </tr>\n  </tbody>\n</table>\n</div>"
     },
     "metadata": {},
     "execution_count": 28
    }
   ],
   "source": [
    "#Auswahl mehrerer Reihen über Namen\n",
    "df[\"2021-05-07\":\"2021-05-09\"]"
   ]
  },
  {
   "source": [
    "**Anmerkung:**\n",
    "\n",
    "* Auswahl über die Nummerierung lässt die letzte Zeile weg\n",
    "* Auswahl über die Namen schließt die letzte Zeile mit ein"
   ],
   "cell_type": "markdown",
   "metadata": {}
  },
  {
   "source": [
    "**Auswahl durch Label**\n"
   ],
   "cell_type": "markdown",
   "metadata": {}
  },
  {
   "cell_type": "code",
   "execution_count": 29,
   "metadata": {},
   "outputs": [
    {
     "output_type": "execute_result",
     "data": {
      "text/plain": [
       "A    0.543279\n",
       "B    0.219730\n",
       "C    0.470182\n",
       "D    0.146887\n",
       "Name: 2021-05-08 00:00:00, dtype: float64"
      ]
     },
     "metadata": {},
     "execution_count": 29
    }
   ],
   "source": [
    "df.loc[dates[1]]"
   ]
  },
  {
   "source": [
    "**Auswahl verschiedener Achsen durch Label**"
   ],
   "cell_type": "markdown",
   "metadata": {}
  },
  {
   "cell_type": "code",
   "execution_count": 30,
   "metadata": {},
   "outputs": [
    {
     "output_type": "execute_result",
     "data": {
      "text/plain": [
       "                   A         B\n",
       "2021-05-07  1.368797  0.765061\n",
       "2021-05-08  0.543279  0.219730\n",
       "2021-05-09 -0.652950  0.913473\n",
       "2021-05-10  1.033487 -0.388164\n",
       "2021-05-11  1.456145  0.806080\n",
       "2021-05-12  1.014239  0.619523"
      ],
      "text/html": "<div>\n<style scoped>\n    .dataframe tbody tr th:only-of-type {\n        vertical-align: middle;\n    }\n\n    .dataframe tbody tr th {\n        vertical-align: top;\n    }\n\n    .dataframe thead th {\n        text-align: right;\n    }\n</style>\n<table border=\"1\" class=\"dataframe\">\n  <thead>\n    <tr style=\"text-align: right;\">\n      <th></th>\n      <th>A</th>\n      <th>B</th>\n    </tr>\n  </thead>\n  <tbody>\n    <tr>\n      <th>2021-05-07</th>\n      <td>1.368797</td>\n      <td>0.765061</td>\n    </tr>\n    <tr>\n      <th>2021-05-08</th>\n      <td>0.543279</td>\n      <td>0.219730</td>\n    </tr>\n    <tr>\n      <th>2021-05-09</th>\n      <td>-0.652950</td>\n      <td>0.913473</td>\n    </tr>\n    <tr>\n      <th>2021-05-10</th>\n      <td>1.033487</td>\n      <td>-0.388164</td>\n    </tr>\n    <tr>\n      <th>2021-05-11</th>\n      <td>1.456145</td>\n      <td>0.806080</td>\n    </tr>\n    <tr>\n      <th>2021-05-12</th>\n      <td>1.014239</td>\n      <td>0.619523</td>\n    </tr>\n  </tbody>\n</table>\n</div>"
     },
     "metadata": {},
     "execution_count": 30
    }
   ],
   "source": [
    "# Auswahl der ersten zwei Spalten und aller Zeilen\n",
    "\n",
    "df.loc[:,['A','B']]"
   ]
  },
  {
   "cell_type": "code",
   "execution_count": 31,
   "metadata": {},
   "outputs": [
    {
     "output_type": "execute_result",
     "data": {
      "text/plain": [
       "                   A         B\n",
       "2021-05-07  1.368797  0.765061\n",
       "2021-05-08  0.543279  0.219730\n",
       "2021-05-09 -0.652950  0.913473"
      ],
      "text/html": "<div>\n<style scoped>\n    .dataframe tbody tr th:only-of-type {\n        vertical-align: middle;\n    }\n\n    .dataframe tbody tr th {\n        vertical-align: top;\n    }\n\n    .dataframe thead th {\n        text-align: right;\n    }\n</style>\n<table border=\"1\" class=\"dataframe\">\n  <thead>\n    <tr style=\"text-align: right;\">\n      <th></th>\n      <th>A</th>\n      <th>B</th>\n    </tr>\n  </thead>\n  <tbody>\n    <tr>\n      <th>2021-05-07</th>\n      <td>1.368797</td>\n      <td>0.765061</td>\n    </tr>\n    <tr>\n      <th>2021-05-08</th>\n      <td>0.543279</td>\n      <td>0.219730</td>\n    </tr>\n    <tr>\n      <th>2021-05-09</th>\n      <td>-0.652950</td>\n      <td>0.913473</td>\n    </tr>\n  </tbody>\n</table>\n</div>"
     },
     "metadata": {},
     "execution_count": 31
    }
   ],
   "source": [
    "df.loc['2021-05-07':'2021-05-09','A':'B']"
   ]
  },
  {
   "source": [
    "**Auch hier sind Endpunkte bei der Auswahl mitinbegriffen**"
   ],
   "cell_type": "markdown",
   "metadata": {}
  },
  {
   "cell_type": "code",
   "execution_count": 32,
   "metadata": {},
   "outputs": [
    {
     "output_type": "execute_result",
     "data": {
      "text/plain": [
       "A    1.368797\n",
       "B    0.765061\n",
       "Name: 2021-05-07 00:00:00, dtype: float64"
      ]
     },
     "metadata": {},
     "execution_count": 32
    }
   ],
   "source": [
    "#Reduktion der Dimension bei dem ausgegebenen Objekt\n",
    "\n",
    "df.loc['2021-05-07', ['A','B']]"
   ]
  },
  {
   "cell_type": "code",
   "execution_count": 33,
   "metadata": {},
   "outputs": [
    {
     "output_type": "execute_result",
     "data": {
      "text/plain": [
       "1.368796907392456"
      ]
     },
     "metadata": {},
     "execution_count": 33
    }
   ],
   "source": [
    "#Für skalare Werte gibt es 2 Möglichkeiten\n",
    "\n",
    "df.loc[dates[0],'A'] "
   ]
  },
  {
   "cell_type": "code",
   "execution_count": 34,
   "metadata": {},
   "outputs": [
    {
     "output_type": "execute_result",
     "data": {
      "text/plain": [
       "1.368796907392456"
      ]
     },
     "metadata": {},
     "execution_count": 34
    }
   ],
   "source": [
    "#Äquivalente Ausgabe über at\n",
    "#schnellerer Zugrifff\n",
    "\n",
    "df.at[dates[0],'A']"
   ]
  },
  {
   "source": [
    "**Anmerkung**:\n",
    "\n",
    "Wir bekommen nur den Wert ohne Index zurückgegeben"
   ],
   "cell_type": "markdown",
   "metadata": {}
  },
  {
   "source": [
    "## Selektion der Daten über die Position"
   ],
   "cell_type": "markdown",
   "metadata": {}
  },
  {
   "cell_type": "code",
   "execution_count": 35,
   "metadata": {},
   "outputs": [
    {
     "output_type": "execute_result",
     "data": {
      "text/plain": [
       "A   -0.652950\n",
       "B    0.913473\n",
       "C    0.057604\n",
       "D    0.211095\n",
       "Name: 2021-05-09 00:00:00, dtype: float64"
      ]
     },
     "metadata": {},
     "execution_count": 35
    }
   ],
   "source": [
    "#Ausgabe der 3ten Zeile\n",
    "df.iloc[2]\n"
   ]
  },
  {
   "cell_type": "code",
   "execution_count": 36,
   "metadata": {},
   "outputs": [
    {
     "output_type": "execute_result",
     "data": {
      "text/plain": [
       "                   A         B\n",
       "2021-05-08  0.543279  0.219730\n",
       "2021-05-09 -0.652950  0.913473"
      ],
      "text/html": "<div>\n<style scoped>\n    .dataframe tbody tr th:only-of-type {\n        vertical-align: middle;\n    }\n\n    .dataframe tbody tr th {\n        vertical-align: top;\n    }\n\n    .dataframe thead th {\n        text-align: right;\n    }\n</style>\n<table border=\"1\" class=\"dataframe\">\n  <thead>\n    <tr style=\"text-align: right;\">\n      <th></th>\n      <th>A</th>\n      <th>B</th>\n    </tr>\n  </thead>\n  <tbody>\n    <tr>\n      <th>2021-05-08</th>\n      <td>0.543279</td>\n      <td>0.219730</td>\n    </tr>\n    <tr>\n      <th>2021-05-09</th>\n      <td>-0.652950</td>\n      <td>0.913473</td>\n    </tr>\n  </tbody>\n</table>\n</div>"
     },
     "metadata": {},
     "execution_count": 36
    }
   ],
   "source": [
    "#Ausgabe mehrerer Zeilen und Spalten \n",
    "\n",
    "df.iloc[1:3,0:2]"
   ]
  },
  {
   "source": [
    "**Anmerkung:**\n",
    "\n",
    "Wir sehen, dass die letzte Zeile und Spalte nicht mit ausgegeben wird. Verhält sich dementsprechend wie Python/Numpy"
   ],
   "cell_type": "markdown",
   "metadata": {}
  },
  {
   "cell_type": "code",
   "execution_count": 37,
   "metadata": {},
   "outputs": [
    {
     "output_type": "execute_result",
     "data": {
      "text/plain": [
       "                   A         D\n",
       "2021-05-07  1.368797 -0.187818\n",
       "2021-05-09 -0.652950  0.211095\n",
       "2021-05-11  1.456145 -0.697039"
      ],
      "text/html": "<div>\n<style scoped>\n    .dataframe tbody tr th:only-of-type {\n        vertical-align: middle;\n    }\n\n    .dataframe tbody tr th {\n        vertical-align: top;\n    }\n\n    .dataframe thead th {\n        text-align: right;\n    }\n</style>\n<table border=\"1\" class=\"dataframe\">\n  <thead>\n    <tr style=\"text-align: right;\">\n      <th></th>\n      <th>A</th>\n      <th>D</th>\n    </tr>\n  </thead>\n  <tbody>\n    <tr>\n      <th>2021-05-07</th>\n      <td>1.368797</td>\n      <td>-0.187818</td>\n    </tr>\n    <tr>\n      <th>2021-05-09</th>\n      <td>-0.652950</td>\n      <td>0.211095</td>\n    </tr>\n    <tr>\n      <th>2021-05-11</th>\n      <td>1.456145</td>\n      <td>-0.697039</td>\n    </tr>\n  </tbody>\n</table>\n</div>"
     },
     "metadata": {},
     "execution_count": 37
    }
   ],
   "source": [
    "#Ausgabe von Zeilen und Spalten, die nicht hintereinander stehen müssen\n",
    "\n",
    "df.iloc[[0,2,4],[0,3]]"
   ]
  },
  {
   "cell_type": "code",
   "execution_count": 38,
   "metadata": {},
   "outputs": [
    {
     "output_type": "execute_result",
     "data": {
      "text/plain": [
       "                   A         B         C         D\n",
       "2021-05-09 -0.652950  0.913473  0.057604  0.211095\n",
       "2021-05-11  1.456145  0.806080 -1.180514 -0.697039"
      ],
      "text/html": "<div>\n<style scoped>\n    .dataframe tbody tr th:only-of-type {\n        vertical-align: middle;\n    }\n\n    .dataframe tbody tr th {\n        vertical-align: top;\n    }\n\n    .dataframe thead th {\n        text-align: right;\n    }\n</style>\n<table border=\"1\" class=\"dataframe\">\n  <thead>\n    <tr style=\"text-align: right;\">\n      <th></th>\n      <th>A</th>\n      <th>B</th>\n      <th>C</th>\n      <th>D</th>\n    </tr>\n  </thead>\n  <tbody>\n    <tr>\n      <th>2021-05-09</th>\n      <td>-0.652950</td>\n      <td>0.913473</td>\n      <td>0.057604</td>\n      <td>0.211095</td>\n    </tr>\n    <tr>\n      <th>2021-05-11</th>\n      <td>1.456145</td>\n      <td>0.806080</td>\n      <td>-1.180514</td>\n      <td>-0.697039</td>\n    </tr>\n  </tbody>\n</table>\n</div>"
     },
     "metadata": {},
     "execution_count": 38
    }
   ],
   "source": [
    "#Auswahl von allen Spalten und bestimmten Zeilen\n",
    "\n",
    "df.iloc[[2,4],:]"
   ]
  },
  {
   "cell_type": "code",
   "execution_count": 39,
   "metadata": {},
   "outputs": [
    {
     "output_type": "execute_result",
     "data": {
      "text/plain": [
       "                   C         D\n",
       "2021-05-07  1.459671 -0.187818\n",
       "2021-05-08  0.470182  0.146887\n",
       "2021-05-09  0.057604  0.211095\n",
       "2021-05-10 -0.437154 -0.705411\n",
       "2021-05-11 -1.180514 -0.697039\n",
       "2021-05-12 -0.965299 -0.656414"
      ],
      "text/html": "<div>\n<style scoped>\n    .dataframe tbody tr th:only-of-type {\n        vertical-align: middle;\n    }\n\n    .dataframe tbody tr th {\n        vertical-align: top;\n    }\n\n    .dataframe thead th {\n        text-align: right;\n    }\n</style>\n<table border=\"1\" class=\"dataframe\">\n  <thead>\n    <tr style=\"text-align: right;\">\n      <th></th>\n      <th>C</th>\n      <th>D</th>\n    </tr>\n  </thead>\n  <tbody>\n    <tr>\n      <th>2021-05-07</th>\n      <td>1.459671</td>\n      <td>-0.187818</td>\n    </tr>\n    <tr>\n      <th>2021-05-08</th>\n      <td>0.470182</td>\n      <td>0.146887</td>\n    </tr>\n    <tr>\n      <th>2021-05-09</th>\n      <td>0.057604</td>\n      <td>0.211095</td>\n    </tr>\n    <tr>\n      <th>2021-05-10</th>\n      <td>-0.437154</td>\n      <td>-0.705411</td>\n    </tr>\n    <tr>\n      <th>2021-05-11</th>\n      <td>-1.180514</td>\n      <td>-0.697039</td>\n    </tr>\n    <tr>\n      <th>2021-05-12</th>\n      <td>-0.965299</td>\n      <td>-0.656414</td>\n    </tr>\n  </tbody>\n</table>\n</div>"
     },
     "metadata": {},
     "execution_count": 39
    }
   ],
   "source": [
    "#Auswahl von allen Zeilen und bestimmten Zeilen\n",
    "\n",
    "df.iloc[:,2:4]"
   ]
  },
  {
   "cell_type": "code",
   "execution_count": 40,
   "metadata": {},
   "outputs": [
    {
     "output_type": "execute_result",
     "data": {
      "text/plain": [
       "0.05760353095478213"
      ]
     },
     "metadata": {},
     "execution_count": 40
    }
   ],
   "source": [
    "#Reduktion der Dimension (Ausgabe eines Skalars)\n",
    "\n",
    "df.iloc[2,2]"
   ]
  },
  {
   "cell_type": "code",
   "execution_count": 41,
   "metadata": {},
   "outputs": [
    {
     "output_type": "execute_result",
     "data": {
      "text/plain": [
       "A    1.014239\n",
       "B    0.619523\n",
       "C   -0.965299\n",
       "D   -0.656414\n",
       "Name: 2021-05-12 00:00:00, dtype: float64"
      ]
     },
     "metadata": {},
     "execution_count": 41
    }
   ],
   "source": [
    "df.iloc[-1]"
   ]
  },
  {
   "source": [
    "**Anmerkung:**\n",
    "\n",
    "* die letzte Zeile und Spalte lässt sich mit -1 adressieren"
   ],
   "cell_type": "markdown",
   "metadata": {}
  },
  {
   "cell_type": "code",
   "execution_count": 42,
   "metadata": {},
   "outputs": [
    {
     "output_type": "execute_result",
     "data": {
      "text/plain": [
       "0.05760353095478213"
      ]
     },
     "metadata": {},
     "execution_count": 42
    }
   ],
   "source": [
    "#Auch hier ist die iat Methode anwendbar\n",
    "\n",
    "df.iat[2,2]"
   ]
  },
  {
   "source": [
    "## Booleand indexing\n",
    "\n",
    "Bisher haben wir über den Namen oder die Position Daten ausgewählt.\n",
    "\n",
    "**Was machen wir, wenn wir nur Daten ausgegeben haben wollen, die ein bestimmtes Kriterium erfüllen?**"
   ],
   "cell_type": "markdown",
   "metadata": {}
  },
  {
   "cell_type": "code",
   "execution_count": 43,
   "metadata": {},
   "outputs": [
    {
     "output_type": "execute_result",
     "data": {
      "text/plain": [
       "                   A         B         C         D\n",
       "2021-05-07  1.368797  0.765061  1.459671 -0.187818\n",
       "2021-05-08  0.543279  0.219730  0.470182  0.146887\n",
       "2021-05-09 -0.652950  0.913473  0.057604  0.211095\n",
       "2021-05-11  1.456145  0.806080 -1.180514 -0.697039\n",
       "2021-05-12  1.014239  0.619523 -0.965299 -0.656414"
      ],
      "text/html": "<div>\n<style scoped>\n    .dataframe tbody tr th:only-of-type {\n        vertical-align: middle;\n    }\n\n    .dataframe tbody tr th {\n        vertical-align: top;\n    }\n\n    .dataframe thead th {\n        text-align: right;\n    }\n</style>\n<table border=\"1\" class=\"dataframe\">\n  <thead>\n    <tr style=\"text-align: right;\">\n      <th></th>\n      <th>A</th>\n      <th>B</th>\n      <th>C</th>\n      <th>D</th>\n    </tr>\n  </thead>\n  <tbody>\n    <tr>\n      <th>2021-05-07</th>\n      <td>1.368797</td>\n      <td>0.765061</td>\n      <td>1.459671</td>\n      <td>-0.187818</td>\n    </tr>\n    <tr>\n      <th>2021-05-08</th>\n      <td>0.543279</td>\n      <td>0.219730</td>\n      <td>0.470182</td>\n      <td>0.146887</td>\n    </tr>\n    <tr>\n      <th>2021-05-09</th>\n      <td>-0.652950</td>\n      <td>0.913473</td>\n      <td>0.057604</td>\n      <td>0.211095</td>\n    </tr>\n    <tr>\n      <th>2021-05-11</th>\n      <td>1.456145</td>\n      <td>0.806080</td>\n      <td>-1.180514</td>\n      <td>-0.697039</td>\n    </tr>\n    <tr>\n      <th>2021-05-12</th>\n      <td>1.014239</td>\n      <td>0.619523</td>\n      <td>-0.965299</td>\n      <td>-0.656414</td>\n    </tr>\n  </tbody>\n</table>\n</div>"
     },
     "metadata": {},
     "execution_count": 43
    }
   ],
   "source": [
    "#Auswahl aller Daten der Spalte B die positiv sind\n",
    "\n",
    "df[df['B']>0]"
   ]
  },
  {
   "cell_type": "code",
   "execution_count": 44,
   "metadata": {},
   "outputs": [
    {
     "output_type": "execute_result",
     "data": {
      "text/plain": [
       "                   A         B         C         D\n",
       "2021-05-07  1.368797  0.765061  1.459671       NaN\n",
       "2021-05-08  0.543279  0.219730  0.470182  0.146887\n",
       "2021-05-09       NaN  0.913473  0.057604  0.211095\n",
       "2021-05-10  1.033487       NaN       NaN       NaN\n",
       "2021-05-11  1.456145  0.806080       NaN       NaN\n",
       "2021-05-12  1.014239  0.619523       NaN       NaN"
      ],
      "text/html": "<div>\n<style scoped>\n    .dataframe tbody tr th:only-of-type {\n        vertical-align: middle;\n    }\n\n    .dataframe tbody tr th {\n        vertical-align: top;\n    }\n\n    .dataframe thead th {\n        text-align: right;\n    }\n</style>\n<table border=\"1\" class=\"dataframe\">\n  <thead>\n    <tr style=\"text-align: right;\">\n      <th></th>\n      <th>A</th>\n      <th>B</th>\n      <th>C</th>\n      <th>D</th>\n    </tr>\n  </thead>\n  <tbody>\n    <tr>\n      <th>2021-05-07</th>\n      <td>1.368797</td>\n      <td>0.765061</td>\n      <td>1.459671</td>\n      <td>NaN</td>\n    </tr>\n    <tr>\n      <th>2021-05-08</th>\n      <td>0.543279</td>\n      <td>0.219730</td>\n      <td>0.470182</td>\n      <td>0.146887</td>\n    </tr>\n    <tr>\n      <th>2021-05-09</th>\n      <td>NaN</td>\n      <td>0.913473</td>\n      <td>0.057604</td>\n      <td>0.211095</td>\n    </tr>\n    <tr>\n      <th>2021-05-10</th>\n      <td>1.033487</td>\n      <td>NaN</td>\n      <td>NaN</td>\n      <td>NaN</td>\n    </tr>\n    <tr>\n      <th>2021-05-11</th>\n      <td>1.456145</td>\n      <td>0.806080</td>\n      <td>NaN</td>\n      <td>NaN</td>\n    </tr>\n    <tr>\n      <th>2021-05-12</th>\n      <td>1.014239</td>\n      <td>0.619523</td>\n      <td>NaN</td>\n      <td>NaN</td>\n    </tr>\n  </tbody>\n</table>\n</div>"
     },
     "metadata": {},
     "execution_count": 44
    }
   ],
   "source": [
    "#Alle Daten die größer 0 sind\n",
    "df[df>0]"
   ]
  },
  {
   "source": [
    "* Wir sehen, dass wir den ganzen DataFrame zurückgegeben bekommen. \n",
    "\n",
    "* Überall wo die Bedingung nicht zutrifft, erhalten wir die Rückgabe NaN"
   ],
   "cell_type": "markdown",
   "metadata": {}
  },
  {
   "source": [
    "## Daten hinzufügen und ändern"
   ],
   "cell_type": "markdown",
   "metadata": {}
  },
  {
   "cell_type": "code",
   "execution_count": 45,
   "metadata": {},
   "outputs": [
    {
     "output_type": "execute_result",
     "data": {
      "text/plain": [
       "                   A         B         C         D  E\n",
       "2021-05-07  1.368797  0.765061  1.459671 -0.187818  0\n",
       "2021-05-08  0.543279  0.219730  0.470182  0.146887  1\n",
       "2021-05-09 -0.652950  0.913473  0.057604  0.211095  2\n",
       "2021-05-10  1.033487 -0.388164 -0.437154 -0.705411  3\n",
       "2021-05-11  1.456145  0.806080 -1.180514 -0.697039  4\n",
       "2021-05-12  1.014239  0.619523 -0.965299 -0.656414  5"
      ],
      "text/html": "<div>\n<style scoped>\n    .dataframe tbody tr th:only-of-type {\n        vertical-align: middle;\n    }\n\n    .dataframe tbody tr th {\n        vertical-align: top;\n    }\n\n    .dataframe thead th {\n        text-align: right;\n    }\n</style>\n<table border=\"1\" class=\"dataframe\">\n  <thead>\n    <tr style=\"text-align: right;\">\n      <th></th>\n      <th>A</th>\n      <th>B</th>\n      <th>C</th>\n      <th>D</th>\n      <th>E</th>\n    </tr>\n  </thead>\n  <tbody>\n    <tr>\n      <th>2021-05-07</th>\n      <td>1.368797</td>\n      <td>0.765061</td>\n      <td>1.459671</td>\n      <td>-0.187818</td>\n      <td>0</td>\n    </tr>\n    <tr>\n      <th>2021-05-08</th>\n      <td>0.543279</td>\n      <td>0.219730</td>\n      <td>0.470182</td>\n      <td>0.146887</td>\n      <td>1</td>\n    </tr>\n    <tr>\n      <th>2021-05-09</th>\n      <td>-0.652950</td>\n      <td>0.913473</td>\n      <td>0.057604</td>\n      <td>0.211095</td>\n      <td>2</td>\n    </tr>\n    <tr>\n      <th>2021-05-10</th>\n      <td>1.033487</td>\n      <td>-0.388164</td>\n      <td>-0.437154</td>\n      <td>-0.705411</td>\n      <td>3</td>\n    </tr>\n    <tr>\n      <th>2021-05-11</th>\n      <td>1.456145</td>\n      <td>0.806080</td>\n      <td>-1.180514</td>\n      <td>-0.697039</td>\n      <td>4</td>\n    </tr>\n    <tr>\n      <th>2021-05-12</th>\n      <td>1.014239</td>\n      <td>0.619523</td>\n      <td>-0.965299</td>\n      <td>-0.656414</td>\n      <td>5</td>\n    </tr>\n  </tbody>\n</table>\n</div>"
     },
     "metadata": {},
     "execution_count": 45
    }
   ],
   "source": [
    "# Initialisieren einer neuen Spalte\n",
    "df['E'] = [0,1,2,3,4,5]\n",
    "df"
   ]
  },
  {
   "cell_type": "code",
   "execution_count": 46,
   "metadata": {},
   "outputs": [
    {
     "output_type": "execute_result",
     "data": {
      "text/plain": [
       "                   A         B         C         D  E    F\n",
       "2021-05-07  1.368797  0.765061  1.459671 -0.187818  0  3.0\n",
       "2021-05-08  0.543279  0.219730  0.470182  0.146887  1  4.0\n",
       "2021-05-09 -0.652950  0.913473  0.057604  0.211095  2  2.5\n",
       "2021-05-10  1.033487 -0.388164 -0.437154 -0.705411  3  4.3\n",
       "2021-05-11  1.456145  0.806080 -1.180514 -0.697039  4  5.6\n",
       "2021-05-12  1.014239  0.619523 -0.965299 -0.656414  5  6.0"
      ],
      "text/html": "<div>\n<style scoped>\n    .dataframe tbody tr th:only-of-type {\n        vertical-align: middle;\n    }\n\n    .dataframe tbody tr th {\n        vertical-align: top;\n    }\n\n    .dataframe thead th {\n        text-align: right;\n    }\n</style>\n<table border=\"1\" class=\"dataframe\">\n  <thead>\n    <tr style=\"text-align: right;\">\n      <th></th>\n      <th>A</th>\n      <th>B</th>\n      <th>C</th>\n      <th>D</th>\n      <th>E</th>\n      <th>F</th>\n    </tr>\n  </thead>\n  <tbody>\n    <tr>\n      <th>2021-05-07</th>\n      <td>1.368797</td>\n      <td>0.765061</td>\n      <td>1.459671</td>\n      <td>-0.187818</td>\n      <td>0</td>\n      <td>3.0</td>\n    </tr>\n    <tr>\n      <th>2021-05-08</th>\n      <td>0.543279</td>\n      <td>0.219730</td>\n      <td>0.470182</td>\n      <td>0.146887</td>\n      <td>1</td>\n      <td>4.0</td>\n    </tr>\n    <tr>\n      <th>2021-05-09</th>\n      <td>-0.652950</td>\n      <td>0.913473</td>\n      <td>0.057604</td>\n      <td>0.211095</td>\n      <td>2</td>\n      <td>2.5</td>\n    </tr>\n    <tr>\n      <th>2021-05-10</th>\n      <td>1.033487</td>\n      <td>-0.388164</td>\n      <td>-0.437154</td>\n      <td>-0.705411</td>\n      <td>3</td>\n      <td>4.3</td>\n    </tr>\n    <tr>\n      <th>2021-05-11</th>\n      <td>1.456145</td>\n      <td>0.806080</td>\n      <td>-1.180514</td>\n      <td>-0.697039</td>\n      <td>4</td>\n      <td>5.6</td>\n    </tr>\n    <tr>\n      <th>2021-05-12</th>\n      <td>1.014239</td>\n      <td>0.619523</td>\n      <td>-0.965299</td>\n      <td>-0.656414</td>\n      <td>5</td>\n      <td>6.0</td>\n    </tr>\n  </tbody>\n</table>\n</div>"
     },
     "metadata": {},
     "execution_count": 46
    }
   ],
   "source": [
    "#Bereits existierende Daten dem DataFrame hinzufügen\n",
    "\n",
    "\n",
    "neu = pd.Series([3,4,2.5,4.3,5.6,6],index=dates)\n",
    "df['F'] = neu\n",
    "df"
   ]
  },
  {
   "source": [
    "** Was passiert, wenn wir keinen Index übergeben bzw den Index anders setzen?**"
   ],
   "cell_type": "markdown",
   "metadata": {}
  },
  {
   "cell_type": "code",
   "execution_count": 47,
   "metadata": {},
   "outputs": [
    {
     "output_type": "execute_result",
     "data": {
      "text/plain": [
       "                   A         B         C         D  E   F\n",
       "2021-05-07  1.368797  0.765061  1.459671 -0.187818  0 NaN\n",
       "2021-05-08  0.543279  0.219730  0.470182  0.146887  1 NaN\n",
       "2021-05-09 -0.652950  0.913473  0.057604  0.211095  2 NaN\n",
       "2021-05-10  1.033487 -0.388164 -0.437154 -0.705411  3 NaN\n",
       "2021-05-11  1.456145  0.806080 -1.180514 -0.697039  4 NaN\n",
       "2021-05-12  1.014239  0.619523 -0.965299 -0.656414  5 NaN"
      ],
      "text/html": "<div>\n<style scoped>\n    .dataframe tbody tr th:only-of-type {\n        vertical-align: middle;\n    }\n\n    .dataframe tbody tr th {\n        vertical-align: top;\n    }\n\n    .dataframe thead th {\n        text-align: right;\n    }\n</style>\n<table border=\"1\" class=\"dataframe\">\n  <thead>\n    <tr style=\"text-align: right;\">\n      <th></th>\n      <th>A</th>\n      <th>B</th>\n      <th>C</th>\n      <th>D</th>\n      <th>E</th>\n      <th>F</th>\n    </tr>\n  </thead>\n  <tbody>\n    <tr>\n      <th>2021-05-07</th>\n      <td>1.368797</td>\n      <td>0.765061</td>\n      <td>1.459671</td>\n      <td>-0.187818</td>\n      <td>0</td>\n      <td>NaN</td>\n    </tr>\n    <tr>\n      <th>2021-05-08</th>\n      <td>0.543279</td>\n      <td>0.219730</td>\n      <td>0.470182</td>\n      <td>0.146887</td>\n      <td>1</td>\n      <td>NaN</td>\n    </tr>\n    <tr>\n      <th>2021-05-09</th>\n      <td>-0.652950</td>\n      <td>0.913473</td>\n      <td>0.057604</td>\n      <td>0.211095</td>\n      <td>2</td>\n      <td>NaN</td>\n    </tr>\n    <tr>\n      <th>2021-05-10</th>\n      <td>1.033487</td>\n      <td>-0.388164</td>\n      <td>-0.437154</td>\n      <td>-0.705411</td>\n      <td>3</td>\n      <td>NaN</td>\n    </tr>\n    <tr>\n      <th>2021-05-11</th>\n      <td>1.456145</td>\n      <td>0.806080</td>\n      <td>-1.180514</td>\n      <td>-0.697039</td>\n      <td>4</td>\n      <td>NaN</td>\n    </tr>\n    <tr>\n      <th>2021-05-12</th>\n      <td>1.014239</td>\n      <td>0.619523</td>\n      <td>-0.965299</td>\n      <td>-0.656414</td>\n      <td>5</td>\n      <td>NaN</td>\n    </tr>\n  </tbody>\n</table>\n</div>"
     },
     "metadata": {},
     "execution_count": 47
    }
   ],
   "source": [
    "neu = pd.Series([3,4,2.5,4.3,5.6,6])\n",
    "df['F'] = neu\n",
    "df\n"
   ]
  },
  {
   "cell_type": "code",
   "execution_count": 48,
   "metadata": {},
   "outputs": [
    {
     "output_type": "execute_result",
     "data": {
      "text/plain": [
       "                   A         B         C         D  E    F\n",
       "2021-05-07  1.368797  0.765061  1.459671 -0.187818  0  NaN\n",
       "2021-05-08  0.543279  0.219730  0.470182  0.146887  1  3.0\n",
       "2021-05-09 -0.652950  0.913473  0.057604  0.211095  2  4.0\n",
       "2021-05-10  1.033487 -0.388164 -0.437154 -0.705411  3  2.5\n",
       "2021-05-11  1.456145  0.806080 -1.180514 -0.697039  4  4.3\n",
       "2021-05-12  1.014239  0.619523 -0.965299 -0.656414  5  5.6"
      ],
      "text/html": "<div>\n<style scoped>\n    .dataframe tbody tr th:only-of-type {\n        vertical-align: middle;\n    }\n\n    .dataframe tbody tr th {\n        vertical-align: top;\n    }\n\n    .dataframe thead th {\n        text-align: right;\n    }\n</style>\n<table border=\"1\" class=\"dataframe\">\n  <thead>\n    <tr style=\"text-align: right;\">\n      <th></th>\n      <th>A</th>\n      <th>B</th>\n      <th>C</th>\n      <th>D</th>\n      <th>E</th>\n      <th>F</th>\n    </tr>\n  </thead>\n  <tbody>\n    <tr>\n      <th>2021-05-07</th>\n      <td>1.368797</td>\n      <td>0.765061</td>\n      <td>1.459671</td>\n      <td>-0.187818</td>\n      <td>0</td>\n      <td>NaN</td>\n    </tr>\n    <tr>\n      <th>2021-05-08</th>\n      <td>0.543279</td>\n      <td>0.219730</td>\n      <td>0.470182</td>\n      <td>0.146887</td>\n      <td>1</td>\n      <td>3.0</td>\n    </tr>\n    <tr>\n      <th>2021-05-09</th>\n      <td>-0.652950</td>\n      <td>0.913473</td>\n      <td>0.057604</td>\n      <td>0.211095</td>\n      <td>2</td>\n      <td>4.0</td>\n    </tr>\n    <tr>\n      <th>2021-05-10</th>\n      <td>1.033487</td>\n      <td>-0.388164</td>\n      <td>-0.437154</td>\n      <td>-0.705411</td>\n      <td>3</td>\n      <td>2.5</td>\n    </tr>\n    <tr>\n      <th>2021-05-11</th>\n      <td>1.456145</td>\n      <td>0.806080</td>\n      <td>-1.180514</td>\n      <td>-0.697039</td>\n      <td>4</td>\n      <td>4.3</td>\n    </tr>\n    <tr>\n      <th>2021-05-12</th>\n      <td>1.014239</td>\n      <td>0.619523</td>\n      <td>-0.965299</td>\n      <td>-0.656414</td>\n      <td>5</td>\n      <td>5.6</td>\n    </tr>\n  </tbody>\n</table>\n</div>"
     },
     "metadata": {},
     "execution_count": 48
    }
   ],
   "source": [
    "neu = pd.Series([3,4,2.5,4.3,5.6,6],index=pd.date_range('20210508',periods=6))\n",
    "df['F'] = neu\n",
    "df"
   ]
  },
  {
   "source": [
    "**Anmerkung:**\n",
    "\n",
    "* Wir stellen fest, dass ohne Indexierung eine Spalte mit NaN erstellt wird\n",
    "* Beginnt die Indexierung mit einem anderen Wert, dann matcht er die Indizes und setzt den nicht matchenden Index auf NaN"
   ],
   "cell_type": "markdown",
   "metadata": {}
  },
  {
   "cell_type": "code",
   "execution_count": 49,
   "metadata": {},
   "outputs": [],
   "source": [
    "#Verändern einzelner Zellen\n",
    "\n",
    "df.at[dates[0],'A'] = 55"
   ]
  },
  {
   "cell_type": "code",
   "execution_count": 50,
   "metadata": {},
   "outputs": [],
   "source": [
    "df.iat[2,2] = 4"
   ]
  },
  {
   "cell_type": "code",
   "execution_count": 51,
   "metadata": {},
   "outputs": [],
   "source": [
    "df.loc[:,'E'] = np.array([5]*len(df))"
   ]
  },
  {
   "cell_type": "code",
   "execution_count": 52,
   "metadata": {},
   "outputs": [
    {
     "output_type": "execute_result",
     "data": {
      "text/plain": [
       "                    A         B         C         D  E    F\n",
       "2021-05-07  55.000000  0.765061  1.459671 -0.187818  5  NaN\n",
       "2021-05-08   0.543279  0.219730  0.470182  0.146887  5  3.0\n",
       "2021-05-09  -0.652950  0.913473  4.000000  0.211095  5  4.0\n",
       "2021-05-10   1.033487 -0.388164 -0.437154 -0.705411  5  2.5\n",
       "2021-05-11   1.456145  0.806080 -1.180514 -0.697039  5  4.3\n",
       "2021-05-12   1.014239  0.619523 -0.965299 -0.656414  5  5.6"
      ],
      "text/html": "<div>\n<style scoped>\n    .dataframe tbody tr th:only-of-type {\n        vertical-align: middle;\n    }\n\n    .dataframe tbody tr th {\n        vertical-align: top;\n    }\n\n    .dataframe thead th {\n        text-align: right;\n    }\n</style>\n<table border=\"1\" class=\"dataframe\">\n  <thead>\n    <tr style=\"text-align: right;\">\n      <th></th>\n      <th>A</th>\n      <th>B</th>\n      <th>C</th>\n      <th>D</th>\n      <th>E</th>\n      <th>F</th>\n    </tr>\n  </thead>\n  <tbody>\n    <tr>\n      <th>2021-05-07</th>\n      <td>55.000000</td>\n      <td>0.765061</td>\n      <td>1.459671</td>\n      <td>-0.187818</td>\n      <td>5</td>\n      <td>NaN</td>\n    </tr>\n    <tr>\n      <th>2021-05-08</th>\n      <td>0.543279</td>\n      <td>0.219730</td>\n      <td>0.470182</td>\n      <td>0.146887</td>\n      <td>5</td>\n      <td>3.0</td>\n    </tr>\n    <tr>\n      <th>2021-05-09</th>\n      <td>-0.652950</td>\n      <td>0.913473</td>\n      <td>4.000000</td>\n      <td>0.211095</td>\n      <td>5</td>\n      <td>4.0</td>\n    </tr>\n    <tr>\n      <th>2021-05-10</th>\n      <td>1.033487</td>\n      <td>-0.388164</td>\n      <td>-0.437154</td>\n      <td>-0.705411</td>\n      <td>5</td>\n      <td>2.5</td>\n    </tr>\n    <tr>\n      <th>2021-05-11</th>\n      <td>1.456145</td>\n      <td>0.806080</td>\n      <td>-1.180514</td>\n      <td>-0.697039</td>\n      <td>5</td>\n      <td>4.3</td>\n    </tr>\n    <tr>\n      <th>2021-05-12</th>\n      <td>1.014239</td>\n      <td>0.619523</td>\n      <td>-0.965299</td>\n      <td>-0.656414</td>\n      <td>5</td>\n      <td>5.6</td>\n    </tr>\n  </tbody>\n</table>\n</div>"
     },
     "metadata": {},
     "execution_count": 52
    }
   ],
   "source": [
    "df"
   ]
  },
  {
   "source": [
    "**Anmerkung:**\n",
    "\n",
    "* Die Auswahl findet logischerweise äquivalent zu dem Abschniit davor statt\n",
    "* Der Wert wird dann einfach über das = gesetzt "
   ],
   "cell_type": "markdown",
   "metadata": {}
  },
  {
   "cell_type": "code",
   "execution_count": 53,
   "metadata": {},
   "outputs": [
    {
     "output_type": "execute_result",
     "data": {
      "text/plain": [
       "                   A         B         C         D  E    F\n",
       "2021-05-07  2.000000  2.000000  2.000000  2.000000  2  2.0\n",
       "2021-05-08  2.000000  2.000000  2.000000  2.000000  2  2.0\n",
       "2021-05-09  2.000000  2.000000  2.000000  2.000000  2  2.0\n",
       "2021-05-10  1.033487 -0.388164 -0.437154 -0.705411  5  2.5\n",
       "2021-05-11  2.000000  2.000000  2.000000  2.000000  2  2.0\n",
       "2021-05-12  2.000000  2.000000  2.000000  2.000000  2  2.0"
      ],
      "text/html": "<div>\n<style scoped>\n    .dataframe tbody tr th:only-of-type {\n        vertical-align: middle;\n    }\n\n    .dataframe tbody tr th {\n        vertical-align: top;\n    }\n\n    .dataframe thead th {\n        text-align: right;\n    }\n</style>\n<table border=\"1\" class=\"dataframe\">\n  <thead>\n    <tr style=\"text-align: right;\">\n      <th></th>\n      <th>A</th>\n      <th>B</th>\n      <th>C</th>\n      <th>D</th>\n      <th>E</th>\n      <th>F</th>\n    </tr>\n  </thead>\n  <tbody>\n    <tr>\n      <th>2021-05-07</th>\n      <td>2.000000</td>\n      <td>2.000000</td>\n      <td>2.000000</td>\n      <td>2.000000</td>\n      <td>2</td>\n      <td>2.0</td>\n    </tr>\n    <tr>\n      <th>2021-05-08</th>\n      <td>2.000000</td>\n      <td>2.000000</td>\n      <td>2.000000</td>\n      <td>2.000000</td>\n      <td>2</td>\n      <td>2.0</td>\n    </tr>\n    <tr>\n      <th>2021-05-09</th>\n      <td>2.000000</td>\n      <td>2.000000</td>\n      <td>2.000000</td>\n      <td>2.000000</td>\n      <td>2</td>\n      <td>2.0</td>\n    </tr>\n    <tr>\n      <th>2021-05-10</th>\n      <td>1.033487</td>\n      <td>-0.388164</td>\n      <td>-0.437154</td>\n      <td>-0.705411</td>\n      <td>5</td>\n      <td>2.5</td>\n    </tr>\n    <tr>\n      <th>2021-05-11</th>\n      <td>2.000000</td>\n      <td>2.000000</td>\n      <td>2.000000</td>\n      <td>2.000000</td>\n      <td>2</td>\n      <td>2.0</td>\n    </tr>\n    <tr>\n      <th>2021-05-12</th>\n      <td>2.000000</td>\n      <td>2.000000</td>\n      <td>2.000000</td>\n      <td>2.000000</td>\n      <td>2</td>\n      <td>2.0</td>\n    </tr>\n  </tbody>\n</table>\n</div>"
     },
     "metadata": {},
     "execution_count": 53
    }
   ],
   "source": [
    "df[df['B']>0] = 2\n",
    "df"
   ]
  },
  {
   "cell_type": "code",
   "execution_count": 54,
   "metadata": {},
   "outputs": [
    {
     "output_type": "execute_result",
     "data": {
      "text/plain": [
       "                   A         B         C         D  E    F\n",
       "2021-05-07  2.000000  1.000000  2.000000  2.000000  2  2.0\n",
       "2021-05-08  2.000000  1.000000  2.000000  2.000000  2  2.0\n",
       "2021-05-09  2.000000  1.000000  2.000000  2.000000  2  2.0\n",
       "2021-05-10  1.033487 -0.388164 -0.437154 -0.705411  5  2.5\n",
       "2021-05-11  2.000000  1.000000  2.000000  2.000000  2  2.0\n",
       "2021-05-12  2.000000  1.000000  2.000000  2.000000  2  2.0"
      ],
      "text/html": "<div>\n<style scoped>\n    .dataframe tbody tr th:only-of-type {\n        vertical-align: middle;\n    }\n\n    .dataframe tbody tr th {\n        vertical-align: top;\n    }\n\n    .dataframe thead th {\n        text-align: right;\n    }\n</style>\n<table border=\"1\" class=\"dataframe\">\n  <thead>\n    <tr style=\"text-align: right;\">\n      <th></th>\n      <th>A</th>\n      <th>B</th>\n      <th>C</th>\n      <th>D</th>\n      <th>E</th>\n      <th>F</th>\n    </tr>\n  </thead>\n  <tbody>\n    <tr>\n      <th>2021-05-07</th>\n      <td>2.000000</td>\n      <td>1.000000</td>\n      <td>2.000000</td>\n      <td>2.000000</td>\n      <td>2</td>\n      <td>2.0</td>\n    </tr>\n    <tr>\n      <th>2021-05-08</th>\n      <td>2.000000</td>\n      <td>1.000000</td>\n      <td>2.000000</td>\n      <td>2.000000</td>\n      <td>2</td>\n      <td>2.0</td>\n    </tr>\n    <tr>\n      <th>2021-05-09</th>\n      <td>2.000000</td>\n      <td>1.000000</td>\n      <td>2.000000</td>\n      <td>2.000000</td>\n      <td>2</td>\n      <td>2.0</td>\n    </tr>\n    <tr>\n      <th>2021-05-10</th>\n      <td>1.033487</td>\n      <td>-0.388164</td>\n      <td>-0.437154</td>\n      <td>-0.705411</td>\n      <td>5</td>\n      <td>2.5</td>\n    </tr>\n    <tr>\n      <th>2021-05-11</th>\n      <td>2.000000</td>\n      <td>1.000000</td>\n      <td>2.000000</td>\n      <td>2.000000</td>\n      <td>2</td>\n      <td>2.0</td>\n    </tr>\n    <tr>\n      <th>2021-05-12</th>\n      <td>2.000000</td>\n      <td>1.000000</td>\n      <td>2.000000</td>\n      <td>2.000000</td>\n      <td>2</td>\n      <td>2.0</td>\n    </tr>\n  </tbody>\n</table>\n</div>"
     },
     "metadata": {},
     "execution_count": 54
    }
   ],
   "source": [
    "df.loc[df['B'] > 0,'B'] = 1\n",
    "df"
   ]
  },
  {
   "source": [
    "**Anmerkung:**\n",
    "\n",
    "* Auch die Auswahl über Boolean Werte ist möglich "
   ],
   "cell_type": "markdown",
   "metadata": {}
  },
  {
   "source": [
    "**Spalten wegwerfen**\n"
   ],
   "cell_type": "markdown",
   "metadata": {}
  },
  {
   "cell_type": "code",
   "execution_count": 55,
   "metadata": {},
   "outputs": [
    {
     "output_type": "execute_result",
     "data": {
      "text/plain": [
       "                   A         B         C         D  E\n",
       "2021-05-07  2.000000  1.000000  2.000000  2.000000  2\n",
       "2021-05-08  2.000000  1.000000  2.000000  2.000000  2\n",
       "2021-05-09  2.000000  1.000000  2.000000  2.000000  2\n",
       "2021-05-10  1.033487 -0.388164 -0.437154 -0.705411  5\n",
       "2021-05-11  2.000000  1.000000  2.000000  2.000000  2\n",
       "2021-05-12  2.000000  1.000000  2.000000  2.000000  2"
      ],
      "text/html": "<div>\n<style scoped>\n    .dataframe tbody tr th:only-of-type {\n        vertical-align: middle;\n    }\n\n    .dataframe tbody tr th {\n        vertical-align: top;\n    }\n\n    .dataframe thead th {\n        text-align: right;\n    }\n</style>\n<table border=\"1\" class=\"dataframe\">\n  <thead>\n    <tr style=\"text-align: right;\">\n      <th></th>\n      <th>A</th>\n      <th>B</th>\n      <th>C</th>\n      <th>D</th>\n      <th>E</th>\n    </tr>\n  </thead>\n  <tbody>\n    <tr>\n      <th>2021-05-07</th>\n      <td>2.000000</td>\n      <td>1.000000</td>\n      <td>2.000000</td>\n      <td>2.000000</td>\n      <td>2</td>\n    </tr>\n    <tr>\n      <th>2021-05-08</th>\n      <td>2.000000</td>\n      <td>1.000000</td>\n      <td>2.000000</td>\n      <td>2.000000</td>\n      <td>2</td>\n    </tr>\n    <tr>\n      <th>2021-05-09</th>\n      <td>2.000000</td>\n      <td>1.000000</td>\n      <td>2.000000</td>\n      <td>2.000000</td>\n      <td>2</td>\n    </tr>\n    <tr>\n      <th>2021-05-10</th>\n      <td>1.033487</td>\n      <td>-0.388164</td>\n      <td>-0.437154</td>\n      <td>-0.705411</td>\n      <td>5</td>\n    </tr>\n    <tr>\n      <th>2021-05-11</th>\n      <td>2.000000</td>\n      <td>1.000000</td>\n      <td>2.000000</td>\n      <td>2.000000</td>\n      <td>2</td>\n    </tr>\n    <tr>\n      <th>2021-05-12</th>\n      <td>2.000000</td>\n      <td>1.000000</td>\n      <td>2.000000</td>\n      <td>2.000000</td>\n      <td>2</td>\n    </tr>\n  </tbody>\n</table>\n</div>"
     },
     "metadata": {},
     "execution_count": 55
    }
   ],
   "source": [
    "df.drop('F',axis=1)"
   ]
  },
  {
   "source": [
    "## Fehlende Daten\n"
   ],
   "cell_type": "markdown",
   "metadata": {}
  },
  {
   "cell_type": "code",
   "execution_count": 56,
   "metadata": {},
   "outputs": [
    {
     "output_type": "execute_result",
     "data": {
      "text/plain": [
       "                   A         B         C         D  E    F    H\n",
       "2021-05-07  2.000000  1.000000  2.000000  2.000000  2  2.0  1.0\n",
       "2021-05-08  2.000000  1.000000  2.000000  2.000000  2  2.0  1.0\n",
       "2021-05-09  2.000000  1.000000  2.000000  2.000000  2  2.0  NaN\n",
       "2021-05-10  1.033487 -0.388164 -0.437154 -0.705411  5  2.5  NaN"
      ],
      "text/html": "<div>\n<style scoped>\n    .dataframe tbody tr th:only-of-type {\n        vertical-align: middle;\n    }\n\n    .dataframe tbody tr th {\n        vertical-align: top;\n    }\n\n    .dataframe thead th {\n        text-align: right;\n    }\n</style>\n<table border=\"1\" class=\"dataframe\">\n  <thead>\n    <tr style=\"text-align: right;\">\n      <th></th>\n      <th>A</th>\n      <th>B</th>\n      <th>C</th>\n      <th>D</th>\n      <th>E</th>\n      <th>F</th>\n      <th>H</th>\n    </tr>\n  </thead>\n  <tbody>\n    <tr>\n      <th>2021-05-07</th>\n      <td>2.000000</td>\n      <td>1.000000</td>\n      <td>2.000000</td>\n      <td>2.000000</td>\n      <td>2</td>\n      <td>2.0</td>\n      <td>1.0</td>\n    </tr>\n    <tr>\n      <th>2021-05-08</th>\n      <td>2.000000</td>\n      <td>1.000000</td>\n      <td>2.000000</td>\n      <td>2.000000</td>\n      <td>2</td>\n      <td>2.0</td>\n      <td>1.0</td>\n    </tr>\n    <tr>\n      <th>2021-05-09</th>\n      <td>2.000000</td>\n      <td>1.000000</td>\n      <td>2.000000</td>\n      <td>2.000000</td>\n      <td>2</td>\n      <td>2.0</td>\n      <td>NaN</td>\n    </tr>\n    <tr>\n      <th>2021-05-10</th>\n      <td>1.033487</td>\n      <td>-0.388164</td>\n      <td>-0.437154</td>\n      <td>-0.705411</td>\n      <td>5</td>\n      <td>2.5</td>\n      <td>NaN</td>\n    </tr>\n  </tbody>\n</table>\n</div>"
     },
     "metadata": {},
     "execution_count": 56
    }
   ],
   "source": [
    "df1 = df.reindex(index=dates[0:4],columns=list(df.columns)+ ['H'])\n",
    "\n",
    "df1.loc[dates[0]:dates[1],'H'] = 1\n",
    "\n",
    "df1"
   ]
  },
  {
   "cell_type": "code",
   "execution_count": 57,
   "metadata": {},
   "outputs": [
    {
     "output_type": "execute_result",
     "data": {
      "text/plain": [
       "              A    B    C    D  E    F    H\n",
       "2021-05-07  2.0  1.0  2.0  2.0  2  2.0  1.0\n",
       "2021-05-08  2.0  1.0  2.0  2.0  2  2.0  1.0"
      ],
      "text/html": "<div>\n<style scoped>\n    .dataframe tbody tr th:only-of-type {\n        vertical-align: middle;\n    }\n\n    .dataframe tbody tr th {\n        vertical-align: top;\n    }\n\n    .dataframe thead th {\n        text-align: right;\n    }\n</style>\n<table border=\"1\" class=\"dataframe\">\n  <thead>\n    <tr style=\"text-align: right;\">\n      <th></th>\n      <th>A</th>\n      <th>B</th>\n      <th>C</th>\n      <th>D</th>\n      <th>E</th>\n      <th>F</th>\n      <th>H</th>\n    </tr>\n  </thead>\n  <tbody>\n    <tr>\n      <th>2021-05-07</th>\n      <td>2.0</td>\n      <td>1.0</td>\n      <td>2.0</td>\n      <td>2.0</td>\n      <td>2</td>\n      <td>2.0</td>\n      <td>1.0</td>\n    </tr>\n    <tr>\n      <th>2021-05-08</th>\n      <td>2.0</td>\n      <td>1.0</td>\n      <td>2.0</td>\n      <td>2.0</td>\n      <td>2</td>\n      <td>2.0</td>\n      <td>1.0</td>\n    </tr>\n  </tbody>\n</table>\n</div>"
     },
     "metadata": {},
     "execution_count": 57
    }
   ],
   "source": [
    "# Alle Daten mit fehlenden Werten rauswerfen\n",
    "df1.dropna()"
   ]
  },
  {
   "cell_type": "code",
   "execution_count": 58,
   "metadata": {},
   "outputs": [
    {
     "output_type": "execute_result",
     "data": {
      "text/plain": [
       "                   A         B         C         D  E    F    H\n",
       "2021-05-07  2.000000  1.000000  2.000000  2.000000  2  2.0  1.0\n",
       "2021-05-08  2.000000  1.000000  2.000000  2.000000  2  2.0  1.0\n",
       "2021-05-09  2.000000  1.000000  2.000000  2.000000  2  2.0  NaN\n",
       "2021-05-10  1.033487 -0.388164 -0.437154 -0.705411  5  2.5  NaN"
      ],
      "text/html": "<div>\n<style scoped>\n    .dataframe tbody tr th:only-of-type {\n        vertical-align: middle;\n    }\n\n    .dataframe tbody tr th {\n        vertical-align: top;\n    }\n\n    .dataframe thead th {\n        text-align: right;\n    }\n</style>\n<table border=\"1\" class=\"dataframe\">\n  <thead>\n    <tr style=\"text-align: right;\">\n      <th></th>\n      <th>A</th>\n      <th>B</th>\n      <th>C</th>\n      <th>D</th>\n      <th>E</th>\n      <th>F</th>\n      <th>H</th>\n    </tr>\n  </thead>\n  <tbody>\n    <tr>\n      <th>2021-05-07</th>\n      <td>2.000000</td>\n      <td>1.000000</td>\n      <td>2.000000</td>\n      <td>2.000000</td>\n      <td>2</td>\n      <td>2.0</td>\n      <td>1.0</td>\n    </tr>\n    <tr>\n      <th>2021-05-08</th>\n      <td>2.000000</td>\n      <td>1.000000</td>\n      <td>2.000000</td>\n      <td>2.000000</td>\n      <td>2</td>\n      <td>2.0</td>\n      <td>1.0</td>\n    </tr>\n    <tr>\n      <th>2021-05-09</th>\n      <td>2.000000</td>\n      <td>1.000000</td>\n      <td>2.000000</td>\n      <td>2.000000</td>\n      <td>2</td>\n      <td>2.0</td>\n      <td>NaN</td>\n    </tr>\n    <tr>\n      <th>2021-05-10</th>\n      <td>1.033487</td>\n      <td>-0.388164</td>\n      <td>-0.437154</td>\n      <td>-0.705411</td>\n      <td>5</td>\n      <td>2.5</td>\n      <td>NaN</td>\n    </tr>\n  </tbody>\n</table>\n</div>"
     },
     "metadata": {},
     "execution_count": 58
    }
   ],
   "source": [
    "df1"
   ]
  },
  {
   "source": [
    "**Anmerkung:**\n",
    "\n",
    "Wir haben unseren DataFrame nicht überschrieben"
   ],
   "cell_type": "markdown",
   "metadata": {}
  },
  {
   "cell_type": "code",
   "execution_count": 59,
   "metadata": {},
   "outputs": [
    {
     "output_type": "execute_result",
     "data": {
      "text/plain": [
       "              A    B    C    D  E    F    H\n",
       "2021-05-07  2.0  1.0  2.0  2.0  2  2.0  1.0\n",
       "2021-05-08  2.0  1.0  2.0  2.0  2  2.0  1.0"
      ],
      "text/html": "<div>\n<style scoped>\n    .dataframe tbody tr th:only-of-type {\n        vertical-align: middle;\n    }\n\n    .dataframe tbody tr th {\n        vertical-align: top;\n    }\n\n    .dataframe thead th {\n        text-align: right;\n    }\n</style>\n<table border=\"1\" class=\"dataframe\">\n  <thead>\n    <tr style=\"text-align: right;\">\n      <th></th>\n      <th>A</th>\n      <th>B</th>\n      <th>C</th>\n      <th>D</th>\n      <th>E</th>\n      <th>F</th>\n      <th>H</th>\n    </tr>\n  </thead>\n  <tbody>\n    <tr>\n      <th>2021-05-07</th>\n      <td>2.0</td>\n      <td>1.0</td>\n      <td>2.0</td>\n      <td>2.0</td>\n      <td>2</td>\n      <td>2.0</td>\n      <td>1.0</td>\n    </tr>\n    <tr>\n      <th>2021-05-08</th>\n      <td>2.0</td>\n      <td>1.0</td>\n      <td>2.0</td>\n      <td>2.0</td>\n      <td>2</td>\n      <td>2.0</td>\n      <td>1.0</td>\n    </tr>\n  </tbody>\n</table>\n</div>"
     },
     "metadata": {},
     "execution_count": 59
    }
   ],
   "source": [
    "df2 = df1.copy()\n",
    "\n",
    "df2.dropna(inplace=True)\n",
    "\n",
    "df2"
   ]
  },
  {
   "source": [
    "* Der Befehl inplace sagt uns, ob wir den DataFrame überschreiben sollen oder nicht.\n",
    "\n",
    "* Der default-Wert ist hierbei False"
   ],
   "cell_type": "markdown",
   "metadata": {}
  },
  {
   "source": [
    "**Anmerkung:**\n",
    "\n",
    "* Passt auf, wenn ihr einen Datensatz über = kopiert\n",
    "* Ihr überschreibt beide Datensätze, wenn ihr nur die Kopie verändert\n",
    "* Kann zu bösen Fehlern führen\n",
    "* Passiert nicht, wenn ihr die Methode copy() verwendet"
   ],
   "cell_type": "markdown",
   "metadata": {}
  },
  {
   "cell_type": "code",
   "execution_count": 60,
   "metadata": {},
   "outputs": [
    {
     "output_type": "execute_result",
     "data": {
      "text/plain": [
       "                   A         B         C         D  E    F    H\n",
       "2021-05-07  2.000000  1.000000  2.000000  2.000000  2  2.0  1.0\n",
       "2021-05-08  2.000000  1.000000  2.000000  2.000000  2  2.0  1.0\n",
       "2021-05-09  2.000000  1.000000  2.000000  2.000000  2  2.0  NaN\n",
       "2021-05-10  1.033487 -0.388164 -0.437154 -0.705411  5  2.5  NaN"
      ],
      "text/html": "<div>\n<style scoped>\n    .dataframe tbody tr th:only-of-type {\n        vertical-align: middle;\n    }\n\n    .dataframe tbody tr th {\n        vertical-align: top;\n    }\n\n    .dataframe thead th {\n        text-align: right;\n    }\n</style>\n<table border=\"1\" class=\"dataframe\">\n  <thead>\n    <tr style=\"text-align: right;\">\n      <th></th>\n      <th>A</th>\n      <th>B</th>\n      <th>C</th>\n      <th>D</th>\n      <th>E</th>\n      <th>F</th>\n      <th>H</th>\n    </tr>\n  </thead>\n  <tbody>\n    <tr>\n      <th>2021-05-07</th>\n      <td>2.000000</td>\n      <td>1.000000</td>\n      <td>2.000000</td>\n      <td>2.000000</td>\n      <td>2</td>\n      <td>2.0</td>\n      <td>1.0</td>\n    </tr>\n    <tr>\n      <th>2021-05-08</th>\n      <td>2.000000</td>\n      <td>1.000000</td>\n      <td>2.000000</td>\n      <td>2.000000</td>\n      <td>2</td>\n      <td>2.0</td>\n      <td>1.0</td>\n    </tr>\n    <tr>\n      <th>2021-05-09</th>\n      <td>2.000000</td>\n      <td>1.000000</td>\n      <td>2.000000</td>\n      <td>2.000000</td>\n      <td>2</td>\n      <td>2.0</td>\n      <td>NaN</td>\n    </tr>\n    <tr>\n      <th>2021-05-10</th>\n      <td>1.033487</td>\n      <td>-0.388164</td>\n      <td>-0.437154</td>\n      <td>-0.705411</td>\n      <td>5</td>\n      <td>2.5</td>\n      <td>NaN</td>\n    </tr>\n  </tbody>\n</table>\n</div>"
     },
     "metadata": {},
     "execution_count": 60
    }
   ],
   "source": [
    "df1"
   ]
  },
  {
   "cell_type": "code",
   "execution_count": 83,
   "metadata": {},
   "outputs": [
    {
     "output_type": "execute_result",
     "data": {
      "text/plain": [
       "                   A         B         C         D  E    F    H\n",
       "2021-05-07  4.000000  4.000000  4.000000  4.000000  4  4.0  4.0\n",
       "2021-05-08  2.000000  1.000000  2.000000  2.000000  2  2.0  1.0\n",
       "2021-05-09  2.000000  1.000000  2.000000  2.000000  2  2.0  3.0\n",
       "2021-05-10  1.033487 -0.388164 -0.437154 -0.705411  5  2.5  3.0"
      ],
      "text/html": "<div>\n<style scoped>\n    .dataframe tbody tr th:only-of-type {\n        vertical-align: middle;\n    }\n\n    .dataframe tbody tr th {\n        vertical-align: top;\n    }\n\n    .dataframe thead th {\n        text-align: right;\n    }\n</style>\n<table border=\"1\" class=\"dataframe\">\n  <thead>\n    <tr style=\"text-align: right;\">\n      <th></th>\n      <th>A</th>\n      <th>B</th>\n      <th>C</th>\n      <th>D</th>\n      <th>E</th>\n      <th>F</th>\n      <th>H</th>\n    </tr>\n  </thead>\n  <tbody>\n    <tr>\n      <th>2021-05-07</th>\n      <td>4.000000</td>\n      <td>4.000000</td>\n      <td>4.000000</td>\n      <td>4.000000</td>\n      <td>4</td>\n      <td>4.0</td>\n      <td>4.0</td>\n    </tr>\n    <tr>\n      <th>2021-05-08</th>\n      <td>2.000000</td>\n      <td>1.000000</td>\n      <td>2.000000</td>\n      <td>2.000000</td>\n      <td>2</td>\n      <td>2.0</td>\n      <td>1.0</td>\n    </tr>\n    <tr>\n      <th>2021-05-09</th>\n      <td>2.000000</td>\n      <td>1.000000</td>\n      <td>2.000000</td>\n      <td>2.000000</td>\n      <td>2</td>\n      <td>2.0</td>\n      <td>3.0</td>\n    </tr>\n    <tr>\n      <th>2021-05-10</th>\n      <td>1.033487</td>\n      <td>-0.388164</td>\n      <td>-0.437154</td>\n      <td>-0.705411</td>\n      <td>5</td>\n      <td>2.5</td>\n      <td>3.0</td>\n    </tr>\n  </tbody>\n</table>\n</div>"
     },
     "metadata": {},
     "execution_count": 83
    }
   ],
   "source": [
    "df4 = df1\n",
    "df4.loc[dates[0]] = 4\n",
    "df4"
   ]
  },
  {
   "cell_type": "code",
   "execution_count": 84,
   "metadata": {},
   "outputs": [
    {
     "output_type": "execute_result",
     "data": {
      "text/plain": [
       "                   A         B         C         D  E    F    H\n",
       "2021-05-07  4.000000  4.000000  4.000000  4.000000  4  4.0  4.0\n",
       "2021-05-08  2.000000  1.000000  2.000000  2.000000  2  2.0  1.0\n",
       "2021-05-09  2.000000  1.000000  2.000000  2.000000  2  2.0  3.0\n",
       "2021-05-10  1.033487 -0.388164 -0.437154 -0.705411  5  2.5  3.0"
      ],
      "text/html": "<div>\n<style scoped>\n    .dataframe tbody tr th:only-of-type {\n        vertical-align: middle;\n    }\n\n    .dataframe tbody tr th {\n        vertical-align: top;\n    }\n\n    .dataframe thead th {\n        text-align: right;\n    }\n</style>\n<table border=\"1\" class=\"dataframe\">\n  <thead>\n    <tr style=\"text-align: right;\">\n      <th></th>\n      <th>A</th>\n      <th>B</th>\n      <th>C</th>\n      <th>D</th>\n      <th>E</th>\n      <th>F</th>\n      <th>H</th>\n    </tr>\n  </thead>\n  <tbody>\n    <tr>\n      <th>2021-05-07</th>\n      <td>4.000000</td>\n      <td>4.000000</td>\n      <td>4.000000</td>\n      <td>4.000000</td>\n      <td>4</td>\n      <td>4.0</td>\n      <td>4.0</td>\n    </tr>\n    <tr>\n      <th>2021-05-08</th>\n      <td>2.000000</td>\n      <td>1.000000</td>\n      <td>2.000000</td>\n      <td>2.000000</td>\n      <td>2</td>\n      <td>2.0</td>\n      <td>1.0</td>\n    </tr>\n    <tr>\n      <th>2021-05-09</th>\n      <td>2.000000</td>\n      <td>1.000000</td>\n      <td>2.000000</td>\n      <td>2.000000</td>\n      <td>2</td>\n      <td>2.0</td>\n      <td>3.0</td>\n    </tr>\n    <tr>\n      <th>2021-05-10</th>\n      <td>1.033487</td>\n      <td>-0.388164</td>\n      <td>-0.437154</td>\n      <td>-0.705411</td>\n      <td>5</td>\n      <td>2.5</td>\n      <td>3.0</td>\n    </tr>\n  </tbody>\n</table>\n</div>"
     },
     "metadata": {},
     "execution_count": 84
    }
   ],
   "source": [
    "df1"
   ]
  },
  {
   "cell_type": "code",
   "execution_count": 85,
   "metadata": {},
   "outputs": [
    {
     "output_type": "execute_result",
     "data": {
      "text/plain": [
       "                   A         B         C         D  E    F    H\n",
       "2021-05-07  4.000000  4.000000  4.000000  4.000000  4  4.0  4.0\n",
       "2021-05-08  2.000000  1.000000  2.000000  2.000000  2  2.0  1.0\n",
       "2021-05-09  2.000000  1.000000  2.000000  2.000000  2  2.0  3.0\n",
       "2021-05-10  1.033487 -0.388164 -0.437154 -0.705411  5  2.5  3.0"
      ],
      "text/html": "<div>\n<style scoped>\n    .dataframe tbody tr th:only-of-type {\n        vertical-align: middle;\n    }\n\n    .dataframe tbody tr th {\n        vertical-align: top;\n    }\n\n    .dataframe thead th {\n        text-align: right;\n    }\n</style>\n<table border=\"1\" class=\"dataframe\">\n  <thead>\n    <tr style=\"text-align: right;\">\n      <th></th>\n      <th>A</th>\n      <th>B</th>\n      <th>C</th>\n      <th>D</th>\n      <th>E</th>\n      <th>F</th>\n      <th>H</th>\n    </tr>\n  </thead>\n  <tbody>\n    <tr>\n      <th>2021-05-07</th>\n      <td>4.000000</td>\n      <td>4.000000</td>\n      <td>4.000000</td>\n      <td>4.000000</td>\n      <td>4</td>\n      <td>4.0</td>\n      <td>4.0</td>\n    </tr>\n    <tr>\n      <th>2021-05-08</th>\n      <td>2.000000</td>\n      <td>1.000000</td>\n      <td>2.000000</td>\n      <td>2.000000</td>\n      <td>2</td>\n      <td>2.0</td>\n      <td>1.0</td>\n    </tr>\n    <tr>\n      <th>2021-05-09</th>\n      <td>2.000000</td>\n      <td>1.000000</td>\n      <td>2.000000</td>\n      <td>2.000000</td>\n      <td>2</td>\n      <td>2.0</td>\n      <td>3.0</td>\n    </tr>\n    <tr>\n      <th>2021-05-10</th>\n      <td>1.033487</td>\n      <td>-0.388164</td>\n      <td>-0.437154</td>\n      <td>-0.705411</td>\n      <td>5</td>\n      <td>2.5</td>\n      <td>3.0</td>\n    </tr>\n  </tbody>\n</table>\n</div>"
     },
     "metadata": {},
     "execution_count": 85
    }
   ],
   "source": [
    "dfcop = df1.copy()\n",
    "dfcop.loc[dates[0]] = 4\n",
    "dfcop"
   ]
  },
  {
   "cell_type": "code",
   "execution_count": 62,
   "metadata": {},
   "outputs": [
    {
     "output_type": "execute_result",
     "data": {
      "text/plain": [
       "                   A         B         C         D  E    F    H\n",
       "2021-05-07  2.000000  1.000000  2.000000  2.000000  2  2.0  1.0\n",
       "2021-05-08  2.000000  1.000000  2.000000  2.000000  2  2.0  1.0\n",
       "2021-05-09  2.000000  1.000000  2.000000  2.000000  2  2.0  NaN\n",
       "2021-05-10  1.033487 -0.388164 -0.437154 -0.705411  5  2.5  NaN"
      ],
      "text/html": "<div>\n<style scoped>\n    .dataframe tbody tr th:only-of-type {\n        vertical-align: middle;\n    }\n\n    .dataframe tbody tr th {\n        vertical-align: top;\n    }\n\n    .dataframe thead th {\n        text-align: right;\n    }\n</style>\n<table border=\"1\" class=\"dataframe\">\n  <thead>\n    <tr style=\"text-align: right;\">\n      <th></th>\n      <th>A</th>\n      <th>B</th>\n      <th>C</th>\n      <th>D</th>\n      <th>E</th>\n      <th>F</th>\n      <th>H</th>\n    </tr>\n  </thead>\n  <tbody>\n    <tr>\n      <th>2021-05-07</th>\n      <td>2.000000</td>\n      <td>1.000000</td>\n      <td>2.000000</td>\n      <td>2.000000</td>\n      <td>2</td>\n      <td>2.0</td>\n      <td>1.0</td>\n    </tr>\n    <tr>\n      <th>2021-05-08</th>\n      <td>2.000000</td>\n      <td>1.000000</td>\n      <td>2.000000</td>\n      <td>2.000000</td>\n      <td>2</td>\n      <td>2.0</td>\n      <td>1.0</td>\n    </tr>\n    <tr>\n      <th>2021-05-09</th>\n      <td>2.000000</td>\n      <td>1.000000</td>\n      <td>2.000000</td>\n      <td>2.000000</td>\n      <td>2</td>\n      <td>2.0</td>\n      <td>NaN</td>\n    </tr>\n    <tr>\n      <th>2021-05-10</th>\n      <td>1.033487</td>\n      <td>-0.388164</td>\n      <td>-0.437154</td>\n      <td>-0.705411</td>\n      <td>5</td>\n      <td>2.5</td>\n      <td>NaN</td>\n    </tr>\n  </tbody>\n</table>\n</div>"
     },
     "metadata": {},
     "execution_count": 62
    }
   ],
   "source": [
    "df1"
   ]
  },
  {
   "cell_type": "code",
   "execution_count": 63,
   "metadata": {},
   "outputs": [
    {
     "output_type": "execute_result",
     "data": {
      "text/plain": [
       "                   A         B         C         D  E    F    H\n",
       "2021-05-07  2.000000  1.000000  2.000000  2.000000  2  2.0  1.0\n",
       "2021-05-08  2.000000  1.000000  2.000000  2.000000  2  2.0  1.0\n",
       "2021-05-09  2.000000  1.000000  2.000000  2.000000  2  2.0  3.0\n",
       "2021-05-10  1.033487 -0.388164 -0.437154 -0.705411  5  2.5  3.0"
      ],
      "text/html": "<div>\n<style scoped>\n    .dataframe tbody tr th:only-of-type {\n        vertical-align: middle;\n    }\n\n    .dataframe tbody tr th {\n        vertical-align: top;\n    }\n\n    .dataframe thead th {\n        text-align: right;\n    }\n</style>\n<table border=\"1\" class=\"dataframe\">\n  <thead>\n    <tr style=\"text-align: right;\">\n      <th></th>\n      <th>A</th>\n      <th>B</th>\n      <th>C</th>\n      <th>D</th>\n      <th>E</th>\n      <th>F</th>\n      <th>H</th>\n    </tr>\n  </thead>\n  <tbody>\n    <tr>\n      <th>2021-05-07</th>\n      <td>2.000000</td>\n      <td>1.000000</td>\n      <td>2.000000</td>\n      <td>2.000000</td>\n      <td>2</td>\n      <td>2.0</td>\n      <td>1.0</td>\n    </tr>\n    <tr>\n      <th>2021-05-08</th>\n      <td>2.000000</td>\n      <td>1.000000</td>\n      <td>2.000000</td>\n      <td>2.000000</td>\n      <td>2</td>\n      <td>2.0</td>\n      <td>1.0</td>\n    </tr>\n    <tr>\n      <th>2021-05-09</th>\n      <td>2.000000</td>\n      <td>1.000000</td>\n      <td>2.000000</td>\n      <td>2.000000</td>\n      <td>2</td>\n      <td>2.0</td>\n      <td>3.0</td>\n    </tr>\n    <tr>\n      <th>2021-05-10</th>\n      <td>1.033487</td>\n      <td>-0.388164</td>\n      <td>-0.437154</td>\n      <td>-0.705411</td>\n      <td>5</td>\n      <td>2.5</td>\n      <td>3.0</td>\n    </tr>\n  </tbody>\n</table>\n</div>"
     },
     "metadata": {},
     "execution_count": 63
    }
   ],
   "source": [
    "# Ausfüllen von NA's\n",
    "\n",
    "df1.fillna(value=3)"
   ]
  },
  {
   "cell_type": "code",
   "execution_count": 64,
   "metadata": {},
   "outputs": [
    {
     "output_type": "execute_result",
     "data": {
      "text/plain": [
       "                A      B      C      D      E      F      H\n",
       "2021-05-07  False  False  False  False  False  False  False\n",
       "2021-05-08  False  False  False  False  False  False  False\n",
       "2021-05-09  False  False  False  False  False  False   True\n",
       "2021-05-10  False  False  False  False  False  False   True"
      ],
      "text/html": "<div>\n<style scoped>\n    .dataframe tbody tr th:only-of-type {\n        vertical-align: middle;\n    }\n\n    .dataframe tbody tr th {\n        vertical-align: top;\n    }\n\n    .dataframe thead th {\n        text-align: right;\n    }\n</style>\n<table border=\"1\" class=\"dataframe\">\n  <thead>\n    <tr style=\"text-align: right;\">\n      <th></th>\n      <th>A</th>\n      <th>B</th>\n      <th>C</th>\n      <th>D</th>\n      <th>E</th>\n      <th>F</th>\n      <th>H</th>\n    </tr>\n  </thead>\n  <tbody>\n    <tr>\n      <th>2021-05-07</th>\n      <td>False</td>\n      <td>False</td>\n      <td>False</td>\n      <td>False</td>\n      <td>False</td>\n      <td>False</td>\n      <td>False</td>\n    </tr>\n    <tr>\n      <th>2021-05-08</th>\n      <td>False</td>\n      <td>False</td>\n      <td>False</td>\n      <td>False</td>\n      <td>False</td>\n      <td>False</td>\n      <td>False</td>\n    </tr>\n    <tr>\n      <th>2021-05-09</th>\n      <td>False</td>\n      <td>False</td>\n      <td>False</td>\n      <td>False</td>\n      <td>False</td>\n      <td>False</td>\n      <td>True</td>\n    </tr>\n    <tr>\n      <th>2021-05-10</th>\n      <td>False</td>\n      <td>False</td>\n      <td>False</td>\n      <td>False</td>\n      <td>False</td>\n      <td>False</td>\n      <td>True</td>\n    </tr>\n  </tbody>\n</table>\n</div>"
     },
     "metadata": {},
     "execution_count": 64
    }
   ],
   "source": [
    "#Booleansche Ausgabe aller Werte \n",
    "df1.isna()"
   ]
  },
  {
   "source": [
    "## Operationen mit DataFrames"
   ],
   "cell_type": "markdown",
   "metadata": {}
  },
  {
   "cell_type": "code",
   "execution_count": 65,
   "metadata": {},
   "outputs": [
    {
     "output_type": "execute_result",
     "data": {
      "text/plain": [
       "A    1.758372\n",
       "B    0.652959\n",
       "C    1.390712\n",
       "D    1.323647\n",
       "E    2.750000\n",
       "F    2.125000\n",
       "H    1.000000\n",
       "dtype: float64"
      ]
     },
     "metadata": {},
     "execution_count": 65
    }
   ],
   "source": [
    "#Durschnitt berechnen\n",
    "df1.mean()"
   ]
  },
  {
   "cell_type": "code",
   "execution_count": 66,
   "metadata": {},
   "outputs": [
    {
     "output_type": "execute_result",
     "data": {
      "text/plain": [
       "2021-05-07    1.714286\n",
       "2021-05-08    1.714286\n",
       "2021-05-09    1.833333\n",
       "2021-05-10    1.167126\n",
       "Freq: D, dtype: float64"
      ]
     },
     "metadata": {},
     "execution_count": 66
    }
   ],
   "source": [
    "df1.mean(axis=1)"
   ]
  },
  {
   "cell_type": "code",
   "execution_count": 67,
   "metadata": {},
   "outputs": [
    {
     "output_type": "execute_result",
     "data": {
      "text/plain": [
       "0.652959097253009"
      ]
     },
     "metadata": {},
     "execution_count": 67
    }
   ],
   "source": [
    "df1.loc[:,'B'].mean()"
   ]
  },
  {
   "source": [
    "**Anmerkung:**\n",
    "\n",
    "* Der default Wert bezieht sich wieder auf die Spalten\n",
    "* Über den axis Befehl können wir auswählen, ob wir den Durschnitt bezüglich der Spalten oder Reihen ausgegeben haben wollen\n",
    "* Auch hier können wir wieder nur bestimmte Zeilen oder Spalten für die Operationen auswählen"
   ],
   "cell_type": "markdown",
   "metadata": {}
  },
  {
   "cell_type": "code",
   "execution_count": 68,
   "metadata": {},
   "outputs": [
    {
     "output_type": "execute_result",
     "data": {
      "text/plain": [
       "                   A         B         C         D   E    F    H\n",
       "2021-05-07  2.000000  1.000000  2.000000  2.000000   2  2.0  1.0\n",
       "2021-05-08  4.000000  2.000000  4.000000  4.000000   4  4.0  2.0\n",
       "2021-05-09  6.000000  3.000000  6.000000  6.000000   6  6.0  5.0\n",
       "2021-05-10  7.033487  2.611836  5.562846  5.294589  11  8.5  8.0"
      ],
      "text/html": "<div>\n<style scoped>\n    .dataframe tbody tr th:only-of-type {\n        vertical-align: middle;\n    }\n\n    .dataframe tbody tr th {\n        vertical-align: top;\n    }\n\n    .dataframe thead th {\n        text-align: right;\n    }\n</style>\n<table border=\"1\" class=\"dataframe\">\n  <thead>\n    <tr style=\"text-align: right;\">\n      <th></th>\n      <th>A</th>\n      <th>B</th>\n      <th>C</th>\n      <th>D</th>\n      <th>E</th>\n      <th>F</th>\n      <th>H</th>\n    </tr>\n  </thead>\n  <tbody>\n    <tr>\n      <th>2021-05-07</th>\n      <td>2.000000</td>\n      <td>1.000000</td>\n      <td>2.000000</td>\n      <td>2.000000</td>\n      <td>2</td>\n      <td>2.0</td>\n      <td>1.0</td>\n    </tr>\n    <tr>\n      <th>2021-05-08</th>\n      <td>4.000000</td>\n      <td>2.000000</td>\n      <td>4.000000</td>\n      <td>4.000000</td>\n      <td>4</td>\n      <td>4.0</td>\n      <td>2.0</td>\n    </tr>\n    <tr>\n      <th>2021-05-09</th>\n      <td>6.000000</td>\n      <td>3.000000</td>\n      <td>6.000000</td>\n      <td>6.000000</td>\n      <td>6</td>\n      <td>6.0</td>\n      <td>5.0</td>\n    </tr>\n    <tr>\n      <th>2021-05-10</th>\n      <td>7.033487</td>\n      <td>2.611836</td>\n      <td>5.562846</td>\n      <td>5.294589</td>\n      <td>11</td>\n      <td>8.5</td>\n      <td>8.0</td>\n    </tr>\n  </tbody>\n</table>\n</div>"
     },
     "metadata": {},
     "execution_count": 68
    }
   ],
   "source": [
    "# Apply Funktion\n",
    "df1.fillna(3,inplace=True)\n",
    "\n",
    "df1.apply(np.cumsum)"
   ]
  },
  {
   "cell_type": "code",
   "execution_count": 69,
   "metadata": {},
   "outputs": [
    {
     "output_type": "execute_result",
     "data": {
      "text/plain": [
       "A    0.724885\n",
       "B    1.041123\n",
       "C    1.827865\n",
       "D    2.029058\n",
       "E    0.750000\n",
       "F    0.125000\n",
       "H    1.000000\n",
       "dtype: float64"
      ]
     },
     "metadata": {},
     "execution_count": 69
    }
   ],
   "source": [
    "df1.apply(lambda x: x.mean() - x.min())"
   ]
  },
  {
   "cell_type": "code",
   "execution_count": 70,
   "metadata": {},
   "outputs": [
    {
     "output_type": "execute_result",
     "data": {
      "text/plain": [
       "2.000000    3\n",
       "1.033487    1\n",
       "Name: A, dtype: int64"
      ]
     },
     "metadata": {},
     "execution_count": 70
    }
   ],
   "source": [
    "# Wie oft kommt ein Wert in einer Spalte vor\n",
    "df1['A'].value_counts()"
   ]
  },
  {
   "source": [
    "**String Methoden**\n"
   ],
   "cell_type": "markdown",
   "metadata": {}
  },
  {
   "cell_type": "code",
   "execution_count": 71,
   "metadata": {},
   "outputs": [
    {
     "output_type": "execute_result",
     "data": {
      "text/plain": [
       "0         a\n",
       "1         d\n",
       "2       NaN\n",
       "3     hallo\n",
       "4    dhgasg\n",
       "dtype: object"
      ]
     },
     "metadata": {},
     "execution_count": 71
    }
   ],
   "source": [
    "s = pd.Series(['A','D',np.nan,'HAllo','DHGasG'])\n",
    "\n",
    "s.str.lower()"
   ]
  },
  {
   "cell_type": "code",
   "execution_count": 72,
   "metadata": {},
   "outputs": [
    {
     "output_type": "execute_result",
     "data": {
      "text/plain": [
       "0         A\n",
       "1         D\n",
       "2       NaN\n",
       "3     HALLO\n",
       "4    DHGASG\n",
       "dtype: object"
      ]
     },
     "metadata": {},
     "execution_count": 72
    }
   ],
   "source": [
    "s.str.upper()"
   ]
  },
  {
   "source": [
    "**Mergen von Panda Objekten**"
   ],
   "cell_type": "markdown",
   "metadata": {}
  },
  {
   "cell_type": "code",
   "execution_count": 73,
   "metadata": {},
   "outputs": [
    {
     "output_type": "execute_result",
     "data": {
      "text/plain": [
       "                   A         B         C         D  E    F    H\n",
       "2021-05-07  2.000000  1.000000  2.000000  2.000000  2  2.0  NaN\n",
       "2021-05-08  2.000000  1.000000  2.000000  2.000000  2  2.0  NaN\n",
       "2021-05-09  2.000000  1.000000  2.000000  2.000000  2  2.0  NaN\n",
       "2021-05-10  1.033487 -0.388164 -0.437154 -0.705411  5  2.5  NaN\n",
       "2021-05-11  2.000000  1.000000  2.000000  2.000000  2  2.0  NaN\n",
       "2021-05-12  2.000000  1.000000  2.000000  2.000000  2  2.0  NaN\n",
       "2021-05-07  2.000000  1.000000  2.000000  2.000000  2  2.0  1.0\n",
       "2021-05-08  2.000000  1.000000  2.000000  2.000000  2  2.0  1.0\n",
       "2021-05-09  2.000000  1.000000  2.000000  2.000000  2  2.0  3.0\n",
       "2021-05-10  1.033487 -0.388164 -0.437154 -0.705411  5  2.5  3.0"
      ],
      "text/html": "<div>\n<style scoped>\n    .dataframe tbody tr th:only-of-type {\n        vertical-align: middle;\n    }\n\n    .dataframe tbody tr th {\n        vertical-align: top;\n    }\n\n    .dataframe thead th {\n        text-align: right;\n    }\n</style>\n<table border=\"1\" class=\"dataframe\">\n  <thead>\n    <tr style=\"text-align: right;\">\n      <th></th>\n      <th>A</th>\n      <th>B</th>\n      <th>C</th>\n      <th>D</th>\n      <th>E</th>\n      <th>F</th>\n      <th>H</th>\n    </tr>\n  </thead>\n  <tbody>\n    <tr>\n      <th>2021-05-07</th>\n      <td>2.000000</td>\n      <td>1.000000</td>\n      <td>2.000000</td>\n      <td>2.000000</td>\n      <td>2</td>\n      <td>2.0</td>\n      <td>NaN</td>\n    </tr>\n    <tr>\n      <th>2021-05-08</th>\n      <td>2.000000</td>\n      <td>1.000000</td>\n      <td>2.000000</td>\n      <td>2.000000</td>\n      <td>2</td>\n      <td>2.0</td>\n      <td>NaN</td>\n    </tr>\n    <tr>\n      <th>2021-05-09</th>\n      <td>2.000000</td>\n      <td>1.000000</td>\n      <td>2.000000</td>\n      <td>2.000000</td>\n      <td>2</td>\n      <td>2.0</td>\n      <td>NaN</td>\n    </tr>\n    <tr>\n      <th>2021-05-10</th>\n      <td>1.033487</td>\n      <td>-0.388164</td>\n      <td>-0.437154</td>\n      <td>-0.705411</td>\n      <td>5</td>\n      <td>2.5</td>\n      <td>NaN</td>\n    </tr>\n    <tr>\n      <th>2021-05-11</th>\n      <td>2.000000</td>\n      <td>1.000000</td>\n      <td>2.000000</td>\n      <td>2.000000</td>\n      <td>2</td>\n      <td>2.0</td>\n      <td>NaN</td>\n    </tr>\n    <tr>\n      <th>2021-05-12</th>\n      <td>2.000000</td>\n      <td>1.000000</td>\n      <td>2.000000</td>\n      <td>2.000000</td>\n      <td>2</td>\n      <td>2.0</td>\n      <td>NaN</td>\n    </tr>\n    <tr>\n      <th>2021-05-07</th>\n      <td>2.000000</td>\n      <td>1.000000</td>\n      <td>2.000000</td>\n      <td>2.000000</td>\n      <td>2</td>\n      <td>2.0</td>\n      <td>1.0</td>\n    </tr>\n    <tr>\n      <th>2021-05-08</th>\n      <td>2.000000</td>\n      <td>1.000000</td>\n      <td>2.000000</td>\n      <td>2.000000</td>\n      <td>2</td>\n      <td>2.0</td>\n      <td>1.0</td>\n    </tr>\n    <tr>\n      <th>2021-05-09</th>\n      <td>2.000000</td>\n      <td>1.000000</td>\n      <td>2.000000</td>\n      <td>2.000000</td>\n      <td>2</td>\n      <td>2.0</td>\n      <td>3.0</td>\n    </tr>\n    <tr>\n      <th>2021-05-10</th>\n      <td>1.033487</td>\n      <td>-0.388164</td>\n      <td>-0.437154</td>\n      <td>-0.705411</td>\n      <td>5</td>\n      <td>2.5</td>\n      <td>3.0</td>\n    </tr>\n  </tbody>\n</table>\n</div>"
     },
     "metadata": {},
     "execution_count": 73
    }
   ],
   "source": [
    "pd.concat([df,df1])"
   ]
  },
  {
   "source": [
    "**Gruppieren des DataFrames**"
   ],
   "cell_type": "markdown",
   "metadata": {}
  },
  {
   "cell_type": "code",
   "execution_count": 74,
   "metadata": {},
   "outputs": [
    {
     "output_type": "execute_result",
     "data": {
      "text/plain": [
       "    A     B         C         D\n",
       "0  ha  eins  1.504100 -0.109621\n",
       "1  TT  zwei -0.284512 -1.111663\n",
       "2  ha  drei  2.364775  1.784101\n",
       "3  TT  eins  0.304119 -1.253625\n",
       "4  ha  zwei -0.597970 -0.192368\n",
       "5  TT  drei -1.237089  0.784106"
      ],
      "text/html": "<div>\n<style scoped>\n    .dataframe tbody tr th:only-of-type {\n        vertical-align: middle;\n    }\n\n    .dataframe tbody tr th {\n        vertical-align: top;\n    }\n\n    .dataframe thead th {\n        text-align: right;\n    }\n</style>\n<table border=\"1\" class=\"dataframe\">\n  <thead>\n    <tr style=\"text-align: right;\">\n      <th></th>\n      <th>A</th>\n      <th>B</th>\n      <th>C</th>\n      <th>D</th>\n    </tr>\n  </thead>\n  <tbody>\n    <tr>\n      <th>0</th>\n      <td>ha</td>\n      <td>eins</td>\n      <td>1.504100</td>\n      <td>-0.109621</td>\n    </tr>\n    <tr>\n      <th>1</th>\n      <td>TT</td>\n      <td>zwei</td>\n      <td>-0.284512</td>\n      <td>-1.111663</td>\n    </tr>\n    <tr>\n      <th>2</th>\n      <td>ha</td>\n      <td>drei</td>\n      <td>2.364775</td>\n      <td>1.784101</td>\n    </tr>\n    <tr>\n      <th>3</th>\n      <td>TT</td>\n      <td>eins</td>\n      <td>0.304119</td>\n      <td>-1.253625</td>\n    </tr>\n    <tr>\n      <th>4</th>\n      <td>ha</td>\n      <td>zwei</td>\n      <td>-0.597970</td>\n      <td>-0.192368</td>\n    </tr>\n    <tr>\n      <th>5</th>\n      <td>TT</td>\n      <td>drei</td>\n      <td>-1.237089</td>\n      <td>0.784106</td>\n    </tr>\n  </tbody>\n</table>\n</div>"
     },
     "metadata": {},
     "execution_count": 74
    }
   ],
   "source": [
    "#Erstellen eines neuen DataFrames durch ein Dictionary\n",
    "\n",
    "df = pd.DataFrame(\n",
    "    {\n",
    "        'A': ['ha','TT','ha','TT','ha','TT'],\n",
    "        'B': ['eins','zwei','drei','eins','zwei','drei'],\n",
    "        'C': np.random.randn(6),\n",
    "        'D': np.random.randn(6),\n",
    "    }\n",
    ")\n",
    "df"
   ]
  },
  {
   "source": [
    "** Wie können wir jetzt Operationen nur auf bestimmte Gruppen anwenden?**"
   ],
   "cell_type": "markdown",
   "metadata": {}
  },
  {
   "cell_type": "code",
   "execution_count": 75,
   "metadata": {},
   "outputs": [
    {
     "output_type": "execute_result",
     "data": {
      "text/plain": [
       "           C         D\n",
       "A                     \n",
       "TT -1.217482 -1.581182\n",
       "ha  3.270906  1.482111"
      ],
      "text/html": "<div>\n<style scoped>\n    .dataframe tbody tr th:only-of-type {\n        vertical-align: middle;\n    }\n\n    .dataframe tbody tr th {\n        vertical-align: top;\n    }\n\n    .dataframe thead th {\n        text-align: right;\n    }\n</style>\n<table border=\"1\" class=\"dataframe\">\n  <thead>\n    <tr style=\"text-align: right;\">\n      <th></th>\n      <th>C</th>\n      <th>D</th>\n    </tr>\n    <tr>\n      <th>A</th>\n      <th></th>\n      <th></th>\n    </tr>\n  </thead>\n  <tbody>\n    <tr>\n      <th>TT</th>\n      <td>-1.217482</td>\n      <td>-1.581182</td>\n    </tr>\n    <tr>\n      <th>ha</th>\n      <td>3.270906</td>\n      <td>1.482111</td>\n    </tr>\n  </tbody>\n</table>\n</div>"
     },
     "metadata": {},
     "execution_count": 75
    }
   ],
   "source": [
    "#Berechnen der Summe der gruppierten Daten\n",
    "df.groupby('A').sum()"
   ]
  },
  {
   "source": [
    "**Anmerkung:**\n",
    "\n",
    "* Die Spalte A wird in die 2 Gruppen 'TT' und  'ha unterteilt und dann wird pro Spalte die Summe gebildet\n",
    "* Es lässt sich auch nach mehreren Sachen gruppieren hier jedoch nicht sinnvoll"
   ],
   "cell_type": "markdown",
   "metadata": {}
  },
  {
   "source": [
    "## Plotten"
   ],
   "cell_type": "markdown",
   "metadata": {}
  },
  {
   "cell_type": "code",
   "execution_count": 76,
   "metadata": {},
   "outputs": [],
   "source": [
    "#Hierfür importieren wir zunächst Matplotlib\n",
    "import matplotlib.pyplot as plt\n"
   ]
  },
  {
   "cell_type": "code",
   "execution_count": 77,
   "metadata": {},
   "outputs": [
    {
     "output_type": "execute_result",
     "data": {
      "text/plain": [
       "<AxesSubplot:>"
      ]
     },
     "metadata": {},
     "execution_count": 77
    },
    {
     "output_type": "display_data",
     "data": {
      "text/plain": "<Figure size 432x288 with 1 Axes>",
      "image/svg+xml": "<?xml version=\"1.0\" encoding=\"utf-8\" standalone=\"no\"?>\n<!DOCTYPE svg PUBLIC \"-//W3C//DTD SVG 1.1//EN\"\n  \"http://www.w3.org/Graphics/SVG/1.1/DTD/svg11.dtd\">\n<svg height=\"259.715937pt\" version=\"1.1\" viewBox=\"0 0 377.304688 259.715937\" width=\"377.304688pt\" xmlns=\"http://www.w3.org/2000/svg\" xmlns:xlink=\"http://www.w3.org/1999/xlink\">\n <metadata>\n  <rdf:RDF xmlns:cc=\"http://creativecommons.org/ns#\" xmlns:dc=\"http://purl.org/dc/elements/1.1/\" xmlns:rdf=\"http://www.w3.org/1999/02/22-rdf-syntax-ns#\">\n   <cc:Work>\n    <dc:type rdf:resource=\"http://purl.org/dc/dcmitype/StillImage\"/>\n    <dc:date>2021-05-03T11:10:27.522272</dc:date>\n    <dc:format>image/svg+xml</dc:format>\n    <dc:creator>\n     <cc:Agent>\n      <dc:title>Matplotlib v3.4.1, https://matplotlib.org/</dc:title>\n     </cc:Agent>\n    </dc:creator>\n   </cc:Work>\n  </rdf:RDF>\n </metadata>\n <defs>\n  <style type=\"text/css\">*{stroke-linecap:butt;stroke-linejoin:round;}</style>\n </defs>\n <g id=\"figure_1\">\n  <g id=\"patch_1\">\n   <path d=\"M 0 259.715937 \nL 377.304688 259.715937 \nL 377.304688 0 \nL 0 0 \nz\n\" style=\"fill:none;\"/>\n  </g>\n  <g id=\"axes_1\">\n   <g id=\"patch_2\">\n    <path d=\"M 35.304688 224.64 \nL 370.104688 224.64 \nL 370.104688 7.2 \nL 35.304688 7.2 \nz\n\" style=\"fill:#ffffff;\"/>\n   </g>\n   <g id=\"matplotlib.axis_1\">\n    <g id=\"xtick_1\">\n     <g id=\"line2d_1\">\n      <defs>\n       <path d=\"M 0 0 \nL 0 3.5 \n\" id=\"m80d04e1c61\" style=\"stroke:#000000;stroke-width:0.8;\"/>\n      </defs>\n      <g>\n       <use style=\"stroke:#000000;stroke-width:0.8;\" x=\"35.304688\" xlink:href=\"#m80d04e1c61\" y=\"224.64\"/>\n      </g>\n     </g>\n     <g id=\"text_1\">\n      <!-- Jan -->\n      <g transform=\"translate(27.596875 239.238438)scale(0.1 -0.1)\">\n       <defs>\n        <path d=\"M 628 4666 \nL 1259 4666 \nL 1259 325 \nQ 1259 -519 939 -900 \nQ 619 -1281 -91 -1281 \nL -331 -1281 \nL -331 -750 \nL -134 -750 \nQ 284 -750 456 -515 \nQ 628 -281 628 325 \nL 628 4666 \nz\n\" id=\"DejaVuSans-4a\" transform=\"scale(0.015625)\"/>\n        <path d=\"M 2194 1759 \nQ 1497 1759 1228 1600 \nQ 959 1441 959 1056 \nQ 959 750 1161 570 \nQ 1363 391 1709 391 \nQ 2188 391 2477 730 \nQ 2766 1069 2766 1631 \nL 2766 1759 \nL 2194 1759 \nz\nM 3341 1997 \nL 3341 0 \nL 2766 0 \nL 2766 531 \nQ 2569 213 2275 61 \nQ 1981 -91 1556 -91 \nQ 1019 -91 701 211 \nQ 384 513 384 1019 \nQ 384 1609 779 1909 \nQ 1175 2209 1959 2209 \nL 2766 2209 \nL 2766 2266 \nQ 2766 2663 2505 2880 \nQ 2244 3097 1772 3097 \nQ 1472 3097 1187 3025 \nQ 903 2953 641 2809 \nL 641 3341 \nQ 956 3463 1253 3523 \nQ 1550 3584 1831 3584 \nQ 2591 3584 2966 3190 \nQ 3341 2797 3341 1997 \nz\n\" id=\"DejaVuSans-61\" transform=\"scale(0.015625)\"/>\n        <path d=\"M 3513 2113 \nL 3513 0 \nL 2938 0 \nL 2938 2094 \nQ 2938 2591 2744 2837 \nQ 2550 3084 2163 3084 \nQ 1697 3084 1428 2787 \nQ 1159 2491 1159 1978 \nL 1159 0 \nL 581 0 \nL 581 3500 \nL 1159 3500 \nL 1159 2956 \nQ 1366 3272 1645 3428 \nQ 1925 3584 2291 3584 \nQ 2894 3584 3203 3211 \nQ 3513 2838 3513 2113 \nz\n\" id=\"DejaVuSans-6e\" transform=\"scale(0.015625)\"/>\n       </defs>\n       <use xlink:href=\"#DejaVuSans-4a\"/>\n       <use x=\"29.492188\" xlink:href=\"#DejaVuSans-61\"/>\n       <use x=\"90.771484\" xlink:href=\"#DejaVuSans-6e\"/>\n      </g>\n      <!-- 2021 -->\n      <g transform=\"translate(22.579687 250.43625)scale(0.1 -0.1)\">\n       <defs>\n        <path d=\"M 1228 531 \nL 3431 531 \nL 3431 0 \nL 469 0 \nL 469 531 \nQ 828 903 1448 1529 \nQ 2069 2156 2228 2338 \nQ 2531 2678 2651 2914 \nQ 2772 3150 2772 3378 \nQ 2772 3750 2511 3984 \nQ 2250 4219 1831 4219 \nQ 1534 4219 1204 4116 \nQ 875 4013 500 3803 \nL 500 4441 \nQ 881 4594 1212 4672 \nQ 1544 4750 1819 4750 \nQ 2544 4750 2975 4387 \nQ 3406 4025 3406 3419 \nQ 3406 3131 3298 2873 \nQ 3191 2616 2906 2266 \nQ 2828 2175 2409 1742 \nQ 1991 1309 1228 531 \nz\n\" id=\"DejaVuSans-32\" transform=\"scale(0.015625)\"/>\n        <path d=\"M 2034 4250 \nQ 1547 4250 1301 3770 \nQ 1056 3291 1056 2328 \nQ 1056 1369 1301 889 \nQ 1547 409 2034 409 \nQ 2525 409 2770 889 \nQ 3016 1369 3016 2328 \nQ 3016 3291 2770 3770 \nQ 2525 4250 2034 4250 \nz\nM 2034 4750 \nQ 2819 4750 3233 4129 \nQ 3647 3509 3647 2328 \nQ 3647 1150 3233 529 \nQ 2819 -91 2034 -91 \nQ 1250 -91 836 529 \nQ 422 1150 422 2328 \nQ 422 3509 836 4129 \nQ 1250 4750 2034 4750 \nz\n\" id=\"DejaVuSans-30\" transform=\"scale(0.015625)\"/>\n        <path d=\"M 794 531 \nL 1825 531 \nL 1825 4091 \nL 703 3866 \nL 703 4441 \nL 1819 4666 \nL 2450 4666 \nL 2450 531 \nL 3481 531 \nL 3481 0 \nL 794 0 \nL 794 531 \nz\n\" id=\"DejaVuSans-31\" transform=\"scale(0.015625)\"/>\n       </defs>\n       <use xlink:href=\"#DejaVuSans-32\"/>\n       <use x=\"63.623047\" xlink:href=\"#DejaVuSans-30\"/>\n       <use x=\"127.246094\" xlink:href=\"#DejaVuSans-32\"/>\n       <use x=\"190.869141\" xlink:href=\"#DejaVuSans-31\"/>\n      </g>\n     </g>\n    </g>\n    <g id=\"xtick_2\">\n     <g id=\"line2d_2\">\n      <g>\n       <use style=\"stroke:#000000;stroke-width:0.8;\" x=\"157.629012\" xlink:href=\"#m80d04e1c61\" y=\"224.64\"/>\n      </g>\n     </g>\n     <g id=\"text_2\">\n      <!-- Jan -->\n      <g transform=\"translate(149.921199 239.238438)scale(0.1 -0.1)\">\n       <use xlink:href=\"#DejaVuSans-4a\"/>\n       <use x=\"29.492188\" xlink:href=\"#DejaVuSans-61\"/>\n       <use x=\"90.771484\" xlink:href=\"#DejaVuSans-6e\"/>\n      </g>\n      <!-- 2022 -->\n      <g transform=\"translate(144.904012 250.43625)scale(0.1 -0.1)\">\n       <use xlink:href=\"#DejaVuSans-32\"/>\n       <use x=\"63.623047\" xlink:href=\"#DejaVuSans-30\"/>\n       <use x=\"127.246094\" xlink:href=\"#DejaVuSans-32\"/>\n       <use x=\"190.869141\" xlink:href=\"#DejaVuSans-32\"/>\n      </g>\n     </g>\n    </g>\n    <g id=\"xtick_3\">\n     <g id=\"line2d_3\">\n      <g>\n       <use style=\"stroke:#000000;stroke-width:0.8;\" x=\"279.953336\" xlink:href=\"#m80d04e1c61\" y=\"224.64\"/>\n      </g>\n     </g>\n     <g id=\"text_3\">\n      <!-- Jan -->\n      <g transform=\"translate(272.245524 239.238438)scale(0.1 -0.1)\">\n       <use xlink:href=\"#DejaVuSans-4a\"/>\n       <use x=\"29.492188\" xlink:href=\"#DejaVuSans-61\"/>\n       <use x=\"90.771484\" xlink:href=\"#DejaVuSans-6e\"/>\n      </g>\n      <!-- 2023 -->\n      <g transform=\"translate(267.228336 250.43625)scale(0.1 -0.1)\">\n       <defs>\n        <path d=\"M 2597 2516 \nQ 3050 2419 3304 2112 \nQ 3559 1806 3559 1356 \nQ 3559 666 3084 287 \nQ 2609 -91 1734 -91 \nQ 1441 -91 1130 -33 \nQ 819 25 488 141 \nL 488 750 \nQ 750 597 1062 519 \nQ 1375 441 1716 441 \nQ 2309 441 2620 675 \nQ 2931 909 2931 1356 \nQ 2931 1769 2642 2001 \nQ 2353 2234 1838 2234 \nL 1294 2234 \nL 1294 2753 \nL 1863 2753 \nQ 2328 2753 2575 2939 \nQ 2822 3125 2822 3475 \nQ 2822 3834 2567 4026 \nQ 2313 4219 1838 4219 \nQ 1578 4219 1281 4162 \nQ 984 4106 628 3988 \nL 628 4550 \nQ 988 4650 1302 4700 \nQ 1616 4750 1894 4750 \nQ 2613 4750 3031 4423 \nQ 3450 4097 3450 3541 \nQ 3450 3153 3228 2886 \nQ 3006 2619 2597 2516 \nz\n\" id=\"DejaVuSans-33\" transform=\"scale(0.015625)\"/>\n       </defs>\n       <use xlink:href=\"#DejaVuSans-32\"/>\n       <use x=\"63.623047\" xlink:href=\"#DejaVuSans-30\"/>\n       <use x=\"127.246094\" xlink:href=\"#DejaVuSans-32\"/>\n       <use x=\"190.869141\" xlink:href=\"#DejaVuSans-33\"/>\n      </g>\n     </g>\n    </g>\n    <g id=\"xtick_4\">\n     <g id=\"line2d_4\">\n      <g>\n       <use style=\"stroke:#000000;stroke-width:0.8;\" x=\"370.104688\" xlink:href=\"#m80d04e1c61\" y=\"224.64\"/>\n      </g>\n     </g>\n    </g>\n    <g id=\"xtick_5\">\n     <g id=\"line2d_5\">\n      <defs>\n       <path d=\"M 0 0 \nL 0 2 \n\" id=\"m944c0a049f\" style=\"stroke:#000000;stroke-width:0.6;\"/>\n      </defs>\n      <g>\n       <use style=\"stroke:#000000;stroke-width:0.6;\" x=\"45.693877\" xlink:href=\"#m944c0a049f\" y=\"224.64\"/>\n      </g>\n     </g>\n    </g>\n    <g id=\"xtick_6\">\n     <g id=\"line2d_6\">\n      <g>\n       <use style=\"stroke:#000000;stroke-width:0.6;\" x=\"55.07766\" xlink:href=\"#m944c0a049f\" y=\"224.64\"/>\n      </g>\n     </g>\n    </g>\n    <g id=\"xtick_7\">\n     <g id=\"line2d_7\">\n      <g>\n       <use style=\"stroke:#000000;stroke-width:0.6;\" x=\"65.46685\" xlink:href=\"#m944c0a049f\" y=\"224.64\"/>\n      </g>\n     </g>\n    </g>\n    <g id=\"xtick_8\">\n     <g id=\"line2d_8\">\n      <g>\n       <use style=\"stroke:#000000;stroke-width:0.6;\" x=\"75.520904\" xlink:href=\"#m944c0a049f\" y=\"224.64\"/>\n      </g>\n     </g>\n    </g>\n    <g id=\"xtick_9\">\n     <g id=\"line2d_9\">\n      <g>\n       <use style=\"stroke:#000000;stroke-width:0.6;\" x=\"85.910093\" xlink:href=\"#m944c0a049f\" y=\"224.64\"/>\n      </g>\n     </g>\n    </g>\n    <g id=\"xtick_10\">\n     <g id=\"line2d_10\">\n      <g>\n       <use style=\"stroke:#000000;stroke-width:0.6;\" x=\"95.964147\" xlink:href=\"#m944c0a049f\" y=\"224.64\"/>\n      </g>\n     </g>\n     <g id=\"text_4\">\n      <!-- Jul -->\n      <g transform=\"translate(89.931334 237.638438)scale(0.1 -0.1)\">\n       <defs>\n        <path d=\"M 544 1381 \nL 544 3500 \nL 1119 3500 \nL 1119 1403 \nQ 1119 906 1312 657 \nQ 1506 409 1894 409 \nQ 2359 409 2629 706 \nQ 2900 1003 2900 1516 \nL 2900 3500 \nL 3475 3500 \nL 3475 0 \nL 2900 0 \nL 2900 538 \nQ 2691 219 2414 64 \nQ 2138 -91 1772 -91 \nQ 1169 -91 856 284 \nQ 544 659 544 1381 \nz\nM 1991 3584 \nL 1991 3584 \nz\n\" id=\"DejaVuSans-75\" transform=\"scale(0.015625)\"/>\n        <path d=\"M 603 4863 \nL 1178 4863 \nL 1178 0 \nL 603 0 \nL 603 4863 \nz\n\" id=\"DejaVuSans-6c\" transform=\"scale(0.015625)\"/>\n       </defs>\n       <use xlink:href=\"#DejaVuSans-4a\"/>\n       <use x=\"29.492188\" xlink:href=\"#DejaVuSans-75\"/>\n       <use x=\"92.871094\" xlink:href=\"#DejaVuSans-6c\"/>\n      </g>\n     </g>\n    </g>\n    <g id=\"xtick_11\">\n     <g id=\"line2d_11\">\n      <g>\n       <use style=\"stroke:#000000;stroke-width:0.6;\" x=\"106.353336\" xlink:href=\"#m944c0a049f\" y=\"224.64\"/>\n      </g>\n     </g>\n    </g>\n    <g id=\"xtick_12\">\n     <g id=\"line2d_12\">\n      <g>\n       <use style=\"stroke:#000000;stroke-width:0.6;\" x=\"116.742525\" xlink:href=\"#m944c0a049f\" y=\"224.64\"/>\n      </g>\n     </g>\n    </g>\n    <g id=\"xtick_13\">\n     <g id=\"line2d_13\">\n      <g>\n       <use style=\"stroke:#000000;stroke-width:0.6;\" x=\"126.796579\" xlink:href=\"#m944c0a049f\" y=\"224.64\"/>\n      </g>\n     </g>\n    </g>\n    <g id=\"xtick_14\">\n     <g id=\"line2d_14\">\n      <g>\n       <use style=\"stroke:#000000;stroke-width:0.6;\" x=\"137.185769\" xlink:href=\"#m944c0a049f\" y=\"224.64\"/>\n      </g>\n     </g>\n    </g>\n    <g id=\"xtick_15\">\n     <g id=\"line2d_15\">\n      <g>\n       <use style=\"stroke:#000000;stroke-width:0.6;\" x=\"147.239823\" xlink:href=\"#m944c0a049f\" y=\"224.64\"/>\n      </g>\n     </g>\n    </g>\n    <g id=\"xtick_16\">\n     <g id=\"line2d_16\">\n      <g>\n       <use style=\"stroke:#000000;stroke-width:0.6;\" x=\"168.018201\" xlink:href=\"#m944c0a049f\" y=\"224.64\"/>\n      </g>\n     </g>\n    </g>\n    <g id=\"xtick_17\">\n     <g id=\"line2d_17\">\n      <g>\n       <use style=\"stroke:#000000;stroke-width:0.6;\" x=\"177.401985\" xlink:href=\"#m944c0a049f\" y=\"224.64\"/>\n      </g>\n     </g>\n    </g>\n    <g id=\"xtick_18\">\n     <g id=\"line2d_18\">\n      <g>\n       <use style=\"stroke:#000000;stroke-width:0.6;\" x=\"187.791174\" xlink:href=\"#m944c0a049f\" y=\"224.64\"/>\n      </g>\n     </g>\n    </g>\n    <g id=\"xtick_19\">\n     <g id=\"line2d_19\">\n      <g>\n       <use style=\"stroke:#000000;stroke-width:0.6;\" x=\"197.845228\" xlink:href=\"#m944c0a049f\" y=\"224.64\"/>\n      </g>\n     </g>\n    </g>\n    <g id=\"xtick_20\">\n     <g id=\"line2d_20\">\n      <g>\n       <use style=\"stroke:#000000;stroke-width:0.6;\" x=\"208.234417\" xlink:href=\"#m944c0a049f\" y=\"224.64\"/>\n      </g>\n     </g>\n    </g>\n    <g id=\"xtick_21\">\n     <g id=\"line2d_21\">\n      <g>\n       <use style=\"stroke:#000000;stroke-width:0.6;\" x=\"218.288471\" xlink:href=\"#m944c0a049f\" y=\"224.64\"/>\n      </g>\n     </g>\n     <g id=\"text_5\">\n      <!-- Jul -->\n      <g transform=\"translate(212.255659 237.638438)scale(0.1 -0.1)\">\n       <use xlink:href=\"#DejaVuSans-4a\"/>\n       <use x=\"29.492188\" xlink:href=\"#DejaVuSans-75\"/>\n       <use x=\"92.871094\" xlink:href=\"#DejaVuSans-6c\"/>\n      </g>\n     </g>\n    </g>\n    <g id=\"xtick_22\">\n     <g id=\"line2d_22\">\n      <g>\n       <use style=\"stroke:#000000;stroke-width:0.6;\" x=\"228.67766\" xlink:href=\"#m944c0a049f\" y=\"224.64\"/>\n      </g>\n     </g>\n    </g>\n    <g id=\"xtick_23\">\n     <g id=\"line2d_23\">\n      <g>\n       <use style=\"stroke:#000000;stroke-width:0.6;\" x=\"239.06685\" xlink:href=\"#m944c0a049f\" y=\"224.64\"/>\n      </g>\n     </g>\n    </g>\n    <g id=\"xtick_24\">\n     <g id=\"line2d_24\">\n      <g>\n       <use style=\"stroke:#000000;stroke-width:0.6;\" x=\"249.120904\" xlink:href=\"#m944c0a049f\" y=\"224.64\"/>\n      </g>\n     </g>\n    </g>\n    <g id=\"xtick_25\">\n     <g id=\"line2d_25\">\n      <g>\n       <use style=\"stroke:#000000;stroke-width:0.6;\" x=\"259.510093\" xlink:href=\"#m944c0a049f\" y=\"224.64\"/>\n      </g>\n     </g>\n    </g>\n    <g id=\"xtick_26\">\n     <g id=\"line2d_26\">\n      <g>\n       <use style=\"stroke:#000000;stroke-width:0.6;\" x=\"269.564147\" xlink:href=\"#m944c0a049f\" y=\"224.64\"/>\n      </g>\n     </g>\n    </g>\n    <g id=\"xtick_27\">\n     <g id=\"line2d_27\">\n      <g>\n       <use style=\"stroke:#000000;stroke-width:0.6;\" x=\"290.342525\" xlink:href=\"#m944c0a049f\" y=\"224.64\"/>\n      </g>\n     </g>\n    </g>\n    <g id=\"xtick_28\">\n     <g id=\"line2d_28\">\n      <g>\n       <use style=\"stroke:#000000;stroke-width:0.6;\" x=\"299.726309\" xlink:href=\"#m944c0a049f\" y=\"224.64\"/>\n      </g>\n     </g>\n    </g>\n    <g id=\"xtick_29\">\n     <g id=\"line2d_29\">\n      <g>\n       <use style=\"stroke:#000000;stroke-width:0.6;\" x=\"310.115498\" xlink:href=\"#m944c0a049f\" y=\"224.64\"/>\n      </g>\n     </g>\n    </g>\n    <g id=\"xtick_30\">\n     <g id=\"line2d_30\">\n      <g>\n       <use style=\"stroke:#000000;stroke-width:0.6;\" x=\"320.169552\" xlink:href=\"#m944c0a049f\" y=\"224.64\"/>\n      </g>\n     </g>\n    </g>\n    <g id=\"xtick_31\">\n     <g id=\"line2d_31\">\n      <g>\n       <use style=\"stroke:#000000;stroke-width:0.6;\" x=\"330.558742\" xlink:href=\"#m944c0a049f\" y=\"224.64\"/>\n      </g>\n     </g>\n    </g>\n    <g id=\"xtick_32\">\n     <g id=\"line2d_32\">\n      <g>\n       <use style=\"stroke:#000000;stroke-width:0.6;\" x=\"340.612796\" xlink:href=\"#m944c0a049f\" y=\"224.64\"/>\n      </g>\n     </g>\n     <g id=\"text_6\">\n      <!-- Jul -->\n      <g transform=\"translate(334.579983 237.638438)scale(0.1 -0.1)\">\n       <use xlink:href=\"#DejaVuSans-4a\"/>\n       <use x=\"29.492188\" xlink:href=\"#DejaVuSans-75\"/>\n       <use x=\"92.871094\" xlink:href=\"#DejaVuSans-6c\"/>\n      </g>\n     </g>\n    </g>\n    <g id=\"xtick_33\">\n     <g id=\"line2d_33\">\n      <g>\n       <use style=\"stroke:#000000;stroke-width:0.6;\" x=\"351.001985\" xlink:href=\"#m944c0a049f\" y=\"224.64\"/>\n      </g>\n     </g>\n    </g>\n    <g id=\"xtick_34\">\n     <g id=\"line2d_34\">\n      <g>\n       <use style=\"stroke:#000000;stroke-width:0.6;\" x=\"361.391174\" xlink:href=\"#m944c0a049f\" y=\"224.64\"/>\n      </g>\n     </g>\n    </g>\n   </g>\n   <g id=\"matplotlib.axis_2\">\n    <g id=\"ytick_1\">\n     <g id=\"line2d_35\">\n      <defs>\n       <path d=\"M 0 0 \nL -3.5 0 \n\" id=\"m764e192e98\" style=\"stroke:#000000;stroke-width:0.8;\"/>\n      </defs>\n      <g>\n       <use style=\"stroke:#000000;stroke-width:0.8;\" x=\"35.304688\" xlink:href=\"#m764e192e98\" y=\"190.296751\"/>\n      </g>\n     </g>\n     <g id=\"text_7\">\n      <!-- −10 -->\n      <g transform=\"translate(7.2 194.09597)scale(0.1 -0.1)\">\n       <defs>\n        <path d=\"M 678 2272 \nL 4684 2272 \nL 4684 1741 \nL 678 1741 \nL 678 2272 \nz\n\" id=\"DejaVuSans-2212\" transform=\"scale(0.015625)\"/>\n       </defs>\n       <use xlink:href=\"#DejaVuSans-2212\"/>\n       <use x=\"83.789062\" xlink:href=\"#DejaVuSans-31\"/>\n       <use x=\"147.412109\" xlink:href=\"#DejaVuSans-30\"/>\n      </g>\n     </g>\n    </g>\n    <g id=\"ytick_2\">\n     <g id=\"line2d_36\">\n      <g>\n       <use style=\"stroke:#000000;stroke-width:0.8;\" x=\"35.304688\" xlink:href=\"#m764e192e98\" y=\"153.100412\"/>\n      </g>\n     </g>\n     <g id=\"text_8\">\n      <!-- −5 -->\n      <g transform=\"translate(13.5625 156.899631)scale(0.1 -0.1)\">\n       <defs>\n        <path d=\"M 691 4666 \nL 3169 4666 \nL 3169 4134 \nL 1269 4134 \nL 1269 2991 \nQ 1406 3038 1543 3061 \nQ 1681 3084 1819 3084 \nQ 2600 3084 3056 2656 \nQ 3513 2228 3513 1497 \nQ 3513 744 3044 326 \nQ 2575 -91 1722 -91 \nQ 1428 -91 1123 -41 \nQ 819 9 494 109 \nL 494 744 \nQ 775 591 1075 516 \nQ 1375 441 1709 441 \nQ 2250 441 2565 725 \nQ 2881 1009 2881 1497 \nQ 2881 1984 2565 2268 \nQ 2250 2553 1709 2553 \nQ 1456 2553 1204 2497 \nQ 953 2441 691 2322 \nL 691 4666 \nz\n\" id=\"DejaVuSans-35\" transform=\"scale(0.015625)\"/>\n       </defs>\n       <use xlink:href=\"#DejaVuSans-2212\"/>\n       <use x=\"83.789062\" xlink:href=\"#DejaVuSans-35\"/>\n      </g>\n     </g>\n    </g>\n    <g id=\"ytick_3\">\n     <g id=\"line2d_37\">\n      <g>\n       <use style=\"stroke:#000000;stroke-width:0.8;\" x=\"35.304688\" xlink:href=\"#m764e192e98\" y=\"115.904072\"/>\n      </g>\n     </g>\n     <g id=\"text_9\">\n      <!-- 0 -->\n      <g transform=\"translate(21.942188 119.703291)scale(0.1 -0.1)\">\n       <use xlink:href=\"#DejaVuSans-30\"/>\n      </g>\n     </g>\n    </g>\n    <g id=\"ytick_4\">\n     <g id=\"line2d_38\">\n      <g>\n       <use style=\"stroke:#000000;stroke-width:0.8;\" x=\"35.304688\" xlink:href=\"#m764e192e98\" y=\"78.707733\"/>\n      </g>\n     </g>\n     <g id=\"text_10\">\n      <!-- 5 -->\n      <g transform=\"translate(21.942188 82.506951)scale(0.1 -0.1)\">\n       <use xlink:href=\"#DejaVuSans-35\"/>\n      </g>\n     </g>\n    </g>\n    <g id=\"ytick_5\">\n     <g id=\"line2d_39\">\n      <g>\n       <use style=\"stroke:#000000;stroke-width:0.8;\" x=\"35.304688\" xlink:href=\"#m764e192e98\" y=\"41.511393\"/>\n      </g>\n     </g>\n     <g id=\"text_11\">\n      <!-- 10 -->\n      <g transform=\"translate(15.579688 45.310612)scale(0.1 -0.1)\">\n       <use xlink:href=\"#DejaVuSans-31\"/>\n       <use x=\"63.623047\" xlink:href=\"#DejaVuSans-30\"/>\n      </g>\n     </g>\n    </g>\n   </g>\n   <g id=\"line2d_40\">\n    <path clip-path=\"url(#p43b8b302b7)\" d=\"M 35.304688 102.01296 \nL 35.639823 86.977075 \nL 35.974958 87.281349 \nL 36.310093 93.1192 \nL 36.645228 93.856579 \nL 36.980363 110.221042 \nL 37.315498 102.298976 \nL 38.320904 117.412462 \nL 38.991174 114.165818 \nL 39.326309 120.124909 \nL 39.661444 128.702377 \nL 39.996579 144.299301 \nL 40.331715 141.435449 \nL 40.66685 125.868443 \nL 41.001985 123.594319 \nL 41.33712 117.967084 \nL 41.672255 108.696125 \nL 42.342525 119.281896 \nL 42.67766 109.805424 \nL 43.012796 116.807238 \nL 43.347931 118.847912 \nL 43.683066 139.333915 \nL 44.018201 128.324557 \nL 44.353336 136.529782 \nL 44.688471 119.304353 \nL 45.023606 120.100213 \nL 45.358742 113.939515 \nL 45.693877 122.218327 \nL 46.029012 120.197728 \nL 46.364147 134.670216 \nL 46.699282 135.129109 \nL 47.034417 138.67496 \nL 47.369552 139.508543 \nL 47.704687 137.252038 \nL 48.039823 142.514087 \nL 48.374958 145.968286 \nL 48.710093 150.906228 \nL 49.045228 141.899024 \nL 49.380363 138.377841 \nL 49.715498 132.543664 \nL 50.050633 123.232441 \nL 50.385769 127.050628 \nL 50.720904 124.820184 \nL 51.056039 128.098737 \nL 51.391174 143.326908 \nL 51.726309 130.205595 \nL 52.061444 130.23109 \nL 53.06685 107.667784 \nL 53.401985 101.045096 \nL 53.73712 104.566442 \nL 54.072255 110.867317 \nL 54.40739 107.327643 \nL 55.07766 88.3921 \nL 55.747931 78.403675 \nL 56.083066 82.283332 \nL 56.418201 81.857384 \nL 56.753336 88.228667 \nL 57.088471 82.946031 \nL 57.423606 88.285018 \nL 57.758742 86.142615 \nL 58.093877 81.762009 \nL 58.429012 82.380197 \nL 58.764147 78.050004 \nL 59.099282 61.788034 \nL 59.434417 75.878578 \nL 59.769552 67.431179 \nL 60.104688 66.010773 \nL 60.439823 63.610042 \nL 60.774958 63.72482 \nL 61.110093 57.775942 \nL 61.445228 61.332756 \nL 61.780363 69.182228 \nL 62.450633 62.704159 \nL 62.785769 69.00258 \nL 63.120904 80.471111 \nL 63.456039 78.674607 \nL 63.791174 81.578631 \nL 64.126309 86.374056 \nL 64.461444 81.174454 \nL 64.796579 85.460373 \nL 65.131715 92.522321 \nL 65.46685 103.450853 \nL 65.801985 102.189795 \nL 66.13712 99.124674 \nL 66.472255 93.488081 \nL 66.80739 96.904316 \nL 67.142525 84.645789 \nL 67.47766 89.920063 \nL 67.812796 99.217282 \nL 68.147931 93.299256 \nL 68.818201 77.287427 \nL 69.153336 74.673123 \nL 69.488471 67.193147 \nL 70.158742 75.632879 \nL 70.493877 60.165479 \nL 70.829012 74.847997 \nL 71.164147 76.311921 \nL 71.834417 61.026241 \nL 72.169552 62.710409 \nL 72.504687 61.053208 \nL 72.839823 66.959574 \nL 73.174958 69.352918 \nL 73.510093 75.830971 \nL 73.845228 69.711509 \nL 74.515498 95.984747 \nL 74.850633 90.975877 \nL 75.185769 102.281049 \nL 75.520904 94.751989 \nL 75.856039 91.961923 \nL 76.191174 95.912099 \nL 76.861444 85.254024 \nL 77.531715 96.135903 \nL 77.86685 89.011189 \nL 78.201985 93.745218 \nL 78.53712 102.26985 \nL 78.872255 101.868391 \nL 79.20739 92.924924 \nL 79.542525 90.511753 \nL 79.87766 99.754955 \nL 80.212796 93.423315 \nL 80.547931 97.084526 \nL 80.883066 98.572605 \nL 81.218201 103.09211 \nL 81.553336 100.621936 \nL 81.888471 93.054687 \nL 82.223606 92.125249 \nL 82.558742 79.155711 \nL 82.893877 88.133298 \nL 83.564147 72.570322 \nL 83.899282 65.385399 \nL 84.234417 67.714398 \nL 84.569552 74.910324 \nL 84.904687 87.770706 \nL 85.239823 81.468969 \nL 85.574958 77.855967 \nL 85.910093 76.009388 \nL 86.580363 63.260159 \nL 86.915498 65.815404 \nL 87.250633 58.504139 \nL 87.585769 59.243155 \nL 87.920904 56.351048 \nL 88.256039 38.434385 \nL 88.591174 41.480443 \nL 88.926309 36.503907 \nL 89.261444 51.472461 \nL 89.596579 45.818763 \nL 89.931715 43.174851 \nL 90.26685 38.768521 \nL 90.601985 50.073625 \nL 91.272255 60.342845 \nL 91.60739 71.553796 \nL 91.942525 57.036274 \nL 92.27766 51.624912 \nL 92.612796 54.692676 \nL 92.947931 50.067845 \nL 93.283066 58.840973 \nL 93.618201 58.78651 \nL 93.953336 51.321891 \nL 94.288471 50.430834 \nL 94.623606 55.64858 \nL 94.958742 48.989427 \nL 95.293877 56.558414 \nL 95.629012 70.401597 \nL 95.964147 75.608723 \nL 96.299282 75.109178 \nL 96.634417 58.806833 \nL 96.969552 54.134517 \nL 97.304688 46.905978 \nL 97.639823 42.349056 \nL 97.974958 42.781208 \nL 98.645228 30.825649 \nL 98.980363 37.959517 \nL 99.315498 37.807586 \nL 99.650633 40.479499 \nL 99.985769 39.795869 \nL 100.320904 39.365429 \nL 100.656039 43.835474 \nL 100.991174 49.98704 \nL 101.326309 37.788096 \nL 101.661444 45.366626 \nL 101.996579 42.536833 \nL 102.331715 47.792261 \nL 102.66685 38.370586 \nL 103.001985 46.889455 \nL 103.33712 40.855991 \nL 103.672255 37.520111 \nL 104.00739 32.651013 \nL 104.342525 17.083636 \nL 104.67766 20.964782 \nL 105.347931 36.118134 \nL 105.683066 32.100876 \nL 106.018201 23.159995 \nL 106.353336 19.238323 \nL 106.688471 25.708828 \nL 107.023606 25.218883 \nL 107.693877 47.493733 \nL 108.029012 48.269684 \nL 108.364147 46.176049 \nL 108.699282 65.299458 \nL 109.034417 63.02462 \nL 109.369552 71.135907 \nL 109.704687 69.538966 \nL 110.039823 72.081957 \nL 110.374958 67.491402 \nL 110.710093 76.669486 \nL 111.380363 55.075253 \nL 111.715498 54.808259 \nL 112.050633 58.337889 \nL 112.385769 66.565561 \nL 112.720904 71.168498 \nL 113.056039 59.40504 \nL 113.391174 65.592395 \nL 113.726309 67.4073 \nL 114.061444 77.373657 \nL 114.396579 77.077884 \nL 114.731715 90.152476 \nL 115.06685 90.39244 \nL 115.401985 87.830221 \nL 115.73712 98.77757 \nL 116.072255 84.045258 \nL 116.40739 80.536578 \nL 116.742525 72.599387 \nL 117.07766 75.388896 \nL 117.412796 92.147992 \nL 118.083066 73.146923 \nL 118.418201 74.47389 \nL 118.753336 70.296028 \nL 119.088471 75.113264 \nL 119.423606 69.133611 \nL 119.758742 56.844392 \nL 120.093877 56.160437 \nL 120.429012 73.691378 \nL 120.764147 67.660776 \nL 121.099282 71.520428 \nL 121.434417 61.229514 \nL 121.769552 62.302039 \nL 122.104688 55.608744 \nL 122.439823 72.725103 \nL 122.774958 70.119353 \nL 123.110093 62.978082 \nL 123.445228 67.071721 \nL 123.780363 67.722545 \nL 124.115498 75.500306 \nL 124.450633 68.33672 \nL 124.785769 70.245305 \nL 125.120904 67.36806 \nL 125.791174 71.340225 \nL 126.126309 78.02539 \nL 126.461444 79.294232 \nL 126.796579 84.527427 \nL 127.131715 75.329637 \nL 127.46685 72.173049 \nL 127.801985 79.721749 \nL 128.13712 75.357809 \nL 128.472255 79.958339 \nL 129.142525 56.474541 \nL 129.47766 54.765436 \nL 129.812796 58.024978 \nL 130.147931 59.098926 \nL 130.483066 67.692694 \nL 130.818201 62.890239 \nL 131.153336 69.322908 \nL 131.488471 72.781178 \nL 131.823606 71.411842 \nL 132.158742 66.594524 \nL 132.493877 73.989137 \nL 132.829012 71.04891 \nL 133.164147 66.561907 \nL 133.499282 69.306411 \nL 133.834417 56.921456 \nL 134.169552 50.855551 \nL 134.504687 48.921907 \nL 134.839823 51.930924 \nL 135.174958 74.437181 \nL 135.510093 73.121465 \nL 135.845228 67.177433 \nL 136.180363 80.907767 \nL 136.515498 72.963949 \nL 137.185769 78.849918 \nL 137.520904 79.244101 \nL 137.856039 67.324053 \nL 138.191174 66.195969 \nL 138.526309 64.329834 \nL 138.861444 70.627663 \nL 139.196579 64.255055 \nL 139.531715 74.505299 \nL 139.86685 70.297653 \nL 140.201985 74.893053 \nL 140.53712 64.523037 \nL 140.872255 69.782197 \nL 141.20739 65.88391 \nL 141.542525 59.836129 \nL 141.87766 66.829175 \nL 142.212796 66.63917 \nL 142.547931 65.459575 \nL 142.883066 72.572176 \nL 143.218201 65.803529 \nL 143.553336 48.282373 \nL 143.888471 54.867587 \nL 144.223606 53.958497 \nL 144.558742 52.35897 \nL 144.893877 53.215786 \nL 145.229012 54.874338 \nL 145.564147 54.055519 \nL 145.899282 55.852665 \nL 146.234417 72.4321 \nL 146.569552 81.867047 \nL 146.904687 69.90117 \nL 147.574958 82.702618 \nL 147.910093 81.933184 \nL 148.245228 69.454499 \nL 148.580363 80.076137 \nL 148.915498 76.900228 \nL 149.250633 77.969119 \nL 149.585769 74.909803 \nL 149.920904 59.746535 \nL 150.256039 57.685284 \nL 150.591174 65.476107 \nL 150.926309 66.092955 \nL 151.261444 63.451288 \nL 151.596579 65.666929 \nL 151.931715 65.79626 \nL 152.26685 62.847976 \nL 152.601985 65.567913 \nL 152.93712 64.001423 \nL 153.272255 80.112237 \nL 153.60739 83.811088 \nL 153.942525 64.594296 \nL 154.27766 71.525306 \nL 154.947931 88.440471 \nL 155.283066 95.96879 \nL 155.618201 92.082043 \nL 155.953336 100.179527 \nL 156.288471 99.160745 \nL 156.623606 93.241639 \nL 156.958742 95.480653 \nL 157.293877 91.887487 \nL 157.629012 96.664496 \nL 157.964147 103.717412 \nL 158.299282 104.388747 \nL 158.634417 101.662119 \nL 159.304688 92.814324 \nL 159.639823 102.538857 \nL 159.974958 92.402583 \nL 160.310093 89.112007 \nL 160.645228 91.158116 \nL 160.980363 97.526671 \nL 161.315498 91.729856 \nL 161.650633 83.818774 \nL 161.985769 95.340378 \nL 162.320904 86.609579 \nL 162.656039 95.344727 \nL 162.991174 93.941862 \nL 163.326309 94.71527 \nL 163.661444 98.941415 \nL 163.996579 87.767359 \nL 164.331715 88.206186 \nL 164.66685 84.802593 \nL 165.001985 92.002035 \nL 165.33712 94.740025 \nL 165.672255 106.922516 \nL 166.00739 107.712763 \nL 166.342525 111.403685 \nL 166.67766 110.203514 \nL 167.012796 103.224695 \nL 167.683066 107.964831 \nL 168.018201 100.930637 \nL 168.353336 96.327537 \nL 168.688471 83.057241 \nL 169.023606 88.181587 \nL 169.358742 81.880611 \nL 169.693877 79.729533 \nL 170.029012 70.15957 \nL 170.699282 85.551256 \nL 171.034417 87.135277 \nL 171.704687 75.65281 \nL 172.039823 74.499653 \nL 172.374958 79.976406 \nL 172.710093 83.60519 \nL 173.045228 78.122791 \nL 173.380363 91.987382 \nL 173.715498 93.440966 \nL 174.385769 121.289337 \nL 174.720904 124.419243 \nL 175.056039 119.25434 \nL 175.391174 117.246869 \nL 175.726309 108.66725 \nL 176.061444 111.080475 \nL 176.396579 120.286387 \nL 176.731715 123.872859 \nL 177.06685 121.326939 \nL 177.401985 122.456696 \nL 177.73712 126.273125 \nL 178.072255 123.692535 \nL 178.40739 123.039282 \nL 178.742525 120.622696 \nL 179.07766 128.615328 \nL 179.412796 129.880048 \nL 179.747931 125.355429 \nL 180.083066 127.052902 \nL 180.418201 136.31403 \nL 180.753336 140.62241 \nL 181.423606 139.184394 \nL 181.758742 142.560516 \nL 182.093877 126.820991 \nL 182.429012 131.214843 \nL 182.764147 140.390585 \nL 183.099282 134.133705 \nL 183.434417 134.293322 \nL 183.769552 131.804337 \nL 184.439823 115.659694 \nL 184.774958 107.558851 \nL 185.110093 110.985088 \nL 185.445228 105.122341 \nL 185.780363 126.612959 \nL 186.115498 122.124203 \nL 186.450633 124.169897 \nL 186.785769 130.919716 \nL 187.120904 132.256064 \nL 187.456039 126.184643 \nL 187.791174 126.169039 \nL 188.126309 114.501245 \nL 188.461444 118.772243 \nL 188.796579 117.750525 \nL 189.131715 118.465885 \nL 189.801985 137.443148 \nL 190.13712 141.87704 \nL 190.472255 157.980112 \nL 190.80739 158.299214 \nL 191.142525 163.475192 \nL 191.47766 174.765381 \nL 191.812796 173.386785 \nL 192.147931 172.478754 \nL 192.483066 181.334363 \nL 192.818201 179.361558 \nL 193.153336 182.812286 \nL 193.488471 187.562208 \nL 193.823606 178.989327 \nL 194.158742 179.833142 \nL 194.829012 175.79459 \nL 195.499282 180.71035 \nL 195.834417 167.131551 \nL 196.504687 187.601065 \nL 197.174958 191.955815 \nL 197.510093 198.271693 \nL 197.845228 191.58652 \nL 198.180363 190.597436 \nL 198.515498 197.717302 \nL 198.850633 196.375711 \nL 199.185769 209.182774 \nL 199.520904 210.824542 \nL 200.191174 186.998729 \nL 200.526309 185.644535 \nL 200.861444 181.545727 \nL 201.196579 203.77074 \nL 201.531715 206.062265 \nL 201.86685 199.46854 \nL 202.201985 200.21773 \nL 202.53712 212.860433 \nL 202.872255 214.756364 \nL 203.542525 168.978836 \nL 204.212796 161.035896 \nL 204.547931 146.78172 \nL 205.553336 119.033715 \nL 205.888471 123.140157 \nL 206.223606 123.615665 \nL 206.558742 118.9182 \nL 206.893877 121.611905 \nL 207.229012 119.815656 \nL 207.564147 126.566307 \nL 207.899282 130.486309 \nL 208.234417 135.889215 \nL 208.569552 135.40603 \nL 209.239823 152.079235 \nL 209.574958 142.411683 \nL 209.910093 144.117355 \nL 210.245228 133.391655 \nL 210.580363 139.472 \nL 210.915498 134.533884 \nL 211.250633 140.913217 \nL 211.585769 132.667974 \nL 212.256039 123.160747 \nL 212.591174 131.180019 \nL 212.926309 128.189314 \nL 213.261444 137.539995 \nL 213.596579 138.492902 \nL 213.931715 147.330401 \nL 214.26685 147.246533 \nL 214.601985 141.321902 \nL 214.93712 142.474572 \nL 215.272255 158.123824 \nL 215.60739 145.930627 \nL 215.942525 142.651004 \nL 216.612796 158.560145 \nL 216.947931 151.95997 \nL 217.283066 162.391934 \nL 217.618201 160.670281 \nL 218.288471 165.93606 \nL 218.623606 166.107742 \nL 218.958742 168.37089 \nL 219.293877 156.707864 \nL 219.629012 162.349052 \nL 219.964147 156.406514 \nL 220.299282 147.28428 \nL 220.634417 148.326231 \nL 220.969552 156.292273 \nL 221.304688 155.634963 \nL 221.639823 152.086537 \nL 221.974958 158.137198 \nL 222.310093 170.828056 \nL 222.980363 159.673582 \nL 223.315498 145.682502 \nL 223.650633 145.932644 \nL 223.985769 143.012773 \nL 224.320904 145.247562 \nL 224.656039 153.851824 \nL 224.991174 140.398695 \nL 225.326309 132.724379 \nL 225.661444 141.146265 \nL 225.996579 142.393168 \nL 226.66685 156.318469 \nL 227.001985 151.503307 \nL 227.672255 171.137246 \nL 228.00739 171.303209 \nL 228.342525 152.134874 \nL 228.67766 145.143523 \nL 229.012796 154.570076 \nL 230.018201 142.444858 \nL 230.353336 144.099421 \nL 230.688471 135.327525 \nL 231.023606 146.802401 \nL 231.693877 145.739819 \nL 232.029012 148.720138 \nL 232.364147 159.069865 \nL 232.699282 138.591244 \nL 233.034417 138.962286 \nL 233.369552 140.67567 \nL 233.704687 143.576624 \nL 234.039823 140.013691 \nL 234.374958 127.220364 \nL 234.710093 131.575908 \nL 235.045228 124.04205 \nL 235.380363 129.420012 \nL 235.715498 140.702577 \nL 236.050633 129.13212 \nL 236.385769 131.545391 \nL 236.720904 135.003599 \nL 237.056039 124.718063 \nL 237.391174 127.390588 \nL 237.726309 124.347292 \nL 238.061444 142.637812 \nL 238.396579 143.356753 \nL 238.731715 138.688233 \nL 239.06685 119.371169 \nL 239.401985 133.270699 \nL 239.73712 138.652526 \nL 240.072255 141.03925 \nL 240.40739 135.351928 \nL 240.742525 137.262272 \nL 241.412796 121.910077 \nL 241.747931 120.721994 \nL 242.083066 127.394031 \nL 242.418201 123.585342 \nL 242.753336 126.497324 \nL 243.088471 118.090694 \nL 243.423606 117.889578 \nL 243.758742 119.614455 \nL 244.093877 124.7096 \nL 244.429012 121.120962 \nL 244.764147 115.66599 \nL 245.099282 118.896951 \nL 245.434417 126.324131 \nL 245.769552 115.519404 \nL 246.104688 111.871409 \nL 246.439823 94.471816 \nL 246.774958 98.533862 \nL 247.110093 97.204562 \nL 247.445228 98.779337 \nL 247.780363 95.604253 \nL 248.115498 102.979881 \nL 248.785769 110.828447 \nL 249.456039 90.502123 \nL 249.791174 83.361782 \nL 250.126309 86.840707 \nL 250.461444 96.369183 \nL 250.796579 95.076722 \nL 251.131715 110.469079 \nL 251.46685 107.249743 \nL 251.801985 100.344095 \nL 252.13712 99.257439 \nL 252.472255 111.981773 \nL 252.80739 117.178803 \nL 253.142525 130.959912 \nL 253.47766 132.326321 \nL 253.812796 123.893891 \nL 254.147931 127.078953 \nL 254.483066 128.76498 \nL 254.818201 129.410474 \nL 255.153336 136.718575 \nL 255.488471 127.377833 \nL 256.158742 140.707562 \nL 256.493877 137.848146 \nL 256.829012 140.140075 \nL 257.164147 144.027348 \nL 257.499282 145.082021 \nL 257.834417 148.100339 \nL 258.169552 145.170534 \nL 258.504687 145.882722 \nL 258.839823 144.359189 \nL 259.174958 135.646183 \nL 259.510093 130.084661 \nL 259.845228 143.375772 \nL 260.180363 137.513618 \nL 260.850633 145.783241 \nL 261.520904 132.762534 \nL 261.856039 138.578392 \nL 262.191174 135.156153 \nL 262.526309 126.68146 \nL 262.861444 124.905337 \nL 263.196579 133.587858 \nL 263.531715 130.656165 \nL 263.86685 131.080334 \nL 264.201985 120.957375 \nL 264.53712 132.116124 \nL 264.872255 129.95968 \nL 265.20739 129.296611 \nL 265.542525 126.369552 \nL 265.87766 121.675434 \nL 266.212796 106.829581 \nL 266.547931 119.019824 \nL 266.883066 103.449096 \nL 267.218201 112.501049 \nL 267.553336 127.137499 \nL 267.888471 132.951764 \nL 268.223606 131.920152 \nL 268.558742 127.46114 \nL 268.893877 132.074826 \nL 269.229012 131.123923 \nL 269.899282 117.161405 \nL 270.234417 121.161132 \nL 270.569552 131.871037 \nL 270.904687 123.158086 \nL 271.239823 122.04922 \nL 271.910093 115.52352 \nL 272.245228 105.225564 \nL 272.580363 102.462073 \nL 272.915498 106.748303 \nL 273.250633 104.438614 \nL 273.585769 118.602765 \nL 273.920904 120.665601 \nL 274.256039 130.766258 \nL 274.591174 128.496924 \nL 274.926309 132.942334 \nL 275.261444 143.713629 \nL 275.596579 135.374971 \nL 275.931715 136.645487 \nL 276.26685 143.128346 \nL 276.601985 142.067796 \nL 276.93712 138.680276 \nL 277.272255 140.017926 \nL 277.60739 134.952672 \nL 277.942525 136.595379 \nL 278.612796 145.184524 \nL 279.953336 119.971856 \nL 280.288471 118.287488 \nL 280.623606 126.293383 \nL 280.958742 123.658248 \nL 281.293877 114.297887 \nL 281.629012 120.658494 \nL 281.964147 111.251487 \nL 282.299282 122.156101 \nL 282.634417 119.972069 \nL 282.969552 123.938618 \nL 283.304688 131.53022 \nL 283.639823 144.994348 \nL 283.974958 141.701072 \nL 284.310093 149.384128 \nL 284.645228 129.048009 \nL 284.980363 132.589695 \nL 285.315498 129.68296 \nL 285.650633 132.420368 \nL 285.985769 145.470152 \nL 286.320904 145.647002 \nL 286.991174 140.662864 \nL 287.326309 143.154684 \nL 287.661444 144.751854 \nL 287.996579 149.883246 \nL 288.331715 160.169449 \nL 288.66685 163.07388 \nL 289.001985 168.737647 \nL 290.00739 146.022217 \nL 290.342525 134.858659 \nL 290.67766 132.917925 \nL 291.012796 138.085759 \nL 291.347931 148.055247 \nL 291.683066 137.616554 \nL 292.018201 149.099391 \nL 292.353336 150.140926 \nL 292.688471 144.505756 \nL 293.358742 158.623496 \nL 293.693877 168.246059 \nL 294.029012 172.274977 \nL 294.364147 179.454455 \nL 294.699282 189.183233 \nL 295.034417 169.648323 \nL 295.704687 173.373616 \nL 296.039823 175.439373 \nL 296.374958 169.770796 \nL 296.710093 177.29667 \nL 297.045228 190.417481 \nL 297.380363 186.273307 \nL 297.715498 188.272129 \nL 298.050633 186.00327 \nL 298.385769 185.983456 \nL 298.720904 182.074627 \nL 299.056039 186.19538 \nL 299.391174 178.636927 \nL 299.726309 185.34126 \nL 300.061444 180.983859 \nL 300.396579 163.136235 \nL 300.731715 169.146891 \nL 301.06685 165.311404 \nL 301.401985 164.791197 \nL 301.73712 177.012908 \nL 302.072255 163.905633 \nL 302.40739 177.464615 \nL 302.742525 177.950874 \nL 303.07766 177.804351 \nL 303.412796 178.551168 \nL 304.083066 167.024885 \nL 304.418201 165.065303 \nL 304.753336 171.867824 \nL 305.088471 172.659119 \nL 305.423606 177.890486 \nL 305.758742 176.325255 \nL 306.093877 193.281066 \nL 306.429012 195.963544 \nL 306.764147 191.143189 \nL 307.099282 194.81199 \nL 307.434417 190.420641 \nL 308.104688 177.593711 \nL 308.439823 164.057018 \nL 309.445228 148.978904 \nL 309.780363 151.836356 \nL 310.115498 139.812245 \nL 310.450633 143.003633 \nL 310.785769 140.184528 \nL 311.120904 143.916497 \nL 311.456039 151.663583 \nL 311.791174 144.02484 \nL 312.126309 142.699664 \nL 312.461444 145.23763 \nL 312.796579 155.468725 \nL 313.131715 153.984299 \nL 313.46685 153.832674 \nL 313.801985 146.015574 \nL 314.13712 148.31807 \nL 314.472255 146.105475 \nL 314.80739 148.203187 \nL 315.142525 134.071614 \nL 315.812796 121.496818 \nL 316.147931 133.213435 \nL 316.483066 123.45285 \nL 316.818201 129.245259 \nL 317.153336 122.291063 \nL 317.488471 106.433161 \nL 317.823606 107.094248 \nL 318.158742 98.216529 \nL 318.493877 96.207754 \nL 318.829012 88.137305 \nL 319.164147 92.892948 \nL 319.499282 99.869386 \nL 319.834417 89.211238 \nL 320.169552 94.912167 \nL 320.839823 90.513289 \nL 321.174958 86.531462 \nL 321.510093 74.968564 \nL 321.845228 68.728181 \nL 322.180363 66.797053 \nL 322.515498 72.977829 \nL 322.850633 73.594865 \nL 323.185769 65.123547 \nL 323.520904 66.786852 \nL 323.856039 66.796749 \nL 324.191174 63.836704 \nL 324.861444 80.383972 \nL 325.196579 79.885914 \nL 325.531715 82.92179 \nL 325.86685 97.090733 \nL 326.201985 103.627419 \nL 326.53712 122.147013 \nL 327.20739 128.872798 \nL 327.542525 133.262799 \nL 327.87766 142.381028 \nL 328.212796 133.639834 \nL 328.547931 133.818206 \nL 329.218201 123.164005 \nL 329.553336 133.589088 \nL 329.888471 127.096696 \nL 330.223606 126.259428 \nL 330.558742 130.149036 \nL 330.893877 130.787642 \nL 331.229012 141.973134 \nL 331.564147 148.554636 \nL 331.899282 149.763268 \nL 332.234417 153.152139 \nL 332.569552 145.849838 \nL 332.904687 145.410613 \nL 333.239823 159.116775 \nL 333.574958 165.981881 \nL 333.910093 165.003338 \nL 334.245228 176.408419 \nL 334.580363 156.756325 \nL 334.915498 152.406553 \nL 335.250633 155.675701 \nL 335.585769 170.025464 \nL 335.920904 163.735462 \nL 336.256039 166.575758 \nL 336.591174 164.337808 \nL 336.926309 156.621336 \nL 337.261444 163.736141 \nL 337.596579 158.879139 \nL 337.931715 160.263908 \nL 338.26685 162.29496 \nL 338.93712 159.291359 \nL 339.272255 164.470318 \nL 339.60739 159.647195 \nL 339.942525 166.717847 \nL 340.27766 153.166525 \nL 340.612796 167.8337 \nL 340.947931 163.756751 \nL 341.283066 181.536013 \nL 341.618201 181.25416 \nL 341.953336 168.073626 \nL 342.288471 161.510982 \nL 342.623606 166.671127 \nL 342.958742 164.063824 \nL 343.293877 166.46447 \nL 343.964147 152.711736 \nL 344.299282 151.159473 \nL 344.969552 166.014671 \nL 345.304688 162.30728 \nL 345.639823 156.276235 \nL 345.974958 161.89817 \nL 346.310093 148.232003 \nL 346.645228 144.705381 \nL 346.980363 148.335658 \nL 347.650633 137.652346 \nL 347.985769 141.383245 \nL 348.320904 160.61943 \nL 348.656039 150.106029 \nL 349.661444 133.645621 \nL 349.996579 128.497339 \nL 350.66685 138.201529 \nL 351.001985 146.032328 \nL 351.672255 151.668221 \nL 352.00739 151.34823 \nL 352.342525 154.553715 \nL 353.012796 173.283755 \nL 353.347931 183.720545 \nL 353.683066 190.005417 \nL 354.018201 190.154272 \nL 354.353336 184.825327 \nL 354.688471 187.100939 \nL 355.023606 200.45854 \nL 356.029012 172.590634 \nL 356.364147 167.642607 \nL 356.699282 170.268145 \nL 357.034417 162.734315 \nL 357.369552 165.32859 \nL 357.704687 163.152415 \nL 358.039823 156.719252 \nL 358.374958 159.838695 \nL 359.045228 180.699537 \nL 359.380363 187.35461 \nL 359.715498 187.142712 \nL 360.050633 177.530314 \nL 360.385769 185.22945 \nL 360.720904 175.68658 \nL 361.056039 161.027876 \nL 361.391174 155.033439 \nL 361.726309 157.441185 \nL 362.061444 152.218031 \nL 362.396579 154.018366 \nL 362.731715 153.996215 \nL 363.06685 161.632906 \nL 363.401985 153.189676 \nL 363.73712 149.624562 \nL 364.40739 165.33197 \nL 365.747931 181.304335 \nL 366.083066 182.702207 \nL 366.418201 182.702845 \nL 366.753336 164.347501 \nL 367.088471 154.308684 \nL 367.423606 157.606748 \nL 367.758742 152.813324 \nL 368.093877 151.236053 \nL 368.429012 158.021531 \nL 368.764147 159.210238 \nL 369.434417 168.694673 \nL 369.769552 159.266684 \nL 370.104688 156.709998 \nL 370.104688 156.709998 \n\" style=\"fill:none;stroke:#1f77b4;stroke-linecap:square;stroke-width:1.5;\"/>\n   </g>\n   <g id=\"patch_3\">\n    <path d=\"M 35.304688 224.64 \nL 35.304688 7.2 \n\" style=\"fill:none;stroke:#000000;stroke-linecap:square;stroke-linejoin:miter;stroke-width:0.8;\"/>\n   </g>\n   <g id=\"patch_4\">\n    <path d=\"M 370.104688 224.64 \nL 370.104688 7.2 \n\" style=\"fill:none;stroke:#000000;stroke-linecap:square;stroke-linejoin:miter;stroke-width:0.8;\"/>\n   </g>\n   <g id=\"patch_5\">\n    <path d=\"M 35.304688 224.64 \nL 370.104688 224.64 \n\" style=\"fill:none;stroke:#000000;stroke-linecap:square;stroke-linejoin:miter;stroke-width:0.8;\"/>\n   </g>\n   <g id=\"patch_6\">\n    <path d=\"M 35.304688 7.2 \nL 370.104688 7.2 \n\" style=\"fill:none;stroke:#000000;stroke-linecap:square;stroke-linejoin:miter;stroke-width:0.8;\"/>\n   </g>\n  </g>\n </g>\n <defs>\n  <clipPath id=\"p43b8b302b7\">\n   <rect height=\"217.44\" width=\"334.8\" x=\"35.304688\" y=\"7.2\"/>\n  </clipPath>\n </defs>\n</svg>\n",
      "image/png": "[encoded data removed]"
     },
     "metadata": {
      "needs_background": "light"
     }
    }
   ],
   "source": [
    "ts = pd.Series(np.random.randn(1000), index = pd.date_range('20210101',periods=1000))\n",
    "\n",
    "ts = ts.cumsum()\n",
    "\n",
    "ts.plot()"
   ]
  },
  {
   "cell_type": "code",
   "execution_count": 78,
   "metadata": {},
   "outputs": [
    {
     "output_type": "display_data",
     "data": {
      "text/plain": "<Figure size 432x288 with 0 Axes>"
     },
     "metadata": {}
    },
    {
     "output_type": "display_data",
     "data": {
      "text/plain": "<Figure size 432x288 with 1 Axes>",
      "image/svg+xml": "<?xml version=\"1.0\" encoding=\"utf-8\" standalone=\"no\"?>\n<!DOCTYPE svg PUBLIC \"-//W3C//DTD SVG 1.1//EN\"\n  \"http://www.w3.org/Graphics/SVG/1.1/DTD/svg11.dtd\">\n<svg height=\"259.715937pt\" version=\"1.1\" viewBox=\"0 0 377.304688 259.715937\" width=\"377.304688pt\" xmlns=\"http://www.w3.org/2000/svg\" xmlns:xlink=\"http://www.w3.org/1999/xlink\">\n <metadata>\n  <rdf:RDF xmlns:cc=\"http://creativecommons.org/ns#\" xmlns:dc=\"http://purl.org/dc/elements/1.1/\" xmlns:rdf=\"http://www.w3.org/1999/02/22-rdf-syntax-ns#\">\n   <cc:Work>\n    <dc:type rdf:resource=\"http://purl.org/dc/dcmitype/StillImage\"/>\n    <dc:date>2021-05-03T11:10:29.316352</dc:date>\n    <dc:format>image/svg+xml</dc:format>\n    <dc:creator>\n     <cc:Agent>\n      <dc:title>Matplotlib v3.4.1, https://matplotlib.org/</dc:title>\n     </cc:Agent>\n    </dc:creator>\n   </cc:Work>\n  </rdf:RDF>\n </metadata>\n <defs>\n  <style type=\"text/css\">*{stroke-linecap:butt;stroke-linejoin:round;}</style>\n </defs>\n <g id=\"figure_1\">\n  <g id=\"patch_1\">\n   <path d=\"M 0 259.715937 \nL 377.304688 259.715937 \nL 377.304688 0 \nL 0 0 \nz\n\" style=\"fill:none;\"/>\n  </g>\n  <g id=\"axes_1\">\n   <g id=\"patch_2\">\n    <path d=\"M 35.304688 224.64 \nL 370.104688 224.64 \nL 370.104688 7.2 \nL 35.304688 7.2 \nz\n\" style=\"fill:#ffffff;\"/>\n   </g>\n   <g id=\"matplotlib.axis_1\">\n    <g id=\"xtick_1\">\n     <g id=\"line2d_1\">\n      <defs>\n       <path d=\"M 0 0 \nL 0 3.5 \n\" id=\"m7a71cd171b\" style=\"stroke:#000000;stroke-width:0.8;\"/>\n      </defs>\n      <g>\n       <use style=\"stroke:#000000;stroke-width:0.8;\" x=\"35.304688\" xlink:href=\"#m7a71cd171b\" y=\"224.64\"/>\n      </g>\n     </g>\n     <g id=\"text_1\">\n      <!-- Jan -->\n      <g transform=\"translate(27.596875 239.238438)scale(0.1 -0.1)\">\n       <defs>\n        <path d=\"M 628 4666 \nL 1259 4666 \nL 1259 325 \nQ 1259 -519 939 -900 \nQ 619 -1281 -91 -1281 \nL -331 -1281 \nL -331 -750 \nL -134 -750 \nQ 284 -750 456 -515 \nQ 628 -281 628 325 \nL 628 4666 \nz\n\" id=\"DejaVuSans-4a\" transform=\"scale(0.015625)\"/>\n        <path d=\"M 2194 1759 \nQ 1497 1759 1228 1600 \nQ 959 1441 959 1056 \nQ 959 750 1161 570 \nQ 1363 391 1709 391 \nQ 2188 391 2477 730 \nQ 2766 1069 2766 1631 \nL 2766 1759 \nL 2194 1759 \nz\nM 3341 1997 \nL 3341 0 \nL 2766 0 \nL 2766 531 \nQ 2569 213 2275 61 \nQ 1981 -91 1556 -91 \nQ 1019 -91 701 211 \nQ 384 513 384 1019 \nQ 384 1609 779 1909 \nQ 1175 2209 1959 2209 \nL 2766 2209 \nL 2766 2266 \nQ 2766 2663 2505 2880 \nQ 2244 3097 1772 3097 \nQ 1472 3097 1187 3025 \nQ 903 2953 641 2809 \nL 641 3341 \nQ 956 3463 1253 3523 \nQ 1550 3584 1831 3584 \nQ 2591 3584 2966 3190 \nQ 3341 2797 3341 1997 \nz\n\" id=\"DejaVuSans-61\" transform=\"scale(0.015625)\"/>\n        <path d=\"M 3513 2113 \nL 3513 0 \nL 2938 0 \nL 2938 2094 \nQ 2938 2591 2744 2837 \nQ 2550 3084 2163 3084 \nQ 1697 3084 1428 2787 \nQ 1159 2491 1159 1978 \nL 1159 0 \nL 581 0 \nL 581 3500 \nL 1159 3500 \nL 1159 2956 \nQ 1366 3272 1645 3428 \nQ 1925 3584 2291 3584 \nQ 2894 3584 3203 3211 \nQ 3513 2838 3513 2113 \nz\n\" id=\"DejaVuSans-6e\" transform=\"scale(0.015625)\"/>\n       </defs>\n       <use xlink:href=\"#DejaVuSans-4a\"/>\n       <use x=\"29.492188\" xlink:href=\"#DejaVuSans-61\"/>\n       <use x=\"90.771484\" xlink:href=\"#DejaVuSans-6e\"/>\n      </g>\n      <!-- 2021 -->\n      <g transform=\"translate(22.579687 250.43625)scale(0.1 -0.1)\">\n       <defs>\n        <path d=\"M 1228 531 \nL 3431 531 \nL 3431 0 \nL 469 0 \nL 469 531 \nQ 828 903 1448 1529 \nQ 2069 2156 2228 2338 \nQ 2531 2678 2651 2914 \nQ 2772 3150 2772 3378 \nQ 2772 3750 2511 3984 \nQ 2250 4219 1831 4219 \nQ 1534 4219 1204 4116 \nQ 875 4013 500 3803 \nL 500 4441 \nQ 881 4594 1212 4672 \nQ 1544 4750 1819 4750 \nQ 2544 4750 2975 4387 \nQ 3406 4025 3406 3419 \nQ 3406 3131 3298 2873 \nQ 3191 2616 2906 2266 \nQ 2828 2175 2409 1742 \nQ 1991 1309 1228 531 \nz\n\" id=\"DejaVuSans-32\" transform=\"scale(0.015625)\"/>\n        <path d=\"M 2034 4250 \nQ 1547 4250 1301 3770 \nQ 1056 3291 1056 2328 \nQ 1056 1369 1301 889 \nQ 1547 409 2034 409 \nQ 2525 409 2770 889 \nQ 3016 1369 3016 2328 \nQ 3016 3291 2770 3770 \nQ 2525 4250 2034 4250 \nz\nM 2034 4750 \nQ 2819 4750 3233 4129 \nQ 3647 3509 3647 2328 \nQ 3647 1150 3233 529 \nQ 2819 -91 2034 -91 \nQ 1250 -91 836 529 \nQ 422 1150 422 2328 \nQ 422 3509 836 4129 \nQ 1250 4750 2034 4750 \nz\n\" id=\"DejaVuSans-30\" transform=\"scale(0.015625)\"/>\n        <path d=\"M 794 531 \nL 1825 531 \nL 1825 4091 \nL 703 3866 \nL 703 4441 \nL 1819 4666 \nL 2450 4666 \nL 2450 531 \nL 3481 531 \nL 3481 0 \nL 794 0 \nL 794 531 \nz\n\" id=\"DejaVuSans-31\" transform=\"scale(0.015625)\"/>\n       </defs>\n       <use xlink:href=\"#DejaVuSans-32\"/>\n       <use x=\"63.623047\" xlink:href=\"#DejaVuSans-30\"/>\n       <use x=\"127.246094\" xlink:href=\"#DejaVuSans-32\"/>\n       <use x=\"190.869141\" xlink:href=\"#DejaVuSans-31\"/>\n      </g>\n     </g>\n    </g>\n    <g id=\"xtick_2\">\n     <g id=\"line2d_2\">\n      <g>\n       <use style=\"stroke:#000000;stroke-width:0.8;\" x=\"157.629012\" xlink:href=\"#m7a71cd171b\" y=\"224.64\"/>\n      </g>\n     </g>\n     <g id=\"text_2\">\n      <!-- Jan -->\n      <g transform=\"translate(149.921199 239.238438)scale(0.1 -0.1)\">\n       <use xlink:href=\"#DejaVuSans-4a\"/>\n       <use x=\"29.492188\" xlink:href=\"#DejaVuSans-61\"/>\n       <use x=\"90.771484\" xlink:href=\"#DejaVuSans-6e\"/>\n      </g>\n      <!-- 2022 -->\n      <g transform=\"translate(144.904012 250.43625)scale(0.1 -0.1)\">\n       <use xlink:href=\"#DejaVuSans-32\"/>\n       <use x=\"63.623047\" xlink:href=\"#DejaVuSans-30\"/>\n       <use x=\"127.246094\" xlink:href=\"#DejaVuSans-32\"/>\n       <use x=\"190.869141\" xlink:href=\"#DejaVuSans-32\"/>\n      </g>\n     </g>\n    </g>\n    <g id=\"xtick_3\">\n     <g id=\"line2d_3\">\n      <g>\n       <use style=\"stroke:#000000;stroke-width:0.8;\" x=\"279.953336\" xlink:href=\"#m7a71cd171b\" y=\"224.64\"/>\n      </g>\n     </g>\n     <g id=\"text_3\">\n      <!-- Jan -->\n      <g transform=\"translate(272.245524 239.238438)scale(0.1 -0.1)\">\n       <use xlink:href=\"#DejaVuSans-4a\"/>\n       <use x=\"29.492188\" xlink:href=\"#DejaVuSans-61\"/>\n       <use x=\"90.771484\" xlink:href=\"#DejaVuSans-6e\"/>\n      </g>\n      <!-- 2023 -->\n      <g transform=\"translate(267.228336 250.43625)scale(0.1 -0.1)\">\n       <defs>\n        <path d=\"M 2597 2516 \nQ 3050 2419 3304 2112 \nQ 3559 1806 3559 1356 \nQ 3559 666 3084 287 \nQ 2609 -91 1734 -91 \nQ 1441 -91 1130 -33 \nQ 819 25 488 141 \nL 488 750 \nQ 750 597 1062 519 \nQ 1375 441 1716 441 \nQ 2309 441 2620 675 \nQ 2931 909 2931 1356 \nQ 2931 1769 2642 2001 \nQ 2353 2234 1838 2234 \nL 1294 2234 \nL 1294 2753 \nL 1863 2753 \nQ 2328 2753 2575 2939 \nQ 2822 3125 2822 3475 \nQ 2822 3834 2567 4026 \nQ 2313 4219 1838 4219 \nQ 1578 4219 1281 4162 \nQ 984 4106 628 3988 \nL 628 4550 \nQ 988 4650 1302 4700 \nQ 1616 4750 1894 4750 \nQ 2613 4750 3031 4423 \nQ 3450 4097 3450 3541 \nQ 3450 3153 3228 2886 \nQ 3006 2619 2597 2516 \nz\n\" id=\"DejaVuSans-33\" transform=\"scale(0.015625)\"/>\n       </defs>\n       <use xlink:href=\"#DejaVuSans-32\"/>\n       <use x=\"63.623047\" xlink:href=\"#DejaVuSans-30\"/>\n       <use x=\"127.246094\" xlink:href=\"#DejaVuSans-32\"/>\n       <use x=\"190.869141\" xlink:href=\"#DejaVuSans-33\"/>\n      </g>\n     </g>\n    </g>\n    <g id=\"xtick_4\">\n     <g id=\"line2d_4\">\n      <g>\n       <use style=\"stroke:#000000;stroke-width:0.8;\" x=\"370.104688\" xlink:href=\"#m7a71cd171b\" y=\"224.64\"/>\n      </g>\n     </g>\n    </g>\n    <g id=\"xtick_5\">\n     <g id=\"line2d_5\">\n      <defs>\n       <path d=\"M 0 0 \nL 0 2 \n\" id=\"ma99540f370\" style=\"stroke:#000000;stroke-width:0.6;\"/>\n      </defs>\n      <g>\n       <use style=\"stroke:#000000;stroke-width:0.6;\" x=\"45.693877\" xlink:href=\"#ma99540f370\" y=\"224.64\"/>\n      </g>\n     </g>\n    </g>\n    <g id=\"xtick_6\">\n     <g id=\"line2d_6\">\n      <g>\n       <use style=\"stroke:#000000;stroke-width:0.6;\" x=\"55.07766\" xlink:href=\"#ma99540f370\" y=\"224.64\"/>\n      </g>\n     </g>\n    </g>\n    <g id=\"xtick_7\">\n     <g id=\"line2d_7\">\n      <g>\n       <use style=\"stroke:#000000;stroke-width:0.6;\" x=\"65.46685\" xlink:href=\"#ma99540f370\" y=\"224.64\"/>\n      </g>\n     </g>\n    </g>\n    <g id=\"xtick_8\">\n     <g id=\"line2d_8\">\n      <g>\n       <use style=\"stroke:#000000;stroke-width:0.6;\" x=\"75.520904\" xlink:href=\"#ma99540f370\" y=\"224.64\"/>\n      </g>\n     </g>\n    </g>\n    <g id=\"xtick_9\">\n     <g id=\"line2d_9\">\n      <g>\n       <use style=\"stroke:#000000;stroke-width:0.6;\" x=\"85.910093\" xlink:href=\"#ma99540f370\" y=\"224.64\"/>\n      </g>\n     </g>\n    </g>\n    <g id=\"xtick_10\">\n     <g id=\"line2d_10\">\n      <g>\n       <use style=\"stroke:#000000;stroke-width:0.6;\" x=\"95.964147\" xlink:href=\"#ma99540f370\" y=\"224.64\"/>\n      </g>\n     </g>\n     <g id=\"text_4\">\n      <!-- Jul -->\n      <g transform=\"translate(89.931334 237.638438)scale(0.1 -0.1)\">\n       <defs>\n        <path d=\"M 544 1381 \nL 544 3500 \nL 1119 3500 \nL 1119 1403 \nQ 1119 906 1312 657 \nQ 1506 409 1894 409 \nQ 2359 409 2629 706 \nQ 2900 1003 2900 1516 \nL 2900 3500 \nL 3475 3500 \nL 3475 0 \nL 2900 0 \nL 2900 538 \nQ 2691 219 2414 64 \nQ 2138 -91 1772 -91 \nQ 1169 -91 856 284 \nQ 544 659 544 1381 \nz\nM 1991 3584 \nL 1991 3584 \nz\n\" id=\"DejaVuSans-75\" transform=\"scale(0.015625)\"/>\n        <path d=\"M 603 4863 \nL 1178 4863 \nL 1178 0 \nL 603 0 \nL 603 4863 \nz\n\" id=\"DejaVuSans-6c\" transform=\"scale(0.015625)\"/>\n       </defs>\n       <use xlink:href=\"#DejaVuSans-4a\"/>\n       <use x=\"29.492188\" xlink:href=\"#DejaVuSans-75\"/>\n       <use x=\"92.871094\" xlink:href=\"#DejaVuSans-6c\"/>\n      </g>\n     </g>\n    </g>\n    <g id=\"xtick_11\">\n     <g id=\"line2d_11\">\n      <g>\n       <use style=\"stroke:#000000;stroke-width:0.6;\" x=\"106.353336\" xlink:href=\"#ma99540f370\" y=\"224.64\"/>\n      </g>\n     </g>\n    </g>\n    <g id=\"xtick_12\">\n     <g id=\"line2d_12\">\n      <g>\n       <use style=\"stroke:#000000;stroke-width:0.6;\" x=\"116.742525\" xlink:href=\"#ma99540f370\" y=\"224.64\"/>\n      </g>\n     </g>\n    </g>\n    <g id=\"xtick_13\">\n     <g id=\"line2d_13\">\n      <g>\n       <use style=\"stroke:#000000;stroke-width:0.6;\" x=\"126.796579\" xlink:href=\"#ma99540f370\" y=\"224.64\"/>\n      </g>\n     </g>\n    </g>\n    <g id=\"xtick_14\">\n     <g id=\"line2d_14\">\n      <g>\n       <use style=\"stroke:#000000;stroke-width:0.6;\" x=\"137.185769\" xlink:href=\"#ma99540f370\" y=\"224.64\"/>\n      </g>\n     </g>\n    </g>\n    <g id=\"xtick_15\">\n     <g id=\"line2d_15\">\n      <g>\n       <use style=\"stroke:#000000;stroke-width:0.6;\" x=\"147.239823\" xlink:href=\"#ma99540f370\" y=\"224.64\"/>\n      </g>\n     </g>\n    </g>\n    <g id=\"xtick_16\">\n     <g id=\"line2d_16\">\n      <g>\n       <use style=\"stroke:#000000;stroke-width:0.6;\" x=\"168.018201\" xlink:href=\"#ma99540f370\" y=\"224.64\"/>\n      </g>\n     </g>\n    </g>\n    <g id=\"xtick_17\">\n     <g id=\"line2d_17\">\n      <g>\n       <use style=\"stroke:#000000;stroke-width:0.6;\" x=\"177.401985\" xlink:href=\"#ma99540f370\" y=\"224.64\"/>\n      </g>\n     </g>\n    </g>\n    <g id=\"xtick_18\">\n     <g id=\"line2d_18\">\n      <g>\n       <use style=\"stroke:#000000;stroke-width:0.6;\" x=\"187.791174\" xlink:href=\"#ma99540f370\" y=\"224.64\"/>\n      </g>\n     </g>\n    </g>\n    <g id=\"xtick_19\">\n     <g id=\"line2d_19\">\n      <g>\n       <use style=\"stroke:#000000;stroke-width:0.6;\" x=\"197.845228\" xlink:href=\"#ma99540f370\" y=\"224.64\"/>\n      </g>\n     </g>\n    </g>\n    <g id=\"xtick_20\">\n     <g id=\"line2d_20\">\n      <g>\n       <use style=\"stroke:#000000;stroke-width:0.6;\" x=\"208.234417\" xlink:href=\"#ma99540f370\" y=\"224.64\"/>\n      </g>\n     </g>\n    </g>\n    <g id=\"xtick_21\">\n     <g id=\"line2d_21\">\n      <g>\n       <use style=\"stroke:#000000;stroke-width:0.6;\" x=\"218.288471\" xlink:href=\"#ma99540f370\" y=\"224.64\"/>\n      </g>\n     </g>\n     <g id=\"text_5\">\n      <!-- Jul -->\n      <g transform=\"translate(212.255659 237.638438)scale(0.1 -0.1)\">\n       <use xlink:href=\"#DejaVuSans-4a\"/>\n       <use x=\"29.492188\" xlink:href=\"#DejaVuSans-75\"/>\n       <use x=\"92.871094\" xlink:href=\"#DejaVuSans-6c\"/>\n      </g>\n     </g>\n    </g>\n    <g id=\"xtick_22\">\n     <g id=\"line2d_22\">\n      <g>\n       <use style=\"stroke:#000000;stroke-width:0.6;\" x=\"228.67766\" xlink:href=\"#ma99540f370\" y=\"224.64\"/>\n      </g>\n     </g>\n    </g>\n    <g id=\"xtick_23\">\n     <g id=\"line2d_23\">\n      <g>\n       <use style=\"stroke:#000000;stroke-width:0.6;\" x=\"239.06685\" xlink:href=\"#ma99540f370\" y=\"224.64\"/>\n      </g>\n     </g>\n    </g>\n    <g id=\"xtick_24\">\n     <g id=\"line2d_24\">\n      <g>\n       <use style=\"stroke:#000000;stroke-width:0.6;\" x=\"249.120904\" xlink:href=\"#ma99540f370\" y=\"224.64\"/>\n      </g>\n     </g>\n    </g>\n    <g id=\"xtick_25\">\n     <g id=\"line2d_25\">\n      <g>\n       <use style=\"stroke:#000000;stroke-width:0.6;\" x=\"259.510093\" xlink:href=\"#ma99540f370\" y=\"224.64\"/>\n      </g>\n     </g>\n    </g>\n    <g id=\"xtick_26\">\n     <g id=\"line2d_26\">\n      <g>\n       <use style=\"stroke:#000000;stroke-width:0.6;\" x=\"269.564147\" xlink:href=\"#ma99540f370\" y=\"224.64\"/>\n      </g>\n     </g>\n    </g>\n    <g id=\"xtick_27\">\n     <g id=\"line2d_27\">\n      <g>\n       <use style=\"stroke:#000000;stroke-width:0.6;\" x=\"290.342525\" xlink:href=\"#ma99540f370\" y=\"224.64\"/>\n      </g>\n     </g>\n    </g>\n    <g id=\"xtick_28\">\n     <g id=\"line2d_28\">\n      <g>\n       <use style=\"stroke:#000000;stroke-width:0.6;\" x=\"299.726309\" xlink:href=\"#ma99540f370\" y=\"224.64\"/>\n      </g>\n     </g>\n    </g>\n    <g id=\"xtick_29\">\n     <g id=\"line2d_29\">\n      <g>\n       <use style=\"stroke:#000000;stroke-width:0.6;\" x=\"310.115498\" xlink:href=\"#ma99540f370\" y=\"224.64\"/>\n      </g>\n     </g>\n    </g>\n    <g id=\"xtick_30\">\n     <g id=\"line2d_30\">\n      <g>\n       <use style=\"stroke:#000000;stroke-width:0.6;\" x=\"320.169552\" xlink:href=\"#ma99540f370\" y=\"224.64\"/>\n      </g>\n     </g>\n    </g>\n    <g id=\"xtick_31\">\n     <g id=\"line2d_31\">\n      <g>\n       <use style=\"stroke:#000000;stroke-width:0.6;\" x=\"330.558742\" xlink:href=\"#ma99540f370\" y=\"224.64\"/>\n      </g>\n     </g>\n    </g>\n    <g id=\"xtick_32\">\n     <g id=\"line2d_32\">\n      <g>\n       <use style=\"stroke:#000000;stroke-width:0.6;\" x=\"340.612796\" xlink:href=\"#ma99540f370\" y=\"224.64\"/>\n      </g>\n     </g>\n     <g id=\"text_6\">\n      <!-- Jul -->\n      <g transform=\"translate(334.579983 237.638438)scale(0.1 -0.1)\">\n       <use xlink:href=\"#DejaVuSans-4a\"/>\n       <use x=\"29.492188\" xlink:href=\"#DejaVuSans-75\"/>\n       <use x=\"92.871094\" xlink:href=\"#DejaVuSans-6c\"/>\n      </g>\n     </g>\n    </g>\n    <g id=\"xtick_33\">\n     <g id=\"line2d_33\">\n      <g>\n       <use style=\"stroke:#000000;stroke-width:0.6;\" x=\"351.001985\" xlink:href=\"#ma99540f370\" y=\"224.64\"/>\n      </g>\n     </g>\n    </g>\n    <g id=\"xtick_34\">\n     <g id=\"line2d_34\">\n      <g>\n       <use style=\"stroke:#000000;stroke-width:0.6;\" x=\"361.391174\" xlink:href=\"#ma99540f370\" y=\"224.64\"/>\n      </g>\n     </g>\n    </g>\n   </g>\n   <g id=\"matplotlib.axis_2\">\n    <g id=\"ytick_1\">\n     <g id=\"line2d_35\">\n      <defs>\n       <path d=\"M 0 0 \nL -3.5 0 \n\" id=\"mf5a7d1806a\" style=\"stroke:#000000;stroke-width:0.8;\"/>\n      </defs>\n      <g>\n       <use style=\"stroke:#000000;stroke-width:0.8;\" x=\"35.304688\" xlink:href=\"#mf5a7d1806a\" y=\"210.744847\"/>\n      </g>\n     </g>\n     <g id=\"text_7\">\n      <!-- −20 -->\n      <g transform=\"translate(7.2 214.544066)scale(0.1 -0.1)\">\n       <defs>\n        <path d=\"M 678 2272 \nL 4684 2272 \nL 4684 1741 \nL 678 1741 \nL 678 2272 \nz\n\" id=\"DejaVuSans-2212\" transform=\"scale(0.015625)\"/>\n       </defs>\n       <use xlink:href=\"#DejaVuSans-2212\"/>\n       <use x=\"83.789062\" xlink:href=\"#DejaVuSans-32\"/>\n       <use x=\"147.412109\" xlink:href=\"#DejaVuSans-30\"/>\n      </g>\n     </g>\n    </g>\n    <g id=\"ytick_2\">\n     <g id=\"line2d_36\">\n      <g>\n       <use style=\"stroke:#000000;stroke-width:0.8;\" x=\"35.304688\" xlink:href=\"#mf5a7d1806a\" y=\"163.742706\"/>\n      </g>\n     </g>\n     <g id=\"text_8\">\n      <!-- 0 -->\n      <g transform=\"translate(21.942188 167.541925)scale(0.1 -0.1)\">\n       <use xlink:href=\"#DejaVuSans-30\"/>\n      </g>\n     </g>\n    </g>\n    <g id=\"ytick_3\">\n     <g id=\"line2d_37\">\n      <g>\n       <use style=\"stroke:#000000;stroke-width:0.8;\" x=\"35.304688\" xlink:href=\"#mf5a7d1806a\" y=\"116.740565\"/>\n      </g>\n     </g>\n     <g id=\"text_9\">\n      <!-- 20 -->\n      <g transform=\"translate(15.579688 120.539784)scale(0.1 -0.1)\">\n       <use xlink:href=\"#DejaVuSans-32\"/>\n       <use x=\"63.623047\" xlink:href=\"#DejaVuSans-30\"/>\n      </g>\n     </g>\n    </g>\n    <g id=\"ytick_4\">\n     <g id=\"line2d_38\">\n      <g>\n       <use style=\"stroke:#000000;stroke-width:0.8;\" x=\"35.304688\" xlink:href=\"#mf5a7d1806a\" y=\"69.738425\"/>\n      </g>\n     </g>\n     <g id=\"text_10\">\n      <!-- 40 -->\n      <g transform=\"translate(15.579688 73.537643)scale(0.1 -0.1)\">\n       <defs>\n        <path d=\"M 2419 4116 \nL 825 1625 \nL 2419 1625 \nL 2419 4116 \nz\nM 2253 4666 \nL 3047 4666 \nL 3047 1625 \nL 3713 1625 \nL 3713 1100 \nL 3047 1100 \nL 3047 0 \nL 2419 0 \nL 2419 1100 \nL 313 1100 \nL 313 1709 \nL 2253 4666 \nz\n\" id=\"DejaVuSans-34\" transform=\"scale(0.015625)\"/>\n       </defs>\n       <use xlink:href=\"#DejaVuSans-34\"/>\n       <use x=\"63.623047\" xlink:href=\"#DejaVuSans-30\"/>\n      </g>\n     </g>\n    </g>\n    <g id=\"ytick_5\">\n     <g id=\"line2d_39\">\n      <g>\n       <use style=\"stroke:#000000;stroke-width:0.8;\" x=\"35.304688\" xlink:href=\"#mf5a7d1806a\" y=\"22.736284\"/>\n      </g>\n     </g>\n     <g id=\"text_11\">\n      <!-- 60 -->\n      <g transform=\"translate(15.579688 26.535503)scale(0.1 -0.1)\">\n       <defs>\n        <path d=\"M 2113 2584 \nQ 1688 2584 1439 2293 \nQ 1191 2003 1191 1497 \nQ 1191 994 1439 701 \nQ 1688 409 2113 409 \nQ 2538 409 2786 701 \nQ 3034 994 3034 1497 \nQ 3034 2003 2786 2293 \nQ 2538 2584 2113 2584 \nz\nM 3366 4563 \nL 3366 3988 \nQ 3128 4100 2886 4159 \nQ 2644 4219 2406 4219 \nQ 1781 4219 1451 3797 \nQ 1122 3375 1075 2522 \nQ 1259 2794 1537 2939 \nQ 1816 3084 2150 3084 \nQ 2853 3084 3261 2657 \nQ 3669 2231 3669 1497 \nQ 3669 778 3244 343 \nQ 2819 -91 2113 -91 \nQ 1303 -91 875 529 \nQ 447 1150 447 2328 \nQ 447 3434 972 4092 \nQ 1497 4750 2381 4750 \nQ 2619 4750 2861 4703 \nQ 3103 4656 3366 4563 \nz\n\" id=\"DejaVuSans-36\" transform=\"scale(0.015625)\"/>\n       </defs>\n       <use xlink:href=\"#DejaVuSans-36\"/>\n       <use x=\"63.623047\" xlink:href=\"#DejaVuSans-30\"/>\n      </g>\n     </g>\n    </g>\n   </g>\n   <g id=\"line2d_40\">\n    <path clip-path=\"url(#p248e1a3436)\" d=\"M 35.304688 161.868609 \nL 35.639823 162.556895 \nL 35.974958 164.004231 \nL 36.310093 162.029366 \nL 36.645228 163.747497 \nL 36.980363 164.713999 \nL 37.315498 166.878846 \nL 37.650633 164.023805 \nL 37.985769 163.039869 \nL 38.320904 163.601801 \nL 38.656039 164.911072 \nL 38.991174 162.015451 \nL 39.326309 163.665882 \nL 39.661444 163.101356 \nL 39.996579 158.675143 \nL 40.331715 164.009444 \nL 40.66685 163.271052 \nL 41.001985 161.18291 \nL 41.33712 160.218375 \nL 41.672255 157.899563 \nL 42.00739 162.597237 \nL 42.342525 160.861911 \nL 42.67766 160.796418 \nL 43.012796 161.151459 \nL 43.347931 163.568355 \nL 43.683066 161.341031 \nL 44.018201 155.663468 \nL 44.353336 154.526416 \nL 44.688471 160.369727 \nL 45.023606 158.148634 \nL 45.358742 157.768054 \nL 45.693877 162.043132 \nL 46.029012 161.744595 \nL 46.364147 157.511023 \nL 46.699282 157.421807 \nL 47.034417 162.779757 \nL 47.369552 162.518426 \nL 47.704687 160.713864 \nL 48.039823 161.138523 \nL 48.374958 161.187215 \nL 48.710093 161.722955 \nL 49.045228 160.25316 \nL 49.380363 159.295178 \nL 49.715498 161.176804 \nL 50.050633 164.235754 \nL 50.385769 164.411046 \nL 50.720904 166.102525 \nL 51.056039 170.653434 \nL 51.391174 170.115124 \nL 51.726309 168.34367 \nL 52.396579 169.90966 \nL 52.731715 168.825023 \nL 53.06685 173.043299 \nL 53.401985 171.161872 \nL 53.73712 171.535588 \nL 54.40739 174.207237 \nL 54.742525 172.515621 \nL 55.07766 173.70765 \nL 55.412796 177.900928 \nL 56.418201 165.210452 \nL 56.753336 164.566471 \nL 57.088471 160.507202 \nL 58.093877 167.627186 \nL 58.429012 163.525578 \nL 58.764147 162.137053 \nL 59.099282 165.951653 \nL 59.434417 164.405933 \nL 59.769552 167.344036 \nL 60.104688 166.959763 \nL 60.439823 165.797486 \nL 60.774958 172.884813 \nL 61.110093 169.288971 \nL 61.445228 169.831318 \nL 61.780363 166.076045 \nL 62.115498 164.459839 \nL 62.785769 166.498337 \nL 63.120904 165.179345 \nL 63.456039 166.231065 \nL 63.791174 165.080036 \nL 64.126309 163.445098 \nL 64.461444 164.557615 \nL 64.796579 164.031723 \nL 65.131715 161.227641 \nL 65.46685 162.442241 \nL 65.801985 162.90732 \nL 66.13712 162.256163 \nL 66.472255 158.916358 \nL 66.80739 159.039605 \nL 67.142525 157.142762 \nL 67.47766 158.853889 \nL 67.812796 153.846109 \nL 68.147931 152.000923 \nL 68.483066 153.803821 \nL 68.818201 152.352476 \nL 69.153336 151.626758 \nL 69.488471 149.509374 \nL 69.823606 151.570221 \nL 70.158742 148.134634 \nL 70.493877 146.291865 \nL 70.829012 145.338894 \nL 71.164147 141.777429 \nL 71.499282 142.092491 \nL 72.169552 139.580007 \nL 72.504687 139.019139 \nL 72.839823 142.609837 \nL 73.174958 144.039538 \nL 73.510093 139.047218 \nL 73.845228 138.653724 \nL 74.180363 140.44198 \nL 74.515498 140.905315 \nL 74.850633 145.215404 \nL 75.520904 145.398147 \nL 75.856039 145.749277 \nL 76.526309 150.034706 \nL 76.861444 150.709136 \nL 77.196579 149.91638 \nL 77.531715 151.30914 \nL 77.86685 151.639547 \nL 78.53712 156.558252 \nL 78.872255 156.061238 \nL 79.20739 154.366408 \nL 79.542525 153.580458 \nL 79.87766 149.432733 \nL 80.212796 150.595322 \nL 80.547931 150.898084 \nL 80.883066 149.525864 \nL 81.218201 145.395231 \nL 81.553336 147.522603 \nL 81.888471 144.449872 \nL 82.223606 147.44791 \nL 82.558742 143.324453 \nL 82.893877 145.682394 \nL 83.229012 144.110724 \nL 83.564147 147.398312 \nL 83.899282 147.862718 \nL 84.234417 146.37725 \nL 84.569552 149.430227 \nL 84.904687 149.099888 \nL 85.239823 149.563614 \nL 85.574958 146.988027 \nL 86.245228 145.183563 \nL 86.580363 143.755379 \nL 86.915498 141.756639 \nL 87.250633 144.056486 \nL 87.585769 144.258103 \nL 87.920904 139.361635 \nL 88.256039 142.496622 \nL 88.591174 144.318185 \nL 88.926309 144.4937 \nL 89.261444 145.400394 \nL 89.596579 144.056402 \nL 89.931715 147.361089 \nL 90.26685 147.682501 \nL 90.93712 149.262638 \nL 91.272255 151.861113 \nL 91.60739 156.49763 \nL 91.942525 156.31069 \nL 92.27766 157.128146 \nL 92.612796 157.160574 \nL 92.947931 158.199411 \nL 93.283066 155.283985 \nL 93.618201 158.391004 \nL 93.953336 157.685707 \nL 94.958742 147.699724 \nL 95.293877 146.163077 \nL 95.629012 143.45118 \nL 95.964147 143.73488 \nL 96.634417 142.394553 \nL 96.969552 146.93423 \nL 97.304688 147.749008 \nL 97.639823 147.108112 \nL 97.974958 144.68527 \nL 98.310093 147.921201 \nL 98.645228 146.086172 \nL 98.980363 151.058351 \nL 99.315498 154.186283 \nL 99.650633 152.875846 \nL 99.985769 154.493525 \nL 100.320904 157.370951 \nL 100.656039 155.91663 \nL 100.991174 156.640468 \nL 101.326309 159.757416 \nL 101.661444 163.994044 \nL 101.996579 162.023871 \nL 102.331715 164.668347 \nL 102.66685 165.816704 \nL 103.001985 164.385243 \nL 103.33712 167.268645 \nL 103.672255 165.929405 \nL 104.00739 169.394777 \nL 104.67766 163.10486 \nL 105.012796 162.787197 \nL 105.347931 162.169808 \nL 105.683066 162.137168 \nL 106.018201 163.547046 \nL 106.688471 161.893377 \nL 107.023606 157.141887 \nL 107.358742 157.970785 \nL 107.693877 154.6815 \nL 108.029012 155.863135 \nL 108.364147 154.529789 \nL 108.699282 155.433129 \nL 109.034417 151.028564 \nL 109.369552 153.669616 \nL 109.704687 154.944351 \nL 110.039823 149.593832 \nL 110.374958 147.895059 \nL 110.710093 143.811953 \nL 111.045228 143.719211 \nL 111.380363 141.460762 \nL 111.715498 140.767574 \nL 112.050633 143.448832 \nL 112.385769 142.535167 \nL 112.720904 142.002556 \nL 113.056039 142.030113 \nL 113.391174 145.268626 \nL 113.726309 145.084236 \nL 114.396579 149.959759 \nL 114.731715 145.976325 \nL 115.06685 145.694699 \nL 115.401985 147.725273 \nL 115.73712 146.543174 \nL 116.072255 148.061267 \nL 116.40739 148.408519 \nL 116.742525 144.751414 \nL 117.07766 145.314862 \nL 117.412796 138.888754 \nL 117.747931 135.322353 \nL 118.083066 135.91499 \nL 118.418201 138.516183 \nL 118.753336 142.057486 \nL 119.088471 143.668673 \nL 119.423606 143.063972 \nL 119.758742 138.724425 \nL 120.093877 140.395799 \nL 120.429012 142.96019 \nL 120.764147 143.410512 \nL 121.099282 150.44098 \nL 121.434417 151.133527 \nL 121.769552 151.329465 \nL 122.104688 155.096961 \nL 122.439823 152.93436 \nL 122.774958 151.854246 \nL 123.110093 152.991637 \nL 123.445228 150.981194 \nL 123.780363 151.579039 \nL 124.115498 155.16205 \nL 124.450633 155.380425 \nL 124.785769 154.916284 \nL 125.120904 155.564492 \nL 125.791174 158.110238 \nL 126.126309 157.64489 \nL 126.461444 156.123572 \nL 127.801985 159.048632 \nL 128.13712 163.515134 \nL 128.472255 165.935406 \nL 129.142525 165.860966 \nL 129.47766 169.020951 \nL 129.812796 168.536763 \nL 130.147931 170.810098 \nL 130.483066 175.029017 \nL 130.818201 175.25939 \nL 131.153336 177.228717 \nL 131.488471 178.517947 \nL 131.823606 180.508108 \nL 132.158742 179.926935 \nL 132.493877 182.04179 \nL 133.164147 179.923052 \nL 133.499282 182.009229 \nL 133.834417 180.665192 \nL 134.169552 178.087106 \nL 134.504687 176.844494 \nL 134.839823 181.298446 \nL 135.174958 182.602272 \nL 135.510093 183.26355 \nL 135.845228 183.25534 \nL 136.180363 183.978905 \nL 136.515498 186.964659 \nL 136.850633 186.678341 \nL 137.520904 190.49834 \nL 137.856039 188.622769 \nL 138.191174 193.214507 \nL 138.526309 193.147427 \nL 138.861444 199.744138 \nL 139.196579 203.975223 \nL 139.531715 206.084676 \nL 139.86685 209.273045 \nL 140.201985 209.336315 \nL 141.20739 201.885361 \nL 141.542525 197.652168 \nL 141.87766 198.062915 \nL 142.212796 194.192031 \nL 142.547931 192.344437 \nL 142.883066 192.671767 \nL 143.218201 193.45604 \nL 143.553336 197.100295 \nL 143.888471 194.551873 \nL 144.223606 200.753532 \nL 144.558742 195.396038 \nL 144.893877 195.050001 \nL 145.229012 194.101113 \nL 145.899282 198.410676 \nL 146.234417 197.827261 \nL 146.569552 200.955765 \nL 146.904687 199.3352 \nL 147.239823 199.191908 \nL 147.574958 198.648543 \nL 147.910093 198.321059 \nL 148.580363 200.34909 \nL 148.915498 203.706662 \nL 149.250633 201.703783 \nL 149.585769 202.667499 \nL 149.920904 200.891876 \nL 150.256039 199.760895 \nL 150.591174 202.613093 \nL 150.926309 202.400377 \nL 151.261444 204.20787 \nL 151.596579 206.75053 \nL 151.931715 206.223979 \nL 152.26685 207.688987 \nL 152.601985 205.255314 \nL 152.93712 204.818061 \nL 153.272255 203.655178 \nL 153.60739 205.022483 \nL 153.942525 203.944641 \nL 154.27766 200.949317 \nL 154.612796 203.552926 \nL 154.947931 204.073097 \nL 155.283066 203.927487 \nL 155.618201 204.59439 \nL 155.953336 202.996929 \nL 156.288471 206.532775 \nL 156.958742 206.723294 \nL 157.293877 209.670235 \nL 157.629012 208.978791 \nL 157.964147 207.013883 \nL 158.299282 207.008322 \nL 158.634417 206.62157 \nL 159.304688 203.685968 \nL 159.639823 205.414802 \nL 160.645228 199.304046 \nL 160.980363 200.9138 \nL 161.315498 197.401885 \nL 161.650633 201.07705 \nL 161.985769 200.148057 \nL 162.320904 202.004954 \nL 162.656039 197.296794 \nL 162.991174 197.356694 \nL 163.326309 198.12412 \nL 163.661444 198.347249 \nL 163.996579 204.778859 \nL 164.331715 205.343213 \nL 164.66685 209.127935 \nL 165.001985 209.79959 \nL 165.33712 211.39628 \nL 165.672255 206.541857 \nL 166.00739 204.948151 \nL 166.342525 202.757512 \nL 167.012796 204.807027 \nL 167.347931 204.709337 \nL 167.683066 207.397791 \nL 168.018201 208.958574 \nL 168.353336 208.655065 \nL 168.688471 212.56465 \nL 169.023606 213.082288 \nL 169.358742 214.756364 \nL 169.693877 209.773755 \nL 170.029012 208.555379 \nL 170.364147 204.460572 \nL 170.699282 205.758448 \nL 171.034417 204.747235 \nL 171.369552 202.197964 \nL 171.704687 203.710438 \nL 172.039823 203.654838 \nL 172.374958 203.757383 \nL 172.710093 205.778035 \nL 173.045228 203.740425 \nL 173.380363 200.770464 \nL 173.715498 199.118931 \nL 174.385769 198.022099 \nL 175.056039 200.757806 \nL 175.391174 199.123053 \nL 175.726309 200.864784 \nL 176.061444 200.476673 \nL 176.396579 199.824778 \nL 176.731715 196.960141 \nL 177.06685 199.462851 \nL 177.73712 193.457619 \nL 178.072255 192.787452 \nL 178.40739 193.262445 \nL 179.07766 198.81303 \nL 179.412796 196.008928 \nL 179.747931 195.578946 \nL 180.083066 196.743861 \nL 180.418201 196.376244 \nL 180.753336 195.813818 \nL 181.088471 195.627986 \nL 181.423606 199.848663 \nL 181.758742 199.801589 \nL 182.093877 198.471822 \nL 182.429012 197.824311 \nL 182.764147 195.551207 \nL 183.099282 191.740174 \nL 183.434417 194.272335 \nL 184.104688 197.035992 \nL 184.439823 197.305149 \nL 184.774958 196.930789 \nL 185.110093 197.269271 \nL 185.445228 201.98431 \nL 185.780363 198.781424 \nL 186.115498 200.649758 \nL 186.450633 200.258482 \nL 186.785769 203.544745 \nL 187.120904 203.300266 \nL 187.456039 200.427028 \nL 187.791174 200.718159 \nL 188.126309 196.944394 \nL 188.461444 199.395503 \nL 188.796579 198.129486 \nL 189.131715 196.208438 \nL 189.46685 198.014492 \nL 189.801985 203.544884 \nL 190.13712 200.743353 \nL 190.472255 202.441158 \nL 190.80739 201.381494 \nL 191.142525 198.258417 \nL 191.47766 196.177255 \nL 191.812796 198.642543 \nL 192.483066 198.390833 \nL 192.818201 194.883614 \nL 193.153336 195.184076 \nL 194.158742 188.42601 \nL 194.493877 189.432043 \nL 194.829012 187.778107 \nL 195.164147 184.526135 \nL 195.499282 184.276345 \nL 195.834417 184.581246 \nL 196.169552 186.331468 \nL 197.174958 196.540116 \nL 197.510093 194.142341 \nL 197.845228 192.912882 \nL 198.180363 192.275989 \nL 198.515498 191.399871 \nL 198.850633 191.174368 \nL 199.185769 189.405497 \nL 199.520904 188.526576 \nL 199.856039 190.671688 \nL 200.191174 190.938709 \nL 200.526309 191.831385 \nL 200.861444 198.444607 \nL 201.531715 200.305527 \nL 201.86685 203.206638 \nL 202.201985 203.24618 \nL 202.53712 206.436036 \nL 202.872255 203.743328 \nL 203.20739 204.16173 \nL 203.542525 204.28373 \nL 203.87766 206.63163 \nL 204.212796 204.939455 \nL 204.547931 199.876593 \nL 204.883066 201.642176 \nL 205.888471 193.614261 \nL 206.558742 191.412627 \nL 206.893877 193.930351 \nL 207.229012 198.398739 \nL 207.899282 192.425615 \nL 208.569552 186.201951 \nL 208.904687 189.076042 \nL 209.239823 188.874394 \nL 209.574958 187.276 \nL 210.245228 181.611778 \nL 210.580363 184.500214 \nL 210.915498 183.742169 \nL 211.250633 183.477821 \nL 211.585769 184.308646 \nL 211.920904 184.120509 \nL 212.256039 185.912918 \nL 212.591174 184.410175 \nL 212.926309 183.910316 \nL 213.261444 188.018903 \nL 213.596579 181.50594 \nL 213.931715 182.86868 \nL 214.26685 183.496384 \nL 214.601985 183.885984 \nL 214.93712 182.285198 \nL 215.272255 182.367696 \nL 215.60739 182.140122 \nL 215.942525 181.584714 \nL 216.27766 180.741813 \nL 216.612796 181.223902 \nL 217.283066 186.419171 \nL 217.618201 186.554548 \nL 217.953336 183.327083 \nL 218.288471 183.013282 \nL 218.623606 183.570912 \nL 218.958742 183.867986 \nL 219.293877 186.379421 \nL 219.629012 184.175922 \nL 219.964147 184.398427 \nL 220.299282 183.805276 \nL 220.634417 183.934437 \nL 220.969552 182.329958 \nL 221.304688 178.273212 \nL 221.639823 179.327795 \nL 221.974958 176.673438 \nL 222.310093 182.06403 \nL 222.980363 175.618445 \nL 223.315498 175.565964 \nL 223.650633 174.456037 \nL 224.320904 174.096741 \nL 224.656039 177.665917 \nL 224.991174 177.414416 \nL 225.326309 178.692708 \nL 225.661444 177.002482 \nL 225.996579 176.195003 \nL 226.331715 175.849748 \nL 226.66685 174.820962 \nL 227.33712 170.967916 \nL 228.342525 162.442346 \nL 228.67766 161.614401 \nL 229.012796 158.140056 \nL 229.347931 157.914404 \nL 229.683066 161.387669 \nL 230.018201 157.737012 \nL 230.353336 156.452846 \nL 230.688471 156.571837 \nL 231.023606 154.908443 \nL 231.358742 153.843372 \nL 231.693877 151.307161 \nL 232.029012 147.375472 \nL 232.364147 148.525437 \nL 232.699282 147.44247 \nL 233.034417 150.443054 \nL 233.369552 150.816848 \nL 233.704687 149.881365 \nL 234.039823 150.394185 \nL 234.374958 148.91519 \nL 234.710093 149.465363 \nL 235.380363 146.490474 \nL 235.715498 149.712364 \nL 236.050633 150.592478 \nL 236.385769 149.790111 \nL 236.720904 151.532578 \nL 237.056039 151.43751 \nL 237.391174 151.803176 \nL 237.726309 151.20297 \nL 238.061444 149.956221 \nL 238.396579 153.696966 \nL 238.731715 152.302241 \nL 239.06685 152.731031 \nL 239.401985 151.453158 \nL 239.73712 148.058358 \nL 240.742525 143.692453 \nL 241.412796 141.656901 \nL 242.083066 132.329057 \nL 243.088471 125.604794 \nL 243.423606 125.017906 \nL 243.758742 125.676319 \nL 244.093877 123.555702 \nL 244.429012 123.96493 \nL 244.764147 123.017207 \nL 245.099282 125.328328 \nL 245.434417 125.360937 \nL 245.769552 125.876391 \nL 246.104688 125.271523 \nL 246.439823 122.678268 \nL 246.774958 116.451854 \nL 247.110093 115.884472 \nL 247.445228 115.60706 \nL 247.780363 114.765819 \nL 248.115498 115.897683 \nL 248.450633 117.815937 \nL 248.785769 120.427007 \nL 249.120904 116.10928 \nL 249.456039 114.656911 \nL 249.791174 114.949172 \nL 250.126309 114.506675 \nL 250.461444 114.308372 \nL 250.796579 113.168442 \nL 251.131715 112.930985 \nL 251.46685 114.630777 \nL 251.801985 113.441007 \nL 252.13712 113.091231 \nL 252.472255 114.897542 \nL 252.80739 113.497913 \nL 253.142525 116.142142 \nL 253.812796 124.897179 \nL 254.147931 124.224111 \nL 254.483066 122.516005 \nL 255.823606 113.795637 \nL 256.158742 109.646521 \nL 256.493877 111.499313 \nL 256.829012 108.471834 \nL 257.164147 106.816396 \nL 257.834417 101.23035 \nL 258.169552 102.463302 \nL 259.174958 95.704884 \nL 260.180363 91.512721 \nL 260.515498 94.288089 \nL 260.850633 93.692711 \nL 261.185769 94.304689 \nL 261.856039 96.441108 \nL 262.191174 96.96083 \nL 262.526309 97.69333 \nL 262.861444 93.861673 \nL 263.196579 94.252937 \nL 263.531715 92.690844 \nL 263.86685 98.01867 \nL 264.201985 97.611824 \nL 264.53712 96.64571 \nL 264.872255 94.14727 \nL 265.20739 98.53607 \nL 265.542525 96.162182 \nL 265.87766 97.712083 \nL 266.212796 97.431576 \nL 266.547931 100.056803 \nL 266.883066 95.54926 \nL 267.218201 100.363467 \nL 267.553336 102.339393 \nL 267.888471 102.750023 \nL 268.223606 101.467949 \nL 268.558742 104.563246 \nL 268.893877 103.360823 \nL 269.229012 105.005136 \nL 269.564147 103.614563 \nL 269.899282 101.687469 \nL 270.234417 100.751468 \nL 270.569552 102.832907 \nL 270.904687 105.63221 \nL 271.239823 109.717507 \nL 271.910093 104.127807 \nL 272.245228 103.457731 \nL 272.580363 106.208123 \nL 272.915498 102.120904 \nL 273.250633 105.737942 \nL 273.585769 104.202427 \nL 273.920904 105.745155 \nL 274.256039 105.355499 \nL 274.591174 107.035709 \nL 274.926309 106.868593 \nL 275.261444 104.301134 \nL 275.596579 105.657858 \nL 276.26685 97.119938 \nL 276.601985 99.967961 \nL 276.93712 101.365974 \nL 277.272255 102.183277 \nL 277.60739 101.290132 \nL 277.942525 104.081956 \nL 278.27766 103.865651 \nL 278.612796 102.777836 \nL 278.947931 102.44578 \nL 279.618201 105.054947 \nL 280.288471 102.579348 \nL 280.623606 102.51043 \nL 280.958742 99.580364 \nL 281.293877 99.993985 \nL 281.629012 97.174254 \nL 281.964147 104.077602 \nL 282.634417 101.550411 \nL 282.969552 96.363385 \nL 283.304688 97.497176 \nL 283.639823 94.232505 \nL 283.974958 98.238362 \nL 284.310093 94.284888 \nL 284.645228 93.294898 \nL 284.980363 90.032645 \nL 285.315498 90.539749 \nL 285.650633 92.180697 \nL 285.985769 91.816344 \nL 286.656039 90.288415 \nL 286.991174 91.013677 \nL 287.326309 92.226546 \nL 287.661444 89.804373 \nL 287.996579 90.911185 \nL 288.331715 93.088373 \nL 289.001985 89.908051 \nL 289.33712 92.036195 \nL 289.672255 93.007796 \nL 290.00739 91.865954 \nL 290.342525 93.856862 \nL 290.67766 92.545208 \nL 291.347931 87.966681 \nL 291.683066 87.997861 \nL 292.018201 86.999541 \nL 292.353336 91.373994 \nL 292.688471 87.622998 \nL 293.023606 87.393807 \nL 293.358742 87.400393 \nL 294.029012 92.898239 \nL 294.364147 93.97768 \nL 295.034417 85.330611 \nL 295.369552 86.204106 \nL 295.704687 88.622144 \nL 296.039823 90.003752 \nL 297.045228 81.346667 \nL 297.380363 80.945933 \nL 297.715498 82.295609 \nL 298.050633 80.241782 \nL 298.720904 85.05249 \nL 299.056039 83.905144 \nL 299.391174 84.973294 \nL 299.726309 81.717178 \nL 300.061444 82.936702 \nL 300.396579 86.842015 \nL 301.06685 89.449653 \nL 301.401985 89.601357 \nL 301.73712 86.730836 \nL 302.40739 91.165899 \nL 302.742525 91.609353 \nL 303.07766 91.216942 \nL 303.747931 88.630848 \nL 304.083066 90.775253 \nL 304.418201 89.868366 \nL 304.753336 87.947593 \nL 305.088471 91.815794 \nL 305.423606 92.084186 \nL 305.758742 93.15664 \nL 306.093877 92.517927 \nL 306.764147 93.804783 \nL 307.099282 91.889802 \nL 307.434417 91.693473 \nL 307.769552 87.140881 \nL 308.104688 84.751076 \nL 308.439823 84.059953 \nL 308.774958 83.722329 \nL 309.110093 82.754708 \nL 309.445228 83.634394 \nL 309.780363 80.05933 \nL 310.115498 77.902046 \nL 310.450633 77.51267 \nL 310.785769 72.471065 \nL 311.120904 73.078395 \nL 311.456039 74.144625 \nL 311.791174 73.149125 \nL 312.126309 70.476556 \nL 312.461444 73.966818 \nL 312.796579 74.117389 \nL 313.131715 76.814843 \nL 313.46685 72.200821 \nL 313.801985 80.342919 \nL 314.13712 80.856755 \nL 314.472255 84.992007 \nL 314.80739 87.574283 \nL 315.142525 87.560538 \nL 315.47766 88.386946 \nL 315.812796 90.12988 \nL 316.147931 90.341514 \nL 316.483066 89.735796 \nL 316.818201 90.564888 \nL 317.153336 89.212753 \nL 317.488471 89.741988 \nL 317.823606 88.834051 \nL 318.493877 83.354964 \nL 318.829012 81.138297 \nL 319.499282 81.597997 \nL 320.169552 85.512726 \nL 320.504687 86.022759 \nL 320.839823 83.549367 \nL 321.510093 81.048924 \nL 321.845228 81.573087 \nL 322.180363 76.292758 \nL 322.515498 78.250624 \nL 322.850633 77.74919 \nL 323.185769 82.001705 \nL 323.520904 80.741402 \nL 324.191174 81.58551 \nL 324.526309 82.876159 \nL 324.861444 85.118559 \nL 325.196579 83.767214 \nL 325.531715 81.248373 \nL 326.201985 85.397071 \nL 326.53712 85.127536 \nL 326.872255 87.242697 \nL 327.20739 88.257985 \nL 327.542525 82.334741 \nL 327.87766 79.952559 \nL 328.212796 80.904989 \nL 328.547931 83.460715 \nL 328.883066 84.151231 \nL 329.218201 81.763981 \nL 329.553336 81.003945 \nL 329.888471 80.730034 \nL 330.223606 79.330461 \nL 330.893877 69.394691 \nL 331.229012 69.728237 \nL 331.564147 67.425847 \nL 331.899282 66.111376 \nL 332.234417 63.223666 \nL 332.569552 63.715719 \nL 332.904687 59.421718 \nL 333.574958 55.513768 \nL 333.910093 54.789151 \nL 334.245228 52.701176 \nL 334.580363 53.390987 \nL 334.915498 53.780084 \nL 335.250633 51.971505 \nL 335.585769 50.934849 \nL 335.920904 52.685099 \nL 336.256039 53.248412 \nL 336.591174 55.819415 \nL 336.926309 56.21109 \nL 337.261444 54.277107 \nL 337.596579 53.806423 \nL 337.931715 51.437735 \nL 338.26685 51.194383 \nL 338.601985 52.316037 \nL 339.272255 50.375078 \nL 339.60739 48.452894 \nL 339.942525 48.766395 \nL 340.612796 44.317838 \nL 340.947931 42.907408 \nL 341.283066 44.920276 \nL 341.618201 47.888959 \nL 341.953336 47.137776 \nL 342.288471 41.264544 \nL 342.958742 39.875351 \nL 343.293877 40.168343 \nL 343.629012 39.767119 \nL 343.964147 37.768025 \nL 344.299282 37.471186 \nL 344.634417 35.952929 \nL 344.969552 35.864083 \nL 345.304688 37.670097 \nL 345.639823 37.557118 \nL 345.974958 38.388554 \nL 346.645228 31.312524 \nL 346.980363 31.544011 \nL 347.315498 28.788657 \nL 347.650633 28.397475 \nL 347.985769 24.403426 \nL 348.320904 27.085057 \nL 348.656039 26.284163 \nL 348.991174 27.66017 \nL 349.326309 28.102179 \nL 349.661444 22.680665 \nL 349.996579 23.760925 \nL 350.331715 23.148349 \nL 350.66685 23.313484 \nL 351.001985 28.483189 \nL 351.33712 31.894075 \nL 351.672255 32.830814 \nL 352.00739 31.497407 \nL 352.342525 28.172816 \nL 352.67766 27.382393 \nL 353.012796 22.319532 \nL 353.683066 19.48157 \nL 354.018201 18.888245 \nL 354.353336 21.193589 \nL 354.688471 17.957863 \nL 355.023606 20.284823 \nL 355.358742 25.0465 \nL 355.693877 24.060658 \nL 356.029012 25.047302 \nL 356.364147 24.031746 \nL 357.369552 19.705809 \nL 357.704687 19.012291 \nL 358.039823 17.083636 \nL 359.715498 31.782085 \nL 360.050633 29.51462 \nL 360.385769 31.181285 \nL 360.720904 30.099885 \nL 361.056039 35.229432 \nL 361.726309 33.24216 \nL 362.061444 35.8046 \nL 362.396579 29.468844 \nL 362.731715 29.17423 \nL 363.06685 30.054418 \nL 363.401985 28.448645 \nL 363.73712 27.637084 \nL 364.072255 29.009782 \nL 364.40739 28.379789 \nL 365.412796 43.75445 \nL 365.747931 41.796339 \nL 366.083066 44.278801 \nL 366.753336 42.259469 \nL 367.423606 46.281461 \nL 367.758742 45.442352 \nL 368.093877 43.916411 \nL 368.429012 43.318597 \nL 368.764147 46.136192 \nL 369.099282 45.076727 \nL 369.434417 46.844451 \nL 369.769552 44.457736 \nL 370.104688 46.578642 \nL 370.104688 46.578642 \n\" style=\"fill:none;stroke:#1f77b4;stroke-linecap:square;stroke-width:1.5;\"/>\n   </g>\n   <g id=\"line2d_41\">\n    <path clip-path=\"url(#p248e1a3436)\" d=\"M 35.304688 164.189927 \nL 35.639823 164.975042 \nL 35.974958 165.034397 \nL 36.310093 164.206225 \nL 36.645228 168.728485 \nL 36.980363 166.170165 \nL 37.315498 166.572805 \nL 37.650633 167.432345 \nL 37.985769 164.258039 \nL 38.656039 160.981957 \nL 38.991174 164.125122 \nL 39.326309 161.268695 \nL 39.661444 161.687193 \nL 39.996579 160.481464 \nL 41.001985 155.261508 \nL 41.33712 158.267008 \nL 41.672255 159.316518 \nL 42.00739 159.7351 \nL 42.342525 155.29878 \nL 43.012796 155.114322 \nL 43.347931 154.529992 \nL 43.683066 153.048122 \nL 44.018201 153.812377 \nL 44.353336 148.712432 \nL 45.023606 150.950252 \nL 45.358742 146.798292 \nL 45.693877 147.180631 \nL 46.029012 146.232864 \nL 46.364147 146.658921 \nL 46.699282 142.852492 \nL 47.034417 144.518566 \nL 47.369552 144.871397 \nL 47.704687 145.06287 \nL 48.039823 146.137224 \nL 48.710093 147.018065 \nL 49.045228 148.23611 \nL 49.380363 148.513184 \nL 49.715498 148.059201 \nL 50.050633 150.222906 \nL 50.385769 147.644389 \nL 50.720904 148.894603 \nL 51.056039 153.136379 \nL 51.391174 151.847655 \nL 51.726309 155.597084 \nL 52.061444 156.66781 \nL 52.396579 155.301272 \nL 52.731715 155.091025 \nL 53.401985 151.415016 \nL 53.73712 146.148641 \nL 54.072255 146.874634 \nL 54.40739 148.610863 \nL 54.742525 149.727487 \nL 55.07766 149.181551 \nL 55.412796 146.79799 \nL 55.747931 148.109047 \nL 56.083066 147.551447 \nL 56.418201 151.7098 \nL 56.753336 149.897987 \nL 57.088471 149.404239 \nL 57.423606 146.134885 \nL 57.758742 147.6522 \nL 58.429012 143.537607 \nL 58.764147 144.168007 \nL 59.099282 145.690305 \nL 59.434417 145.380407 \nL 59.769552 139.285767 \nL 60.104688 137.913745 \nL 60.774958 131.141996 \nL 61.110093 130.42975 \nL 61.445228 131.033345 \nL 61.780363 131.138764 \nL 62.115498 129.462928 \nL 62.450633 131.605395 \nL 62.785769 129.617043 \nL 63.120904 130.02123 \nL 63.456039 128.992955 \nL 63.791174 126.801884 \nL 64.126309 129.0101 \nL 64.461444 130.265755 \nL 65.131715 126.861506 \nL 65.46685 126.433194 \nL 65.801985 129.542318 \nL 66.13712 127.293968 \nL 66.472255 128.433102 \nL 66.80739 127.926871 \nL 67.142525 125.684438 \nL 67.47766 125.538622 \nL 67.812796 127.755525 \nL 68.147931 128.076321 \nL 68.483066 124.532911 \nL 68.818201 131.619452 \nL 69.153336 129.376437 \nL 70.158742 118.949655 \nL 70.493877 116.347758 \nL 71.164147 118.706396 \nL 71.834417 115.791495 \nL 72.169552 119.29165 \nL 72.504687 127.070468 \nL 72.839823 127.434574 \nL 73.174958 130.842546 \nL 73.510093 129.093157 \nL 73.845228 125.897107 \nL 74.180363 125.236651 \nL 74.515498 125.191645 \nL 74.850633 126.139443 \nL 75.185769 130.289562 \nL 75.520904 129.623998 \nL 75.856039 131.790335 \nL 76.191174 130.922327 \nL 76.526309 132.382005 \nL 76.861444 133.050632 \nL 77.196579 132.296596 \nL 77.531715 129.825983 \nL 77.86685 128.216945 \nL 78.201985 129.251034 \nL 78.872255 132.962923 \nL 79.20739 132.67111 \nL 79.542525 134.212455 \nL 79.87766 137.112206 \nL 80.212796 141.053421 \nL 80.547931 143.202812 \nL 80.883066 143.093435 \nL 81.553336 146.507204 \nL 81.888471 151.322458 \nL 82.223606 153.197068 \nL 82.558742 152.640984 \nL 82.893877 151.495654 \nL 83.229012 153.746391 \nL 83.564147 153.332092 \nL 83.899282 150.135742 \nL 84.234417 150.143697 \nL 84.569552 145.645716 \nL 84.904687 147.095254 \nL 85.239823 151.149637 \nL 85.574958 151.039804 \nL 85.910093 151.507355 \nL 86.245228 153.35376 \nL 86.580363 149.45858 \nL 86.915498 153.409671 \nL 87.250633 153.616263 \nL 87.920904 149.939029 \nL 88.926309 156.014004 \nL 89.261444 156.036468 \nL 89.596579 152.815355 \nL 89.931715 155.395549 \nL 90.601985 152.482906 \nL 90.93712 156.570196 \nL 91.272255 156.001193 \nL 91.60739 149.617908 \nL 91.942525 151.112392 \nL 92.27766 151.06227 \nL 92.612796 147.612892 \nL 92.947931 146.892888 \nL 93.283066 147.379555 \nL 93.618201 148.315211 \nL 93.953336 144.536865 \nL 94.288471 146.041681 \nL 94.623606 146.469064 \nL 94.958742 146.55728 \nL 95.293877 145.709659 \nL 95.629012 149.838862 \nL 95.964147 150.396553 \nL 96.299282 150.2599 \nL 96.634417 150.921195 \nL 96.969552 152.956544 \nL 97.304688 152.72483 \nL 97.639823 151.864704 \nL 97.974958 155.407191 \nL 98.310093 156.659445 \nL 98.645228 154.241031 \nL 98.980363 155.611293 \nL 99.315498 157.803025 \nL 99.650633 157.716945 \nL 99.985769 159.617965 \nL 100.320904 159.600495 \nL 100.656039 164.367906 \nL 100.991174 165.575713 \nL 101.326309 168.386429 \nL 101.661444 164.111897 \nL 101.996579 165.424514 \nL 102.331715 164.290225 \nL 102.66685 166.310754 \nL 103.001985 165.599171 \nL 103.33712 161.099411 \nL 104.00739 164.213939 \nL 104.342525 164.557452 \nL 104.67766 167.318785 \nL 105.012796 167.063693 \nL 105.347931 167.515394 \nL 105.683066 166.298884 \nL 106.018201 168.012522 \nL 106.353336 166.295051 \nL 106.688471 168.380031 \nL 107.023606 169.7383 \nL 107.358742 171.870719 \nL 107.693877 166.056077 \nL 108.029012 168.225555 \nL 108.364147 167.789786 \nL 109.034417 163.56095 \nL 109.369552 167.185227 \nL 109.704687 165.097718 \nL 110.039823 163.774259 \nL 110.374958 165.735343 \nL 111.045228 164.28952 \nL 111.380363 163.675918 \nL 111.715498 167.28936 \nL 112.050633 168.958889 \nL 112.720904 175.295231 \nL 113.056039 176.31424 \nL 113.391174 176.748619 \nL 113.726309 170.41311 \nL 114.061444 168.903797 \nL 114.396579 168.558303 \nL 114.731715 171.070986 \nL 115.06685 169.616186 \nL 115.401985 169.315691 \nL 115.73712 171.803559 \nL 116.072255 172.644065 \nL 116.40739 167.956957 \nL 116.742525 168.779027 \nL 117.07766 165.846193 \nL 117.747931 168.495767 \nL 118.083066 170.878085 \nL 118.418201 168.2803 \nL 118.753336 164.058749 \nL 119.088471 163.407761 \nL 119.423606 159.151569 \nL 119.758742 158.587213 \nL 120.093877 156.421729 \nL 120.429012 155.817154 \nL 120.764147 153.884926 \nL 121.099282 155.635071 \nL 121.769552 157.633646 \nL 122.104688 163.639113 \nL 122.439823 162.740675 \nL 122.774958 161.477726 \nL 123.110093 161.757755 \nL 123.445228 168.119281 \nL 123.780363 167.314908 \nL 124.115498 169.301925 \nL 125.120904 177.649371 \nL 125.456039 179.524968 \nL 125.791174 179.014954 \nL 126.126309 179.226195 \nL 126.461444 178.993873 \nL 126.796579 177.716092 \nL 127.131715 177.212907 \nL 127.46685 177.066485 \nL 127.801985 179.296289 \nL 128.13712 177.276899 \nL 128.472255 174.015819 \nL 128.80739 175.419214 \nL 129.142525 174.933355 \nL 129.47766 171.820694 \nL 129.812796 171.363738 \nL 130.147931 169.40256 \nL 130.483066 168.753812 \nL 130.818201 171.878847 \nL 131.153336 170.067366 \nL 131.488471 172.661143 \nL 131.823606 172.571228 \nL 132.158742 171.392885 \nL 132.493877 170.964603 \nL 132.829012 169.317168 \nL 133.164147 171.322664 \nL 133.834417 168.518553 \nL 134.169552 166.54742 \nL 134.504687 167.265822 \nL 134.839823 165.48673 \nL 135.174958 164.503584 \nL 135.510093 160.285157 \nL 135.845228 160.292255 \nL 136.180363 159.081185 \nL 136.850633 157.846955 \nL 137.185769 160.088635 \nL 137.520904 156.748811 \nL 137.856039 156.812286 \nL 138.191174 159.571104 \nL 138.526309 156.534614 \nL 138.861444 157.347214 \nL 139.196579 154.11264 \nL 140.201985 157.63196 \nL 140.53712 153.70723 \nL 140.872255 152.912484 \nL 141.542525 150.593735 \nL 142.212796 154.182233 \nL 142.547931 156.550525 \nL 142.883066 155.262915 \nL 143.218201 154.952558 \nL 143.553336 153.785602 \nL 144.223606 156.801927 \nL 144.558742 156.729246 \nL 144.893877 157.155899 \nL 145.229012 155.418187 \nL 145.564147 156.4309 \nL 145.899282 158.367242 \nL 146.234417 157.136016 \nL 146.569552 158.00645 \nL 146.904687 161.142655 \nL 147.239823 165.481188 \nL 147.574958 166.280682 \nL 147.910093 166.274729 \nL 148.245228 165.97654 \nL 148.580363 164.803678 \nL 148.915498 167.432486 \nL 149.250633 163.692089 \nL 149.585769 165.042993 \nL 149.920904 164.003228 \nL 150.591174 160.154807 \nL 150.926309 162.625674 \nL 151.596579 158.839191 \nL 151.931715 156.36262 \nL 152.26685 157.579717 \nL 152.601985 158.11779 \nL 152.93712 156.944389 \nL 153.60739 154.289924 \nL 153.942525 157.407124 \nL 154.27766 157.913774 \nL 154.612796 160.511607 \nL 154.947931 161.710756 \nL 155.283066 160.756122 \nL 155.618201 163.681466 \nL 155.953336 163.541332 \nL 156.288471 159.94116 \nL 156.623606 159.038945 \nL 156.958742 155.843236 \nL 157.293877 157.308825 \nL 157.964147 156.138372 \nL 158.299282 153.4457 \nL 158.634417 148.089018 \nL 159.304688 149.643377 \nL 159.639823 149.707536 \nL 159.974958 149.133506 \nL 160.310093 150.998906 \nL 160.645228 151.965318 \nL 160.980363 154.118474 \nL 161.985769 150.678993 \nL 162.320904 151.425736 \nL 162.656039 148.721738 \nL 162.991174 148.797984 \nL 163.326309 149.125194 \nL 163.661444 147.908525 \nL 163.996579 145.144613 \nL 164.66685 150.088684 \nL 165.33712 148.345072 \nL 165.672255 150.688478 \nL 166.00739 150.772046 \nL 166.342525 153.109961 \nL 166.67766 151.706771 \nL 167.012796 153.420832 \nL 167.347931 156.87637 \nL 168.018201 158.213347 \nL 168.353336 155.924423 \nL 169.023606 158.192333 \nL 169.358742 155.926933 \nL 169.693877 158.204971 \nL 170.029012 159.292784 \nL 170.364147 158.612878 \nL 170.699282 161.855074 \nL 171.034417 161.633307 \nL 171.369552 160.225055 \nL 171.704687 160.997891 \nL 172.039823 159.023971 \nL 172.374958 160.173789 \nL 172.710093 161.879852 \nL 173.380363 161.094138 \nL 173.715498 164.7192 \nL 174.050633 161.78128 \nL 174.385769 164.340295 \nL 175.056039 161.391413 \nL 175.391174 160.667504 \nL 175.726309 158.433428 \nL 176.396579 151.739056 \nL 176.731715 152.809219 \nL 177.06685 158.521436 \nL 177.401985 157.12729 \nL 177.73712 157.469942 \nL 178.40739 153.018706 \nL 178.742525 155.57741 \nL 179.07766 159.832588 \nL 179.412796 160.370552 \nL 179.747931 157.271255 \nL 180.083066 156.549676 \nL 180.418201 161.836435 \nL 181.423606 158.635679 \nL 181.758742 158.699386 \nL 182.093877 157.824841 \nL 182.429012 157.681569 \nL 182.764147 156.027539 \nL 183.099282 157.757094 \nL 183.434417 160.205568 \nL 183.769552 159.908307 \nL 184.104688 157.339107 \nL 184.439823 153.289439 \nL 185.110093 151.02317 \nL 185.445228 150.595382 \nL 185.780363 147.879648 \nL 186.115498 147.61005 \nL 186.785769 148.646547 \nL 187.120904 149.756722 \nL 187.456039 149.489916 \nL 187.791174 151.331057 \nL 188.126309 151.380584 \nL 188.461444 148.624001 \nL 188.796579 153.015927 \nL 189.131715 154.73561 \nL 189.801985 145.363893 \nL 190.13712 146.240937 \nL 190.472255 144.404 \nL 191.142525 135.570154 \nL 191.47766 135.6201 \nL 191.812796 137.908923 \nL 192.147931 133.999709 \nL 192.483066 135.630881 \nL 192.818201 135.520866 \nL 193.153336 137.21838 \nL 193.488471 136.44314 \nL 193.823606 137.514685 \nL 194.493877 133.907364 \nL 194.829012 135.031957 \nL 195.164147 135.365266 \nL 195.499282 134.200714 \nL 195.834417 135.126015 \nL 196.169552 131.654747 \nL 196.504687 134.104444 \nL 196.839823 132.584719 \nL 197.174958 133.798217 \nL 197.510093 132.152652 \nL 197.845228 132.3883 \nL 198.180363 133.081195 \nL 198.850633 128.894162 \nL 199.185769 126.979747 \nL 199.520904 128.308714 \nL 199.856039 125.520824 \nL 200.191174 130.002676 \nL 200.526309 129.121458 \nL 200.861444 131.544909 \nL 201.531715 133.141276 \nL 202.201985 138.053674 \nL 202.53712 137.982549 \nL 202.872255 138.255667 \nL 203.20739 136.596745 \nL 203.542525 131.49413 \nL 203.87766 128.629761 \nL 204.212796 126.848627 \nL 204.883066 125.965387 \nL 205.218201 125.48737 \nL 205.553336 120.617106 \nL 205.888471 117.478969 \nL 206.223606 115.833234 \nL 206.558742 113.466933 \nL 206.893877 112.674807 \nL 207.229012 116.774913 \nL 207.564147 114.747257 \nL 207.899282 117.278101 \nL 208.234417 118.863429 \nL 208.569552 117.093772 \nL 208.904687 117.132232 \nL 209.239823 116.388243 \nL 209.574958 117.340543 \nL 209.910093 116.794071 \nL 210.245228 119.118069 \nL 210.580363 117.214911 \nL 210.915498 116.860149 \nL 211.250633 118.589182 \nL 211.920904 124.109873 \nL 212.926309 112.526141 \nL 213.261444 112.602827 \nL 213.596579 111.750965 \nL 213.931715 113.252312 \nL 214.26685 112.603729 \nL 214.601985 110.173382 \nL 215.60739 115.108305 \nL 215.942525 116.952195 \nL 216.27766 113.377276 \nL 216.612796 111.882375 \nL 216.947931 112.316731 \nL 217.283066 111.115338 \nL 217.618201 111.44265 \nL 217.953336 109.871226 \nL 218.623606 113.16506 \nL 218.958742 111.076399 \nL 219.629012 113.00449 \nL 219.964147 109.269566 \nL 220.299282 107.167408 \nL 220.634417 104.174416 \nL 220.969552 105.474788 \nL 221.304688 105.396324 \nL 221.639823 103.809265 \nL 221.974958 103.042323 \nL 222.645228 100.123764 \nL 222.980363 97.691961 \nL 223.315498 97.935683 \nL 223.985769 95.105774 \nL 224.656039 98.964198 \nL 224.991174 100.174696 \nL 225.326309 97.338766 \nL 225.661444 97.366734 \nL 225.996579 96.722671 \nL 226.331715 95.453272 \nL 226.66685 92.739044 \nL 227.33712 96.552166 \nL 227.672255 97.107093 \nL 228.00739 101.583062 \nL 228.342525 101.469174 \nL 229.012796 106.276063 \nL 229.347931 105.62083 \nL 230.018201 99.468705 \nL 230.353336 102.369784 \nL 230.688471 103.634622 \nL 231.023606 104.342802 \nL 231.358742 101.073248 \nL 231.693877 103.224198 \nL 232.029012 104.388492 \nL 232.364147 102.458997 \nL 232.699282 105.103583 \nL 233.034417 100.373868 \nL 233.704687 93.904729 \nL 234.039823 93.640681 \nL 234.374958 95.881392 \nL 235.045228 101.471169 \nL 235.380363 100.56899 \nL 235.715498 98.606088 \nL 236.050633 99.030552 \nL 236.385769 98.595635 \nL 236.720904 99.198312 \nL 237.056039 99.502226 \nL 237.391174 102.152071 \nL 238.061444 104.3776 \nL 238.396579 107.512434 \nL 238.731715 105.396842 \nL 239.06685 108.257338 \nL 239.401985 107.696067 \nL 239.73712 107.391586 \nL 240.072255 106.383734 \nL 240.40739 108.128867 \nL 240.742525 112.67438 \nL 241.412796 109.892774 \nL 241.747931 113.941107 \nL 242.083066 108.51977 \nL 242.753336 114.356249 \nL 243.088471 113.874275 \nL 243.423606 110.418471 \nL 243.758742 115.497769 \nL 244.093877 114.909508 \nL 244.429012 117.260629 \nL 244.764147 114.855652 \nL 245.099282 117.600707 \nL 245.769552 119.179924 \nL 246.104688 122.66863 \nL 246.439823 121.990128 \nL 247.110093 118.851832 \nL 247.780363 121.398131 \nL 248.115498 119.577214 \nL 248.450633 124.438526 \nL 248.785769 123.473835 \nL 249.120904 121.867843 \nL 249.456039 117.953721 \nL 249.791174 117.950507 \nL 250.126309 117.651888 \nL 250.461444 120.356713 \nL 250.796579 118.944276 \nL 251.131715 122.130084 \nL 251.46685 122.164368 \nL 251.801985 124.736581 \nL 252.13712 123.947886 \nL 252.472255 122.007623 \nL 252.80739 122.999852 \nL 253.142525 123.356664 \nL 253.47766 122.871723 \nL 253.812796 123.441083 \nL 254.147931 123.520931 \nL 254.483066 124.095333 \nL 254.818201 125.12055 \nL 255.153336 126.815195 \nL 255.488471 126.723651 \nL 255.823606 126.969067 \nL 256.158742 125.600695 \nL 256.493877 130.341036 \nL 256.829012 129.431454 \nL 257.499282 130.176773 \nL 257.834417 127.522782 \nL 258.504687 126.239889 \nL 258.839823 126.64422 \nL 259.174958 128.812227 \nL 259.845228 131.271633 \nL 260.180363 129.546946 \nL 260.515498 131.912058 \nL 260.850633 132.272606 \nL 261.185769 126.312765 \nL 261.520904 125.466108 \nL 261.856039 128.897425 \nL 262.191174 127.79972 \nL 262.526309 125.034945 \nL 262.861444 125.832812 \nL 263.196579 127.671606 \nL 263.531715 127.607763 \nL 264.201985 120.328039 \nL 264.53712 117.176314 \nL 265.20739 114.455055 \nL 265.542525 117.232852 \nL 266.212796 111.701664 \nL 266.547931 114.800169 \nL 266.883066 116.560929 \nL 267.218201 113.975092 \nL 267.553336 110.110685 \nL 268.223606 107.982126 \nL 268.558742 111.028464 \nL 268.893877 109.233592 \nL 269.229012 109.12033 \nL 269.564147 109.968939 \nL 269.899282 109.14724 \nL 270.234417 106.27356 \nL 270.569552 104.947563 \nL 270.904687 111.570206 \nL 271.239823 112.361786 \nL 271.574958 109.419247 \nL 271.910093 112.794353 \nL 272.245228 111.778912 \nL 272.580363 112.384886 \nL 272.915498 114.051942 \nL 273.250633 114.630018 \nL 273.585769 112.668718 \nL 273.920904 116.621257 \nL 274.256039 113.33788 \nL 274.591174 111.759067 \nL 274.926309 116.840037 \nL 275.261444 115.959608 \nL 275.596579 117.65876 \nL 275.931715 124.111753 \nL 276.26685 121.459366 \nL 276.601985 123.70528 \nL 276.93712 122.683459 \nL 277.272255 119.851232 \nL 277.60739 112.886691 \nL 277.942525 111.958483 \nL 278.27766 112.832101 \nL 278.612796 110.102196 \nL 278.947931 113.839176 \nL 279.283066 112.354278 \nL 279.618201 112.231511 \nL 279.953336 111.004469 \nL 280.288471 114.373453 \nL 280.623606 112.919587 \nL 280.958742 115.384197 \nL 281.293877 114.313394 \nL 281.629012 118.460065 \nL 281.964147 112.970869 \nL 282.299282 113.59728 \nL 282.634417 117.247675 \nL 282.969552 116.941589 \nL 283.304688 115.04214 \nL 283.639823 117.21182 \nL 283.974958 116.421045 \nL 284.310093 118.889048 \nL 284.645228 116.912455 \nL 284.980363 117.285395 \nL 285.315498 111.573805 \nL 285.650633 109.556789 \nL 285.985769 106.687872 \nL 286.320904 105.98092 \nL 286.656039 105.956845 \nL 286.991174 102.611828 \nL 287.326309 103.682614 \nL 287.661444 106.302883 \nL 287.996579 104.743824 \nL 288.331715 97.942775 \nL 289.001985 104.4046 \nL 289.33712 108.992475 \nL 289.672255 108.571541 \nL 290.00739 103.271143 \nL 290.342525 105.440359 \nL 290.67766 106.33069 \nL 291.012796 105.687963 \nL 291.347931 105.454156 \nL 291.683066 105.642409 \nL 292.018201 104.916261 \nL 292.353336 110.648526 \nL 292.688471 113.750514 \nL 293.023606 112.68286 \nL 293.358742 113.530263 \nL 293.693877 113.212108 \nL 294.029012 109.822278 \nL 294.364147 110.31068 \nL 294.699282 110.283217 \nL 295.034417 113.959425 \nL 295.369552 114.376194 \nL 295.704687 115.46797 \nL 296.039823 113.979992 \nL 296.374958 110.235767 \nL 296.710093 107.993573 \nL 297.380363 112.208199 \nL 297.715498 112.023831 \nL 298.050633 113.545681 \nL 298.385769 114.371738 \nL 299.391174 119.380544 \nL 299.726309 121.583325 \nL 300.061444 118.838321 \nL 300.396579 113.687001 \nL 300.731715 112.481769 \nL 301.06685 105.575705 \nL 301.401985 105.580819 \nL 301.73712 105.845159 \nL 302.072255 107.870508 \nL 302.40739 107.12751 \nL 302.742525 106.979395 \nL 303.412796 104.184916 \nL 304.083066 109.424907 \nL 304.418201 113.748862 \nL 304.753336 113.015266 \nL 305.088471 113.449939 \nL 305.423606 112.898409 \nL 305.758742 111.781947 \nL 306.093877 113.235492 \nL 306.429012 115.578361 \nL 306.764147 115.375486 \nL 307.099282 117.001942 \nL 307.769552 117.799504 \nL 308.104688 116.700172 \nL 308.439823 118.628056 \nL 308.774958 117.102415 \nL 309.110093 117.393497 \nL 309.445228 121.244107 \nL 309.780363 123.516445 \nL 310.115498 121.932308 \nL 310.450633 124.733069 \nL 310.785769 125.281923 \nL 311.120904 124.794126 \nL 311.456039 118.667198 \nL 311.791174 120.300308 \nL 312.126309 124.302644 \nL 312.461444 126.363039 \nL 313.131715 115.969529 \nL 313.46685 115.372514 \nL 313.801985 115.580475 \nL 314.13712 113.654236 \nL 314.472255 112.703195 \nL 314.80739 117.177554 \nL 315.47766 112.320855 \nL 315.812796 111.303255 \nL 316.147931 109.371281 \nL 316.483066 106.637274 \nL 316.818201 109.222307 \nL 317.153336 107.105177 \nL 317.488471 103.681486 \nL 317.823606 105.717475 \nL 318.158742 105.16096 \nL 318.493877 104.223102 \nL 318.829012 105.632495 \nL 319.164147 109.442575 \nL 319.499282 111.573346 \nL 319.834417 111.780514 \nL 321.174958 110.094827 \nL 321.510093 110.522988 \nL 321.845228 105.664148 \nL 322.180363 102.579368 \nL 322.515498 105.34956 \nL 322.850633 102.79958 \nL 323.185769 101.520555 \nL 323.520904 98.596831 \nL 324.191174 103.401061 \nL 324.526309 100.07794 \nL 324.861444 99.687682 \nL 325.196579 98.997836 \nL 325.531715 95.270005 \nL 325.86685 95.574472 \nL 326.201985 97.235971 \nL 326.53712 97.944231 \nL 326.872255 95.618737 \nL 327.542525 97.153374 \nL 327.87766 93.880399 \nL 328.212796 97.188096 \nL 328.547931 96.962515 \nL 329.218201 98.22467 \nL 329.553336 99.788447 \nL 329.888471 102.498429 \nL 330.893877 97.97462 \nL 331.229012 98.644346 \nL 331.564147 95.108976 \nL 331.899282 93.307715 \nL 332.234417 93.140089 \nL 332.569552 95.285436 \nL 333.239823 90.903068 \nL 333.574958 88.725266 \nL 333.910093 89.662558 \nL 334.245228 92.006512 \nL 334.915498 89.445722 \nL 335.250633 89.681733 \nL 335.920904 95.066307 \nL 336.256039 91.594507 \nL 336.591174 90.044819 \nL 336.926309 89.733506 \nL 337.261444 88.883061 \nL 337.596579 88.99471 \nL 337.931715 86.612918 \nL 338.601985 91.333125 \nL 338.93712 89.677147 \nL 339.272255 85.740754 \nL 339.60739 84.140298 \nL 339.942525 83.555446 \nL 340.27766 80.165639 \nL 340.612796 80.61416 \nL 340.947931 82.411724 \nL 341.283066 82.274073 \nL 341.953336 84.252831 \nL 342.288471 83.759499 \nL 342.623606 84.430624 \nL 342.958742 81.566874 \nL 343.293877 81.026953 \nL 343.964147 84.984064 \nL 344.299282 84.557304 \nL 344.634417 88.829135 \nL 344.969552 85.345087 \nL 345.304688 88.230109 \nL 345.639823 88.544521 \nL 345.974958 87.003541 \nL 346.645228 93.180835 \nL 346.980363 91.421237 \nL 347.315498 94.244001 \nL 347.650633 91.129693 \nL 347.985769 93.504089 \nL 348.320904 93.752682 \nL 348.656039 89.790109 \nL 348.991174 92.041733 \nL 349.326309 92.99969 \nL 349.661444 90.726658 \nL 349.996579 93.089 \nL 350.331715 92.754278 \nL 350.66685 95.682352 \nL 351.001985 97.248533 \nL 351.33712 94.714201 \nL 351.672255 95.951094 \nL 352.00739 95.21449 \nL 352.342525 95.82613 \nL 352.67766 94.554101 \nL 353.012796 97.955333 \nL 353.347931 99.257771 \nL 353.683066 99.791345 \nL 354.353336 101.855043 \nL 355.023606 106.50586 \nL 355.693877 110.376507 \nL 356.029012 111.356542 \nL 356.364147 108.488439 \nL 356.699282 110.280048 \nL 357.034417 111.456838 \nL 357.369552 113.592981 \nL 357.704687 114.742568 \nL 358.039823 118.830546 \nL 358.374958 120.356124 \nL 358.710093 120.133655 \nL 359.045228 119.669456 \nL 359.380363 120.110046 \nL 359.715498 117.443527 \nL 360.050633 116.692306 \nL 360.385769 115.257236 \nL 361.056039 122.046788 \nL 361.391174 118.545346 \nL 361.726309 118.158176 \nL 362.061444 121.794371 \nL 362.396579 120.632138 \nL 363.401985 110.693026 \nL 363.73712 112.895437 \nL 364.072255 112.258322 \nL 364.40739 111.986666 \nL 364.742525 112.47165 \nL 365.07766 112.381499 \nL 365.412796 112.601789 \nL 365.747931 114.431405 \nL 366.083066 114.507788 \nL 366.418201 118.592966 \nL 366.753336 116.785052 \nL 367.088471 119.252867 \nL 367.423606 119.121702 \nL 367.758742 123.870079 \nL 368.093877 122.043839 \nL 368.429012 119.185558 \nL 368.764147 119.920204 \nL 369.099282 117.705675 \nL 369.434417 116.398259 \nL 370.104688 118.354803 \nL 370.104688 118.354803 \n\" style=\"fill:none;stroke:#ff7f0e;stroke-linecap:square;stroke-width:1.5;\"/>\n   </g>\n   <g id=\"line2d_42\">\n    <path clip-path=\"url(#p248e1a3436)\" d=\"M 35.304688 166.714397 \nL 35.639823 169.921529 \nL 35.974958 167.194666 \nL 36.310093 167.562749 \nL 36.645228 165.921276 \nL 36.980363 163.550882 \nL 37.315498 168.295461 \nL 37.650633 163.973527 \nL 37.985769 163.660024 \nL 38.320904 165.980505 \nL 38.991174 164.956784 \nL 39.326309 166.246744 \nL 39.661444 168.868654 \nL 39.996579 167.942717 \nL 40.331715 169.376335 \nL 40.66685 172.700601 \nL 41.001985 174.488336 \nL 41.33712 174.845833 \nL 41.672255 174.183136 \nL 42.00739 172.820808 \nL 42.342525 172.356 \nL 42.67766 169.08446 \nL 43.012796 169.33765 \nL 43.347931 170.254601 \nL 43.683066 171.944739 \nL 44.018201 175.009358 \nL 44.353336 175.169166 \nL 44.688471 174.917336 \nL 45.023606 173.419744 \nL 45.693877 181.113543 \nL 46.029012 181.535096 \nL 46.364147 184.988919 \nL 46.699282 186.835847 \nL 47.034417 186.255999 \nL 47.369552 187.113244 \nL 47.704687 187.464147 \nL 48.039823 186.735806 \nL 48.374958 182.46991 \nL 48.710093 180.48158 \nL 49.715498 184.081073 \nL 50.050633 180.798707 \nL 50.385769 183.101515 \nL 50.720904 181.228543 \nL 51.056039 180.662233 \nL 51.391174 180.745351 \nL 51.726309 177.08851 \nL 52.061444 178.000669 \nL 52.396579 176.809397 \nL 52.731715 176.258345 \nL 53.06685 176.776083 \nL 53.401985 176.662268 \nL 53.73712 179.312681 \nL 54.072255 178.034763 \nL 54.40739 174.183358 \nL 54.742525 172.742628 \nL 55.07766 172.113746 \nL 55.412796 171.826349 \nL 56.083066 174.778189 \nL 56.418201 174.913173 \nL 56.753336 177.391043 \nL 57.088471 176.545231 \nL 57.423606 170.806653 \nL 57.758742 170.584545 \nL 58.093877 171.389274 \nL 58.429012 172.731211 \nL 58.764147 172.056208 \nL 59.099282 174.487045 \nL 59.434417 174.841423 \nL 59.769552 173.657563 \nL 60.104688 177.143326 \nL 60.439823 177.160363 \nL 60.774958 174.201734 \nL 61.110093 173.200566 \nL 61.445228 173.68437 \nL 61.780363 172.492816 \nL 62.115498 178.622867 \nL 62.450633 179.02736 \nL 62.785769 181.916706 \nL 63.120904 180.02398 \nL 63.456039 177.008431 \nL 63.791174 175.182793 \nL 64.126309 171.886535 \nL 64.461444 174.066885 \nL 64.796579 170.826676 \nL 65.131715 175.799157 \nL 65.46685 169.553491 \nL 65.801985 171.393697 \nL 66.13712 170.863061 \nL 66.472255 170.058309 \nL 66.80739 172.119936 \nL 67.47766 164.838863 \nL 67.812796 166.898649 \nL 68.147931 163.74156 \nL 68.483066 163.192985 \nL 68.818201 166.567137 \nL 69.153336 167.264089 \nL 69.488471 169.704385 \nL 69.823606 169.562375 \nL 70.158742 169.953435 \nL 70.493877 167.623605 \nL 70.829012 167.923325 \nL 71.499282 176.460639 \nL 71.834417 177.012175 \nL 72.169552 178.465044 \nL 72.504687 175.310924 \nL 72.839823 173.931367 \nL 73.174958 174.565396 \nL 73.510093 173.080875 \nL 73.845228 177.35133 \nL 74.180363 176.389307 \nL 74.515498 178.180802 \nL 74.850633 178.349372 \nL 75.185769 179.144665 \nL 75.520904 180.758833 \nL 75.856039 180.779919 \nL 76.191174 183.373375 \nL 76.526309 181.55967 \nL 76.861444 176.124785 \nL 77.196579 180.305772 \nL 77.531715 180.307673 \nL 77.86685 179.630208 \nL 78.201985 183.055484 \nL 79.542525 179.093335 \nL 79.87766 183.990095 \nL 80.212796 182.004408 \nL 80.547931 187.683073 \nL 80.883066 187.414538 \nL 81.218201 190.250588 \nL 81.553336 188.525062 \nL 82.223606 190.93475 \nL 82.893877 187.000596 \nL 83.229012 186.796913 \nL 83.564147 185.29637 \nL 84.234417 191.111636 \nL 84.569552 191.001076 \nL 84.904687 193.387692 \nL 85.239823 189.098999 \nL 85.574958 190.37337 \nL 85.910093 187.797195 \nL 86.245228 190.704298 \nL 87.585769 180.803066 \nL 88.256039 177.523815 \nL 88.591174 179.638984 \nL 89.261444 176.750084 \nL 89.596579 179.165968 \nL 89.931715 178.955319 \nL 90.601985 183.236381 \nL 90.93712 181.474237 \nL 91.272255 182.302807 \nL 91.60739 179.730226 \nL 91.942525 182.646428 \nL 92.27766 183.399769 \nL 92.612796 183.520054 \nL 92.947931 181.87363 \nL 93.283066 183.953651 \nL 93.618201 183.751764 \nL 94.288471 177.194813 \nL 94.623606 178.245734 \nL 94.958742 183.538579 \nL 95.293877 179.542464 \nL 95.629012 180.356231 \nL 95.964147 180.663772 \nL 96.299282 181.768761 \nL 96.969552 176.774243 \nL 97.974958 172.689942 \nL 98.310093 172.513853 \nL 98.645228 173.922513 \nL 98.980363 172.094723 \nL 99.315498 171.510099 \nL 99.650633 170.278328 \nL 99.985769 172.850799 \nL 100.320904 176.510643 \nL 100.656039 176.1288 \nL 100.991174 175.202346 \nL 101.326309 175.862791 \nL 101.661444 178.348341 \nL 101.996579 178.976359 \nL 102.66685 174.457505 \nL 103.001985 181.289975 \nL 103.33712 177.642698 \nL 103.672255 179.148497 \nL 104.00739 179.026151 \nL 104.342525 177.483597 \nL 104.67766 178.258327 \nL 105.012796 179.621096 \nL 105.347931 179.905695 \nL 106.018201 176.13353 \nL 106.688471 175.444528 \nL 107.023606 174.269042 \nL 108.029012 164.648606 \nL 108.699282 171.396188 \nL 109.034417 170.173552 \nL 109.369552 171.257609 \nL 109.704687 173.8895 \nL 110.039823 174.299333 \nL 110.374958 180.913244 \nL 111.045228 173.680283 \nL 111.380363 172.787907 \nL 111.715498 170.829458 \nL 112.050633 172.871417 \nL 112.385769 173.635882 \nL 112.720904 171.64255 \nL 113.056039 174.293462 \nL 113.391174 179.759167 \nL 113.726309 179.240166 \nL 114.061444 180.787511 \nL 114.396579 177.940481 \nL 114.731715 179.097859 \nL 115.06685 176.984543 \nL 115.401985 176.672649 \nL 115.73712 178.026471 \nL 116.072255 176.475434 \nL 116.40739 179.483914 \nL 116.742525 176.631655 \nL 117.07766 178.154496 \nL 117.412796 175.82919 \nL 117.747931 170.780168 \nL 118.083066 174.74075 \nL 118.418201 176.9642 \nL 118.753336 172.023587 \nL 119.088471 174.228674 \nL 119.423606 177.801595 \nL 119.758742 173.364657 \nL 120.093877 174.934875 \nL 120.764147 174.837902 \nL 121.099282 174.817967 \nL 121.434417 173.473805 \nL 121.769552 169.201265 \nL 122.439823 167.094014 \nL 122.774958 167.17633 \nL 123.780363 158.470619 \nL 124.115498 158.423787 \nL 124.450633 160.811519 \nL 124.785769 159.142522 \nL 125.120904 162.368877 \nL 125.456039 163.624961 \nL 125.791174 160.921134 \nL 126.126309 160.233196 \nL 126.461444 158.650707 \nL 126.796579 159.276376 \nL 127.46685 153.188807 \nL 127.801985 152.613151 \nL 128.13712 150.967285 \nL 128.80739 149.865904 \nL 129.142525 151.43483 \nL 129.47766 145.641439 \nL 129.812796 145.456519 \nL 130.147931 141.54219 \nL 130.483066 135.627442 \nL 130.818201 131.852231 \nL 131.153336 131.886392 \nL 131.488471 132.499922 \nL 131.823606 135.561184 \nL 132.158742 134.715912 \nL 132.493877 130.720675 \nL 132.829012 132.832168 \nL 133.164147 130.122182 \nL 133.499282 130.512649 \nL 134.169552 125.873603 \nL 134.504687 128.299709 \nL 134.839823 128.176817 \nL 135.174958 128.930533 \nL 135.510093 130.349064 \nL 135.845228 130.854297 \nL 136.180363 125.57463 \nL 136.515498 124.582885 \nL 136.850633 123.96919 \nL 137.185769 123.962992 \nL 138.191174 126.237011 \nL 138.861444 132.446011 \nL 139.196579 132.376063 \nL 139.531715 131.380996 \nL 139.86685 128.675432 \nL 140.201985 124.704214 \nL 140.53712 126.590916 \nL 140.872255 124.063292 \nL 141.20739 123.712652 \nL 141.542525 121.521648 \nL 141.87766 117.78159 \nL 142.212796 116.558698 \nL 142.547931 119.107254 \nL 142.883066 120.534299 \nL 143.218201 123.55849 \nL 143.553336 122.710876 \nL 143.888471 122.807145 \nL 144.223606 118.811034 \nL 144.558742 117.059321 \nL 145.229012 111.66161 \nL 145.564147 114.61399 \nL 145.899282 115.756402 \nL 146.234417 117.355241 \nL 146.569552 114.308229 \nL 146.904687 116.63233 \nL 147.239823 115.611251 \nL 147.574958 113.99276 \nL 147.910093 112.954259 \nL 148.245228 114.174256 \nL 148.580363 113.231267 \nL 148.915498 113.130011 \nL 149.250633 106.296747 \nL 149.920904 109.37593 \nL 150.256039 108.885541 \nL 150.591174 104.716414 \nL 150.926309 103.356723 \nL 151.261444 104.200587 \nL 151.931715 107.691318 \nL 152.26685 112.355986 \nL 152.601985 112.131218 \nL 152.93712 109.98065 \nL 153.272255 109.140054 \nL 153.60739 106.792495 \nL 153.942525 107.518416 \nL 154.612796 101.357029 \nL 154.947931 105.247107 \nL 155.283066 104.53298 \nL 155.618201 106.912414 \nL 155.953336 108.08968 \nL 156.288471 113.045045 \nL 156.623606 111.623903 \nL 156.958742 113.865247 \nL 157.293877 114.378075 \nL 157.629012 117.528254 \nL 157.964147 117.332769 \nL 158.299282 114.667112 \nL 158.634417 113.153665 \nL 158.969552 114.926075 \nL 159.304688 113.351205 \nL 159.639823 114.714796 \nL 159.974958 118.117496 \nL 160.310093 120.221018 \nL 160.645228 120.852835 \nL 160.980363 118.76493 \nL 161.315498 118.837704 \nL 161.650633 118.739565 \nL 161.985769 121.697609 \nL 162.656039 125.262099 \nL 162.991174 123.833587 \nL 163.326309 121.577654 \nL 163.996579 127.940827 \nL 164.331715 127.388303 \nL 164.66685 134.482719 \nL 165.672255 125.755598 \nL 166.342525 132.605788 \nL 166.67766 134.633269 \nL 167.012796 132.602427 \nL 167.347931 132.007453 \nL 167.683066 132.662281 \nL 168.018201 134.376233 \nL 168.353336 128.491116 \nL 168.688471 130.171772 \nL 169.023606 134.071837 \nL 169.693877 132.70139 \nL 170.029012 134.199544 \nL 170.364147 133.238767 \nL 170.699282 138.358295 \nL 171.034417 138.41655 \nL 171.369552 137.496353 \nL 171.704687 141.60996 \nL 172.374958 147.063784 \nL 172.710093 146.904856 \nL 173.045228 149.55858 \nL 173.380363 149.554551 \nL 173.715498 151.76431 \nL 174.050633 149.179559 \nL 174.385769 148.100845 \nL 174.720904 152.395632 \nL 175.056039 151.829703 \nL 175.391174 150.650735 \nL 175.726309 150.279448 \nL 176.061444 150.749748 \nL 176.396579 154.492707 \nL 176.731715 148.64466 \nL 177.06685 146.413472 \nL 177.401985 147.201208 \nL 177.73712 144.113649 \nL 178.072255 145.66066 \nL 178.40739 141.62068 \nL 178.742525 141.452726 \nL 179.07766 140.064415 \nL 179.412796 142.661221 \nL 179.747931 139.97526 \nL 180.083066 134.962246 \nL 180.418201 136.315803 \nL 180.753336 134.118901 \nL 181.088471 136.268518 \nL 181.423606 135.41549 \nL 181.758742 132.599489 \nL 182.093877 131.040718 \nL 182.429012 128.147922 \nL 182.764147 129.157353 \nL 183.099282 127.198862 \nL 183.434417 128.2851 \nL 183.769552 125.384237 \nL 184.439823 123.683466 \nL 184.774958 120.3618 \nL 185.110093 121.786803 \nL 185.445228 119.571273 \nL 185.780363 123.063718 \nL 186.115498 124.364646 \nL 186.450633 123.185411 \nL 186.785769 122.514169 \nL 187.120904 121.532493 \nL 187.456039 119.46757 \nL 187.791174 120.991445 \nL 188.126309 120.083299 \nL 188.796579 122.192943 \nL 189.131715 123.61066 \nL 189.46685 123.650455 \nL 189.801985 123.344904 \nL 190.13712 123.459483 \nL 190.472255 125.811604 \nL 190.80739 129.356554 \nL 191.142525 126.581169 \nL 191.47766 125.978948 \nL 191.812796 127.476038 \nL 192.147931 127.99447 \nL 192.483066 124.10352 \nL 192.818201 124.777524 \nL 193.153336 127.142354 \nL 193.488471 126.405135 \nL 194.158742 131.523449 \nL 194.493877 130.389668 \nL 194.829012 128.036008 \nL 195.164147 122.429151 \nL 195.499282 124.632419 \nL 196.169552 121.517409 \nL 196.504687 120.106339 \nL 196.839823 117.802437 \nL 197.510093 126.015143 \nL 197.845228 127.733787 \nL 198.180363 127.13399 \nL 198.515498 132.407483 \nL 198.850633 132.756916 \nL 199.185769 130.384864 \nL 199.520904 133.575517 \nL 199.856039 132.693785 \nL 200.191174 129.321887 \nL 200.526309 130.564337 \nL 200.861444 130.282033 \nL 201.196579 130.385977 \nL 201.531715 126.988405 \nL 201.86685 119.015245 \nL 202.201985 121.011628 \nL 202.53712 120.20961 \nL 203.20739 115.469538 \nL 203.542525 114.160206 \nL 203.87766 117.238842 \nL 204.212796 117.902188 \nL 204.883066 122.395445 \nL 205.888471 133.330468 \nL 206.223606 131.978131 \nL 206.558742 128.883842 \nL 207.229012 132.375331 \nL 207.564147 132.288042 \nL 207.899282 136.681351 \nL 208.234417 132.8107 \nL 208.569552 130.401833 \nL 208.904687 130.646901 \nL 209.239823 129.191601 \nL 209.910093 131.713789 \nL 210.245228 135.177498 \nL 210.580363 135.064021 \nL 210.915498 132.344852 \nL 211.250633 132.556169 \nL 211.585769 129.524481 \nL 211.920904 128.316751 \nL 212.591174 133.08752 \nL 212.926309 131.731012 \nL 213.596579 133.161911 \nL 213.931715 130.858451 \nL 214.601985 128.452204 \nL 214.93712 134.597282 \nL 215.272255 133.096723 \nL 215.60739 137.98735 \nL 215.942525 137.473743 \nL 216.27766 138.001847 \nL 216.612796 138.306151 \nL 216.947931 140.748331 \nL 217.283066 142.323682 \nL 217.618201 145.504276 \nL 217.953336 146.744609 \nL 218.288471 144.317239 \nL 218.623606 144.622423 \nL 219.293877 140.546455 \nL 219.629012 139.594401 \nL 220.299282 136.826708 \nL 220.634417 139.09066 \nL 220.969552 137.463175 \nL 221.304688 136.962425 \nL 221.639823 132.009727 \nL 221.974958 135.267141 \nL 222.310093 136.579436 \nL 222.645228 133.321771 \nL 222.980363 135.222521 \nL 223.315498 136.425086 \nL 223.650633 134.560525 \nL 223.985769 134.989981 \nL 224.320904 137.22268 \nL 224.656039 141.560852 \nL 224.991174 137.596759 \nL 225.661444 133.408358 \nL 225.996579 138.644063 \nL 226.331715 137.007998 \nL 226.66685 136.179495 \nL 227.001985 137.675727 \nL 227.33712 139.768473 \nL 227.672255 142.997201 \nL 228.00739 143.034324 \nL 228.342525 145.122553 \nL 228.67766 145.809705 \nL 229.012796 145.723151 \nL 229.347931 144.927922 \nL 229.683066 146.466648 \nL 230.018201 146.502444 \nL 230.353336 144.833041 \nL 230.688471 147.582586 \nL 231.023606 148.217263 \nL 231.358742 143.469569 \nL 231.693877 143.256612 \nL 232.029012 142.027509 \nL 232.699282 136.996082 \nL 233.369552 138.900141 \nL 233.704687 139.566025 \nL 234.039823 136.327223 \nL 234.374958 137.493962 \nL 234.710093 133.802709 \nL 235.045228 135.606121 \nL 235.380363 135.866775 \nL 235.715498 132.11297 \nL 236.050633 133.998753 \nL 236.385769 133.681408 \nL 236.720904 133.831233 \nL 237.391174 129.668257 \nL 237.726309 129.248809 \nL 238.061444 129.207387 \nL 238.396579 129.58275 \nL 238.731715 132.302549 \nL 239.06685 131.578534 \nL 239.401985 136.686676 \nL 240.072255 134.796294 \nL 240.40739 134.216471 \nL 240.742525 133.00619 \nL 241.07766 133.823519 \nL 241.412796 133.114413 \nL 241.747931 135.55614 \nL 242.083066 135.103048 \nL 242.418201 133.063704 \nL 242.753336 132.03646 \nL 243.088471 132.141494 \nL 243.758742 136.048312 \nL 244.093877 136.687288 \nL 244.429012 134.759482 \nL 244.764147 135.881453 \nL 245.434417 129.715559 \nL 245.769552 125.348242 \nL 246.104688 125.112661 \nL 246.439823 124.551755 \nL 246.774958 128.553931 \nL 247.445228 122.939151 \nL 247.780363 124.7208 \nL 248.785769 115.426947 \nL 249.120904 115.063353 \nL 249.456039 118.79794 \nL 250.126309 120.97235 \nL 250.796579 118.72713 \nL 251.131715 118.691651 \nL 251.46685 118.908643 \nL 251.801985 117.885253 \nL 252.13712 115.533203 \nL 252.472255 116.045784 \nL 252.80739 117.489329 \nL 253.142525 115.147089 \nL 253.47766 114.914347 \nL 253.812796 114.500778 \nL 254.147931 118.325876 \nL 254.483066 119.561926 \nL 254.818201 121.765889 \nL 255.153336 118.037117 \nL 255.488471 117.754926 \nL 255.823606 123.685426 \nL 256.158742 122.402814 \nL 256.493877 121.861248 \nL 256.829012 121.026958 \nL 257.164147 121.261577 \nL 257.499282 120.310201 \nL 257.834417 114.436985 \nL 258.169552 117.974134 \nL 258.504687 117.650744 \nL 258.839823 115.759275 \nL 259.174958 112.892754 \nL 259.845228 119.164736 \nL 260.180363 120.454501 \nL 261.185769 113.576399 \nL 261.520904 116.871873 \nL 261.856039 117.044724 \nL 262.191174 109.478508 \nL 262.526309 107.74791 \nL 262.861444 104.443497 \nL 263.196579 106.524774 \nL 263.86685 113.630147 \nL 264.201985 113.075023 \nL 264.53712 116.130516 \nL 265.20739 113.601299 \nL 265.542525 117.367015 \nL 265.87766 118.407848 \nL 266.212796 120.863034 \nL 266.547931 116.755107 \nL 266.883066 116.79357 \nL 267.553336 117.281791 \nL 267.888471 118.132993 \nL 268.223606 114.48 \nL 268.558742 113.283858 \nL 268.893877 110.291298 \nL 269.564147 112.449919 \nL 269.899282 111.717218 \nL 270.234417 111.789797 \nL 270.569552 112.594886 \nL 270.904687 112.199883 \nL 271.239823 106.702923 \nL 271.574958 106.522164 \nL 271.910093 109.379277 \nL 272.245228 107.908558 \nL 272.580363 105.726239 \nL 272.915498 109.33666 \nL 273.250633 107.208272 \nL 273.585769 108.020088 \nL 273.920904 109.13665 \nL 274.256039 105.012291 \nL 274.591174 110.12566 \nL 274.926309 110.934845 \nL 275.261444 110.132169 \nL 275.596579 110.493348 \nL 275.931715 108.865323 \nL 276.26685 106.467746 \nL 276.601985 110.685713 \nL 276.93712 112.608497 \nL 277.272255 112.781092 \nL 277.60739 114.78093 \nL 277.942525 112.874443 \nL 278.27766 118.84389 \nL 278.612796 120.601714 \nL 278.947931 121.509321 \nL 279.283066 123.862234 \nL 279.953336 118.50882 \nL 280.288471 120.382379 \nL 280.623606 119.035412 \nL 280.958742 121.777983 \nL 281.293877 121.074346 \nL 281.629012 119.800377 \nL 281.964147 120.007268 \nL 282.299282 119.615845 \nL 282.634417 119.445342 \nL 282.969552 116.484942 \nL 283.304688 115.567686 \nL 283.639823 116.744002 \nL 283.974958 116.050464 \nL 284.310093 116.074968 \nL 284.980363 119.737351 \nL 285.315498 119.623226 \nL 285.650633 120.590403 \nL 285.985769 122.481407 \nL 286.320904 127.31979 \nL 286.656039 127.466049 \nL 286.991174 131.000027 \nL 287.326309 130.475819 \nL 287.661444 130.567258 \nL 287.996579 130.444929 \nL 288.331715 131.139597 \nL 288.66685 129.787764 \nL 289.001985 131.487233 \nL 289.33712 129.28079 \nL 289.672255 128.934274 \nL 290.67766 121.023918 \nL 291.012796 121.010587 \nL 291.347931 119.68881 \nL 292.018201 110.136387 \nL 292.353336 110.044408 \nL 292.688471 107.134731 \nL 293.023606 105.778859 \nL 293.358742 110.107815 \nL 294.029012 111.675187 \nL 294.364147 111.380747 \nL 294.699282 110.679526 \nL 295.034417 111.10331 \nL 295.369552 112.851741 \nL 295.704687 112.159126 \nL 296.374958 114.442472 \nL 296.710093 115.492027 \nL 297.045228 117.42926 \nL 297.380363 115.000076 \nL 297.715498 115.544135 \nL 298.385769 111.084718 \nL 298.720904 110.435335 \nL 299.056039 108.744082 \nL 299.391174 110.332095 \nL 300.061444 111.935149 \nL 300.731715 117.430392 \nL 301.06685 118.246935 \nL 301.401985 115.881589 \nL 301.73712 116.342024 \nL 302.072255 115.580012 \nL 302.40739 116.371472 \nL 302.742525 118.164535 \nL 303.07766 117.528025 \nL 303.412796 120.345546 \nL 303.747931 121.440094 \nL 304.083066 120.720176 \nL 304.418201 121.548117 \nL 304.753336 120.823088 \nL 305.088471 121.898422 \nL 305.423606 120.308274 \nL 305.758742 116.607759 \nL 306.093877 117.261709 \nL 306.429012 116.067023 \nL 306.764147 114.357696 \nL 307.099282 115.571453 \nL 307.769552 118.49204 \nL 308.104688 118.48979 \nL 308.439823 116.184104 \nL 308.774958 112.165977 \nL 309.110093 110.333834 \nL 309.445228 110.049396 \nL 309.780363 104.867712 \nL 310.115498 105.185336 \nL 310.450633 108.643207 \nL 310.785769 110.943053 \nL 311.120904 107.988972 \nL 311.456039 110.260297 \nL 311.791174 107.876911 \nL 312.126309 110.446984 \nL 312.461444 111.148009 \nL 312.796579 112.293786 \nL 313.46685 115.852388 \nL 314.472255 120.607969 \nL 314.80739 120.159775 \nL 315.142525 117.959813 \nL 315.812796 128.267198 \nL 316.147931 125.017494 \nL 316.818201 128.75142 \nL 317.153336 129.676267 \nL 317.488471 128.994646 \nL 318.829012 115.912758 \nL 319.164147 118.956312 \nL 319.499282 120.16565 \nL 319.834417 119.307031 \nL 320.169552 117.129266 \nL 320.504687 121.395461 \nL 320.839823 123.851901 \nL 321.174958 123.907311 \nL 321.510093 122.534728 \nL 321.845228 125.43364 \nL 322.515498 124.818718 \nL 322.850633 128.278669 \nL 323.185769 129.615968 \nL 323.520904 129.680524 \nL 323.856039 129.166764 \nL 324.191174 126.435245 \nL 324.526309 130.886819 \nL 324.861444 131.039357 \nL 325.196579 130.347125 \nL 325.531715 129.965567 \nL 325.86685 129.22743 \nL 326.201985 129.964624 \nL 326.53712 131.213137 \nL 326.872255 126.059836 \nL 327.20739 124.312472 \nL 327.542525 127.824698 \nL 327.87766 126.368488 \nL 328.212796 128.519144 \nL 328.547931 128.107236 \nL 328.883066 128.106657 \nL 329.218201 129.384149 \nL 329.553336 124.940997 \nL 329.888471 129.361625 \nL 330.558742 125.124517 \nL 330.893877 124.641278 \nL 331.229012 122.077829 \nL 331.564147 116.639441 \nL 331.899282 114.546286 \nL 332.234417 116.970393 \nL 332.569552 114.991018 \nL 332.904687 115.27662 \nL 333.239823 112.693811 \nL 333.574958 113.304522 \nL 333.910093 111.079329 \nL 334.245228 111.12429 \nL 334.580363 112.603361 \nL 334.915498 111.442598 \nL 335.250633 117.654373 \nL 335.585769 119.726135 \nL 335.920904 118.508176 \nL 336.256039 113.695066 \nL 336.926309 110.879109 \nL 337.261444 113.088881 \nL 337.596579 114.262846 \nL 337.931715 113.940933 \nL 338.26685 112.119659 \nL 338.601985 112.63486 \nL 338.93712 111.989863 \nL 339.272255 114.199396 \nL 339.60739 113.218938 \nL 339.942525 115.931106 \nL 340.27766 114.226095 \nL 340.947931 118.433457 \nL 341.283066 118.457667 \nL 341.618201 120.936779 \nL 341.953336 121.257144 \nL 342.623606 114.476904 \nL 342.958742 113.734774 \nL 343.293877 111.769907 \nL 343.629012 112.241108 \nL 343.964147 111.053054 \nL 344.299282 110.960464 \nL 344.634417 110.228879 \nL 344.969552 117.007384 \nL 345.304688 117.674829 \nL 345.639823 120.296169 \nL 346.645228 117.991029 \nL 346.980363 117.762152 \nL 347.315498 116.523992 \nL 347.650633 118.426767 \nL 348.320904 114.164183 \nL 348.656039 112.790866 \nL 348.991174 112.4249 \nL 349.326309 112.61757 \nL 349.661444 113.205198 \nL 349.996579 115.545866 \nL 350.331715 112.264611 \nL 350.66685 110.934555 \nL 351.001985 107.204086 \nL 351.33712 110.652772 \nL 351.672255 104.838706 \nL 352.00739 105.975592 \nL 352.342525 105.182237 \nL 352.67766 102.501145 \nL 353.012796 106.203077 \nL 353.347931 106.103825 \nL 353.683066 106.495455 \nL 354.018201 105.64593 \nL 354.353336 106.792656 \nL 354.688471 101.52803 \nL 355.023606 102.469984 \nL 355.358742 105.597026 \nL 355.693877 106.130643 \nL 356.029012 105.186785 \nL 356.364147 105.821517 \nL 356.699282 104.764159 \nL 357.034417 103.144257 \nL 357.369552 104.901104 \nL 357.704687 107.689246 \nL 358.039823 105.163757 \nL 358.374958 107.089215 \nL 359.380363 108.724574 \nL 359.715498 106.878723 \nL 360.050633 108.152889 \nL 360.385769 105.185012 \nL 360.720904 105.346117 \nL 361.056039 106.175695 \nL 361.391174 102.156715 \nL 361.726309 102.581213 \nL 362.061444 101.221769 \nL 362.396579 101.387421 \nL 362.731715 98.747785 \nL 363.06685 99.150619 \nL 363.73712 103.596627 \nL 364.072255 102.209517 \nL 364.40739 104.457445 \nL 364.742525 100.457641 \nL 365.07766 101.487518 \nL 365.412796 105.008953 \nL 365.747931 102.100847 \nL 366.083066 105.469453 \nL 366.418201 103.909349 \nL 366.753336 105.431585 \nL 367.423606 111.077473 \nL 367.758742 110.816613 \nL 368.093877 108.795902 \nL 368.429012 103.996792 \nL 368.764147 105.497273 \nL 369.434417 102.490589 \nL 369.769552 101.004007 \nL 370.104688 97.796528 \nL 370.104688 97.796528 \n\" style=\"fill:none;stroke:#2ca02c;stroke-linecap:square;stroke-width:1.5;\"/>\n   </g>\n   <g id=\"line2d_43\">\n    <path clip-path=\"url(#p248e1a3436)\" d=\"M 35.304688 166.661154 \nL 35.639823 163.249812 \nL 36.310093 165.545238 \nL 36.645228 168.158707 \nL 36.980363 167.534493 \nL 37.315498 169.023019 \nL 37.985769 173.260653 \nL 38.320904 167.36523 \nL 38.656039 168.656966 \nL 38.991174 166.132513 \nL 39.661444 162.500343 \nL 39.996579 165.806493 \nL 40.331715 165.980402 \nL 40.66685 167.021583 \nL 41.001985 164.3379 \nL 41.33712 160.62929 \nL 41.672255 161.098566 \nL 42.00739 159.866302 \nL 42.342525 160.380985 \nL 42.67766 160.618268 \nL 43.012796 158.062947 \nL 43.347931 157.331737 \nL 43.683066 160.283551 \nL 44.018201 156.05585 \nL 44.353336 157.696591 \nL 44.688471 162.135729 \nL 45.023606 162.532906 \nL 45.358742 164.411612 \nL 45.693877 163.663667 \nL 46.029012 167.607338 \nL 46.699282 164.313373 \nL 47.704687 171.791502 \nL 48.039823 169.871349 \nL 48.374958 167.016661 \nL 48.710093 167.218721 \nL 49.045228 163.771436 \nL 49.380363 165.081835 \nL 50.720904 177.405134 \nL 51.056039 176.526853 \nL 51.391174 176.305798 \nL 51.726309 176.354351 \nL 52.061444 178.063604 \nL 52.396579 178.12141 \nL 52.731715 176.671242 \nL 53.06685 178.509859 \nL 53.401985 176.319164 \nL 53.73712 170.043722 \nL 54.072255 172.258675 \nL 54.40739 169.942 \nL 54.742525 165.358256 \nL 55.07766 167.315481 \nL 55.412796 164.469534 \nL 55.747931 163.798757 \nL 56.083066 162.571387 \nL 56.418201 156.863459 \nL 56.753336 155.976219 \nL 57.088471 158.606369 \nL 57.423606 160.062844 \nL 57.758742 164.524884 \nL 58.093877 160.24353 \nL 58.764147 159.830672 \nL 59.099282 161.127029 \nL 59.434417 159.923315 \nL 59.769552 159.25821 \nL 60.104688 158.189829 \nL 60.774958 149.377217 \nL 61.445228 145.20159 \nL 61.780363 145.135559 \nL 62.450633 141.298177 \nL 62.785769 142.140409 \nL 63.120904 139.50209 \nL 63.456039 139.534608 \nL 63.791174 141.427722 \nL 64.126309 145.047386 \nL 64.461444 143.175567 \nL 64.796579 137.418097 \nL 65.131715 139.893194 \nL 65.46685 140.581627 \nL 65.801985 144.983209 \nL 66.472255 145.964983 \nL 66.80739 148.219072 \nL 67.142525 148.65513 \nL 67.47766 147.749445 \nL 67.812796 148.985077 \nL 68.147931 148.035589 \nL 68.483066 148.741354 \nL 68.818201 148.897777 \nL 69.153336 148.344738 \nL 69.488471 144.819934 \nL 69.823606 143.423835 \nL 70.158742 145.130452 \nL 70.493877 145.44366 \nL 71.164147 144.498238 \nL 71.499282 139.920218 \nL 71.834417 138.781129 \nL 72.169552 138.559731 \nL 72.504687 138.541334 \nL 72.839823 135.332869 \nL 73.174958 134.459981 \nL 73.510093 135.218579 \nL 73.845228 133.621921 \nL 74.180363 134.736189 \nL 74.515498 137.022546 \nL 75.185769 143.690488 \nL 75.520904 142.865746 \nL 75.856039 142.842735 \nL 76.191174 141.605645 \nL 76.861444 136.939658 \nL 77.196579 139.550654 \nL 77.531715 139.098737 \nL 77.86685 139.834633 \nL 78.201985 143.044439 \nL 78.53712 142.038692 \nL 78.872255 138.364082 \nL 79.542525 135.283396 \nL 79.87766 133.676578 \nL 80.547931 137.947587 \nL 80.883066 135.284065 \nL 81.218201 137.974888 \nL 81.553336 139.296327 \nL 81.888471 137.618376 \nL 82.223606 132.170972 \nL 82.558742 133.574758 \nL 82.893877 129.636108 \nL 83.229012 127.070259 \nL 83.564147 128.988262 \nL 83.899282 129.630851 \nL 84.234417 132.103677 \nL 85.239823 125.311138 \nL 85.574958 128.115415 \nL 85.910093 125.903013 \nL 86.580363 131.84372 \nL 86.915498 126.555998 \nL 87.250633 126.177899 \nL 87.585769 128.807042 \nL 87.920904 133.134556 \nL 88.256039 129.13465 \nL 88.591174 132.537842 \nL 88.926309 126.718351 \nL 89.261444 125.612233 \nL 89.596579 123.51169 \nL 90.26685 121.597567 \nL 90.601985 121.52928 \nL 90.93712 121.936047 \nL 91.272255 120.689997 \nL 91.60739 121.276314 \nL 91.942525 123.52501 \nL 92.612796 119.549606 \nL 92.947931 120.338967 \nL 93.283066 121.494141 \nL 93.618201 115.976035 \nL 93.953336 114.942932 \nL 94.288471 119.702034 \nL 94.623606 118.730982 \nL 94.958742 122.676107 \nL 95.629012 120.068651 \nL 95.964147 117.395293 \nL 96.299282 117.338463 \nL 96.634417 115.291677 \nL 96.969552 114.502264 \nL 97.304688 115.392464 \nL 97.639823 120.036119 \nL 97.974958 119.751681 \nL 98.310093 120.721344 \nL 98.645228 122.956557 \nL 98.980363 122.737792 \nL 99.315498 119.33901 \nL 99.650633 118.195951 \nL 99.985769 120.983561 \nL 100.320904 117.415544 \nL 100.656039 120.764949 \nL 100.991174 122.228339 \nL 101.326309 124.927239 \nL 101.661444 121.161668 \nL 101.996579 120.544439 \nL 102.331715 116.860493 \nL 103.001985 113.176702 \nL 103.672255 112.458597 \nL 104.00739 114.506115 \nL 104.342525 111.595298 \nL 104.67766 111.760014 \nL 105.012796 113.295003 \nL 105.347931 112.910259 \nL 105.683066 114.532108 \nL 106.018201 114.890428 \nL 106.353336 115.848591 \nL 106.688471 117.332408 \nL 107.023606 120.886882 \nL 107.358742 121.511281 \nL 107.693877 125.005766 \nL 108.029012 123.746576 \nL 108.364147 121.348724 \nL 108.699282 121.701152 \nL 109.034417 118.196182 \nL 109.369552 116.950902 \nL 109.704687 115.139453 \nL 110.039823 121.209584 \nL 110.374958 122.674582 \nL 110.710093 125.603976 \nL 111.045228 125.258282 \nL 111.380363 124.028895 \nL 111.715498 124.145684 \nL 112.050633 126.2145 \nL 112.385769 122.058376 \nL 112.720904 124.206523 \nL 113.056039 124.869799 \nL 113.391174 125.782183 \nL 113.726309 124.529146 \nL 114.061444 123.94093 \nL 114.731715 121.29597 \nL 115.06685 122.249261 \nL 115.401985 126.438513 \nL 115.73712 124.874104 \nL 116.072255 122.00575 \nL 116.40739 117.383012 \nL 116.742525 121.297771 \nL 117.07766 118.507571 \nL 118.083066 102.703012 \nL 118.418201 105.127743 \nL 118.753336 101.260695 \nL 119.088471 100.847276 \nL 119.423606 101.822052 \nL 119.758742 101.514912 \nL 120.093877 100.712418 \nL 120.429012 97.65073 \nL 120.764147 98.810838 \nL 121.099282 94.346689 \nL 121.434417 94.909082 \nL 121.769552 93.99245 \nL 122.104688 94.056509 \nL 122.439823 90.075567 \nL 122.774958 88.879799 \nL 123.110093 90.004843 \nL 123.445228 86.826903 \nL 123.780363 86.269703 \nL 124.115498 91.049992 \nL 124.450633 88.916765 \nL 124.785769 89.594943 \nL 125.791174 99.604841 \nL 126.126309 97.263214 \nL 126.461444 96.585578 \nL 126.796579 97.779744 \nL 127.131715 97.634165 \nL 127.46685 97.989751 \nL 127.801985 95.70048 \nL 128.13712 98.035381 \nL 128.472255 98.487432 \nL 128.80739 98.379143 \nL 129.142525 102.028152 \nL 129.47766 101.639497 \nL 129.812796 100.866458 \nL 130.483066 107.00754 \nL 130.818201 106.286783 \nL 131.153336 105.148795 \nL 131.488471 105.038226 \nL 131.823606 104.290976 \nL 132.158742 99.875085 \nL 132.493877 98.267925 \nL 132.829012 101.726128 \nL 133.164147 101.632983 \nL 133.499282 102.560877 \nL 133.834417 100.279719 \nL 134.169552 102.401108 \nL 134.504687 101.998332 \nL 134.839823 101.162677 \nL 135.174958 99.23022 \nL 135.510093 99.692607 \nL 135.845228 99.849741 \nL 136.850633 108.794056 \nL 137.185769 106.005346 \nL 137.520904 101.752751 \nL 137.856039 99.646375 \nL 138.191174 98.619076 \nL 138.526309 95.571763 \nL 138.861444 97.19029 \nL 139.196579 93.825175 \nL 139.531715 93.546066 \nL 140.201985 95.931858 \nL 140.53712 98.936617 \nL 140.872255 97.17042 \nL 141.20739 97.664958 \nL 141.542525 99.297728 \nL 141.87766 104.077812 \nL 142.212796 100.194141 \nL 142.547931 98.949456 \nL 142.883066 99.148086 \nL 143.218201 100.373803 \nL 143.553336 99.917364 \nL 143.888471 100.767174 \nL 144.223606 95.548743 \nL 144.558742 93.767676 \nL 144.893877 95.710223 \nL 145.564147 91.720797 \nL 145.899282 92.354067 \nL 146.234417 91.875839 \nL 146.569552 93.259977 \nL 146.904687 92.141127 \nL 147.239823 92.369021 \nL 147.574958 90.024829 \nL 147.910093 92.11906 \nL 148.245228 91.207789 \nL 148.580363 90.837078 \nL 148.915498 93.745333 \nL 149.250633 90.674637 \nL 149.585769 90.911025 \nL 149.920904 96.049777 \nL 150.256039 93.508454 \nL 150.591174 96.256945 \nL 150.926309 97.016216 \nL 151.261444 98.329444 \nL 151.596579 95.504349 \nL 151.931715 100.018927 \nL 152.26685 99.140706 \nL 152.601985 101.267292 \nL 152.93712 100.228463 \nL 153.60739 96.941563 \nL 153.942525 97.688693 \nL 154.27766 97.39902 \nL 154.612796 96.054725 \nL 154.947931 95.266428 \nL 155.618201 101.74576 \nL 155.953336 102.389514 \nL 156.288471 104.984495 \nL 156.623606 104.738049 \nL 156.958742 105.790001 \nL 157.293877 107.441236 \nL 157.629012 106.944799 \nL 158.299282 110.201725 \nL 158.634417 108.403054 \nL 158.969552 104.056821 \nL 159.304688 105.165916 \nL 159.639823 104.95875 \nL 159.974958 99.986633 \nL 160.310093 99.876961 \nL 160.645228 100.499649 \nL 160.980363 102.876736 \nL 161.315498 107.932747 \nL 161.650633 109.231899 \nL 161.985769 112.072789 \nL 162.320904 109.63517 \nL 162.656039 111.872923 \nL 162.991174 116.247565 \nL 163.326309 116.821322 \nL 163.661444 113.491087 \nL 163.996579 111.321054 \nL 164.331715 112.628938 \nL 164.66685 111.320663 \nL 165.001985 111.780365 \nL 165.33712 109.460565 \nL 166.00739 115.135021 \nL 166.342525 114.958576 \nL 166.67766 116.364568 \nL 167.012796 114.609159 \nL 167.347931 113.787095 \nL 167.683066 115.862764 \nL 168.018201 115.437758 \nL 168.353336 120.305894 \nL 169.023606 117.275487 \nL 169.358742 117.740873 \nL 169.693877 120.226185 \nL 170.029012 119.115363 \nL 170.364147 117.575636 \nL 170.699282 118.362418 \nL 171.369552 113.861375 \nL 171.704687 113.064354 \nL 172.039823 114.66885 \nL 172.374958 115.305987 \nL 172.710093 116.611987 \nL 173.715498 112.025879 \nL 174.050633 113.014945 \nL 174.385769 112.487687 \nL 174.720904 115.598038 \nL 175.056039 113.356846 \nL 175.391174 115.782137 \nL 175.726309 116.364749 \nL 176.061444 122.721914 \nL 176.731715 126.966241 \nL 177.06685 129.246266 \nL 177.401985 127.59018 \nL 177.73712 129.557997 \nL 178.072255 129.455911 \nL 178.40739 130.317837 \nL 178.742525 132.4349 \nL 179.07766 130.988184 \nL 179.412796 132.497862 \nL 179.747931 132.195 \nL 180.083066 128.913575 \nL 180.418201 127.265751 \nL 180.753336 127.463965 \nL 181.088471 128.781824 \nL 181.423606 126.808085 \nL 181.758742 127.304548 \nL 182.093877 129.781137 \nL 182.429012 127.584833 \nL 182.764147 129.007476 \nL 183.099282 133.891714 \nL 183.434417 131.447024 \nL 183.769552 130.67994 \nL 184.104688 133.586715 \nL 184.439823 134.572778 \nL 184.774958 136.605884 \nL 185.110093 139.876204 \nL 185.445228 138.360018 \nL 185.780363 140.608922 \nL 186.115498 137.941975 \nL 186.450633 137.326028 \nL 186.785769 140.183031 \nL 187.120904 139.00406 \nL 187.456039 141.139251 \nL 187.791174 141.313561 \nL 188.461444 136.134953 \nL 188.796579 135.44451 \nL 189.131715 139.117254 \nL 189.46685 144.977252 \nL 189.801985 144.668568 \nL 190.13712 145.344302 \nL 190.472255 145.117301 \nL 190.80739 143.329725 \nL 191.142525 145.35313 \nL 191.47766 146.080745 \nL 191.812796 147.706548 \nL 192.147931 148.362531 \nL 192.483066 142.073746 \nL 193.153336 136.913597 \nL 193.488471 136.83974 \nL 193.823606 139.4478 \nL 194.158742 139.03692 \nL 194.493877 140.577065 \nL 194.829012 139.689807 \nL 195.164147 137.710378 \nL 195.499282 136.665988 \nL 195.834417 138.595156 \nL 196.169552 141.937816 \nL 196.504687 140.178212 \nL 196.839823 139.526513 \nL 197.174958 139.354249 \nL 197.510093 135.057981 \nL 199.185769 147.095064 \nL 199.520904 144.834872 \nL 199.856039 144.147415 \nL 200.191174 141.986734 \nL 200.526309 143.015777 \nL 200.861444 138.894022 \nL 201.196579 137.356439 \nL 201.531715 138.340416 \nL 201.86685 139.694187 \nL 202.201985 139.570706 \nL 202.53712 132.514096 \nL 202.872255 132.265844 \nL 203.20739 130.893283 \nL 203.542525 130.238171 \nL 203.87766 130.43692 \nL 204.212796 132.706771 \nL 204.547931 127.893549 \nL 204.883066 129.261867 \nL 205.218201 127.646581 \nL 205.553336 128.009736 \nL 205.888471 132.80401 \nL 206.223606 134.75879 \nL 206.558742 141.075654 \nL 206.893877 138.674761 \nL 207.229012 137.962426 \nL 207.564147 135.61322 \nL 207.899282 136.882694 \nL 208.234417 139.001111 \nL 208.569552 138.739649 \nL 208.904687 139.720583 \nL 209.239823 134.610297 \nL 209.574958 133.513921 \nL 209.910093 133.670741 \nL 210.245228 133.029136 \nL 210.580363 133.551723 \nL 210.915498 130.053736 \nL 211.250633 130.736909 \nL 211.585769 135.527916 \nL 211.920904 134.793772 \nL 212.256039 134.63181 \nL 212.591174 133.605162 \nL 213.261444 124.950075 \nL 213.596579 128.525789 \nL 213.931715 128.566706 \nL 214.26685 130.855369 \nL 214.601985 128.353291 \nL 214.93712 127.102771 \nL 215.60739 129.660105 \nL 216.27766 137.607158 \nL 216.612796 132.199314 \nL 216.947931 129.727632 \nL 217.283066 135.587569 \nL 217.953336 140.652203 \nL 218.288471 139.645648 \nL 218.623606 139.507164 \nL 219.293877 144.075819 \nL 219.629012 143.345434 \nL 219.964147 138.851045 \nL 220.299282 140.965442 \nL 220.969552 143.143115 \nL 221.304688 146.987871 \nL 221.639823 147.804421 \nL 221.974958 147.267463 \nL 222.310093 147.00983 \nL 222.645228 145.923022 \nL 222.980363 145.407593 \nL 223.315498 142.126253 \nL 223.985769 139.888177 \nL 224.320904 140.237879 \nL 224.656039 141.723343 \nL 224.991174 144.580174 \nL 225.326309 145.859489 \nL 225.661444 145.717174 \nL 225.996579 144.928659 \nL 226.331715 145.540867 \nL 226.66685 145.513131 \nL 227.33712 149.673777 \nL 227.672255 150.629985 \nL 228.00739 150.672061 \nL 228.342525 149.752594 \nL 229.012796 152.142522 \nL 229.347931 152.357194 \nL 229.683066 158.075296 \nL 230.018201 156.177801 \nL 230.688471 147.79017 \nL 231.358742 145.601979 \nL 232.029012 140.294421 \nL 232.364147 141.399816 \nL 232.699282 139.544814 \nL 233.369552 137.091628 \nL 233.704687 139.850813 \nL 234.039823 135.78214 \nL 234.374958 138.048118 \nL 235.045228 145.018929 \nL 235.380363 142.939612 \nL 235.715498 142.984052 \nL 236.050633 142.468517 \nL 236.385769 142.767657 \nL 236.720904 139.580426 \nL 237.056039 144.01305 \nL 237.726309 144.574368 \nL 238.061444 147.468509 \nL 238.396579 148.241472 \nL 238.731715 145.634659 \nL 239.06685 152.342515 \nL 239.73712 153.479727 \nL 240.072255 154.850943 \nL 240.742525 150.722731 \nL 241.07766 151.22663 \nL 241.412796 149.323634 \nL 241.747931 146.500518 \nL 242.418201 152.965872 \nL 242.753336 153.126756 \nL 243.088471 155.390024 \nL 243.423606 153.837438 \nL 243.758742 153.072605 \nL 244.429012 152.405742 \nL 244.764147 151.175809 \nL 245.434417 152.00426 \nL 245.769552 154.178133 \nL 246.104688 155.440619 \nL 246.439823 155.847209 \nL 246.774958 156.53051 \nL 247.445228 165.669841 \nL 247.780363 163.862801 \nL 248.115498 164.637354 \nL 248.450633 166.518155 \nL 248.785769 166.766136 \nL 249.120904 168.580789 \nL 249.791174 162.998693 \nL 250.126309 163.671847 \nL 250.461444 163.866555 \nL 250.796579 166.696532 \nL 251.131715 166.424012 \nL 251.46685 169.991068 \nL 252.13712 172.401191 \nL 252.472255 171.915715 \nL 252.80739 169.342351 \nL 253.142525 172.908154 \nL 253.47766 170.194781 \nL 253.812796 168.620509 \nL 254.147931 168.919269 \nL 254.483066 167.052335 \nL 254.818201 163.318736 \nL 255.153336 163.359318 \nL 255.488471 161.632285 \nL 255.823606 164.779682 \nL 256.158742 164.94914 \nL 256.493877 161.90185 \nL 257.164147 161.883688 \nL 257.499282 162.576763 \nL 257.834417 165.171713 \nL 258.169552 165.341673 \nL 258.504687 164.73575 \nL 258.839823 167.168488 \nL 259.174958 168.263569 \nL 259.510093 169.829146 \nL 259.845228 172.605167 \nL 260.180363 172.404881 \nL 260.515498 175.643989 \nL 260.850633 177.386618 \nL 261.185769 173.418421 \nL 261.520904 173.80366 \nL 261.856039 172.919348 \nL 262.191174 174.444893 \nL 262.526309 169.780252 \nL 262.861444 168.260387 \nL 263.86685 175.972169 \nL 264.201985 174.2334 \nL 264.53712 173.521063 \nL 265.20739 176.86117 \nL 265.542525 178.33573 \nL 265.87766 175.589803 \nL 266.212796 178.801196 \nL 266.547931 178.112422 \nL 266.883066 175.89485 \nL 267.553336 182.873788 \nL 267.888471 182.897687 \nL 268.223606 183.141087 \nL 268.558742 186.429029 \nL 268.893877 182.020446 \nL 269.229012 180.429687 \nL 269.564147 181.053695 \nL 269.899282 180.959429 \nL 270.234417 180.452894 \nL 270.569552 176.857009 \nL 270.904687 176.383058 \nL 271.239823 177.367839 \nL 271.574958 177.593593 \nL 271.910093 173.933355 \nL 272.245228 174.571091 \nL 272.580363 174.008001 \nL 272.915498 170.835077 \nL 273.250633 173.61709 \nL 274.256039 178.990705 \nL 274.591174 182.427685 \nL 275.596579 173.607903 \nL 275.931715 176.046714 \nL 276.601985 178.034693 \nL 276.93712 178.44067 \nL 277.60739 170.347727 \nL 277.942525 172.635399 \nL 278.27766 172.293496 \nL 278.612796 170.402563 \nL 278.947931 173.082163 \nL 279.283066 173.09628 \nL 279.618201 175.055001 \nL 279.953336 174.749979 \nL 280.288471 176.567593 \nL 280.623606 174.959466 \nL 280.958742 171.757279 \nL 281.293877 172.781358 \nL 281.629012 170.538782 \nL 281.964147 176.530655 \nL 282.299282 176.492245 \nL 282.634417 171.555124 \nL 282.969552 173.034769 \nL 283.304688 171.562208 \nL 283.639823 168.757617 \nL 283.974958 169.392452 \nL 284.310093 166.171749 \nL 284.645228 166.273853 \nL 284.980363 161.493955 \nL 285.315498 160.57015 \nL 285.650633 162.141002 \nL 285.985769 163.118373 \nL 286.320904 158.28831 \nL 286.656039 162.311555 \nL 286.991174 163.08275 \nL 287.326309 160.729808 \nL 287.661444 163.922558 \nL 287.996579 161.497397 \nL 288.331715 161.762951 \nL 288.66685 165.364278 \nL 289.001985 166.181604 \nL 289.33712 164.402731 \nL 289.672255 165.061663 \nL 290.342525 170.495424 \nL 291.012796 165.063819 \nL 291.347931 169.319837 \nL 291.683066 171.465797 \nL 292.018201 171.853377 \nL 292.353336 171.327618 \nL 292.688471 169.294986 \nL 293.023606 172.300655 \nL 293.693877 168.14551 \nL 294.029012 168.524812 \nL 294.699282 165.931685 \nL 295.034417 168.753093 \nL 295.369552 168.864833 \nL 295.704687 168.424717 \nL 296.039823 169.667896 \nL 296.374958 169.753476 \nL 297.045228 173.192519 \nL 297.380363 176.05697 \nL 297.715498 175.613064 \nL 298.050633 174.514914 \nL 298.720904 178.341017 \nL 299.056039 175.355283 \nL 299.391174 175.119877 \nL 300.061444 176.622043 \nL 300.396579 176.237646 \nL 300.731715 174.615783 \nL 301.06685 180.049709 \nL 301.401985 181.272585 \nL 301.73712 179.41908 \nL 302.072255 174.838205 \nL 302.40739 177.571124 \nL 302.742525 177.803157 \nL 303.07766 177.738493 \nL 303.412796 172.423778 \nL 303.747931 172.145491 \nL 304.083066 174.28156 \nL 304.418201 170.513988 \nL 304.753336 170.435854 \nL 305.088471 173.481904 \nL 305.423606 174.690005 \nL 305.758742 171.893153 \nL 306.093877 168.050677 \nL 306.429012 169.925031 \nL 306.764147 167.302442 \nL 307.099282 165.726287 \nL 307.434417 160.78155 \nL 307.769552 160.878565 \nL 308.439823 163.383352 \nL 309.110093 170.172545 \nL 309.445228 167.942342 \nL 309.780363 167.767136 \nL 310.115498 167.872758 \nL 310.450633 170.990522 \nL 310.785769 167.912098 \nL 311.120904 171.923955 \nL 311.456039 173.760447 \nL 311.791174 173.016904 \nL 312.126309 170.665107 \nL 312.461444 171.580235 \nL 312.796579 182.239439 \nL 313.131715 180.009795 \nL 313.46685 178.631563 \nL 313.801985 182.06289 \nL 314.13712 182.313561 \nL 314.472255 181.145352 \nL 314.80739 184.289036 \nL 315.47766 187.259838 \nL 316.147931 185.507639 \nL 316.483066 186.029547 \nL 316.818201 184.920208 \nL 317.153336 182.060379 \nL 317.488471 182.51973 \nL 317.823606 178.669759 \nL 318.158742 176.499197 \nL 318.493877 171.516547 \nL 318.829012 169.965547 \nL 319.164147 170.684854 \nL 319.499282 170.958439 \nL 319.834417 175.061047 \nL 320.169552 174.077793 \nL 320.504687 177.018295 \nL 320.839823 177.303381 \nL 321.174958 179.974972 \nL 321.510093 179.877354 \nL 321.845228 181.423839 \nL 322.180363 178.762568 \nL 322.850633 182.864575 \nL 323.185769 183.343411 \nL 323.520904 185.217198 \nL 323.856039 184.905303 \nL 324.191174 185.564911 \nL 324.526309 190.336963 \nL 324.861444 191.364754 \nL 325.196579 191.305711 \nL 325.531715 192.885984 \nL 325.86685 191.218798 \nL 326.201985 191.250799 \nL 326.53712 188.612856 \nL 327.20739 191.83984 \nL 327.542525 192.822816 \nL 327.87766 198.548403 \nL 328.212796 200.482091 \nL 328.547931 200.889044 \nL 328.883066 200.066395 \nL 329.218201 200.550908 \nL 329.553336 202.2571 \nL 330.223606 203.132594 \nL 330.893877 195.495244 \nL 331.229012 194.642702 \nL 331.564147 192.471084 \nL 331.899282 192.293619 \nL 332.234417 191.912752 \nL 332.569552 187.921767 \nL 332.904687 192.176508 \nL 333.239823 194.481007 \nL 333.574958 198.127991 \nL 333.910093 193.785334 \nL 334.245228 194.893807 \nL 334.580363 194.559385 \nL 334.915498 193.114028 \nL 335.250633 189.700632 \nL 335.920904 193.438853 \nL 336.256039 191.710092 \nL 336.591174 195.887427 \nL 336.926309 198.384399 \nL 337.261444 199.359791 \nL 337.931715 196.217292 \nL 338.26685 195.389722 \nL 338.601985 192.927937 \nL 338.93712 192.388987 \nL 339.272255 192.928147 \nL 339.60739 193.096265 \nL 340.27766 193.079563 \nL 340.612796 191.108829 \nL 340.947931 190.785112 \nL 341.283066 194.20301 \nL 341.618201 193.644725 \nL 341.953336 192.741752 \nL 342.288471 194.533233 \nL 342.623606 189.01048 \nL 342.958742 188.716045 \nL 343.293877 189.538483 \nL 343.629012 188.248771 \nL 343.964147 185.271125 \nL 344.299282 184.944335 \nL 344.634417 185.786654 \nL 344.969552 190.260989 \nL 345.304688 187.735479 \nL 345.974958 188.402135 \nL 346.310093 188.242704 \nL 346.645228 185.301942 \nL 346.980363 186.635705 \nL 347.315498 184.384432 \nL 347.650633 184.82778 \nL 347.985769 186.363193 \nL 348.656039 182.888372 \nL 348.991174 183.112446 \nL 349.326309 181.197571 \nL 349.661444 185.244359 \nL 349.996579 182.469466 \nL 350.331715 178.514435 \nL 350.66685 178.99771 \nL 351.001985 179.115961 \nL 351.33712 178.427379 \nL 351.672255 181.79943 \nL 352.00739 181.312853 \nL 352.67766 176.880207 \nL 353.012796 178.122344 \nL 353.347931 178.786682 \nL 353.683066 178.514831 \nL 354.018201 179.367225 \nL 354.353336 180.593436 \nL 354.688471 182.995439 \nL 355.023606 178.719748 \nL 355.358742 176.663018 \nL 355.693877 172.663646 \nL 356.029012 173.348818 \nL 356.364147 173.205765 \nL 356.699282 172.378176 \nL 357.034417 170.499647 \nL 357.369552 171.111699 \nL 357.704687 172.149135 \nL 358.039823 169.931638 \nL 358.374958 171.961173 \nL 358.710093 172.651063 \nL 359.045228 176.159195 \nL 359.380363 177.056967 \nL 359.715498 178.933859 \nL 360.050633 177.724075 \nL 360.385769 177.513064 \nL 360.720904 179.474592 \nL 361.056039 180.529352 \nL 361.391174 181.073463 \nL 361.726309 180.32683 \nL 362.061444 178.918849 \nL 362.396579 180.730562 \nL 362.731715 180.740745 \nL 363.06685 182.770753 \nL 363.73712 184.812594 \nL 364.40739 176.503798 \nL 364.742525 176.372264 \nL 365.412796 183.216785 \nL 365.747931 187.990053 \nL 366.083066 189.053881 \nL 366.418201 188.842259 \nL 366.753336 186.052345 \nL 367.088471 186.181564 \nL 367.423606 184.668485 \nL 367.758742 182.003404 \nL 368.093877 183.806467 \nL 368.429012 182.156202 \nL 368.764147 181.346389 \nL 369.099282 176.299314 \nL 369.434417 177.833038 \nL 369.769552 176.349036 \nL 370.104688 173.964534 \nL 370.104688 173.964534 \n\" style=\"fill:none;stroke:#d62728;stroke-linecap:square;stroke-width:1.5;\"/>\n   </g>\n   <g id=\"patch_3\">\n    <path d=\"M 35.304688 224.64 \nL 35.304688 7.2 \n\" style=\"fill:none;stroke:#000000;stroke-linecap:square;stroke-linejoin:miter;stroke-width:0.8;\"/>\n   </g>\n   <g id=\"patch_4\">\n    <path d=\"M 370.104688 224.64 \nL 370.104688 7.2 \n\" style=\"fill:none;stroke:#000000;stroke-linecap:square;stroke-linejoin:miter;stroke-width:0.8;\"/>\n   </g>\n   <g id=\"patch_5\">\n    <path d=\"M 35.304688 224.64 \nL 370.104688 224.64 \n\" style=\"fill:none;stroke:#000000;stroke-linecap:square;stroke-linejoin:miter;stroke-width:0.8;\"/>\n   </g>\n   <g id=\"patch_6\">\n    <path d=\"M 35.304688 7.2 \nL 370.104688 7.2 \n\" style=\"fill:none;stroke:#000000;stroke-linecap:square;stroke-linejoin:miter;stroke-width:0.8;\"/>\n   </g>\n   <g id=\"legend_1\">\n    <g id=\"patch_7\">\n     <path d=\"M 42.304688 73.9125 \nL 82.004688 73.9125 \nQ 84.004688 73.9125 84.004688 71.9125 \nL 84.004688 14.2 \nQ 84.004688 12.2 82.004688 12.2 \nL 42.304688 12.2 \nQ 40.304688 12.2 40.304688 14.2 \nL 40.304688 71.9125 \nQ 40.304688 73.9125 42.304688 73.9125 \nz\n\" style=\"fill:#ffffff;opacity:0.8;stroke:#cccccc;stroke-linejoin:miter;\"/>\n    </g>\n    <g id=\"line2d_44\">\n     <path d=\"M 44.304688 20.298437 \nL 64.304688 20.298437 \n\" style=\"fill:none;stroke:#1f77b4;stroke-linecap:square;stroke-width:1.5;\"/>\n    </g>\n    <g id=\"line2d_45\"/>\n    <g id=\"text_12\">\n     <!-- A -->\n     <g transform=\"translate(72.304688 23.798437)scale(0.1 -0.1)\">\n      <defs>\n       <path d=\"M 2188 4044 \nL 1331 1722 \nL 3047 1722 \nL 2188 4044 \nz\nM 1831 4666 \nL 2547 4666 \nL 4325 0 \nL 3669 0 \nL 3244 1197 \nL 1141 1197 \nL 716 0 \nL 50 0 \nL 1831 4666 \nz\n\" id=\"DejaVuSans-41\" transform=\"scale(0.015625)\"/>\n      </defs>\n      <use xlink:href=\"#DejaVuSans-41\"/>\n     </g>\n    </g>\n    <g id=\"line2d_46\">\n     <path d=\"M 44.304688 34.976562 \nL 64.304688 34.976562 \n\" style=\"fill:none;stroke:#ff7f0e;stroke-linecap:square;stroke-width:1.5;\"/>\n    </g>\n    <g id=\"line2d_47\"/>\n    <g id=\"text_13\">\n     <!-- B -->\n     <g transform=\"translate(72.304688 38.476562)scale(0.1 -0.1)\">\n      <defs>\n       <path d=\"M 1259 2228 \nL 1259 519 \nL 2272 519 \nQ 2781 519 3026 730 \nQ 3272 941 3272 1375 \nQ 3272 1813 3026 2020 \nQ 2781 2228 2272 2228 \nL 1259 2228 \nz\nM 1259 4147 \nL 1259 2741 \nL 2194 2741 \nQ 2656 2741 2882 2914 \nQ 3109 3088 3109 3444 \nQ 3109 3797 2882 3972 \nQ 2656 4147 2194 4147 \nL 1259 4147 \nz\nM 628 4666 \nL 2241 4666 \nQ 2963 4666 3353 4366 \nQ 3744 4066 3744 3513 \nQ 3744 3084 3544 2831 \nQ 3344 2578 2956 2516 \nQ 3422 2416 3680 2098 \nQ 3938 1781 3938 1306 \nQ 3938 681 3513 340 \nQ 3088 0 2303 0 \nL 628 0 \nL 628 4666 \nz\n\" id=\"DejaVuSans-42\" transform=\"scale(0.015625)\"/>\n      </defs>\n      <use xlink:href=\"#DejaVuSans-42\"/>\n     </g>\n    </g>\n    <g id=\"line2d_48\">\n     <path d=\"M 44.304688 49.654687 \nL 64.304688 49.654687 \n\" style=\"fill:none;stroke:#2ca02c;stroke-linecap:square;stroke-width:1.5;\"/>\n    </g>\n    <g id=\"line2d_49\"/>\n    <g id=\"text_14\">\n     <!-- C -->\n     <g transform=\"translate(72.304688 53.154687)scale(0.1 -0.1)\">\n      <defs>\n       <path d=\"M 4122 4306 \nL 4122 3641 \nQ 3803 3938 3442 4084 \nQ 3081 4231 2675 4231 \nQ 1875 4231 1450 3742 \nQ 1025 3253 1025 2328 \nQ 1025 1406 1450 917 \nQ 1875 428 2675 428 \nQ 3081 428 3442 575 \nQ 3803 722 4122 1019 \nL 4122 359 \nQ 3791 134 3420 21 \nQ 3050 -91 2638 -91 \nQ 1578 -91 968 557 \nQ 359 1206 359 2328 \nQ 359 3453 968 4101 \nQ 1578 4750 2638 4750 \nQ 3056 4750 3426 4639 \nQ 3797 4528 4122 4306 \nz\n\" id=\"DejaVuSans-43\" transform=\"scale(0.015625)\"/>\n      </defs>\n      <use xlink:href=\"#DejaVuSans-43\"/>\n     </g>\n    </g>\n    <g id=\"line2d_50\">\n     <path d=\"M 44.304688 64.332812 \nL 64.304688 64.332812 \n\" style=\"fill:none;stroke:#d62728;stroke-linecap:square;stroke-width:1.5;\"/>\n    </g>\n    <g id=\"line2d_51\"/>\n    <g id=\"text_15\">\n     <!-- D -->\n     <g transform=\"translate(72.304688 67.832812)scale(0.1 -0.1)\">\n      <defs>\n       <path d=\"M 1259 4147 \nL 1259 519 \nL 2022 519 \nQ 2988 519 3436 956 \nQ 3884 1394 3884 2338 \nQ 3884 3275 3436 3711 \nQ 2988 4147 2022 4147 \nL 1259 4147 \nz\nM 628 4666 \nL 1925 4666 \nQ 3281 4666 3915 4102 \nQ 4550 3538 4550 2338 \nQ 4550 1131 3912 565 \nQ 3275 0 1925 0 \nL 628 0 \nL 628 4666 \nz\n\" id=\"DejaVuSans-44\" transform=\"scale(0.015625)\"/>\n      </defs>\n      <use xlink:href=\"#DejaVuSans-44\"/>\n     </g>\n    </g>\n   </g>\n  </g>\n </g>\n <defs>\n  <clipPath id=\"p248e1a3436\">\n   <rect height=\"217.44\" width=\"334.8\" x=\"35.304688\" y=\"7.2\"/>\n  </clipPath>\n </defs>\n</svg>\n",
      "image/png": "[encoded data removed]"
     },
     "metadata": {
      "needs_background": "light"
     }
    }
   ],
   "source": [
    "df = pd.DataFrame(\n",
    "        np.random.randn(1000, 4), index=ts.index, columns=[\"A\", \"B\", \"C\", \"D\"]\n",
    "    )\n",
    "    \n",
    "\n",
    "df = df.cumsum()\n",
    "\n",
    "plt.figure()\n",
    "\n",
    "\n",
    "df.plot()\n",
    "\n",
    "plt.legend(loc='best')\n",
    "\n",
    "plt.show()"
   ]
  },
  {
   "source": [
    "## Einlesen von Dateien "
   ],
   "cell_type": "markdown",
   "metadata": {}
  },
  {
   "cell_type": "code",
   "execution_count": 79,
   "metadata": {},
   "outputs": [
    {
     "output_type": "execute_result",
     "data": {
      "text/plain": [
       "           symbol        open       close         low        high      volume\n",
       "date                                                                         \n",
       "2010-01-04   GOOG  626.951088  626.751061  624.241073  629.511067   3927000.0\n",
       "2010-01-05   GOOG  627.181073  623.991055  621.541045  627.841071   6031900.0\n",
       "2010-01-06   GOOG  625.861078  608.261023  606.361042  625.861078   7987100.0\n",
       "2010-01-07   GOOG  609.401025  594.101005  592.651008  610.001045  12876600.0\n",
       "2010-01-08   GOOG  592.000997  602.021036  589.110988  603.251034   9483900.0"
      ],
      "text/html": "<div>\n<style scoped>\n    .dataframe tbody tr th:only-of-type {\n        vertical-align: middle;\n    }\n\n    .dataframe tbody tr th {\n        vertical-align: top;\n    }\n\n    .dataframe thead th {\n        text-align: right;\n    }\n</style>\n<table border=\"1\" class=\"dataframe\">\n  <thead>\n    <tr style=\"text-align: right;\">\n      <th></th>\n      <th>symbol</th>\n      <th>open</th>\n      <th>close</th>\n      <th>low</th>\n      <th>high</th>\n      <th>volume</th>\n    </tr>\n    <tr>\n      <th>date</th>\n      <th></th>\n      <th></th>\n      <th></th>\n      <th></th>\n      <th></th>\n      <th></th>\n    </tr>\n  </thead>\n  <tbody>\n    <tr>\n      <th>2010-01-04</th>\n      <td>GOOG</td>\n      <td>626.951088</td>\n      <td>626.751061</td>\n      <td>624.241073</td>\n      <td>629.511067</td>\n      <td>3927000.0</td>\n    </tr>\n    <tr>\n      <th>2010-01-05</th>\n      <td>GOOG</td>\n      <td>627.181073</td>\n      <td>623.991055</td>\n      <td>621.541045</td>\n      <td>627.841071</td>\n      <td>6031900.0</td>\n    </tr>\n    <tr>\n      <th>2010-01-06</th>\n      <td>GOOG</td>\n      <td>625.861078</td>\n      <td>608.261023</td>\n      <td>606.361042</td>\n      <td>625.861078</td>\n      <td>7987100.0</td>\n    </tr>\n    <tr>\n      <th>2010-01-07</th>\n      <td>GOOG</td>\n      <td>609.401025</td>\n      <td>594.101005</td>\n      <td>592.651008</td>\n      <td>610.001045</td>\n      <td>12876600.0</td>\n    </tr>\n    <tr>\n      <th>2010-01-08</th>\n      <td>GOOG</td>\n      <td>592.000997</td>\n      <td>602.021036</td>\n      <td>589.110988</td>\n      <td>603.251034</td>\n      <td>9483900.0</td>\n    </tr>\n  </tbody>\n</table>\n</div>"
     },
     "metadata": {},
     "execution_count": 79
    }
   ],
   "source": [
    "stocks = pd.read_csv(\"/Users/tillfreihaut/Downloads/archive/prices.csv\", parse_dates=['date'])\n",
    "stocks = stocks[stocks['symbol'] == \"GOOG\"].set_index('date')\n",
    "stocks.head()"
   ]
  },
  {
   "source": [
    "**Es gibt viele Optionen, wie die Dateien eingelesen werden soll, kann die Bearbeitung der Daten wesentlich vereinfachen**\n",
    "\n",
    "* z.B kann über den Befehl decimal = bestimmt werden, wie dezimal Zahlen gelesen werden sollen. decimal= ',' liest auch 5,6 als 5.6\n",
    "* sep = sagt wie Daten getrennt werden sollen \n",
    "* viele Optionen mehr gehen nicht auf EInzelheiten ein, aber merkt euch, dass ihr euch schon beim Einlesen durch den richtigen Befehl Arbeit sparen könnt"
   ],
   "cell_type": "markdown",
   "metadata": {}
  },
  {
   "source": [
    "**Noch mehr Plots **"
   ],
   "cell_type": "markdown",
   "metadata": {}
  },
  {
   "cell_type": "code",
   "execution_count": 80,
   "metadata": {},
   "outputs": [
    {
     "output_type": "execute_result",
     "data": {
      "text/plain": [
       "<AxesSubplot:xlabel='date'>"
      ]
     },
     "metadata": {},
     "execution_count": 80
    },
    {
     "output_type": "display_data",
     "data": {
      "text/plain": "<Figure size 432x288 with 1 Axes>",
      "image/svg+xml": "<?xml version=\"1.0\" encoding=\"utf-8\" standalone=\"no\"?>\n<!DOCTYPE svg PUBLIC \"-//W3C//DTD SVG 1.1//EN\"\n  \"http://www.w3.org/Graphics/SVG/1.1/DTD/svg11.dtd\">\n<svg height=\"369.322812pt\" version=\"1.1\" viewBox=\"0 0 362.5625 369.322812\" width=\"362.5625pt\" xmlns=\"http://www.w3.org/2000/svg\" xmlns:xlink=\"http://www.w3.org/1999/xlink\">\n <metadata>\n  <rdf:RDF xmlns:cc=\"http://creativecommons.org/ns#\" xmlns:dc=\"http://purl.org/dc/elements/1.1/\" xmlns:rdf=\"http://www.w3.org/1999/02/22-rdf-syntax-ns#\">\n   <cc:Work>\n    <dc:type rdf:resource=\"http://purl.org/dc/dcmitype/StillImage\"/>\n    <dc:date>2021-05-03T11:10:33.947521</dc:date>\n    <dc:format>image/svg+xml</dc:format>\n    <dc:creator>\n     <cc:Agent>\n      <dc:title>Matplotlib v3.4.1, https://matplotlib.org/</dc:title>\n     </cc:Agent>\n    </dc:creator>\n   </cc:Work>\n  </rdf:RDF>\n </metadata>\n <defs>\n  <style type=\"text/css\">*{stroke-linecap:butt;stroke-linejoin:round;}</style>\n </defs>\n <g id=\"figure_1\">\n  <g id=\"patch_1\">\n   <path d=\"M 0 369.322812 \nL 362.5625 369.322812 \nL 362.5625 0 \nL 0 0 \nz\n\" style=\"fill:none;\"/>\n  </g>\n  <g id=\"axes_1\">\n   <g id=\"patch_2\">\n    <path d=\"M 20.5625 235.238437 \nL 355.3625 235.238437 \nL 355.3625 17.798437 \nL 20.5625 17.798437 \nz\n\" style=\"fill:#ffffff;\"/>\n   </g>\n   <g id=\"patch_3\">\n    <path clip-path=\"url(#pd3f4c33d50)\" d=\"M 32.519643 235.238437 \nL 56.433929 235.238437 \nL 56.433929 28.152723 \nL 32.519643 28.152723 \nz\n\" style=\"fill:#1f77b4;\"/>\n   </g>\n   <g id=\"patch_4\">\n    <path clip-path=\"url(#pd3f4c33d50)\" d=\"M 80.348214 235.238437 \nL 104.2625 235.238437 \nL 104.2625 34.77517 \nL 80.348214 34.77517 \nz\n\" style=\"fill:#1f77b4;\"/>\n   </g>\n   <g id=\"patch_5\">\n    <path clip-path=\"url(#pd3f4c33d50)\" d=\"M 128.176786 235.238437 \nL 152.091071 235.238437 \nL 152.091071 65.633864 \nL 128.176786 65.633864 \nz\n\" style=\"fill:#1f77b4;\"/>\n   </g>\n   <g id=\"patch_6\">\n    <path clip-path=\"url(#pd3f4c33d50)\" d=\"M 176.005357 235.238437 \nL 199.919643 235.238437 \nL 199.919643 99.301492 \nL 176.005357 99.301492 \nz\n\" style=\"fill:#1f77b4;\"/>\n   </g>\n   <g id=\"patch_7\">\n    <path clip-path=\"url(#pd3f4c33d50)\" d=\"M 223.833929 235.238437 \nL 247.748214 235.238437 \nL 247.748214 154.557669 \nL 223.833929 154.557669 \nz\n\" style=\"fill:#1f77b4;\"/>\n   </g>\n   <g id=\"patch_8\">\n    <path clip-path=\"url(#pd3f4c33d50)\" d=\"M 271.6625 235.238437 \nL 295.576786 235.238437 \nL 295.576786 168.111519 \nL 271.6625 168.111519 \nz\n\" style=\"fill:#1f77b4;\"/>\n   </g>\n   <g id=\"patch_9\">\n    <path clip-path=\"url(#pd3f4c33d50)\" d=\"M 319.491071 235.238437 \nL 343.405357 235.238437 \nL 343.405357 175.877339 \nL 319.491071 175.877339 \nz\n\" style=\"fill:#1f77b4;\"/>\n   </g>\n   <g id=\"matplotlib.axis_1\">\n    <g id=\"xtick_1\">\n     <g id=\"line2d_1\">\n      <defs>\n       <path d=\"M 0 0 \nL 0 3.5 \n\" id=\"m46e08dc0b0\" style=\"stroke:#000000;stroke-width:0.8;\"/>\n      </defs>\n      <g>\n       <use style=\"stroke:#000000;stroke-width:0.8;\" x=\"44.476786\" xlink:href=\"#m46e08dc0b0\" y=\"235.238437\"/>\n      </g>\n     </g>\n     <g id=\"text_1\">\n      <!-- 2010-12-31 00:00:00 -->\n      <g transform=\"translate(47.236161 348.444687)rotate(-90)scale(0.1 -0.1)\">\n       <defs>\n        <path d=\"M 1228 531 \nL 3431 531 \nL 3431 0 \nL 469 0 \nL 469 531 \nQ 828 903 1448 1529 \nQ 2069 2156 2228 2338 \nQ 2531 2678 2651 2914 \nQ 2772 3150 2772 3378 \nQ 2772 3750 2511 3984 \nQ 2250 4219 1831 4219 \nQ 1534 4219 1204 4116 \nQ 875 4013 500 3803 \nL 500 4441 \nQ 881 4594 1212 4672 \nQ 1544 4750 1819 4750 \nQ 2544 4750 2975 4387 \nQ 3406 4025 3406 3419 \nQ 3406 3131 3298 2873 \nQ 3191 2616 2906 2266 \nQ 2828 2175 2409 1742 \nQ 1991 1309 1228 531 \nz\n\" id=\"DejaVuSans-32\" transform=\"scale(0.015625)\"/>\n        <path d=\"M 2034 4250 \nQ 1547 4250 1301 3770 \nQ 1056 3291 1056 2328 \nQ 1056 1369 1301 889 \nQ 1547 409 2034 409 \nQ 2525 409 2770 889 \nQ 3016 1369 3016 2328 \nQ 3016 3291 2770 3770 \nQ 2525 4250 2034 4250 \nz\nM 2034 4750 \nQ 2819 4750 3233 4129 \nQ 3647 3509 3647 2328 \nQ 3647 1150 3233 529 \nQ 2819 -91 2034 -91 \nQ 1250 -91 836 529 \nQ 422 1150 422 2328 \nQ 422 3509 836 4129 \nQ 1250 4750 2034 4750 \nz\n\" id=\"DejaVuSans-30\" transform=\"scale(0.015625)\"/>\n        <path d=\"M 794 531 \nL 1825 531 \nL 1825 4091 \nL 703 3866 \nL 703 4441 \nL 1819 4666 \nL 2450 4666 \nL 2450 531 \nL 3481 531 \nL 3481 0 \nL 794 0 \nL 794 531 \nz\n\" id=\"DejaVuSans-31\" transform=\"scale(0.015625)\"/>\n        <path d=\"M 313 2009 \nL 1997 2009 \nL 1997 1497 \nL 313 1497 \nL 313 2009 \nz\n\" id=\"DejaVuSans-2d\" transform=\"scale(0.015625)\"/>\n        <path d=\"M 2597 2516 \nQ 3050 2419 3304 2112 \nQ 3559 1806 3559 1356 \nQ 3559 666 3084 287 \nQ 2609 -91 1734 -91 \nQ 1441 -91 1130 -33 \nQ 819 25 488 141 \nL 488 750 \nQ 750 597 1062 519 \nQ 1375 441 1716 441 \nQ 2309 441 2620 675 \nQ 2931 909 2931 1356 \nQ 2931 1769 2642 2001 \nQ 2353 2234 1838 2234 \nL 1294 2234 \nL 1294 2753 \nL 1863 2753 \nQ 2328 2753 2575 2939 \nQ 2822 3125 2822 3475 \nQ 2822 3834 2567 4026 \nQ 2313 4219 1838 4219 \nQ 1578 4219 1281 4162 \nQ 984 4106 628 3988 \nL 628 4550 \nQ 988 4650 1302 4700 \nQ 1616 4750 1894 4750 \nQ 2613 4750 3031 4423 \nQ 3450 4097 3450 3541 \nQ 3450 3153 3228 2886 \nQ 3006 2619 2597 2516 \nz\n\" id=\"DejaVuSans-33\" transform=\"scale(0.015625)\"/>\n        <path id=\"DejaVuSans-20\" transform=\"scale(0.015625)\"/>\n        <path d=\"M 750 794 \nL 1409 794 \nL 1409 0 \nL 750 0 \nL 750 794 \nz\nM 750 3309 \nL 1409 3309 \nL 1409 2516 \nL 750 2516 \nL 750 3309 \nz\n\" id=\"DejaVuSans-3a\" transform=\"scale(0.015625)\"/>\n       </defs>\n       <use xlink:href=\"#DejaVuSans-32\"/>\n       <use x=\"63.623047\" xlink:href=\"#DejaVuSans-30\"/>\n       <use x=\"127.246094\" xlink:href=\"#DejaVuSans-31\"/>\n       <use x=\"190.869141\" xlink:href=\"#DejaVuSans-30\"/>\n       <use x=\"254.492188\" xlink:href=\"#DejaVuSans-2d\"/>\n       <use x=\"290.576172\" xlink:href=\"#DejaVuSans-31\"/>\n       <use x=\"354.199219\" xlink:href=\"#DejaVuSans-32\"/>\n       <use x=\"417.822266\" xlink:href=\"#DejaVuSans-2d\"/>\n       <use x=\"453.90625\" xlink:href=\"#DejaVuSans-33\"/>\n       <use x=\"517.529297\" xlink:href=\"#DejaVuSans-31\"/>\n       <use x=\"581.152344\" xlink:href=\"#DejaVuSans-20\"/>\n       <use x=\"612.939453\" xlink:href=\"#DejaVuSans-30\"/>\n       <use x=\"676.5625\" xlink:href=\"#DejaVuSans-30\"/>\n       <use x=\"740.185547\" xlink:href=\"#DejaVuSans-3a\"/>\n       <use x=\"773.876953\" xlink:href=\"#DejaVuSans-30\"/>\n       <use x=\"837.5\" xlink:href=\"#DejaVuSans-30\"/>\n       <use x=\"901.123047\" xlink:href=\"#DejaVuSans-3a\"/>\n       <use x=\"934.814453\" xlink:href=\"#DejaVuSans-30\"/>\n       <use x=\"998.4375\" xlink:href=\"#DejaVuSans-30\"/>\n      </g>\n     </g>\n    </g>\n    <g id=\"xtick_2\">\n     <g id=\"line2d_2\">\n      <g>\n       <use style=\"stroke:#000000;stroke-width:0.8;\" x=\"92.305357\" xlink:href=\"#m46e08dc0b0\" y=\"235.238437\"/>\n      </g>\n     </g>\n     <g id=\"text_2\">\n      <!-- 2011-12-31 00:00:00 -->\n      <g transform=\"translate(95.064732 348.444687)rotate(-90)scale(0.1 -0.1)\">\n       <use xlink:href=\"#DejaVuSans-32\"/>\n       <use x=\"63.623047\" xlink:href=\"#DejaVuSans-30\"/>\n       <use x=\"127.246094\" xlink:href=\"#DejaVuSans-31\"/>\n       <use x=\"190.869141\" xlink:href=\"#DejaVuSans-31\"/>\n       <use x=\"254.492188\" xlink:href=\"#DejaVuSans-2d\"/>\n       <use x=\"290.576172\" xlink:href=\"#DejaVuSans-31\"/>\n       <use x=\"354.199219\" xlink:href=\"#DejaVuSans-32\"/>\n       <use x=\"417.822266\" xlink:href=\"#DejaVuSans-2d\"/>\n       <use x=\"453.90625\" xlink:href=\"#DejaVuSans-33\"/>\n       <use x=\"517.529297\" xlink:href=\"#DejaVuSans-31\"/>\n       <use x=\"581.152344\" xlink:href=\"#DejaVuSans-20\"/>\n       <use x=\"612.939453\" xlink:href=\"#DejaVuSans-30\"/>\n       <use x=\"676.5625\" xlink:href=\"#DejaVuSans-30\"/>\n       <use x=\"740.185547\" xlink:href=\"#DejaVuSans-3a\"/>\n       <use x=\"773.876953\" xlink:href=\"#DejaVuSans-30\"/>\n       <use x=\"837.5\" xlink:href=\"#DejaVuSans-30\"/>\n       <use x=\"901.123047\" xlink:href=\"#DejaVuSans-3a\"/>\n       <use x=\"934.814453\" xlink:href=\"#DejaVuSans-30\"/>\n       <use x=\"998.4375\" xlink:href=\"#DejaVuSans-30\"/>\n      </g>\n     </g>\n    </g>\n    <g id=\"xtick_3\">\n     <g id=\"line2d_3\">\n      <g>\n       <use style=\"stroke:#000000;stroke-width:0.8;\" x=\"140.133929\" xlink:href=\"#m46e08dc0b0\" y=\"235.238437\"/>\n      </g>\n     </g>\n     <g id=\"text_3\">\n      <!-- 2012-12-31 00:00:00 -->\n      <g transform=\"translate(142.893304 348.444687)rotate(-90)scale(0.1 -0.1)\">\n       <use xlink:href=\"#DejaVuSans-32\"/>\n       <use x=\"63.623047\" xlink:href=\"#DejaVuSans-30\"/>\n       <use x=\"127.246094\" xlink:href=\"#DejaVuSans-31\"/>\n       <use x=\"190.869141\" xlink:href=\"#DejaVuSans-32\"/>\n       <use x=\"254.492188\" xlink:href=\"#DejaVuSans-2d\"/>\n       <use x=\"290.576172\" xlink:href=\"#DejaVuSans-31\"/>\n       <use x=\"354.199219\" xlink:href=\"#DejaVuSans-32\"/>\n       <use x=\"417.822266\" xlink:href=\"#DejaVuSans-2d\"/>\n       <use x=\"453.90625\" xlink:href=\"#DejaVuSans-33\"/>\n       <use x=\"517.529297\" xlink:href=\"#DejaVuSans-31\"/>\n       <use x=\"581.152344\" xlink:href=\"#DejaVuSans-20\"/>\n       <use x=\"612.939453\" xlink:href=\"#DejaVuSans-30\"/>\n       <use x=\"676.5625\" xlink:href=\"#DejaVuSans-30\"/>\n       <use x=\"740.185547\" xlink:href=\"#DejaVuSans-3a\"/>\n       <use x=\"773.876953\" xlink:href=\"#DejaVuSans-30\"/>\n       <use x=\"837.5\" xlink:href=\"#DejaVuSans-30\"/>\n       <use x=\"901.123047\" xlink:href=\"#DejaVuSans-3a\"/>\n       <use x=\"934.814453\" xlink:href=\"#DejaVuSans-30\"/>\n       <use x=\"998.4375\" xlink:href=\"#DejaVuSans-30\"/>\n      </g>\n     </g>\n    </g>\n    <g id=\"xtick_4\">\n     <g id=\"line2d_4\">\n      <g>\n       <use style=\"stroke:#000000;stroke-width:0.8;\" x=\"187.9625\" xlink:href=\"#m46e08dc0b0\" y=\"235.238437\"/>\n      </g>\n     </g>\n     <g id=\"text_4\">\n      <!-- 2013-12-31 00:00:00 -->\n      <g transform=\"translate(190.721875 348.444687)rotate(-90)scale(0.1 -0.1)\">\n       <use xlink:href=\"#DejaVuSans-32\"/>\n       <use x=\"63.623047\" xlink:href=\"#DejaVuSans-30\"/>\n       <use x=\"127.246094\" xlink:href=\"#DejaVuSans-31\"/>\n       <use x=\"190.869141\" xlink:href=\"#DejaVuSans-33\"/>\n       <use x=\"254.492188\" xlink:href=\"#DejaVuSans-2d\"/>\n       <use x=\"290.576172\" xlink:href=\"#DejaVuSans-31\"/>\n       <use x=\"354.199219\" xlink:href=\"#DejaVuSans-32\"/>\n       <use x=\"417.822266\" xlink:href=\"#DejaVuSans-2d\"/>\n       <use x=\"453.90625\" xlink:href=\"#DejaVuSans-33\"/>\n       <use x=\"517.529297\" xlink:href=\"#DejaVuSans-31\"/>\n       <use x=\"581.152344\" xlink:href=\"#DejaVuSans-20\"/>\n       <use x=\"612.939453\" xlink:href=\"#DejaVuSans-30\"/>\n       <use x=\"676.5625\" xlink:href=\"#DejaVuSans-30\"/>\n       <use x=\"740.185547\" xlink:href=\"#DejaVuSans-3a\"/>\n       <use x=\"773.876953\" xlink:href=\"#DejaVuSans-30\"/>\n       <use x=\"837.5\" xlink:href=\"#DejaVuSans-30\"/>\n       <use x=\"901.123047\" xlink:href=\"#DejaVuSans-3a\"/>\n       <use x=\"934.814453\" xlink:href=\"#DejaVuSans-30\"/>\n       <use x=\"998.4375\" xlink:href=\"#DejaVuSans-30\"/>\n      </g>\n     </g>\n    </g>\n    <g id=\"xtick_5\">\n     <g id=\"line2d_5\">\n      <g>\n       <use style=\"stroke:#000000;stroke-width:0.8;\" x=\"235.791071\" xlink:href=\"#m46e08dc0b0\" y=\"235.238437\"/>\n      </g>\n     </g>\n     <g id=\"text_5\">\n      <!-- 2014-12-31 00:00:00 -->\n      <g transform=\"translate(238.550446 348.444687)rotate(-90)scale(0.1 -0.1)\">\n       <defs>\n        <path d=\"M 2419 4116 \nL 825 1625 \nL 2419 1625 \nL 2419 4116 \nz\nM 2253 4666 \nL 3047 4666 \nL 3047 1625 \nL 3713 1625 \nL 3713 1100 \nL 3047 1100 \nL 3047 0 \nL 2419 0 \nL 2419 1100 \nL 313 1100 \nL 313 1709 \nL 2253 4666 \nz\n\" id=\"DejaVuSans-34\" transform=\"scale(0.015625)\"/>\n       </defs>\n       <use xlink:href=\"#DejaVuSans-32\"/>\n       <use x=\"63.623047\" xlink:href=\"#DejaVuSans-30\"/>\n       <use x=\"127.246094\" xlink:href=\"#DejaVuSans-31\"/>\n       <use x=\"190.869141\" xlink:href=\"#DejaVuSans-34\"/>\n       <use x=\"254.492188\" xlink:href=\"#DejaVuSans-2d\"/>\n       <use x=\"290.576172\" xlink:href=\"#DejaVuSans-31\"/>\n       <use x=\"354.199219\" xlink:href=\"#DejaVuSans-32\"/>\n       <use x=\"417.822266\" xlink:href=\"#DejaVuSans-2d\"/>\n       <use x=\"453.90625\" xlink:href=\"#DejaVuSans-33\"/>\n       <use x=\"517.529297\" xlink:href=\"#DejaVuSans-31\"/>\n       <use x=\"581.152344\" xlink:href=\"#DejaVuSans-20\"/>\n       <use x=\"612.939453\" xlink:href=\"#DejaVuSans-30\"/>\n       <use x=\"676.5625\" xlink:href=\"#DejaVuSans-30\"/>\n       <use x=\"740.185547\" xlink:href=\"#DejaVuSans-3a\"/>\n       <use x=\"773.876953\" xlink:href=\"#DejaVuSans-30\"/>\n       <use x=\"837.5\" xlink:href=\"#DejaVuSans-30\"/>\n       <use x=\"901.123047\" xlink:href=\"#DejaVuSans-3a\"/>\n       <use x=\"934.814453\" xlink:href=\"#DejaVuSans-30\"/>\n       <use x=\"998.4375\" xlink:href=\"#DejaVuSans-30\"/>\n      </g>\n     </g>\n    </g>\n    <g id=\"xtick_6\">\n     <g id=\"line2d_6\">\n      <g>\n       <use style=\"stroke:#000000;stroke-width:0.8;\" x=\"283.619643\" xlink:href=\"#m46e08dc0b0\" y=\"235.238437\"/>\n      </g>\n     </g>\n     <g id=\"text_6\">\n      <!-- 2015-12-31 00:00:00 -->\n      <g transform=\"translate(286.379018 348.444687)rotate(-90)scale(0.1 -0.1)\">\n       <defs>\n        <path d=\"M 691 4666 \nL 3169 4666 \nL 3169 4134 \nL 1269 4134 \nL 1269 2991 \nQ 1406 3038 1543 3061 \nQ 1681 3084 1819 3084 \nQ 2600 3084 3056 2656 \nQ 3513 2228 3513 1497 \nQ 3513 744 3044 326 \nQ 2575 -91 1722 -91 \nQ 1428 -91 1123 -41 \nQ 819 9 494 109 \nL 494 744 \nQ 775 591 1075 516 \nQ 1375 441 1709 441 \nQ 2250 441 2565 725 \nQ 2881 1009 2881 1497 \nQ 2881 1984 2565 2268 \nQ 2250 2553 1709 2553 \nQ 1456 2553 1204 2497 \nQ 953 2441 691 2322 \nL 691 4666 \nz\n\" id=\"DejaVuSans-35\" transform=\"scale(0.015625)\"/>\n       </defs>\n       <use xlink:href=\"#DejaVuSans-32\"/>\n       <use x=\"63.623047\" xlink:href=\"#DejaVuSans-30\"/>\n       <use x=\"127.246094\" xlink:href=\"#DejaVuSans-31\"/>\n       <use x=\"190.869141\" xlink:href=\"#DejaVuSans-35\"/>\n       <use x=\"254.492188\" xlink:href=\"#DejaVuSans-2d\"/>\n       <use x=\"290.576172\" xlink:href=\"#DejaVuSans-31\"/>\n       <use x=\"354.199219\" xlink:href=\"#DejaVuSans-32\"/>\n       <use x=\"417.822266\" xlink:href=\"#DejaVuSans-2d\"/>\n       <use x=\"453.90625\" xlink:href=\"#DejaVuSans-33\"/>\n       <use x=\"517.529297\" xlink:href=\"#DejaVuSans-31\"/>\n       <use x=\"581.152344\" xlink:href=\"#DejaVuSans-20\"/>\n       <use x=\"612.939453\" xlink:href=\"#DejaVuSans-30\"/>\n       <use x=\"676.5625\" xlink:href=\"#DejaVuSans-30\"/>\n       <use x=\"740.185547\" xlink:href=\"#DejaVuSans-3a\"/>\n       <use x=\"773.876953\" xlink:href=\"#DejaVuSans-30\"/>\n       <use x=\"837.5\" xlink:href=\"#DejaVuSans-30\"/>\n       <use x=\"901.123047\" xlink:href=\"#DejaVuSans-3a\"/>\n       <use x=\"934.814453\" xlink:href=\"#DejaVuSans-30\"/>\n       <use x=\"998.4375\" xlink:href=\"#DejaVuSans-30\"/>\n      </g>\n     </g>\n    </g>\n    <g id=\"xtick_7\">\n     <g id=\"line2d_7\">\n      <g>\n       <use style=\"stroke:#000000;stroke-width:0.8;\" x=\"331.448214\" xlink:href=\"#m46e08dc0b0\" y=\"235.238437\"/>\n      </g>\n     </g>\n     <g id=\"text_7\">\n      <!-- 2016-12-31 00:00:00 -->\n      <g transform=\"translate(334.207589 348.444687)rotate(-90)scale(0.1 -0.1)\">\n       <defs>\n        <path d=\"M 2113 2584 \nQ 1688 2584 1439 2293 \nQ 1191 2003 1191 1497 \nQ 1191 994 1439 701 \nQ 1688 409 2113 409 \nQ 2538 409 2786 701 \nQ 3034 994 3034 1497 \nQ 3034 2003 2786 2293 \nQ 2538 2584 2113 2584 \nz\nM 3366 4563 \nL 3366 3988 \nQ 3128 4100 2886 4159 \nQ 2644 4219 2406 4219 \nQ 1781 4219 1451 3797 \nQ 1122 3375 1075 2522 \nQ 1259 2794 1537 2939 \nQ 1816 3084 2150 3084 \nQ 2853 3084 3261 2657 \nQ 3669 2231 3669 1497 \nQ 3669 778 3244 343 \nQ 2819 -91 2113 -91 \nQ 1303 -91 875 529 \nQ 447 1150 447 2328 \nQ 447 3434 972 4092 \nQ 1497 4750 2381 4750 \nQ 2619 4750 2861 4703 \nQ 3103 4656 3366 4563 \nz\n\" id=\"DejaVuSans-36\" transform=\"scale(0.015625)\"/>\n       </defs>\n       <use xlink:href=\"#DejaVuSans-32\"/>\n       <use x=\"63.623047\" xlink:href=\"#DejaVuSans-30\"/>\n       <use x=\"127.246094\" xlink:href=\"#DejaVuSans-31\"/>\n       <use x=\"190.869141\" xlink:href=\"#DejaVuSans-36\"/>\n       <use x=\"254.492188\" xlink:href=\"#DejaVuSans-2d\"/>\n       <use x=\"290.576172\" xlink:href=\"#DejaVuSans-31\"/>\n       <use x=\"354.199219\" xlink:href=\"#DejaVuSans-32\"/>\n       <use x=\"417.822266\" xlink:href=\"#DejaVuSans-2d\"/>\n       <use x=\"453.90625\" xlink:href=\"#DejaVuSans-33\"/>\n       <use x=\"517.529297\" xlink:href=\"#DejaVuSans-31\"/>\n       <use x=\"581.152344\" xlink:href=\"#DejaVuSans-20\"/>\n       <use x=\"612.939453\" xlink:href=\"#DejaVuSans-30\"/>\n       <use x=\"676.5625\" xlink:href=\"#DejaVuSans-30\"/>\n       <use x=\"740.185547\" xlink:href=\"#DejaVuSans-3a\"/>\n       <use x=\"773.876953\" xlink:href=\"#DejaVuSans-30\"/>\n       <use x=\"837.5\" xlink:href=\"#DejaVuSans-30\"/>\n       <use x=\"901.123047\" xlink:href=\"#DejaVuSans-3a\"/>\n       <use x=\"934.814453\" xlink:href=\"#DejaVuSans-30\"/>\n       <use x=\"998.4375\" xlink:href=\"#DejaVuSans-30\"/>\n      </g>\n     </g>\n    </g>\n    <g id=\"text_8\">\n     <!-- date -->\n     <g transform=\"translate(176.6875 360.043125)scale(0.1 -0.1)\">\n      <defs>\n       <path d=\"M 2906 2969 \nL 2906 4863 \nL 3481 4863 \nL 3481 0 \nL 2906 0 \nL 2906 525 \nQ 2725 213 2448 61 \nQ 2172 -91 1784 -91 \nQ 1150 -91 751 415 \nQ 353 922 353 1747 \nQ 353 2572 751 3078 \nQ 1150 3584 1784 3584 \nQ 2172 3584 2448 3432 \nQ 2725 3281 2906 2969 \nz\nM 947 1747 \nQ 947 1113 1208 752 \nQ 1469 391 1925 391 \nQ 2381 391 2643 752 \nQ 2906 1113 2906 1747 \nQ 2906 2381 2643 2742 \nQ 2381 3103 1925 3103 \nQ 1469 3103 1208 2742 \nQ 947 2381 947 1747 \nz\n\" id=\"DejaVuSans-64\" transform=\"scale(0.015625)\"/>\n       <path d=\"M 2194 1759 \nQ 1497 1759 1228 1600 \nQ 959 1441 959 1056 \nQ 959 750 1161 570 \nQ 1363 391 1709 391 \nQ 2188 391 2477 730 \nQ 2766 1069 2766 1631 \nL 2766 1759 \nL 2194 1759 \nz\nM 3341 1997 \nL 3341 0 \nL 2766 0 \nL 2766 531 \nQ 2569 213 2275 61 \nQ 1981 -91 1556 -91 \nQ 1019 -91 701 211 \nQ 384 513 384 1019 \nQ 384 1609 779 1909 \nQ 1175 2209 1959 2209 \nL 2766 2209 \nL 2766 2266 \nQ 2766 2663 2505 2880 \nQ 2244 3097 1772 3097 \nQ 1472 3097 1187 3025 \nQ 903 2953 641 2809 \nL 641 3341 \nQ 956 3463 1253 3523 \nQ 1550 3584 1831 3584 \nQ 2591 3584 2966 3190 \nQ 3341 2797 3341 1997 \nz\n\" id=\"DejaVuSans-61\" transform=\"scale(0.015625)\"/>\n       <path d=\"M 1172 4494 \nL 1172 3500 \nL 2356 3500 \nL 2356 3053 \nL 1172 3053 \nL 1172 1153 \nQ 1172 725 1289 603 \nQ 1406 481 1766 481 \nL 2356 481 \nL 2356 0 \nL 1766 0 \nQ 1100 0 847 248 \nQ 594 497 594 1153 \nL 594 3053 \nL 172 3053 \nL 172 3500 \nL 594 3500 \nL 594 4494 \nL 1172 4494 \nz\n\" id=\"DejaVuSans-74\" transform=\"scale(0.015625)\"/>\n       <path d=\"M 3597 1894 \nL 3597 1613 \nL 953 1613 \nQ 991 1019 1311 708 \nQ 1631 397 2203 397 \nQ 2534 397 2845 478 \nQ 3156 559 3463 722 \nL 3463 178 \nQ 3153 47 2828 -22 \nQ 2503 -91 2169 -91 \nQ 1331 -91 842 396 \nQ 353 884 353 1716 \nQ 353 2575 817 3079 \nQ 1281 3584 2069 3584 \nQ 2775 3584 3186 3129 \nQ 3597 2675 3597 1894 \nz\nM 3022 2063 \nQ 3016 2534 2758 2815 \nQ 2500 3097 2075 3097 \nQ 1594 3097 1305 2825 \nQ 1016 2553 972 2059 \nL 3022 2063 \nz\n\" id=\"DejaVuSans-65\" transform=\"scale(0.015625)\"/>\n      </defs>\n      <use xlink:href=\"#DejaVuSans-64\"/>\n      <use x=\"63.476562\" xlink:href=\"#DejaVuSans-61\"/>\n      <use x=\"124.755859\" xlink:href=\"#DejaVuSans-74\"/>\n      <use x=\"163.964844\" xlink:href=\"#DejaVuSans-65\"/>\n     </g>\n    </g>\n   </g>\n   <g id=\"matplotlib.axis_2\">\n    <g id=\"ytick_1\">\n     <g id=\"line2d_8\">\n      <defs>\n       <path d=\"M 0 0 \nL -3.5 0 \n\" id=\"mc9a1c9bb82\" style=\"stroke:#000000;stroke-width:0.8;\"/>\n      </defs>\n      <g>\n       <use style=\"stroke:#000000;stroke-width:0.8;\" x=\"20.5625\" xlink:href=\"#mc9a1c9bb82\" y=\"235.238437\"/>\n      </g>\n     </g>\n     <g id=\"text_9\">\n      <!-- 0 -->\n      <g transform=\"translate(7.2 239.037656)scale(0.1 -0.1)\">\n       <use xlink:href=\"#DejaVuSans-30\"/>\n      </g>\n     </g>\n    </g>\n    <g id=\"ytick_2\">\n     <g id=\"line2d_9\">\n      <g>\n       <use style=\"stroke:#000000;stroke-width:0.8;\" x=\"20.5625\" xlink:href=\"#mc9a1c9bb82\" y=\"202.797928\"/>\n      </g>\n     </g>\n     <g id=\"text_10\">\n      <!-- 1 -->\n      <g transform=\"translate(7.2 206.597147)scale(0.1 -0.1)\">\n       <use xlink:href=\"#DejaVuSans-31\"/>\n      </g>\n     </g>\n    </g>\n    <g id=\"ytick_3\">\n     <g id=\"line2d_10\">\n      <g>\n       <use style=\"stroke:#000000;stroke-width:0.8;\" x=\"20.5625\" xlink:href=\"#mc9a1c9bb82\" y=\"170.357419\"/>\n      </g>\n     </g>\n     <g id=\"text_11\">\n      <!-- 2 -->\n      <g transform=\"translate(7.2 174.156638)scale(0.1 -0.1)\">\n       <use xlink:href=\"#DejaVuSans-32\"/>\n      </g>\n     </g>\n    </g>\n    <g id=\"ytick_4\">\n     <g id=\"line2d_11\">\n      <g>\n       <use style=\"stroke:#000000;stroke-width:0.8;\" x=\"20.5625\" xlink:href=\"#mc9a1c9bb82\" y=\"137.91691\"/>\n      </g>\n     </g>\n     <g id=\"text_12\">\n      <!-- 3 -->\n      <g transform=\"translate(7.2 141.716129)scale(0.1 -0.1)\">\n       <use xlink:href=\"#DejaVuSans-33\"/>\n      </g>\n     </g>\n    </g>\n    <g id=\"ytick_5\">\n     <g id=\"line2d_12\">\n      <g>\n       <use style=\"stroke:#000000;stroke-width:0.8;\" x=\"20.5625\" xlink:href=\"#mc9a1c9bb82\" y=\"105.476401\"/>\n      </g>\n     </g>\n     <g id=\"text_13\">\n      <!-- 4 -->\n      <g transform=\"translate(7.2 109.27562)scale(0.1 -0.1)\">\n       <use xlink:href=\"#DejaVuSans-34\"/>\n      </g>\n     </g>\n    </g>\n    <g id=\"ytick_6\">\n     <g id=\"line2d_13\">\n      <g>\n       <use style=\"stroke:#000000;stroke-width:0.8;\" x=\"20.5625\" xlink:href=\"#mc9a1c9bb82\" y=\"73.035892\"/>\n      </g>\n     </g>\n     <g id=\"text_14\">\n      <!-- 5 -->\n      <g transform=\"translate(7.2 76.835111)scale(0.1 -0.1)\">\n       <use xlink:href=\"#DejaVuSans-35\"/>\n      </g>\n     </g>\n    </g>\n    <g id=\"ytick_7\">\n     <g id=\"line2d_14\">\n      <g>\n       <use style=\"stroke:#000000;stroke-width:0.8;\" x=\"20.5625\" xlink:href=\"#mc9a1c9bb82\" y=\"40.595383\"/>\n      </g>\n     </g>\n     <g id=\"text_15\">\n      <!-- 6 -->\n      <g transform=\"translate(7.2 44.394602)scale(0.1 -0.1)\">\n       <use xlink:href=\"#DejaVuSans-36\"/>\n      </g>\n     </g>\n    </g>\n    <g id=\"text_16\">\n     <!-- 1e6 -->\n     <g transform=\"translate(20.5625 14.798437)scale(0.1 -0.1)\">\n      <use xlink:href=\"#DejaVuSans-31\"/>\n      <use x=\"63.623047\" xlink:href=\"#DejaVuSans-65\"/>\n      <use x=\"125.146484\" xlink:href=\"#DejaVuSans-36\"/>\n     </g>\n    </g>\n   </g>\n   <g id=\"patch_10\">\n    <path d=\"M 20.5625 235.238437 \nL 20.5625 17.798437 \n\" style=\"fill:none;stroke:#000000;stroke-linecap:square;stroke-linejoin:miter;stroke-width:0.8;\"/>\n   </g>\n   <g id=\"patch_11\">\n    <path d=\"M 355.3625 235.238437 \nL 355.3625 17.798437 \n\" style=\"fill:none;stroke:#000000;stroke-linecap:square;stroke-linejoin:miter;stroke-width:0.8;\"/>\n   </g>\n   <g id=\"patch_12\">\n    <path d=\"M 20.5625 235.238437 \nL 355.3625 235.238437 \n\" style=\"fill:none;stroke:#000000;stroke-linecap:square;stroke-linejoin:miter;stroke-width:0.8;\"/>\n   </g>\n   <g id=\"patch_13\">\n    <path d=\"M 20.5625 17.798437 \nL 355.3625 17.798437 \n\" style=\"fill:none;stroke:#000000;stroke-linecap:square;stroke-linejoin:miter;stroke-width:0.8;\"/>\n   </g>\n  </g>\n </g>\n <defs>\n  <clipPath id=\"pd3f4c33d50\">\n   <rect height=\"217.44\" width=\"334.8\" x=\"20.5625\" y=\"17.798437\"/>\n  </clipPath>\n </defs>\n</svg>\n",
      "image/png": "[encoded data removed]"
     },
     "metadata": {
      "needs_background": "light"
     }
    }
   ],
   "source": [
    "stocks['volume'].resample('Y').mean().plot.bar()"
   ]
  },
  {
   "source": [
    "**Anmerkung:**\n",
    "\n",
    "* resample sortiert die Daten nach den Jahren und plottet somit das Volumen der verschiedenen Jahre"
   ],
   "cell_type": "markdown",
   "metadata": {}
  },
  {
   "cell_type": "code",
   "execution_count": 81,
   "metadata": {},
   "outputs": [
    {
     "output_type": "execute_result",
     "data": {
      "text/plain": [
       "<AxesSubplot:xlabel='y(t)', ylabel='y(t + 1)'>"
      ]
     },
     "metadata": {},
     "execution_count": 81
    },
    {
     "output_type": "display_data",
     "data": {
      "text/plain": "<Figure size 432x288 with 1 Axes>",
      "image/svg+xml": "<?xml version=\"1.0\" encoding=\"utf-8\" standalone=\"no\"?>\n<!DOCTYPE svg PUBLIC \"-//W3C//DTD SVG 1.1//EN\"\n  \"http://www.w3.org/Graphics/SVG/1.1/DTD/svg11.dtd\">\n<svg height=\"272.794688pt\" version=\"1.1\" viewBox=\"0 0 376.240625 272.794688\" width=\"376.240625pt\" xmlns=\"http://www.w3.org/2000/svg\" xmlns:xlink=\"http://www.w3.org/1999/xlink\">\n <metadata>\n  <rdf:RDF xmlns:cc=\"http://creativecommons.org/ns#\" xmlns:dc=\"http://purl.org/dc/elements/1.1/\" xmlns:rdf=\"http://www.w3.org/1999/02/22-rdf-syntax-ns#\">\n   <cc:Work>\n    <dc:type rdf:resource=\"http://purl.org/dc/dcmitype/StillImage\"/>\n    <dc:date>2021-05-03T11:10:35.432106</dc:date>\n    <dc:format>image/svg+xml</dc:format>\n    <dc:creator>\n     <cc:Agent>\n      <dc:title>Matplotlib v3.4.1, https://matplotlib.org/</dc:title>\n     </cc:Agent>\n    </dc:creator>\n   </cc:Work>\n  </rdf:RDF>\n </metadata>\n <defs>\n  <style type=\"text/css\">*{stroke-linecap:butt;stroke-linejoin:round;}</style>\n </defs>\n <g id=\"figure_1\">\n  <g id=\"patch_1\">\n   <path d=\"M 0 272.794688 \nL 376.240625 272.794688 \nL 376.240625 0 \nL 0 0 \nz\n\" style=\"fill:none;\"/>\n  </g>\n  <g id=\"axes_1\">\n   <g id=\"patch_2\">\n    <path d=\"M 34.240625 235.238438 \nL 369.040625 235.238438 \nL 369.040625 17.798438 \nL 34.240625 17.798438 \nz\n\" style=\"fill:#ffffff;\"/>\n   </g>\n   <g id=\"PathCollection_1\">\n    <defs>\n     <path d=\"M 0 3 \nC 0.795609 3 1.55874 2.683901 2.12132 2.12132 \nC 2.683901 1.55874 3 0.795609 3 0 \nC 3 -0.795609 2.683901 -1.55874 2.12132 -2.12132 \nC 1.55874 -2.683901 0.795609 -3 0 -3 \nC -0.795609 -3 -1.55874 -2.683901 -2.12132 -2.12132 \nC -2.683901 -1.55874 -3 -0.795609 -3 0 \nC -3 0.795609 -2.683901 1.55874 -2.12132 2.12132 \nC -1.55874 2.683901 -0.795609 3 0 3 \nz\n\" id=\"m7239db1ec3\" style=\"stroke:#1f77b4;\"/>\n    </defs>\n    <g clip-path=\"url(#pf120260bce)\">\n     <use style=\"fill:#1f77b4;stroke:#1f77b4;\" x=\"121.349074\" xlink:href=\"#m7239db1ec3\" y=\"143.786199\"/>\n     <use style=\"fill:#1f77b4;stroke:#1f77b4;\" x=\"175.052847\" xlink:href=\"#m7239db1ec3\" y=\"161.378149\"/>\n     <use style=\"fill:#1f77b4;stroke:#1f77b4;\" x=\"147.965904\" xlink:href=\"#m7239db1ec3\" y=\"173.738483\"/>\n     <use style=\"fill:#1f77b4;stroke:#1f77b4;\" x=\"128.934263\" xlink:href=\"#m7239db1ec3\" y=\"176.006088\"/>\n     <use style=\"fill:#1f77b4;stroke:#1f77b4;\" x=\"125.442752\" xlink:href=\"#m7239db1ec3\" y=\"159.63542\"/>\n     <use style=\"fill:#1f77b4;stroke:#1f77b4;\" x=\"150.649244\" xlink:href=\"#m7239db1ec3\" y=\"169.100356\"/>\n     <use style=\"fill:#1f77b4;stroke:#1f77b4;\" x=\"136.07575\" xlink:href=\"#m7239db1ec3\" y=\"122.218221\"/>\n     <use style=\"fill:#1f77b4;stroke:#1f77b4;\" x=\"208.261819\" xlink:href=\"#m7239db1ec3\" y=\"167.649226\"/>\n     <use style=\"fill:#1f77b4;stroke:#1f77b4;\" x=\"138.310106\" xlink:href=\"#m7239db1ec3\" y=\"127.274878\"/>\n     <use style=\"fill:#1f77b4;stroke:#1f77b4;\" x=\"200.475908\" xlink:href=\"#m7239db1ec3\" y=\"162.705778\"/>\n     <use style=\"fill:#1f77b4;stroke:#1f77b4;\" x=\"145.921706\" xlink:href=\"#m7239db1ec3\" y=\"176.44177\"/>\n     <use style=\"fill:#1f77b4;stroke:#1f77b4;\" x=\"124.771917\" xlink:href=\"#m7239db1ec3\" y=\"186.736903\"/>\n     <use style=\"fill:#1f77b4;stroke:#1f77b4;\" x=\"108.92014\" xlink:href=\"#m7239db1ec3\" y=\"199.77306\"/>\n     <use style=\"fill:#1f77b4;stroke:#1f77b4;\" x=\"88.847912\" xlink:href=\"#m7239db1ec3\" y=\"170.184415\"/>\n     <use style=\"fill:#1f77b4;stroke:#1f77b4;\" x=\"134.406586\" xlink:href=\"#m7239db1ec3\" y=\"153.642219\"/>\n     <use style=\"fill:#1f77b4;stroke:#1f77b4;\" x=\"159.877186\" xlink:href=\"#m7239db1ec3\" y=\"126.269721\"/>\n     <use style=\"fill:#1f77b4;stroke:#1f77b4;\" x=\"202.023582\" xlink:href=\"#m7239db1ec3\" y=\"69.154204\"/>\n     <use style=\"fill:#1f77b4;stroke:#1f77b4;\" x=\"289.966349\" xlink:href=\"#m7239db1ec3\" y=\"27.682074\"/>\n     <use style=\"fill:#1f77b4;stroke:#1f77b4;\" x=\"353.822443\" xlink:href=\"#m7239db1ec3\" y=\"33.757609\"/>\n     <use style=\"fill:#1f77b4;stroke:#1f77b4;\" x=\"344.467729\" xlink:href=\"#m7239db1ec3\" y=\"68.142186\"/>\n     <use style=\"fill:#1f77b4;stroke:#1f77b4;\" x=\"291.524588\" xlink:href=\"#m7239db1ec3\" y=\"70.303444\"/>\n     <use style=\"fill:#1f77b4;stroke:#1f77b4;\" x=\"288.196824\" xlink:href=\"#m7239db1ec3\" y=\"99.748004\"/>\n     <use style=\"fill:#1f77b4;stroke:#1f77b4;\" x=\"242.860001\" xlink:href=\"#m7239db1ec3\" y=\"121.652178\"/>\n     <use style=\"fill:#1f77b4;stroke:#1f77b4;\" x=\"209.133376\" xlink:href=\"#m7239db1ec3\" y=\"154.959557\"/>\n     <use style=\"fill:#1f77b4;stroke:#1f77b4;\" x=\"157.848835\" xlink:href=\"#m7239db1ec3\" y=\"141.717567\"/>\n     <use style=\"fill:#1f77b4;stroke:#1f77b4;\" x=\"178.237992\" xlink:href=\"#m7239db1ec3\" y=\"171.995755\"/>\n     <use style=\"fill:#1f77b4;stroke:#1f77b4;\" x=\"131.617603\" xlink:href=\"#m7239db1ec3\" y=\"159.007627\"/>\n     <use style=\"fill:#1f77b4;stroke:#1f77b4;\" x=\"151.61588\" xlink:href=\"#m7239db1ec3\" y=\"159.947602\"/>\n     <use style=\"fill:#1f77b4;stroke:#1f77b4;\" x=\"150.168567\" xlink:href=\"#m7239db1ec3\" y=\"180.85348\"/>\n     <use style=\"fill:#1f77b4;stroke:#1f77b4;\" x=\"117.979053\" xlink:href=\"#m7239db1ec3\" y=\"190.935918\"/>\n     <use style=\"fill:#1f77b4;stroke:#1f77b4;\" x=\"102.454769\" xlink:href=\"#m7239db1ec3\" y=\"178.568722\"/>\n     <use style=\"fill:#1f77b4;stroke:#1f77b4;\" x=\"121.496975\" xlink:href=\"#m7239db1ec3\" y=\"176.527535\"/>\n     <use style=\"fill:#1f77b4;stroke:#1f77b4;\" x=\"124.639863\" xlink:href=\"#m7239db1ec3\" y=\"178.095304\"/>\n     <use style=\"fill:#1f77b4;stroke:#1f77b4;\" x=\"122.225914\" xlink:href=\"#m7239db1ec3\" y=\"189.121148\"/>\n     <use style=\"fill:#1f77b4;stroke:#1f77b4;\" x=\"105.249035\" xlink:href=\"#m7239db1ec3\" y=\"168.493146\"/>\n     <use style=\"fill:#1f77b4;stroke:#1f77b4;\" x=\"137.010694\" xlink:href=\"#m7239db1ec3\" y=\"160.342117\"/>\n     <use style=\"fill:#1f77b4;stroke:#1f77b4;\" x=\"149.561118\" xlink:href=\"#m7239db1ec3\" y=\"171.652698\"/>\n     <use style=\"fill:#1f77b4;stroke:#1f77b4;\" x=\"132.14582\" xlink:href=\"#m7239db1ec3\" y=\"189.573983\"/>\n     <use style=\"fill:#1f77b4;stroke:#1f77b4;\" x=\"104.551789\" xlink:href=\"#m7239db1ec3\" y=\"178.287416\"/>\n     <use style=\"fill:#1f77b4;stroke:#1f77b4;\" x=\"121.930112\" xlink:href=\"#m7239db1ec3\" y=\"177.803706\"/>\n     <use style=\"fill:#1f77b4;stroke:#1f77b4;\" x=\"122.674898\" xlink:href=\"#m7239db1ec3\" y=\"143.052057\"/>\n     <use style=\"fill:#1f77b4;stroke:#1f77b4;\" x=\"176.18323\" xlink:href=\"#m7239db1ec3\" y=\"174.229054\"/>\n     <use style=\"fill:#1f77b4;stroke:#1f77b4;\" x=\"128.178914\" xlink:href=\"#m7239db1ec3\" y=\"196.69241\"/>\n     <use style=\"fill:#1f77b4;stroke:#1f77b4;\" x=\"93.591296\" xlink:href=\"#m7239db1ec3\" y=\"148.252798\"/>\n     <use style=\"fill:#1f77b4;stroke:#1f77b4;\" x=\"168.175468\" xlink:href=\"#m7239db1ec3\" y=\"177.848303\"/>\n     <use style=\"fill:#1f77b4;stroke:#1f77b4;\" x=\"122.606229\" xlink:href=\"#m7239db1ec3\" y=\"186.510486\"/>\n     <use style=\"fill:#1f77b4;stroke:#1f77b4;\" x=\"109.268762\" xlink:href=\"#m7239db1ec3\" y=\"186.417861\"/>\n     <use style=\"fill:#1f77b4;stroke:#1f77b4;\" x=\"109.411381\" xlink:href=\"#m7239db1ec3\" y=\"189.731789\"/>\n     <use style=\"fill:#1f77b4;stroke:#1f77b4;\" x=\"104.308809\" xlink:href=\"#m7239db1ec3\" y=\"181.621927\"/>\n     <use style=\"fill:#1f77b4;stroke:#1f77b4;\" x=\"116.795848\" xlink:href=\"#m7239db1ec3\" y=\"143.203002\"/>\n     <use style=\"fill:#1f77b4;stroke:#1f77b4;\" x=\"175.950815\" xlink:href=\"#m7239db1ec3\" y=\"182.455555\"/>\n     <use style=\"fill:#1f77b4;stroke:#1f77b4;\" x=\"115.512282\" xlink:href=\"#m7239db1ec3\" y=\"201.900011\"/>\n     <use style=\"fill:#1f77b4;stroke:#1f77b4;\" x=\"85.57297\" xlink:href=\"#m7239db1ec3\" y=\"196.32877\"/>\n     <use style=\"fill:#1f77b4;stroke:#1f77b4;\" x=\"94.151206\" xlink:href=\"#m7239db1ec3\" y=\"190.743806\"/>\n     <use style=\"fill:#1f77b4;stroke:#1f77b4;\" x=\"102.750571\" xlink:href=\"#m7239db1ec3\" y=\"200.815952\"/>\n     <use style=\"fill:#1f77b4;stroke:#1f77b4;\" x=\"87.242134\" xlink:href=\"#m7239db1ec3\" y=\"180.146783\"/>\n     <use style=\"fill:#1f77b4;stroke:#1f77b4;\" x=\"119.067179\" xlink:href=\"#m7239db1ec3\" y=\"184.311492\"/>\n     <use style=\"fill:#1f77b4;stroke:#1f77b4;\" x=\"112.65463\" xlink:href=\"#m7239db1ec3\" y=\"186.493333\"/>\n     <use style=\"fill:#1f77b4;stroke:#1f77b4;\" x=\"109.295173\" xlink:href=\"#m7239db1ec3\" y=\"191.368169\"/>\n     <use style=\"fill:#1f77b4;stroke:#1f77b4;\" x=\"101.789217\" xlink:href=\"#m7239db1ec3\" y=\"206.54843\"/>\n     <use style=\"fill:#1f77b4;stroke:#1f77b4;\" x=\"78.415636\" xlink:href=\"#m7239db1ec3\" y=\"206.613611\"/>\n     <use style=\"fill:#1f77b4;stroke:#1f77b4;\" x=\"78.315275\" xlink:href=\"#m7239db1ec3\" y=\"209.310037\"/>\n     <use style=\"fill:#1f77b4;stroke:#1f77b4;\" x=\"74.163493\" xlink:href=\"#m7239db1ec3\" y=\"195.60492\"/>\n     <use style=\"fill:#1f77b4;stroke:#1f77b4;\" x=\"95.265743\" xlink:href=\"#m7239db1ec3\" y=\"201.176162\"/>\n     <use style=\"fill:#1f77b4;stroke:#1f77b4;\" x=\"86.687507\" xlink:href=\"#m7239db1ec3\" y=\"203.601573\"/>\n     <use style=\"fill:#1f77b4;stroke:#1f77b4;\" x=\"82.953016\" xlink:href=\"#m7239db1ec3\" y=\"199.042349\"/>\n     <use style=\"fill:#1f77b4;stroke:#1f77b4;\" x=\"89.973013\" xlink:href=\"#m7239db1ec3\" y=\"186.894709\"/>\n     <use style=\"fill:#1f77b4;stroke:#1f77b4;\" x=\"108.67716\" xlink:href=\"#m7239db1ec3\" y=\"206.510694\"/>\n     <use style=\"fill:#1f77b4;stroke:#1f77b4;\" x=\"78.47374\" xlink:href=\"#m7239db1ec3\" y=\"183.388669\"/>\n     <use style=\"fill:#1f77b4;stroke:#1f77b4;\" x=\"114.075533\" xlink:href=\"#m7239db1ec3\" y=\"192.078297\"/>\n     <use style=\"fill:#1f77b4;stroke:#1f77b4;\" x=\"100.695808\" xlink:href=\"#m7239db1ec3\" y=\"175.800254\"/>\n     <use style=\"fill:#1f77b4;stroke:#1f77b4;\" x=\"125.759682\" xlink:href=\"#m7239db1ec3\" y=\"192.997689\"/>\n     <use style=\"fill:#1f77b4;stroke:#1f77b4;\" x=\"99.280188\" xlink:href=\"#m7239db1ec3\" y=\"140.465409\"/>\n     <use style=\"fill:#1f77b4;stroke:#1f77b4;\" x=\"180.165983\" xlink:href=\"#m7239db1ec3\" y=\"41.273982\"/>\n     <use style=\"fill:#1f77b4;stroke:#1f77b4;\" x=\"332.894505\" xlink:href=\"#m7239db1ec3\" y=\"178.246249\"/>\n     <use style=\"fill:#1f77b4;stroke:#1f77b4;\" x=\"121.993498\" xlink:href=\"#m7239db1ec3\" y=\"151.302572\"/>\n     <use style=\"fill:#1f77b4;stroke:#1f77b4;\" x=\"163.479623\" xlink:href=\"#m7239db1ec3\" y=\"139.158363\"/>\n     <use style=\"fill:#1f77b4;stroke:#1f77b4;\" x=\"182.178488\" xlink:href=\"#m7239db1ec3\" y=\"147.093266\"/>\n     <use style=\"fill:#1f77b4;stroke:#1f77b4;\" x=\"169.96084\" xlink:href=\"#m7239db1ec3\" y=\"160.1157\"/>\n     <use style=\"fill:#1f77b4;stroke:#1f77b4;\" x=\"149.909741\" xlink:href=\"#m7239db1ec3\" y=\"189.0148\"/>\n     <use style=\"fill:#1f77b4;stroke:#1f77b4;\" x=\"105.412782\" xlink:href=\"#m7239db1ec3\" y=\"192.496826\"/>\n     <use style=\"fill:#1f77b4;stroke:#1f77b4;\" x=\"100.051384\" xlink:href=\"#m7239db1ec3\" y=\"187.361267\"/>\n     <use style=\"fill:#1f77b4;stroke:#1f77b4;\" x=\"107.958786\" xlink:href=\"#m7239db1ec3\" y=\"187.704323\"/>\n     <use style=\"fill:#1f77b4;stroke:#1f77b4;\" x=\"107.430569\" xlink:href=\"#m7239db1ec3\" y=\"182.812334\"/>\n     <use style=\"fill:#1f77b4;stroke:#1f77b4;\" x=\"114.962936\" xlink:href=\"#m7239db1ec3\" y=\"193.646066\"/>\n     <use style=\"fill:#1f77b4;stroke:#1f77b4;\" x=\"98.281859\" xlink:href=\"#m7239db1ec3\" y=\"191.61174\"/>\n     <use style=\"fill:#1f77b4;stroke:#1f77b4;\" x=\"101.414183\" xlink:href=\"#m7239db1ec3\" y=\"187.409295\"/>\n     <use style=\"fill:#1f77b4;stroke:#1f77b4;\" x=\"107.884835\" xlink:href=\"#m7239db1ec3\" y=\"198.778195\"/>\n     <use style=\"fill:#1f77b4;stroke:#1f77b4;\" x=\"90.37974\" xlink:href=\"#m7239db1ec3\" y=\"200.363117\"/>\n     <use style=\"fill:#1f77b4;stroke:#1f77b4;\" x=\"87.93938\" xlink:href=\"#m7239db1ec3\" y=\"200.273922\"/>\n     <use style=\"fill:#1f77b4;stroke:#1f77b4;\" x=\"88.076716\" xlink:href=\"#m7239db1ec3\" y=\"176.805411\"/>\n     <use style=\"fill:#1f77b4;stroke:#1f77b4;\" x=\"124.212008\" xlink:href=\"#m7239db1ec3\" y=\"184.846661\"/>\n     <use style=\"fill:#1f77b4;stroke:#1f77b4;\" x=\"111.830613\" xlink:href=\"#m7239db1ec3\" y=\"188.160589\"/>\n     <use style=\"fill:#1f77b4;stroke:#1f77b4;\" x=\"106.728041\" xlink:href=\"#m7239db1ec3\" y=\"182.733431\"/>\n     <use style=\"fill:#1f77b4;stroke:#1f77b4;\" x=\"115.084426\" xlink:href=\"#m7239db1ec3\" y=\"199.807365\"/>\n     <use style=\"fill:#1f77b4;stroke:#1f77b4;\" x=\"88.79509\" xlink:href=\"#m7239db1ec3\" y=\"179.265127\"/>\n     <use style=\"fill:#1f77b4;stroke:#1f77b4;\" x=\"120.424695\" xlink:href=\"#m7239db1ec3\" y=\"189.567121\"/>\n     <use style=\"fill:#1f77b4;stroke:#1f77b4;\" x=\"104.562353\" xlink:href=\"#m7239db1ec3\" y=\"191.381892\"/>\n     <use style=\"fill:#1f77b4;stroke:#1f77b4;\" x=\"101.768088\" xlink:href=\"#m7239db1ec3\" y=\"177.738525\"/>\n     <use style=\"fill:#1f77b4;stroke:#1f77b4;\" x=\"122.775259\" xlink:href=\"#m7239db1ec3\" y=\"172.403992\"/>\n     <use style=\"fill:#1f77b4;stroke:#1f77b4;\" x=\"130.989025\" xlink:href=\"#m7239db1ec3\" y=\"202.452333\"/>\n     <use style=\"fill:#1f77b4;stroke:#1f77b4;\" x=\"84.722541\" xlink:href=\"#m7239db1ec3\" y=\"199.426572\"/>\n     <use style=\"fill:#1f77b4;stroke:#1f77b4;\" x=\"89.381411\" xlink:href=\"#m7239db1ec3\" y=\"203.388878\"/>\n     <use style=\"fill:#1f77b4;stroke:#1f77b4;\" x=\"83.28051\" xlink:href=\"#m7239db1ec3\" y=\"191.759254\"/>\n     <use style=\"fill:#1f77b4;stroke:#1f77b4;\" x=\"101.18705\" xlink:href=\"#m7239db1ec3\" y=\"199.618684\"/>\n     <use style=\"fill:#1f77b4;stroke:#1f77b4;\" x=\"89.08561\" xlink:href=\"#m7239db1ec3\" y=\"191.12803\"/>\n     <use style=\"fill:#1f77b4;stroke:#1f77b4;\" x=\"102.158968\" xlink:href=\"#m7239db1ec3\" y=\"211.533045\"/>\n     <use style=\"fill:#1f77b4;stroke:#1f77b4;\" x=\"70.74065\" xlink:href=\"#m7239db1ec3\" y=\"203.728504\"/>\n     <use style=\"fill:#1f77b4;stroke:#1f77b4;\" x=\"82.757576\" xlink:href=\"#m7239db1ec3\" y=\"202.270513\"/>\n     <use style=\"fill:#1f77b4;stroke:#1f77b4;\" x=\"85.002496\" xlink:href=\"#m7239db1ec3\" y=\"200.651285\"/>\n     <use style=\"fill:#1f77b4;stroke:#1f77b4;\" x=\"87.495678\" xlink:href=\"#m7239db1ec3\" y=\"203.793685\"/>\n     <use style=\"fill:#1f77b4;stroke:#1f77b4;\" x=\"82.657215\" xlink:href=\"#m7239db1ec3\" y=\"177.446927\"/>\n     <use style=\"fill:#1f77b4;stroke:#1f77b4;\" x=\"123.224243\" xlink:href=\"#m7239db1ec3\" y=\"128.736299\"/>\n     <use style=\"fill:#1f77b4;stroke:#1f77b4;\" x=\"198.225705\" xlink:href=\"#m7239db1ec3\" y=\"174.016359\"/>\n     <use style=\"fill:#1f77b4;stroke:#1f77b4;\" x=\"128.506408\" xlink:href=\"#m7239db1ec3\" y=\"195.17953\"/>\n     <use style=\"fill:#1f77b4;stroke:#1f77b4;\" x=\"95.920731\" xlink:href=\"#m7239db1ec3\" y=\"204.829716\"/>\n     <use style=\"fill:#1f77b4;stroke:#1f77b4;\" x=\"81.062001\" xlink:href=\"#m7239db1ec3\" y=\"170.966585\"/>\n     <use style=\"fill:#1f77b4;stroke:#1f77b4;\" x=\"133.202253\" xlink:href=\"#m7239db1ec3\" y=\"92.83198\"/>\n     <use style=\"fill:#1f77b4;stroke:#1f77b4;\" x=\"253.508845\" xlink:href=\"#m7239db1ec3\" y=\"155.268308\"/>\n     <use style=\"fill:#1f77b4;stroke:#1f77b4;\" x=\"157.37344\" xlink:href=\"#m7239db1ec3\" y=\"170.884251\"/>\n     <use style=\"fill:#1f77b4;stroke:#1f77b4;\" x=\"133.329025\" xlink:href=\"#m7239db1ec3\" y=\"179.15878\"/>\n     <use style=\"fill:#1f77b4;stroke:#1f77b4;\" x=\"120.588442\" xlink:href=\"#m7239db1ec3\" y=\"190.64775\"/>\n     <use style=\"fill:#1f77b4;stroke:#1f77b4;\" x=\"102.898471\" xlink:href=\"#m7239db1ec3\" y=\"199.327086\"/>\n     <use style=\"fill:#1f77b4;stroke:#1f77b4;\" x=\"89.534594\" xlink:href=\"#m7239db1ec3\" y=\"195.282447\"/>\n     <use style=\"fill:#1f77b4;stroke:#1f77b4;\" x=\"95.762266\" xlink:href=\"#m7239db1ec3\" y=\"197.021745\"/>\n     <use style=\"fill:#1f77b4;stroke:#1f77b4;\" x=\"93.084209\" xlink:href=\"#m7239db1ec3\" y=\"200.716466\"/>\n     <use style=\"fill:#1f77b4;stroke:#1f77b4;\" x=\"87.395317\" xlink:href=\"#m7239db1ec3\" y=\"191.419628\"/>\n     <use style=\"fill:#1f77b4;stroke:#1f77b4;\" x=\"101.709984\" xlink:href=\"#m7239db1ec3\" y=\"207.316877\"/>\n     <use style=\"fill:#1f77b4;stroke:#1f77b4;\" x=\"77.232431\" xlink:href=\"#m7239db1ec3\" y=\"199.59467\"/>\n     <use style=\"fill:#1f77b4;stroke:#1f77b4;\" x=\"89.122585\" xlink:href=\"#m7239db1ec3\" y=\"213.351246\"/>\n     <use style=\"fill:#1f77b4;stroke:#1f77b4;\" x=\"67.941103\" xlink:href=\"#m7239db1ec3\" y=\"212.860674\"/>\n     <use style=\"fill:#1f77b4;stroke:#1f77b4;\" x=\"68.696452\" xlink:href=\"#m7239db1ec3\" y=\"201.570677\"/>\n     <use style=\"fill:#1f77b4;stroke:#1f77b4;\" x=\"86.080058\" xlink:href=\"#m7239db1ec3\" y=\"201.014925\"/>\n     <use style=\"fill:#1f77b4;stroke:#1f77b4;\" x=\"86.935768\" xlink:href=\"#m7239db1ec3\" y=\"203.347711\"/>\n     <use style=\"fill:#1f77b4;stroke:#1f77b4;\" x=\"83.343896\" xlink:href=\"#m7239db1ec3\" y=\"201.213898\"/>\n     <use style=\"fill:#1f77b4;stroke:#1f77b4;\" x=\"86.629403\" xlink:href=\"#m7239db1ec3\" y=\"210.250013\"/>\n     <use style=\"fill:#1f77b4;stroke:#1f77b4;\" x=\"72.71618\" xlink:href=\"#m7239db1ec3\" y=\"202.239638\"/>\n     <use style=\"fill:#1f77b4;stroke:#1f77b4;\" x=\"85.050035\" xlink:href=\"#m7239db1ec3\" y=\"210.040748\"/>\n     <use style=\"fill:#1f77b4;stroke:#1f77b4;\" x=\"73.038392\" xlink:href=\"#m7239db1ec3\" y=\"204.747382\"/>\n     <use style=\"fill:#1f77b4;stroke:#1f77b4;\" x=\"81.188773\" xlink:href=\"#m7239db1ec3\" y=\"193.570594\"/>\n     <use style=\"fill:#1f77b4;stroke:#1f77b4;\" x=\"98.398067\" xlink:href=\"#m7239db1ec3\" y=\"124.352034\"/>\n     <use style=\"fill:#1f77b4;stroke:#1f77b4;\" x=\"204.976312\" xlink:href=\"#m7239db1ec3\" y=\"113.672678\"/>\n     <use style=\"fill:#1f77b4;stroke:#1f77b4;\" x=\"221.419692\" xlink:href=\"#m7239db1ec3\" y=\"152.815452\"/>\n     <use style=\"fill:#1f77b4;stroke:#1f77b4;\" x=\"161.150188\" xlink:href=\"#m7239db1ec3\" y=\"184.23945\"/>\n     <use style=\"fill:#1f77b4;stroke:#1f77b4;\" x=\"112.765556\" xlink:href=\"#m7239db1ec3\" y=\"201.292801\"/>\n     <use style=\"fill:#1f77b4;stroke:#1f77b4;\" x=\"86.507913\" xlink:href=\"#m7239db1ec3\" y=\"206.339166\"/>\n     <use style=\"fill:#1f77b4;stroke:#1f77b4;\" x=\"78.737848\" xlink:href=\"#m7239db1ec3\" y=\"183.666545\"/>\n     <use style=\"fill:#1f77b4;stroke:#1f77b4;\" x=\"113.647677\" xlink:href=\"#m7239db1ec3\" y=\"207.45067\"/>\n     <use style=\"fill:#1f77b4;stroke:#1f77b4;\" x=\"77.026427\" xlink:href=\"#m7239db1ec3\" y=\"200.212172\"/>\n     <use style=\"fill:#1f77b4;stroke:#1f77b4;\" x=\"88.171795\" xlink:href=\"#m7239db1ec3\" y=\"218.479944\"/>\n     <use style=\"fill:#1f77b4;stroke:#1f77b4;\" x=\"60.044266\" xlink:href=\"#m7239db1ec3\" y=\"212.006463\"/>\n     <use style=\"fill:#1f77b4;stroke:#1f77b4;\" x=\"70.011711\" xlink:href=\"#m7239db1ec3\" y=\"220.054574\"/>\n     <use style=\"fill:#1f77b4;stroke:#1f77b4;\" x=\"57.619752\" xlink:href=\"#m7239db1ec3\" y=\"213.272343\"/>\n     <use style=\"fill:#1f77b4;stroke:#1f77b4;\" x=\"68.062592\" xlink:href=\"#m7239db1ec3\" y=\"210.191693\"/>\n     <use style=\"fill:#1f77b4;stroke:#1f77b4;\" x=\"72.805977\" xlink:href=\"#m7239db1ec3\" y=\"213.752622\"/>\n     <use style=\"fill:#1f77b4;stroke:#1f77b4;\" x=\"67.323089\" xlink:href=\"#m7239db1ec3\" y=\"220.778424\"/>\n     <use style=\"fill:#1f77b4;stroke:#1f77b4;\" x=\"56.505215\" xlink:href=\"#m7239db1ec3\" y=\"215.903588\"/>\n     <use style=\"fill:#1f77b4;stroke:#1f77b4;\" x=\"64.011172\" xlink:href=\"#m7239db1ec3\" y=\"212.819508\"/>\n     <use style=\"fill:#1f77b4;stroke:#1f77b4;\" x=\"68.759838\" xlink:href=\"#m7239db1ec3\" y=\"213.615399\"/>\n     <use style=\"fill:#1f77b4;stroke:#1f77b4;\" x=\"67.534376\" xlink:href=\"#m7239db1ec3\" y=\"208.682243\"/>\n     <use style=\"fill:#1f77b4;stroke:#1f77b4;\" x=\"75.130129\" xlink:href=\"#m7239db1ec3\" y=\"213.659997\"/>\n     <use style=\"fill:#1f77b4;stroke:#1f77b4;\" x=\"67.465708\" xlink:href=\"#m7239db1ec3\" y=\"205.433496\"/>\n     <use style=\"fill:#1f77b4;stroke:#1f77b4;\" x=\"80.13234\" xlink:href=\"#m7239db1ec3\" y=\"216.380437\"/>\n     <use style=\"fill:#1f77b4;stroke:#1f77b4;\" x=\"63.276951\" xlink:href=\"#m7239db1ec3\" y=\"206.692514\"/>\n     <use style=\"fill:#1f77b4;stroke:#1f77b4;\" x=\"78.193785\" xlink:href=\"#m7239db1ec3\" y=\"202.623861\"/>\n     <use style=\"fill:#1f77b4;stroke:#1f77b4;\" x=\"84.458433\" xlink:href=\"#m7239db1ec3\" y=\"213.721747\"/>\n     <use style=\"fill:#1f77b4;stroke:#1f77b4;\" x=\"67.370629\" xlink:href=\"#m7239db1ec3\" y=\"208.658229\"/>\n     <use style=\"fill:#1f77b4;stroke:#1f77b4;\" x=\"75.167104\" xlink:href=\"#m7239db1ec3\" y=\"195.961699\"/>\n     <use style=\"fill:#1f77b4;stroke:#1f77b4;\" x=\"94.716398\" xlink:href=\"#m7239db1ec3\" y=\"214.798945\"/>\n     <use style=\"fill:#1f77b4;stroke:#1f77b4;\" x=\"65.712029\" xlink:href=\"#m7239db1ec3\" y=\"201.879428\"/>\n     <use style=\"fill:#1f77b4;stroke:#1f77b4;\" x=\"85.604663\" xlink:href=\"#m7239db1ec3\" y=\"180.774577\"/>\n     <use style=\"fill:#1f77b4;stroke:#1f77b4;\" x=\"118.100543\" xlink:href=\"#m7239db1ec3\" y=\"200.483187\"/>\n     <use style=\"fill:#1f77b4;stroke:#1f77b4;\" x=\"87.754504\" xlink:href=\"#m7239db1ec3\" y=\"197.60151\"/>\n     <use style=\"fill:#1f77b4;stroke:#1f77b4;\" x=\"92.191523\" xlink:href=\"#m7239db1ec3\" y=\"208.153936\"/>\n     <use style=\"fill:#1f77b4;stroke:#1f77b4;\" x=\"75.943583\" xlink:href=\"#m7239db1ec3\" y=\"200.685591\"/>\n     <use style=\"fill:#1f77b4;stroke:#1f77b4;\" x=\"87.442856\" xlink:href=\"#m7239db1ec3\" y=\"175.155308\"/>\n     <use style=\"fill:#1f77b4;stroke:#1f77b4;\" x=\"126.752729\" xlink:href=\"#m7239db1ec3\" y=\"205.224231\"/>\n     <use style=\"fill:#1f77b4;stroke:#1f77b4;\" x=\"80.454552\" xlink:href=\"#m7239db1ec3\" y=\"211.886393\"/>\n     <use style=\"fill:#1f77b4;stroke:#1f77b4;\" x=\"70.196587\" xlink:href=\"#m7239db1ec3\" y=\"205.39576\"/>\n     <use style=\"fill:#1f77b4;stroke:#1f77b4;\" x=\"80.190443\" xlink:href=\"#m7239db1ec3\" y=\"194.472833\"/>\n     <use style=\"fill:#1f77b4;stroke:#1f77b4;\" x=\"97.008857\" xlink:href=\"#m7239db1ec3\" y=\"197.021745\"/>\n     <use style=\"fill:#1f77b4;stroke:#1f77b4;\" x=\"93.084209\" xlink:href=\"#m7239db1ec3\" y=\"192.860466\"/>\n     <use style=\"fill:#1f77b4;stroke:#1f77b4;\" x=\"99.491475\" xlink:href=\"#m7239db1ec3\" y=\"205.896623\"/>\n     <use style=\"fill:#1f77b4;stroke:#1f77b4;\" x=\"79.419247\" xlink:href=\"#m7239db1ec3\" y=\"207.385489\"/>\n     <use style=\"fill:#1f77b4;stroke:#1f77b4;\" x=\"77.126788\" xlink:href=\"#m7239db1ec3\" y=\"200.356256\"/>\n     <use style=\"fill:#1f77b4;stroke:#1f77b4;\" x=\"87.949944\" xlink:href=\"#m7239db1ec3\" y=\"191.073141\"/>\n     <use style=\"fill:#1f77b4;stroke:#1f77b4;\" x=\"102.243483\" xlink:href=\"#m7239db1ec3\" y=\"201.58783\"/>\n     <use style=\"fill:#1f77b4;stroke:#1f77b4;\" x=\"86.053647\" xlink:href=\"#m7239db1ec3\" y=\"204.243089\"/>\n     <use style=\"fill:#1f77b4;stroke:#1f77b4;\" x=\"81.965251\" xlink:href=\"#m7239db1ec3\" y=\"195.330475\"/>\n     <use style=\"fill:#1f77b4;stroke:#1f77b4;\" x=\"95.688316\" xlink:href=\"#m7239db1ec3\" y=\"208.726841\"/>\n     <use style=\"fill:#1f77b4;stroke:#1f77b4;\" x=\"75.061461\" xlink:href=\"#m7239db1ec3\" y=\"213.443871\"/>\n     <use style=\"fill:#1f77b4;stroke:#1f77b4;\" x=\"67.798484\" xlink:href=\"#m7239db1ec3\" y=\"205.152189\"/>\n     <use style=\"fill:#1f77b4;stroke:#1f77b4;\" x=\"80.565477\" xlink:href=\"#m7239db1ec3\" y=\"198.373388\"/>\n     <use style=\"fill:#1f77b4;stroke:#1f77b4;\" x=\"91.003035\" xlink:href=\"#m7239db1ec3\" y=\"213.299787\"/>\n     <use style=\"fill:#1f77b4;stroke:#1f77b4;\" x=\"68.020335\" xlink:href=\"#m7239db1ec3\" y=\"198.620389\"/>\n     <use style=\"fill:#1f77b4;stroke:#1f77b4;\" x=\"90.62272\" xlink:href=\"#m7239db1ec3\" y=\"216.212339\"/>\n     <use style=\"fill:#1f77b4;stroke:#1f77b4;\" x=\"63.535777\" xlink:href=\"#m7239db1ec3\" y=\"207.961824\"/>\n     <use style=\"fill:#1f77b4;stroke:#1f77b4;\" x=\"76.239384\" xlink:href=\"#m7239db1ec3\" y=\"174.894584\"/>\n     <use style=\"fill:#1f77b4;stroke:#1f77b4;\" x=\"127.154174\" xlink:href=\"#m7239db1ec3\" y=\"184.846661\"/>\n     <use style=\"fill:#1f77b4;stroke:#1f77b4;\" x=\"111.830613\" xlink:href=\"#m7239db1ec3\" y=\"185.165703\"/>\n     <use style=\"fill:#1f77b4;stroke:#1f77b4;\" x=\"111.339371\" xlink:href=\"#m7239db1ec3\" y=\"202.020081\"/>\n     <use style=\"fill:#1f77b4;stroke:#1f77b4;\" x=\"85.388094\" xlink:href=\"#m7239db1ec3\" y=\"187.224044\"/>\n     <use style=\"fill:#1f77b4;stroke:#1f77b4;\" x=\"108.170072\" xlink:href=\"#m7239db1ec3\" y=\"191.378461\"/>\n     <use style=\"fill:#1f77b4;stroke:#1f77b4;\" x=\"101.77337\" xlink:href=\"#m7239db1ec3\" y=\"188.932466\"/>\n     <use style=\"fill:#1f77b4;stroke:#1f77b4;\" x=\"105.539554\" xlink:href=\"#m7239db1ec3\" y=\"151.144766\"/>\n     <use style=\"fill:#1f77b4;stroke:#1f77b4;\" x=\"163.722603\" xlink:href=\"#m7239db1ec3\" y=\"98.976127\"/>\n     <use style=\"fill:#1f77b4;stroke:#1f77b4;\" x=\"244.048488\" xlink:href=\"#m7239db1ec3\" y=\"162.187763\"/>\n     <use style=\"fill:#1f77b4;stroke:#1f77b4;\" x=\"146.719313\" xlink:href=\"#m7239db1ec3\" y=\"162.904751\"/>\n     <use style=\"fill:#1f77b4;stroke:#1f77b4;\" x=\"145.615341\" xlink:href=\"#m7239db1ec3\" y=\"181.223981\"/>\n     <use style=\"fill:#1f77b4;stroke:#1f77b4;\" x=\"117.408579\" xlink:href=\"#m7239db1ec3\" y=\"178.79514\"/>\n     <use style=\"fill:#1f77b4;stroke:#1f77b4;\" x=\"121.148352\" xlink:href=\"#m7239db1ec3\" y=\"172.222172\"/>\n     <use style=\"fill:#1f77b4;stroke:#1f77b4;\" x=\"131.26898\" xlink:href=\"#m7239db1ec3\" y=\"191.080002\"/>\n     <use style=\"fill:#1f77b4;stroke:#1f77b4;\" x=\"102.232919\" xlink:href=\"#m7239db1ec3\" y=\"199.117821\"/>\n     <use style=\"fill:#1f77b4;stroke:#1f77b4;\" x=\"89.856806\" xlink:href=\"#m7239db1ec3\" y=\"156.170547\"/>\n     <use style=\"fill:#1f77b4;stroke:#1f77b4;\" x=\"155.984231\" xlink:href=\"#m7239db1ec3\" y=\"82.845599\"/>\n     <use style=\"fill:#1f77b4;stroke:#1f77b4;\" x=\"268.885228\" xlink:href=\"#m7239db1ec3\" y=\"163.330142\"/>\n     <use style=\"fill:#1f77b4;stroke:#1f77b4;\" x=\"144.960352\" xlink:href=\"#m7239db1ec3\" y=\"120.870008\"/>\n     <use style=\"fill:#1f77b4;stroke:#1f77b4;\" x=\"210.33771\" xlink:href=\"#m7239db1ec3\" y=\"165.141481\"/>\n     <use style=\"fill:#1f77b4;stroke:#1f77b4;\" x=\"142.171369\" xlink:href=\"#m7239db1ec3\" y=\"195.193252\"/>\n     <use style=\"fill:#1f77b4;stroke:#1f77b4;\" x=\"95.899603\" xlink:href=\"#m7239db1ec3\" y=\"201.306523\"/>\n     <use style=\"fill:#1f77b4;stroke:#1f77b4;\" x=\"86.486784\" xlink:href=\"#m7239db1ec3\" y=\"193.100606\"/>\n     <use style=\"fill:#1f77b4;stroke:#1f77b4;\" x=\"99.121723\" xlink:href=\"#m7239db1ec3\" y=\"200.071519\"/>\n     <use style=\"fill:#1f77b4;stroke:#1f77b4;\" x=\"88.388364\" xlink:href=\"#m7239db1ec3\" y=\"190.850154\"/>\n     <use style=\"fill:#1f77b4;stroke:#1f77b4;\" x=\"102.586824\" xlink:href=\"#m7239db1ec3\" y=\"194.774723\"/>\n     <use style=\"fill:#1f77b4;stroke:#1f77b4;\" x=\"96.544027\" xlink:href=\"#m7239db1ec3\" y=\"225.354801\"/>\n     <use style=\"fill:#1f77b4;stroke:#1f77b4;\" x=\"49.458807\" xlink:href=\"#m7239db1ec3\" y=\"170.93914\"/>\n     <use style=\"fill:#1f77b4;stroke:#1f77b4;\" x=\"133.24451\" xlink:href=\"#m7239db1ec3\" y=\"190.414472\"/>\n     <use style=\"fill:#1f77b4;stroke:#1f77b4;\" x=\"103.257659\" xlink:href=\"#m7239db1ec3\" y=\"164.297562\"/>\n     <use style=\"fill:#1f77b4;stroke:#1f77b4;\" x=\"143.470782\" xlink:href=\"#m7239db1ec3\" y=\"142.64725\"/>\n     <use style=\"fill:#1f77b4;stroke:#1f77b4;\" x=\"176.806526\" xlink:href=\"#m7239db1ec3\" y=\"195.759296\"/>\n     <use style=\"fill:#1f77b4;stroke:#1f77b4;\" x=\"95.028045\" xlink:href=\"#m7239db1ec3\" y=\"198.016609\"/>\n     <use style=\"fill:#1f77b4;stroke:#1f77b4;\" x=\"91.552381\" xlink:href=\"#m7239db1ec3\" y=\"189.443621\"/>\n     <use style=\"fill:#1f77b4;stroke:#1f77b4;\" x=\"104.752511\" xlink:href=\"#m7239db1ec3\" y=\"185.395551\"/>\n     <use style=\"fill:#1f77b4;stroke:#1f77b4;\" x=\"110.985466\" xlink:href=\"#m7239db1ec3\" y=\"195.776449\"/>\n     <use style=\"fill:#1f77b4;stroke:#1f77b4;\" x=\"95.001634\" xlink:href=\"#m7239db1ec3\" y=\"184.376673\"/>\n     <use style=\"fill:#1f77b4;stroke:#1f77b4;\" x=\"112.554269\" xlink:href=\"#m7239db1ec3\" y=\"173.515496\"/>\n     <use style=\"fill:#1f77b4;stroke:#1f77b4;\" x=\"129.277604\" xlink:href=\"#m7239db1ec3\" y=\"172.736758\"/>\n     <use style=\"fill:#1f77b4;stroke:#1f77b4;\" x=\"130.476655\" xlink:href=\"#m7239db1ec3\" y=\"188.356131\"/>\n     <use style=\"fill:#1f77b4;stroke:#1f77b4;\" x=\"106.426958\" xlink:href=\"#m7239db1ec3\" y=\"189.755803\"/>\n     <use style=\"fill:#1f77b4;stroke:#1f77b4;\" x=\"104.271834\" xlink:href=\"#m7239db1ec3\" y=\"162.153457\"/>\n     <use style=\"fill:#1f77b4;stroke:#1f77b4;\" x=\"146.772135\" xlink:href=\"#m7239db1ec3\" y=\"203.4026\"/>\n     <use style=\"fill:#1f77b4;stroke:#1f77b4;\" x=\"83.259381\" xlink:href=\"#m7239db1ec3\" y=\"213.721747\"/>\n     <use style=\"fill:#1f77b4;stroke:#1f77b4;\" x=\"67.370629\" xlink:href=\"#m7239db1ec3\" y=\"203.992658\"/>\n     <use style=\"fill:#1f77b4;stroke:#1f77b4;\" x=\"82.350849\" xlink:href=\"#m7239db1ec3\" y=\"212.212297\"/>\n     <use style=\"fill:#1f77b4;stroke:#1f77b4;\" x=\"69.694781\" xlink:href=\"#m7239db1ec3\" y=\"224.071769\"/>\n     <use style=\"fill:#1f77b4;stroke:#1f77b4;\" x=\"51.434337\" xlink:href=\"#m7239db1ec3\" y=\"218.387319\"/>\n     <use style=\"fill:#1f77b4;stroke:#1f77b4;\" x=\"60.186884\" xlink:href=\"#m7239db1ec3\" y=\"206.599889\"/>\n     <use style=\"fill:#1f77b4;stroke:#1f77b4;\" x=\"78.336404\" xlink:href=\"#m7239db1ec3\" y=\"219.996255\"/>\n     <use style=\"fill:#1f77b4;stroke:#1f77b4;\" x=\"57.709549\" xlink:href=\"#m7239db1ec3\" y=\"185.073078\"/>\n    </g>\n   </g>\n   <g id=\"matplotlib.axis_1\">\n    <g id=\"xtick_1\">\n     <g id=\"line2d_1\">\n      <defs>\n       <path d=\"M 0 0 \nL 0 3.5 \n\" id=\"mfaa3ba4d4e\" style=\"stroke:#000000;stroke-width:0.8;\"/>\n      </defs>\n      <g>\n       <use style=\"stroke:#000000;stroke-width:0.8;\" x=\"71.32697\" xlink:href=\"#mfaa3ba4d4e\" y=\"235.238438\"/>\n      </g>\n     </g>\n     <g id=\"text_1\">\n      <!-- 1 -->\n      <g transform=\"translate(68.14572 249.836875)scale(0.1 -0.1)\">\n       <defs>\n        <path d=\"M 794 531 \nL 1825 531 \nL 1825 4091 \nL 703 3866 \nL 703 4441 \nL 1819 4666 \nL 2450 4666 \nL 2450 531 \nL 3481 531 \nL 3481 0 \nL 794 0 \nL 794 531 \nz\n\" id=\"DejaVuSans-31\" transform=\"scale(0.015625)\"/>\n       </defs>\n       <use xlink:href=\"#DejaVuSans-31\"/>\n      </g>\n     </g>\n    </g>\n    <g id=\"xtick_2\">\n     <g id=\"line2d_2\">\n      <g>\n       <use style=\"stroke:#000000;stroke-width:0.8;\" x=\"124.148622\" xlink:href=\"#mfaa3ba4d4e\" y=\"235.238438\"/>\n      </g>\n     </g>\n     <g id=\"text_2\">\n      <!-- 2 -->\n      <g transform=\"translate(120.967372 249.836875)scale(0.1 -0.1)\">\n       <defs>\n        <path d=\"M 1228 531 \nL 3431 531 \nL 3431 0 \nL 469 0 \nL 469 531 \nQ 828 903 1448 1529 \nQ 2069 2156 2228 2338 \nQ 2531 2678 2651 2914 \nQ 2772 3150 2772 3378 \nQ 2772 3750 2511 3984 \nQ 2250 4219 1831 4219 \nQ 1534 4219 1204 4116 \nQ 875 4013 500 3803 \nL 500 4441 \nQ 881 4594 1212 4672 \nQ 1544 4750 1819 4750 \nQ 2544 4750 2975 4387 \nQ 3406 4025 3406 3419 \nQ 3406 3131 3298 2873 \nQ 3191 2616 2906 2266 \nQ 2828 2175 2409 1742 \nQ 1991 1309 1228 531 \nz\n\" id=\"DejaVuSans-32\" transform=\"scale(0.015625)\"/>\n       </defs>\n       <use xlink:href=\"#DejaVuSans-32\"/>\n      </g>\n     </g>\n    </g>\n    <g id=\"xtick_3\">\n     <g id=\"line2d_3\">\n      <g>\n       <use style=\"stroke:#000000;stroke-width:0.8;\" x=\"176.970273\" xlink:href=\"#mfaa3ba4d4e\" y=\"235.238438\"/>\n      </g>\n     </g>\n     <g id=\"text_3\">\n      <!-- 3 -->\n      <g transform=\"translate(173.789023 249.836875)scale(0.1 -0.1)\">\n       <defs>\n        <path d=\"M 2597 2516 \nQ 3050 2419 3304 2112 \nQ 3559 1806 3559 1356 \nQ 3559 666 3084 287 \nQ 2609 -91 1734 -91 \nQ 1441 -91 1130 -33 \nQ 819 25 488 141 \nL 488 750 \nQ 750 597 1062 519 \nQ 1375 441 1716 441 \nQ 2309 441 2620 675 \nQ 2931 909 2931 1356 \nQ 2931 1769 2642 2001 \nQ 2353 2234 1838 2234 \nL 1294 2234 \nL 1294 2753 \nL 1863 2753 \nQ 2328 2753 2575 2939 \nQ 2822 3125 2822 3475 \nQ 2822 3834 2567 4026 \nQ 2313 4219 1838 4219 \nQ 1578 4219 1281 4162 \nQ 984 4106 628 3988 \nL 628 4550 \nQ 988 4650 1302 4700 \nQ 1616 4750 1894 4750 \nQ 2613 4750 3031 4423 \nQ 3450 4097 3450 3541 \nQ 3450 3153 3228 2886 \nQ 3006 2619 2597 2516 \nz\n\" id=\"DejaVuSans-33\" transform=\"scale(0.015625)\"/>\n       </defs>\n       <use xlink:href=\"#DejaVuSans-33\"/>\n      </g>\n     </g>\n    </g>\n    <g id=\"xtick_4\">\n     <g id=\"line2d_4\">\n      <g>\n       <use style=\"stroke:#000000;stroke-width:0.8;\" x=\"229.791924\" xlink:href=\"#mfaa3ba4d4e\" y=\"235.238438\"/>\n      </g>\n     </g>\n     <g id=\"text_4\">\n      <!-- 4 -->\n      <g transform=\"translate(226.610674 249.836875)scale(0.1 -0.1)\">\n       <defs>\n        <path d=\"M 2419 4116 \nL 825 1625 \nL 2419 1625 \nL 2419 4116 \nz\nM 2253 4666 \nL 3047 4666 \nL 3047 1625 \nL 3713 1625 \nL 3713 1100 \nL 3047 1100 \nL 3047 0 \nL 2419 0 \nL 2419 1100 \nL 313 1100 \nL 313 1709 \nL 2253 4666 \nz\n\" id=\"DejaVuSans-34\" transform=\"scale(0.015625)\"/>\n       </defs>\n       <use xlink:href=\"#DejaVuSans-34\"/>\n      </g>\n     </g>\n    </g>\n    <g id=\"xtick_5\">\n     <g id=\"line2d_5\">\n      <g>\n       <use style=\"stroke:#000000;stroke-width:0.8;\" x=\"282.613575\" xlink:href=\"#mfaa3ba4d4e\" y=\"235.238438\"/>\n      </g>\n     </g>\n     <g id=\"text_5\">\n      <!-- 5 -->\n      <g transform=\"translate(279.432325 249.836875)scale(0.1 -0.1)\">\n       <defs>\n        <path d=\"M 691 4666 \nL 3169 4666 \nL 3169 4134 \nL 1269 4134 \nL 1269 2991 \nQ 1406 3038 1543 3061 \nQ 1681 3084 1819 3084 \nQ 2600 3084 3056 2656 \nQ 3513 2228 3513 1497 \nQ 3513 744 3044 326 \nQ 2575 -91 1722 -91 \nQ 1428 -91 1123 -41 \nQ 819 9 494 109 \nL 494 744 \nQ 775 591 1075 516 \nQ 1375 441 1709 441 \nQ 2250 441 2565 725 \nQ 2881 1009 2881 1497 \nQ 2881 1984 2565 2268 \nQ 2250 2553 1709 2553 \nQ 1456 2553 1204 2497 \nQ 953 2441 691 2322 \nL 691 4666 \nz\n\" id=\"DejaVuSans-35\" transform=\"scale(0.015625)\"/>\n       </defs>\n       <use xlink:href=\"#DejaVuSans-35\"/>\n      </g>\n     </g>\n    </g>\n    <g id=\"xtick_6\">\n     <g id=\"line2d_6\">\n      <g>\n       <use style=\"stroke:#000000;stroke-width:0.8;\" x=\"335.435226\" xlink:href=\"#mfaa3ba4d4e\" y=\"235.238438\"/>\n      </g>\n     </g>\n     <g id=\"text_6\">\n      <!-- 6 -->\n      <g transform=\"translate(332.253976 249.836875)scale(0.1 -0.1)\">\n       <defs>\n        <path d=\"M 2113 2584 \nQ 1688 2584 1439 2293 \nQ 1191 2003 1191 1497 \nQ 1191 994 1439 701 \nQ 1688 409 2113 409 \nQ 2538 409 2786 701 \nQ 3034 994 3034 1497 \nQ 3034 2003 2786 2293 \nQ 2538 2584 2113 2584 \nz\nM 3366 4563 \nL 3366 3988 \nQ 3128 4100 2886 4159 \nQ 2644 4219 2406 4219 \nQ 1781 4219 1451 3797 \nQ 1122 3375 1075 2522 \nQ 1259 2794 1537 2939 \nQ 1816 3084 2150 3084 \nQ 2853 3084 3261 2657 \nQ 3669 2231 3669 1497 \nQ 3669 778 3244 343 \nQ 2819 -91 2113 -91 \nQ 1303 -91 875 529 \nQ 447 1150 447 2328 \nQ 447 3434 972 4092 \nQ 1497 4750 2381 4750 \nQ 2619 4750 2861 4703 \nQ 3103 4656 3366 4563 \nz\n\" id=\"DejaVuSans-36\" transform=\"scale(0.015625)\"/>\n       </defs>\n       <use xlink:href=\"#DejaVuSans-36\"/>\n      </g>\n     </g>\n    </g>\n    <g id=\"text_7\">\n     <!-- y(t) -->\n     <g transform=\"translate(192.819531 263.515)scale(0.1 -0.1)\">\n      <defs>\n       <path d=\"M 2059 -325 \nQ 1816 -950 1584 -1140 \nQ 1353 -1331 966 -1331 \nL 506 -1331 \nL 506 -850 \nL 844 -850 \nQ 1081 -850 1212 -737 \nQ 1344 -625 1503 -206 \nL 1606 56 \nL 191 3500 \nL 800 3500 \nL 1894 763 \nL 2988 3500 \nL 3597 3500 \nL 2059 -325 \nz\n\" id=\"DejaVuSans-79\" transform=\"scale(0.015625)\"/>\n       <path d=\"M 1984 4856 \nQ 1566 4138 1362 3434 \nQ 1159 2731 1159 2009 \nQ 1159 1288 1364 580 \nQ 1569 -128 1984 -844 \nL 1484 -844 \nQ 1016 -109 783 600 \nQ 550 1309 550 2009 \nQ 550 2706 781 3412 \nQ 1013 4119 1484 4856 \nL 1984 4856 \nz\n\" id=\"DejaVuSans-28\" transform=\"scale(0.015625)\"/>\n       <path d=\"M 1172 4494 \nL 1172 3500 \nL 2356 3500 \nL 2356 3053 \nL 1172 3053 \nL 1172 1153 \nQ 1172 725 1289 603 \nQ 1406 481 1766 481 \nL 2356 481 \nL 2356 0 \nL 1766 0 \nQ 1100 0 847 248 \nQ 594 497 594 1153 \nL 594 3053 \nL 172 3053 \nL 172 3500 \nL 594 3500 \nL 594 4494 \nL 1172 4494 \nz\n\" id=\"DejaVuSans-74\" transform=\"scale(0.015625)\"/>\n       <path d=\"M 513 4856 \nL 1013 4856 \nQ 1481 4119 1714 3412 \nQ 1947 2706 1947 2009 \nQ 1947 1309 1714 600 \nQ 1481 -109 1013 -844 \nL 513 -844 \nQ 928 -128 1133 580 \nQ 1338 1288 1338 2009 \nQ 1338 2731 1133 3434 \nQ 928 4138 513 4856 \nz\n\" id=\"DejaVuSans-29\" transform=\"scale(0.015625)\"/>\n      </defs>\n      <use xlink:href=\"#DejaVuSans-79\"/>\n      <use x=\"59.179688\" xlink:href=\"#DejaVuSans-28\"/>\n      <use x=\"98.193359\" xlink:href=\"#DejaVuSans-74\"/>\n      <use x=\"137.402344\" xlink:href=\"#DejaVuSans-29\"/>\n     </g>\n    </g>\n    <g id=\"text_8\">\n     <!-- 1e6 -->\n     <g transform=\"translate(350.1625 262.515)scale(0.1 -0.1)\">\n      <defs>\n       <path d=\"M 3597 1894 \nL 3597 1613 \nL 953 1613 \nQ 991 1019 1311 708 \nQ 1631 397 2203 397 \nQ 2534 397 2845 478 \nQ 3156 559 3463 722 \nL 3463 178 \nQ 3153 47 2828 -22 \nQ 2503 -91 2169 -91 \nQ 1331 -91 842 396 \nQ 353 884 353 1716 \nQ 353 2575 817 3079 \nQ 1281 3584 2069 3584 \nQ 2775 3584 3186 3129 \nQ 3597 2675 3597 1894 \nz\nM 3022 2063 \nQ 3016 2534 2758 2815 \nQ 2500 3097 2075 3097 \nQ 1594 3097 1305 2825 \nQ 1016 2553 972 2059 \nL 3022 2063 \nz\n\" id=\"DejaVuSans-65\" transform=\"scale(0.015625)\"/>\n      </defs>\n      <use xlink:href=\"#DejaVuSans-31\"/>\n      <use x=\"63.623047\" xlink:href=\"#DejaVuSans-65\"/>\n      <use x=\"125.146484\" xlink:href=\"#DejaVuSans-36\"/>\n     </g>\n    </g>\n   </g>\n   <g id=\"matplotlib.axis_2\">\n    <g id=\"ytick_1\">\n     <g id=\"line2d_7\">\n      <defs>\n       <path d=\"M 0 0 \nL -3.5 0 \n\" id=\"m553b065bda\" style=\"stroke:#000000;stroke-width:0.8;\"/>\n      </defs>\n      <g>\n       <use style=\"stroke:#000000;stroke-width:0.8;\" x=\"34.240625\" xlink:href=\"#m553b065bda\" y=\"211.152252\"/>\n      </g>\n     </g>\n     <g id=\"text_9\">\n      <!-- 1 -->\n      <g transform=\"translate(20.878125 214.951471)scale(0.1 -0.1)\">\n       <use xlink:href=\"#DejaVuSans-31\"/>\n      </g>\n     </g>\n    </g>\n    <g id=\"ytick_2\">\n     <g id=\"line2d_8\">\n      <g>\n       <use style=\"stroke:#000000;stroke-width:0.8;\" x=\"34.240625\" xlink:href=\"#m553b065bda\" y=\"176.846577\"/>\n      </g>\n     </g>\n     <g id=\"text_10\">\n      <!-- 2 -->\n      <g transform=\"translate(20.878125 180.645796)scale(0.1 -0.1)\">\n       <use xlink:href=\"#DejaVuSans-32\"/>\n      </g>\n     </g>\n    </g>\n    <g id=\"ytick_3\">\n     <g id=\"line2d_9\">\n      <g>\n       <use style=\"stroke:#000000;stroke-width:0.8;\" x=\"34.240625\" xlink:href=\"#m553b065bda\" y=\"142.540903\"/>\n      </g>\n     </g>\n     <g id=\"text_11\">\n      <!-- 3 -->\n      <g transform=\"translate(20.878125 146.340122)scale(0.1 -0.1)\">\n       <use xlink:href=\"#DejaVuSans-33\"/>\n      </g>\n     </g>\n    </g>\n    <g id=\"ytick_4\">\n     <g id=\"line2d_10\">\n      <g>\n       <use style=\"stroke:#000000;stroke-width:0.8;\" x=\"34.240625\" xlink:href=\"#m553b065bda\" y=\"108.235228\"/>\n      </g>\n     </g>\n     <g id=\"text_12\">\n      <!-- 4 -->\n      <g transform=\"translate(20.878125 112.034447)scale(0.1 -0.1)\">\n       <use xlink:href=\"#DejaVuSans-34\"/>\n      </g>\n     </g>\n    </g>\n    <g id=\"ytick_5\">\n     <g id=\"line2d_11\">\n      <g>\n       <use style=\"stroke:#000000;stroke-width:0.8;\" x=\"34.240625\" xlink:href=\"#m553b065bda\" y=\"73.929554\"/>\n      </g>\n     </g>\n     <g id=\"text_13\">\n      <!-- 5 -->\n      <g transform=\"translate(20.878125 77.728772)scale(0.1 -0.1)\">\n       <use xlink:href=\"#DejaVuSans-35\"/>\n      </g>\n     </g>\n    </g>\n    <g id=\"ytick_6\">\n     <g id=\"line2d_12\">\n      <g>\n       <use style=\"stroke:#000000;stroke-width:0.8;\" x=\"34.240625\" xlink:href=\"#m553b065bda\" y=\"39.623879\"/>\n      </g>\n     </g>\n     <g id=\"text_14\">\n      <!-- 6 -->\n      <g transform=\"translate(20.878125 43.423098)scale(0.1 -0.1)\">\n       <use xlink:href=\"#DejaVuSans-36\"/>\n      </g>\n     </g>\n    </g>\n    <g id=\"text_15\">\n     <!-- y(t + 1) -->\n     <g transform=\"translate(14.798437 145.88875)rotate(-90)scale(0.1 -0.1)\">\n      <defs>\n       <path id=\"DejaVuSans-20\" transform=\"scale(0.015625)\"/>\n       <path d=\"M 2944 4013 \nL 2944 2272 \nL 4684 2272 \nL 4684 1741 \nL 2944 1741 \nL 2944 0 \nL 2419 0 \nL 2419 1741 \nL 678 1741 \nL 678 2272 \nL 2419 2272 \nL 2419 4013 \nL 2944 4013 \nz\n\" id=\"DejaVuSans-2b\" transform=\"scale(0.015625)\"/>\n      </defs>\n      <use xlink:href=\"#DejaVuSans-79\"/>\n      <use x=\"59.179688\" xlink:href=\"#DejaVuSans-28\"/>\n      <use x=\"98.193359\" xlink:href=\"#DejaVuSans-74\"/>\n      <use x=\"137.402344\" xlink:href=\"#DejaVuSans-20\"/>\n      <use x=\"169.189453\" xlink:href=\"#DejaVuSans-2b\"/>\n      <use x=\"252.978516\" xlink:href=\"#DejaVuSans-20\"/>\n      <use x=\"284.765625\" xlink:href=\"#DejaVuSans-31\"/>\n      <use x=\"348.388672\" xlink:href=\"#DejaVuSans-29\"/>\n     </g>\n    </g>\n    <g id=\"text_16\">\n     <!-- 1e6 -->\n     <g transform=\"translate(34.240625 14.798437)scale(0.1 -0.1)\">\n      <use xlink:href=\"#DejaVuSans-31\"/>\n      <use x=\"63.623047\" xlink:href=\"#DejaVuSans-65\"/>\n      <use x=\"125.146484\" xlink:href=\"#DejaVuSans-36\"/>\n     </g>\n    </g>\n   </g>\n   <g id=\"patch_3\">\n    <path d=\"M 34.240625 235.238438 \nL 34.240625 17.798438 \n\" style=\"fill:none;stroke:#000000;stroke-linecap:square;stroke-linejoin:miter;stroke-width:0.8;\"/>\n   </g>\n   <g id=\"patch_4\">\n    <path d=\"M 369.040625 235.238438 \nL 369.040625 17.798438 \n\" style=\"fill:none;stroke:#000000;stroke-linecap:square;stroke-linejoin:miter;stroke-width:0.8;\"/>\n   </g>\n   <g id=\"patch_5\">\n    <path d=\"M 34.240625 235.238438 \nL 369.040625 235.238438 \n\" style=\"fill:none;stroke:#000000;stroke-linecap:square;stroke-linejoin:miter;stroke-width:0.8;\"/>\n   </g>\n   <g id=\"patch_6\">\n    <path d=\"M 34.240625 17.798438 \nL 369.040625 17.798438 \n\" style=\"fill:none;stroke:#000000;stroke-linecap:square;stroke-linejoin:miter;stroke-width:0.8;\"/>\n   </g>\n  </g>\n </g>\n <defs>\n  <clipPath id=\"pf120260bce\">\n   <rect height=\"217.44\" width=\"334.8\" x=\"34.240625\" y=\"17.798438\"/>\n  </clipPath>\n </defs>\n</svg>\n",
      "image/png": "[encoded data removed]"
     },
     "metadata": {
      "needs_background": "light"
     }
    }
   ],
   "source": [
    "from pandas.plotting import lag_plot\n",
    "\n",
    "lag_plot(stocks['volume'].tail(250))"
   ]
  },
  {
   "source": [
    "**Lag plot:**\n",
    "\n",
    "* vergleicht Daten aus der Periode mit der vorherigen Periode z.B. Daten vom 21.Dezember werden mit Daten vom 20.Dezember verglichen und diese mit dem 19. Dezember und so weiter \n",
    "* In unserem Beispiel wird das Volumen der Trades mit dem vorherigen Volumen verglichen \n",
    "* In unserem Plot erkennen wir, dass falls das Volumen am Vortag hoch ist, dann wird auch das Volumen am Folgetag hoch sein\n",
    "* Lag plots ermöglichen es eine Periodizität in den Zeitreihen Daten zu erkennen \n",
    "\n"
   ],
   "cell_type": "markdown",
   "metadata": {}
  },
  {
   "cell_type": "code",
   "execution_count": 82,
   "metadata": {},
   "outputs": [
    {
     "output_type": "stream",
     "name": "stderr",
     "text": [
      "/Library/Frameworks/Python.framework/Versions/3.8/lib/python3.8/site-packages/pandas/plotting/_matplotlib/misc.py:443: MatplotlibDeprecationWarning: Calling gca() with keyword arguments was deprecated in Matplotlib 3.4. Starting two minor releases later, gca() will take no keyword arguments. The gca() function should only be used to get the current axes, or if no axes exist, create new axes with default keyword arguments. To create a new axes with non-default arguments, use plt.axes() or plt.subplot().\n  ax = plt.gca(xlim=(1, n), ylim=(-1.0, 1.0))\n"
     ]
    },
    {
     "output_type": "execute_result",
     "data": {
      "text/plain": [
       "<AxesSubplot:xlabel='Lag', ylabel='Autocorrelation'>"
      ]
     },
     "metadata": {},
     "execution_count": 82
    },
    {
     "output_type": "display_data",
     "data": {
      "text/plain": "<Figure size 432x288 with 1 Axes>",
      "image/svg+xml": "<?xml version=\"1.0\" encoding=\"utf-8\" standalone=\"no\"?>\n<!DOCTYPE svg PUBLIC \"-//W3C//DTD SVG 1.1//EN\"\n  \"http://www.w3.org/Graphics/SVG/1.1/DTD/svg11.dtd\">\n<svg height=\"265.995469pt\" version=\"1.1\" viewBox=\"0 0 400.523437 265.995469\" width=\"400.523437pt\" xmlns=\"http://www.w3.org/2000/svg\" xmlns:xlink=\"http://www.w3.org/1999/xlink\">\n <metadata>\n  <rdf:RDF xmlns:cc=\"http://creativecommons.org/ns#\" xmlns:dc=\"http://purl.org/dc/elements/1.1/\" xmlns:rdf=\"http://www.w3.org/1999/02/22-rdf-syntax-ns#\">\n   <cc:Work>\n    <dc:type rdf:resource=\"http://purl.org/dc/dcmitype/StillImage\"/>\n    <dc:date>2021-05-03T11:10:37.114566</dc:date>\n    <dc:format>image/svg+xml</dc:format>\n    <dc:creator>\n     <cc:Agent>\n      <dc:title>Matplotlib v3.4.1, https://matplotlib.org/</dc:title>\n     </cc:Agent>\n    </dc:creator>\n   </cc:Work>\n  </rdf:RDF>\n </metadata>\n <defs>\n  <style type=\"text/css\">*{stroke-linecap:butt;stroke-linejoin:round;}</style>\n </defs>\n <g id=\"figure_1\">\n  <g id=\"patch_1\">\n   <path d=\"M 0 265.995469 \nL 400.523437 265.995469 \nL 400.523437 0 \nL 0 0 \nz\n\" style=\"fill:none;\"/>\n  </g>\n  <g id=\"axes_1\">\n   <g id=\"patch_2\">\n    <path d=\"M 58.523438 228.439219 \nL 393.323438 228.439219 \nL 393.323438 10.999219 \nL 58.523438 10.999219 \nz\n\" style=\"fill:#ffffff;\"/>\n   </g>\n   <g id=\"matplotlib.axis_1\">\n    <g id=\"xtick_1\">\n     <g id=\"line2d_1\">\n      <path clip-path=\"url(#p996fec41a1)\" d=\"M 96.357168 228.439219 \nL 96.357168 10.999219 \n\" style=\"fill:none;stroke:#b0b0b0;stroke-linecap:square;stroke-width:0.8;\"/>\n     </g>\n     <g id=\"line2d_2\">\n      <defs>\n       <path d=\"M 0 0 \nL 0 3.5 \n\" id=\"med993b1823\" style=\"stroke:#000000;stroke-width:0.8;\"/>\n      </defs>\n      <g>\n       <use style=\"stroke:#000000;stroke-width:0.8;\" x=\"96.357168\" xlink:href=\"#med993b1823\" y=\"228.439219\"/>\n      </g>\n     </g>\n     <g id=\"text_1\">\n      <!-- 200 -->\n      <g transform=\"translate(86.813418 243.037656)scale(0.1 -0.1)\">\n       <defs>\n        <path d=\"M 1228 531 \nL 3431 531 \nL 3431 0 \nL 469 0 \nL 469 531 \nQ 828 903 1448 1529 \nQ 2069 2156 2228 2338 \nQ 2531 2678 2651 2914 \nQ 2772 3150 2772 3378 \nQ 2772 3750 2511 3984 \nQ 2250 4219 1831 4219 \nQ 1534 4219 1204 4116 \nQ 875 4013 500 3803 \nL 500 4441 \nQ 881 4594 1212 4672 \nQ 1544 4750 1819 4750 \nQ 2544 4750 2975 4387 \nQ 3406 4025 3406 3419 \nQ 3406 3131 3298 2873 \nQ 3191 2616 2906 2266 \nQ 2828 2175 2409 1742 \nQ 1991 1309 1228 531 \nz\n\" id=\"DejaVuSans-32\" transform=\"scale(0.015625)\"/>\n        <path d=\"M 2034 4250 \nQ 1547 4250 1301 3770 \nQ 1056 3291 1056 2328 \nQ 1056 1369 1301 889 \nQ 1547 409 2034 409 \nQ 2525 409 2770 889 \nQ 3016 1369 3016 2328 \nQ 3016 3291 2770 3770 \nQ 2525 4250 2034 4250 \nz\nM 2034 4750 \nQ 2819 4750 3233 4129 \nQ 3647 3509 3647 2328 \nQ 3647 1150 3233 529 \nQ 2819 -91 2034 -91 \nQ 1250 -91 836 529 \nQ 422 1150 422 2328 \nQ 422 3509 836 4129 \nQ 1250 4750 2034 4750 \nz\n\" id=\"DejaVuSans-30\" transform=\"scale(0.015625)\"/>\n       </defs>\n       <use xlink:href=\"#DejaVuSans-32\"/>\n       <use x=\"63.623047\" xlink:href=\"#DejaVuSans-30\"/>\n       <use x=\"127.246094\" xlink:href=\"#DejaVuSans-30\"/>\n      </g>\n     </g>\n    </g>\n    <g id=\"xtick_2\">\n     <g id=\"line2d_3\">\n      <path clip-path=\"url(#p996fec41a1)\" d=\"M 134.381018 228.439219 \nL 134.381018 10.999219 \n\" style=\"fill:none;stroke:#b0b0b0;stroke-linecap:square;stroke-width:0.8;\"/>\n     </g>\n     <g id=\"line2d_4\">\n      <g>\n       <use style=\"stroke:#000000;stroke-width:0.8;\" x=\"134.381018\" xlink:href=\"#med993b1823\" y=\"228.439219\"/>\n      </g>\n     </g>\n     <g id=\"text_2\">\n      <!-- 400 -->\n      <g transform=\"translate(124.837268 243.037656)scale(0.1 -0.1)\">\n       <defs>\n        <path d=\"M 2419 4116 \nL 825 1625 \nL 2419 1625 \nL 2419 4116 \nz\nM 2253 4666 \nL 3047 4666 \nL 3047 1625 \nL 3713 1625 \nL 3713 1100 \nL 3047 1100 \nL 3047 0 \nL 2419 0 \nL 2419 1100 \nL 313 1100 \nL 313 1709 \nL 2253 4666 \nz\n\" id=\"DejaVuSans-34\" transform=\"scale(0.015625)\"/>\n       </defs>\n       <use xlink:href=\"#DejaVuSans-34\"/>\n       <use x=\"63.623047\" xlink:href=\"#DejaVuSans-30\"/>\n       <use x=\"127.246094\" xlink:href=\"#DejaVuSans-30\"/>\n      </g>\n     </g>\n    </g>\n    <g id=\"xtick_3\">\n     <g id=\"line2d_5\">\n      <path clip-path=\"url(#p996fec41a1)\" d=\"M 172.404869 228.439219 \nL 172.404869 10.999219 \n\" style=\"fill:none;stroke:#b0b0b0;stroke-linecap:square;stroke-width:0.8;\"/>\n     </g>\n     <g id=\"line2d_6\">\n      <g>\n       <use style=\"stroke:#000000;stroke-width:0.8;\" x=\"172.404869\" xlink:href=\"#med993b1823\" y=\"228.439219\"/>\n      </g>\n     </g>\n     <g id=\"text_3\">\n      <!-- 600 -->\n      <g transform=\"translate(162.861119 243.037656)scale(0.1 -0.1)\">\n       <defs>\n        <path d=\"M 2113 2584 \nQ 1688 2584 1439 2293 \nQ 1191 2003 1191 1497 \nQ 1191 994 1439 701 \nQ 1688 409 2113 409 \nQ 2538 409 2786 701 \nQ 3034 994 3034 1497 \nQ 3034 2003 2786 2293 \nQ 2538 2584 2113 2584 \nz\nM 3366 4563 \nL 3366 3988 \nQ 3128 4100 2886 4159 \nQ 2644 4219 2406 4219 \nQ 1781 4219 1451 3797 \nQ 1122 3375 1075 2522 \nQ 1259 2794 1537 2939 \nQ 1816 3084 2150 3084 \nQ 2853 3084 3261 2657 \nQ 3669 2231 3669 1497 \nQ 3669 778 3244 343 \nQ 2819 -91 2113 -91 \nQ 1303 -91 875 529 \nQ 447 1150 447 2328 \nQ 447 3434 972 4092 \nQ 1497 4750 2381 4750 \nQ 2619 4750 2861 4703 \nQ 3103 4656 3366 4563 \nz\n\" id=\"DejaVuSans-36\" transform=\"scale(0.015625)\"/>\n       </defs>\n       <use xlink:href=\"#DejaVuSans-36\"/>\n       <use x=\"63.623047\" xlink:href=\"#DejaVuSans-30\"/>\n       <use x=\"127.246094\" xlink:href=\"#DejaVuSans-30\"/>\n      </g>\n     </g>\n    </g>\n    <g id=\"xtick_4\">\n     <g id=\"line2d_7\">\n      <path clip-path=\"url(#p996fec41a1)\" d=\"M 210.428719 228.439219 \nL 210.428719 10.999219 \n\" style=\"fill:none;stroke:#b0b0b0;stroke-linecap:square;stroke-width:0.8;\"/>\n     </g>\n     <g id=\"line2d_8\">\n      <g>\n       <use style=\"stroke:#000000;stroke-width:0.8;\" x=\"210.428719\" xlink:href=\"#med993b1823\" y=\"228.439219\"/>\n      </g>\n     </g>\n     <g id=\"text_4\">\n      <!-- 800 -->\n      <g transform=\"translate(200.884969 243.037656)scale(0.1 -0.1)\">\n       <defs>\n        <path d=\"M 2034 2216 \nQ 1584 2216 1326 1975 \nQ 1069 1734 1069 1313 \nQ 1069 891 1326 650 \nQ 1584 409 2034 409 \nQ 2484 409 2743 651 \nQ 3003 894 3003 1313 \nQ 3003 1734 2745 1975 \nQ 2488 2216 2034 2216 \nz\nM 1403 2484 \nQ 997 2584 770 2862 \nQ 544 3141 544 3541 \nQ 544 4100 942 4425 \nQ 1341 4750 2034 4750 \nQ 2731 4750 3128 4425 \nQ 3525 4100 3525 3541 \nQ 3525 3141 3298 2862 \nQ 3072 2584 2669 2484 \nQ 3125 2378 3379 2068 \nQ 3634 1759 3634 1313 \nQ 3634 634 3220 271 \nQ 2806 -91 2034 -91 \nQ 1263 -91 848 271 \nQ 434 634 434 1313 \nQ 434 1759 690 2068 \nQ 947 2378 1403 2484 \nz\nM 1172 3481 \nQ 1172 3119 1398 2916 \nQ 1625 2713 2034 2713 \nQ 2441 2713 2670 2916 \nQ 2900 3119 2900 3481 \nQ 2900 3844 2670 4047 \nQ 2441 4250 2034 4250 \nQ 1625 4250 1398 4047 \nQ 1172 3844 1172 3481 \nz\n\" id=\"DejaVuSans-38\" transform=\"scale(0.015625)\"/>\n       </defs>\n       <use xlink:href=\"#DejaVuSans-38\"/>\n       <use x=\"63.623047\" xlink:href=\"#DejaVuSans-30\"/>\n       <use x=\"127.246094\" xlink:href=\"#DejaVuSans-30\"/>\n      </g>\n     </g>\n    </g>\n    <g id=\"xtick_5\">\n     <g id=\"line2d_9\">\n      <path clip-path=\"url(#p996fec41a1)\" d=\"M 248.452569 228.439219 \nL 248.452569 10.999219 \n\" style=\"fill:none;stroke:#b0b0b0;stroke-linecap:square;stroke-width:0.8;\"/>\n     </g>\n     <g id=\"line2d_10\">\n      <g>\n       <use style=\"stroke:#000000;stroke-width:0.8;\" x=\"248.452569\" xlink:href=\"#med993b1823\" y=\"228.439219\"/>\n      </g>\n     </g>\n     <g id=\"text_5\">\n      <!-- 1000 -->\n      <g transform=\"translate(235.727569 243.037656)scale(0.1 -0.1)\">\n       <defs>\n        <path d=\"M 794 531 \nL 1825 531 \nL 1825 4091 \nL 703 3866 \nL 703 4441 \nL 1819 4666 \nL 2450 4666 \nL 2450 531 \nL 3481 531 \nL 3481 0 \nL 794 0 \nL 794 531 \nz\n\" id=\"DejaVuSans-31\" transform=\"scale(0.015625)\"/>\n       </defs>\n       <use xlink:href=\"#DejaVuSans-31\"/>\n       <use x=\"63.623047\" xlink:href=\"#DejaVuSans-30\"/>\n       <use x=\"127.246094\" xlink:href=\"#DejaVuSans-30\"/>\n       <use x=\"190.869141\" xlink:href=\"#DejaVuSans-30\"/>\n      </g>\n     </g>\n    </g>\n    <g id=\"xtick_6\">\n     <g id=\"line2d_11\">\n      <path clip-path=\"url(#p996fec41a1)\" d=\"M 286.476419 228.439219 \nL 286.476419 10.999219 \n\" style=\"fill:none;stroke:#b0b0b0;stroke-linecap:square;stroke-width:0.8;\"/>\n     </g>\n     <g id=\"line2d_12\">\n      <g>\n       <use style=\"stroke:#000000;stroke-width:0.8;\" x=\"286.476419\" xlink:href=\"#med993b1823\" y=\"228.439219\"/>\n      </g>\n     </g>\n     <g id=\"text_6\">\n      <!-- 1200 -->\n      <g transform=\"translate(273.751419 243.037656)scale(0.1 -0.1)\">\n       <use xlink:href=\"#DejaVuSans-31\"/>\n       <use x=\"63.623047\" xlink:href=\"#DejaVuSans-32\"/>\n       <use x=\"127.246094\" xlink:href=\"#DejaVuSans-30\"/>\n       <use x=\"190.869141\" xlink:href=\"#DejaVuSans-30\"/>\n      </g>\n     </g>\n    </g>\n    <g id=\"xtick_7\">\n     <g id=\"line2d_13\">\n      <path clip-path=\"url(#p996fec41a1)\" d=\"M 324.500269 228.439219 \nL 324.500269 10.999219 \n\" style=\"fill:none;stroke:#b0b0b0;stroke-linecap:square;stroke-width:0.8;\"/>\n     </g>\n     <g id=\"line2d_14\">\n      <g>\n       <use style=\"stroke:#000000;stroke-width:0.8;\" x=\"324.500269\" xlink:href=\"#med993b1823\" y=\"228.439219\"/>\n      </g>\n     </g>\n     <g id=\"text_7\">\n      <!-- 1400 -->\n      <g transform=\"translate(311.775269 243.037656)scale(0.1 -0.1)\">\n       <use xlink:href=\"#DejaVuSans-31\"/>\n       <use x=\"63.623047\" xlink:href=\"#DejaVuSans-34\"/>\n       <use x=\"127.246094\" xlink:href=\"#DejaVuSans-30\"/>\n       <use x=\"190.869141\" xlink:href=\"#DejaVuSans-30\"/>\n      </g>\n     </g>\n    </g>\n    <g id=\"xtick_8\">\n     <g id=\"line2d_15\">\n      <path clip-path=\"url(#p996fec41a1)\" d=\"M 362.524119 228.439219 \nL 362.524119 10.999219 \n\" style=\"fill:none;stroke:#b0b0b0;stroke-linecap:square;stroke-width:0.8;\"/>\n     </g>\n     <g id=\"line2d_16\">\n      <g>\n       <use style=\"stroke:#000000;stroke-width:0.8;\" x=\"362.524119\" xlink:href=\"#med993b1823\" y=\"228.439219\"/>\n      </g>\n     </g>\n     <g id=\"text_8\">\n      <!-- 1600 -->\n      <g transform=\"translate(349.799119 243.037656)scale(0.1 -0.1)\">\n       <use xlink:href=\"#DejaVuSans-31\"/>\n       <use x=\"63.623047\" xlink:href=\"#DejaVuSans-36\"/>\n       <use x=\"127.246094\" xlink:href=\"#DejaVuSans-30\"/>\n       <use x=\"190.869141\" xlink:href=\"#DejaVuSans-30\"/>\n      </g>\n     </g>\n    </g>\n    <g id=\"text_9\">\n     <!-- Lag -->\n     <g transform=\"translate(216.899219 256.715781)scale(0.1 -0.1)\">\n      <defs>\n       <path d=\"M 628 4666 \nL 1259 4666 \nL 1259 531 \nL 3531 531 \nL 3531 0 \nL 628 0 \nL 628 4666 \nz\n\" id=\"DejaVuSans-4c\" transform=\"scale(0.015625)\"/>\n       <path d=\"M 2194 1759 \nQ 1497 1759 1228 1600 \nQ 959 1441 959 1056 \nQ 959 750 1161 570 \nQ 1363 391 1709 391 \nQ 2188 391 2477 730 \nQ 2766 1069 2766 1631 \nL 2766 1759 \nL 2194 1759 \nz\nM 3341 1997 \nL 3341 0 \nL 2766 0 \nL 2766 531 \nQ 2569 213 2275 61 \nQ 1981 -91 1556 -91 \nQ 1019 -91 701 211 \nQ 384 513 384 1019 \nQ 384 1609 779 1909 \nQ 1175 2209 1959 2209 \nL 2766 2209 \nL 2766 2266 \nQ 2766 2663 2505 2880 \nQ 2244 3097 1772 3097 \nQ 1472 3097 1187 3025 \nQ 903 2953 641 2809 \nL 641 3341 \nQ 956 3463 1253 3523 \nQ 1550 3584 1831 3584 \nQ 2591 3584 2966 3190 \nQ 3341 2797 3341 1997 \nz\n\" id=\"DejaVuSans-61\" transform=\"scale(0.015625)\"/>\n       <path d=\"M 2906 1791 \nQ 2906 2416 2648 2759 \nQ 2391 3103 1925 3103 \nQ 1463 3103 1205 2759 \nQ 947 2416 947 1791 \nQ 947 1169 1205 825 \nQ 1463 481 1925 481 \nQ 2391 481 2648 825 \nQ 2906 1169 2906 1791 \nz\nM 3481 434 \nQ 3481 -459 3084 -895 \nQ 2688 -1331 1869 -1331 \nQ 1566 -1331 1297 -1286 \nQ 1028 -1241 775 -1147 \nL 775 -588 \nQ 1028 -725 1275 -790 \nQ 1522 -856 1778 -856 \nQ 2344 -856 2625 -561 \nQ 2906 -266 2906 331 \nL 2906 616 \nQ 2728 306 2450 153 \nQ 2172 0 1784 0 \nQ 1141 0 747 490 \nQ 353 981 353 1791 \nQ 353 2603 747 3093 \nQ 1141 3584 1784 3584 \nQ 2172 3584 2450 3431 \nQ 2728 3278 2906 2969 \nL 2906 3500 \nL 3481 3500 \nL 3481 434 \nz\n\" id=\"DejaVuSans-67\" transform=\"scale(0.015625)\"/>\n      </defs>\n      <use xlink:href=\"#DejaVuSans-4c\"/>\n      <use x=\"55.712891\" xlink:href=\"#DejaVuSans-61\"/>\n      <use x=\"116.992188\" xlink:href=\"#DejaVuSans-67\"/>\n     </g>\n    </g>\n   </g>\n   <g id=\"matplotlib.axis_2\">\n    <g id=\"ytick_1\">\n     <g id=\"line2d_17\">\n      <path clip-path=\"url(#p996fec41a1)\" d=\"M 58.523438 228.439219 \nL 393.323438 228.439219 \n\" style=\"fill:none;stroke:#b0b0b0;stroke-linecap:square;stroke-width:0.8;\"/>\n     </g>\n     <g id=\"line2d_18\">\n      <defs>\n       <path d=\"M 0 0 \nL -3.5 0 \n\" id=\"mb2a03b42fd\" style=\"stroke:#000000;stroke-width:0.8;\"/>\n      </defs>\n      <g>\n       <use style=\"stroke:#000000;stroke-width:0.8;\" x=\"58.523438\" xlink:href=\"#mb2a03b42fd\" y=\"228.439219\"/>\n      </g>\n     </g>\n     <g id=\"text_10\">\n      <!-- −1.00 -->\n      <g transform=\"translate(20.878125 232.238437)scale(0.1 -0.1)\">\n       <defs>\n        <path d=\"M 678 2272 \nL 4684 2272 \nL 4684 1741 \nL 678 1741 \nL 678 2272 \nz\n\" id=\"DejaVuSans-2212\" transform=\"scale(0.015625)\"/>\n        <path d=\"M 684 794 \nL 1344 794 \nL 1344 0 \nL 684 0 \nL 684 794 \nz\n\" id=\"DejaVuSans-2e\" transform=\"scale(0.015625)\"/>\n       </defs>\n       <use xlink:href=\"#DejaVuSans-2212\"/>\n       <use x=\"83.789062\" xlink:href=\"#DejaVuSans-31\"/>\n       <use x=\"147.412109\" xlink:href=\"#DejaVuSans-2e\"/>\n       <use x=\"179.199219\" xlink:href=\"#DejaVuSans-30\"/>\n       <use x=\"242.822266\" xlink:href=\"#DejaVuSans-30\"/>\n      </g>\n     </g>\n    </g>\n    <g id=\"ytick_2\">\n     <g id=\"line2d_19\">\n      <path clip-path=\"url(#p996fec41a1)\" d=\"M 58.523438 201.259219 \nL 393.323438 201.259219 \n\" style=\"fill:none;stroke:#b0b0b0;stroke-linecap:square;stroke-width:0.8;\"/>\n     </g>\n     <g id=\"line2d_20\">\n      <g>\n       <use style=\"stroke:#000000;stroke-width:0.8;\" x=\"58.523438\" xlink:href=\"#mb2a03b42fd\" y=\"201.259219\"/>\n      </g>\n     </g>\n     <g id=\"text_11\">\n      <!-- −0.75 -->\n      <g transform=\"translate(20.878125 205.058437)scale(0.1 -0.1)\">\n       <defs>\n        <path d=\"M 525 4666 \nL 3525 4666 \nL 3525 4397 \nL 1831 0 \nL 1172 0 \nL 2766 4134 \nL 525 4134 \nL 525 4666 \nz\n\" id=\"DejaVuSans-37\" transform=\"scale(0.015625)\"/>\n        <path d=\"M 691 4666 \nL 3169 4666 \nL 3169 4134 \nL 1269 4134 \nL 1269 2991 \nQ 1406 3038 1543 3061 \nQ 1681 3084 1819 3084 \nQ 2600 3084 3056 2656 \nQ 3513 2228 3513 1497 \nQ 3513 744 3044 326 \nQ 2575 -91 1722 -91 \nQ 1428 -91 1123 -41 \nQ 819 9 494 109 \nL 494 744 \nQ 775 591 1075 516 \nQ 1375 441 1709 441 \nQ 2250 441 2565 725 \nQ 2881 1009 2881 1497 \nQ 2881 1984 2565 2268 \nQ 2250 2553 1709 2553 \nQ 1456 2553 1204 2497 \nQ 953 2441 691 2322 \nL 691 4666 \nz\n\" id=\"DejaVuSans-35\" transform=\"scale(0.015625)\"/>\n       </defs>\n       <use xlink:href=\"#DejaVuSans-2212\"/>\n       <use x=\"83.789062\" xlink:href=\"#DejaVuSans-30\"/>\n       <use x=\"147.412109\" xlink:href=\"#DejaVuSans-2e\"/>\n       <use x=\"179.199219\" xlink:href=\"#DejaVuSans-37\"/>\n       <use x=\"242.822266\" xlink:href=\"#DejaVuSans-35\"/>\n      </g>\n     </g>\n    </g>\n    <g id=\"ytick_3\">\n     <g id=\"line2d_21\">\n      <path clip-path=\"url(#p996fec41a1)\" d=\"M 58.523438 174.079219 \nL 393.323438 174.079219 \n\" style=\"fill:none;stroke:#b0b0b0;stroke-linecap:square;stroke-width:0.8;\"/>\n     </g>\n     <g id=\"line2d_22\">\n      <g>\n       <use style=\"stroke:#000000;stroke-width:0.8;\" x=\"58.523438\" xlink:href=\"#mb2a03b42fd\" y=\"174.079219\"/>\n      </g>\n     </g>\n     <g id=\"text_12\">\n      <!-- −0.50 -->\n      <g transform=\"translate(20.878125 177.878437)scale(0.1 -0.1)\">\n       <use xlink:href=\"#DejaVuSans-2212\"/>\n       <use x=\"83.789062\" xlink:href=\"#DejaVuSans-30\"/>\n       <use x=\"147.412109\" xlink:href=\"#DejaVuSans-2e\"/>\n       <use x=\"179.199219\" xlink:href=\"#DejaVuSans-35\"/>\n       <use x=\"242.822266\" xlink:href=\"#DejaVuSans-30\"/>\n      </g>\n     </g>\n    </g>\n    <g id=\"ytick_4\">\n     <g id=\"line2d_23\">\n      <path clip-path=\"url(#p996fec41a1)\" d=\"M 58.523438 146.899219 \nL 393.323438 146.899219 \n\" style=\"fill:none;stroke:#b0b0b0;stroke-linecap:square;stroke-width:0.8;\"/>\n     </g>\n     <g id=\"line2d_24\">\n      <g>\n       <use style=\"stroke:#000000;stroke-width:0.8;\" x=\"58.523438\" xlink:href=\"#mb2a03b42fd\" y=\"146.899219\"/>\n      </g>\n     </g>\n     <g id=\"text_13\">\n      <!-- −0.25 -->\n      <g transform=\"translate(20.878125 150.698437)scale(0.1 -0.1)\">\n       <use xlink:href=\"#DejaVuSans-2212\"/>\n       <use x=\"83.789062\" xlink:href=\"#DejaVuSans-30\"/>\n       <use x=\"147.412109\" xlink:href=\"#DejaVuSans-2e\"/>\n       <use x=\"179.199219\" xlink:href=\"#DejaVuSans-32\"/>\n       <use x=\"242.822266\" xlink:href=\"#DejaVuSans-35\"/>\n      </g>\n     </g>\n    </g>\n    <g id=\"ytick_5\">\n     <g id=\"line2d_25\">\n      <path clip-path=\"url(#p996fec41a1)\" d=\"M 58.523438 119.719219 \nL 393.323438 119.719219 \n\" style=\"fill:none;stroke:#b0b0b0;stroke-linecap:square;stroke-width:0.8;\"/>\n     </g>\n     <g id=\"line2d_26\">\n      <g>\n       <use style=\"stroke:#000000;stroke-width:0.8;\" x=\"58.523438\" xlink:href=\"#mb2a03b42fd\" y=\"119.719219\"/>\n      </g>\n     </g>\n     <g id=\"text_14\">\n      <!-- 0.00 -->\n      <g transform=\"translate(29.257813 123.518437)scale(0.1 -0.1)\">\n       <use xlink:href=\"#DejaVuSans-30\"/>\n       <use x=\"63.623047\" xlink:href=\"#DejaVuSans-2e\"/>\n       <use x=\"95.410156\" xlink:href=\"#DejaVuSans-30\"/>\n       <use x=\"159.033203\" xlink:href=\"#DejaVuSans-30\"/>\n      </g>\n     </g>\n    </g>\n    <g id=\"ytick_6\">\n     <g id=\"line2d_27\">\n      <path clip-path=\"url(#p996fec41a1)\" d=\"M 58.523438 92.539219 \nL 393.323438 92.539219 \n\" style=\"fill:none;stroke:#b0b0b0;stroke-linecap:square;stroke-width:0.8;\"/>\n     </g>\n     <g id=\"line2d_28\">\n      <g>\n       <use style=\"stroke:#000000;stroke-width:0.8;\" x=\"58.523438\" xlink:href=\"#mb2a03b42fd\" y=\"92.539219\"/>\n      </g>\n     </g>\n     <g id=\"text_15\">\n      <!-- 0.25 -->\n      <g transform=\"translate(29.257813 96.338437)scale(0.1 -0.1)\">\n       <use xlink:href=\"#DejaVuSans-30\"/>\n       <use x=\"63.623047\" xlink:href=\"#DejaVuSans-2e\"/>\n       <use x=\"95.410156\" xlink:href=\"#DejaVuSans-32\"/>\n       <use x=\"159.033203\" xlink:href=\"#DejaVuSans-35\"/>\n      </g>\n     </g>\n    </g>\n    <g id=\"ytick_7\">\n     <g id=\"line2d_29\">\n      <path clip-path=\"url(#p996fec41a1)\" d=\"M 58.523438 65.359219 \nL 393.323438 65.359219 \n\" style=\"fill:none;stroke:#b0b0b0;stroke-linecap:square;stroke-width:0.8;\"/>\n     </g>\n     <g id=\"line2d_30\">\n      <g>\n       <use style=\"stroke:#000000;stroke-width:0.8;\" x=\"58.523438\" xlink:href=\"#mb2a03b42fd\" y=\"65.359219\"/>\n      </g>\n     </g>\n     <g id=\"text_16\">\n      <!-- 0.50 -->\n      <g transform=\"translate(29.257813 69.158437)scale(0.1 -0.1)\">\n       <use xlink:href=\"#DejaVuSans-30\"/>\n       <use x=\"63.623047\" xlink:href=\"#DejaVuSans-2e\"/>\n       <use x=\"95.410156\" xlink:href=\"#DejaVuSans-35\"/>\n       <use x=\"159.033203\" xlink:href=\"#DejaVuSans-30\"/>\n      </g>\n     </g>\n    </g>\n    <g id=\"ytick_8\">\n     <g id=\"line2d_31\">\n      <path clip-path=\"url(#p996fec41a1)\" d=\"M 58.523438 38.179219 \nL 393.323438 38.179219 \n\" style=\"fill:none;stroke:#b0b0b0;stroke-linecap:square;stroke-width:0.8;\"/>\n     </g>\n     <g id=\"line2d_32\">\n      <g>\n       <use style=\"stroke:#000000;stroke-width:0.8;\" x=\"58.523438\" xlink:href=\"#mb2a03b42fd\" y=\"38.179219\"/>\n      </g>\n     </g>\n     <g id=\"text_17\">\n      <!-- 0.75 -->\n      <g transform=\"translate(29.257813 41.978437)scale(0.1 -0.1)\">\n       <use xlink:href=\"#DejaVuSans-30\"/>\n       <use x=\"63.623047\" xlink:href=\"#DejaVuSans-2e\"/>\n       <use x=\"95.410156\" xlink:href=\"#DejaVuSans-37\"/>\n       <use x=\"159.033203\" xlink:href=\"#DejaVuSans-35\"/>\n      </g>\n     </g>\n    </g>\n    <g id=\"ytick_9\">\n     <g id=\"line2d_33\">\n      <path clip-path=\"url(#p996fec41a1)\" d=\"M 58.523438 10.999219 \nL 393.323438 10.999219 \n\" style=\"fill:none;stroke:#b0b0b0;stroke-linecap:square;stroke-width:0.8;\"/>\n     </g>\n     <g id=\"line2d_34\">\n      <g>\n       <use style=\"stroke:#000000;stroke-width:0.8;\" x=\"58.523438\" xlink:href=\"#mb2a03b42fd\" y=\"10.999219\"/>\n      </g>\n     </g>\n     <g id=\"text_18\">\n      <!-- 1.00 -->\n      <g transform=\"translate(29.257813 14.798437)scale(0.1 -0.1)\">\n       <use xlink:href=\"#DejaVuSans-31\"/>\n       <use x=\"63.623047\" xlink:href=\"#DejaVuSans-2e\"/>\n       <use x=\"95.410156\" xlink:href=\"#DejaVuSans-30\"/>\n       <use x=\"159.033203\" xlink:href=\"#DejaVuSans-30\"/>\n      </g>\n     </g>\n    </g>\n    <g id=\"text_19\">\n     <!-- Autocorrelation -->\n     <g transform=\"translate(14.798438 158.154375)rotate(-90)scale(0.1 -0.1)\">\n      <defs>\n       <path d=\"M 2188 4044 \nL 1331 1722 \nL 3047 1722 \nL 2188 4044 \nz\nM 1831 4666 \nL 2547 4666 \nL 4325 0 \nL 3669 0 \nL 3244 1197 \nL 1141 1197 \nL 716 0 \nL 50 0 \nL 1831 4666 \nz\n\" id=\"DejaVuSans-41\" transform=\"scale(0.015625)\"/>\n       <path d=\"M 544 1381 \nL 544 3500 \nL 1119 3500 \nL 1119 1403 \nQ 1119 906 1312 657 \nQ 1506 409 1894 409 \nQ 2359 409 2629 706 \nQ 2900 1003 2900 1516 \nL 2900 3500 \nL 3475 3500 \nL 3475 0 \nL 2900 0 \nL 2900 538 \nQ 2691 219 2414 64 \nQ 2138 -91 1772 -91 \nQ 1169 -91 856 284 \nQ 544 659 544 1381 \nz\nM 1991 3584 \nL 1991 3584 \nz\n\" id=\"DejaVuSans-75\" transform=\"scale(0.015625)\"/>\n       <path d=\"M 1172 4494 \nL 1172 3500 \nL 2356 3500 \nL 2356 3053 \nL 1172 3053 \nL 1172 1153 \nQ 1172 725 1289 603 \nQ 1406 481 1766 481 \nL 2356 481 \nL 2356 0 \nL 1766 0 \nQ 1100 0 847 248 \nQ 594 497 594 1153 \nL 594 3053 \nL 172 3053 \nL 172 3500 \nL 594 3500 \nL 594 4494 \nL 1172 4494 \nz\n\" id=\"DejaVuSans-74\" transform=\"scale(0.015625)\"/>\n       <path d=\"M 1959 3097 \nQ 1497 3097 1228 2736 \nQ 959 2375 959 1747 \nQ 959 1119 1226 758 \nQ 1494 397 1959 397 \nQ 2419 397 2687 759 \nQ 2956 1122 2956 1747 \nQ 2956 2369 2687 2733 \nQ 2419 3097 1959 3097 \nz\nM 1959 3584 \nQ 2709 3584 3137 3096 \nQ 3566 2609 3566 1747 \nQ 3566 888 3137 398 \nQ 2709 -91 1959 -91 \nQ 1206 -91 779 398 \nQ 353 888 353 1747 \nQ 353 2609 779 3096 \nQ 1206 3584 1959 3584 \nz\n\" id=\"DejaVuSans-6f\" transform=\"scale(0.015625)\"/>\n       <path d=\"M 3122 3366 \nL 3122 2828 \nQ 2878 2963 2633 3030 \nQ 2388 3097 2138 3097 \nQ 1578 3097 1268 2742 \nQ 959 2388 959 1747 \nQ 959 1106 1268 751 \nQ 1578 397 2138 397 \nQ 2388 397 2633 464 \nQ 2878 531 3122 666 \nL 3122 134 \nQ 2881 22 2623 -34 \nQ 2366 -91 2075 -91 \nQ 1284 -91 818 406 \nQ 353 903 353 1747 \nQ 353 2603 823 3093 \nQ 1294 3584 2113 3584 \nQ 2378 3584 2631 3529 \nQ 2884 3475 3122 3366 \nz\n\" id=\"DejaVuSans-63\" transform=\"scale(0.015625)\"/>\n       <path d=\"M 2631 2963 \nQ 2534 3019 2420 3045 \nQ 2306 3072 2169 3072 \nQ 1681 3072 1420 2755 \nQ 1159 2438 1159 1844 \nL 1159 0 \nL 581 0 \nL 581 3500 \nL 1159 3500 \nL 1159 2956 \nQ 1341 3275 1631 3429 \nQ 1922 3584 2338 3584 \nQ 2397 3584 2469 3576 \nQ 2541 3569 2628 3553 \nL 2631 2963 \nz\n\" id=\"DejaVuSans-72\" transform=\"scale(0.015625)\"/>\n       <path d=\"M 3597 1894 \nL 3597 1613 \nL 953 1613 \nQ 991 1019 1311 708 \nQ 1631 397 2203 397 \nQ 2534 397 2845 478 \nQ 3156 559 3463 722 \nL 3463 178 \nQ 3153 47 2828 -22 \nQ 2503 -91 2169 -91 \nQ 1331 -91 842 396 \nQ 353 884 353 1716 \nQ 353 2575 817 3079 \nQ 1281 3584 2069 3584 \nQ 2775 3584 3186 3129 \nQ 3597 2675 3597 1894 \nz\nM 3022 2063 \nQ 3016 2534 2758 2815 \nQ 2500 3097 2075 3097 \nQ 1594 3097 1305 2825 \nQ 1016 2553 972 2059 \nL 3022 2063 \nz\n\" id=\"DejaVuSans-65\" transform=\"scale(0.015625)\"/>\n       <path d=\"M 603 4863 \nL 1178 4863 \nL 1178 0 \nL 603 0 \nL 603 4863 \nz\n\" id=\"DejaVuSans-6c\" transform=\"scale(0.015625)\"/>\n       <path d=\"M 603 3500 \nL 1178 3500 \nL 1178 0 \nL 603 0 \nL 603 3500 \nz\nM 603 4863 \nL 1178 4863 \nL 1178 4134 \nL 603 4134 \nL 603 4863 \nz\n\" id=\"DejaVuSans-69\" transform=\"scale(0.015625)\"/>\n       <path d=\"M 3513 2113 \nL 3513 0 \nL 2938 0 \nL 2938 2094 \nQ 2938 2591 2744 2837 \nQ 2550 3084 2163 3084 \nQ 1697 3084 1428 2787 \nQ 1159 2491 1159 1978 \nL 1159 0 \nL 581 0 \nL 581 3500 \nL 1159 3500 \nL 1159 2956 \nQ 1366 3272 1645 3428 \nQ 1925 3584 2291 3584 \nQ 2894 3584 3203 3211 \nQ 3513 2838 3513 2113 \nz\n\" id=\"DejaVuSans-6e\" transform=\"scale(0.015625)\"/>\n      </defs>\n      <use xlink:href=\"#DejaVuSans-41\"/>\n      <use x=\"68.408203\" xlink:href=\"#DejaVuSans-75\"/>\n      <use x=\"131.787109\" xlink:href=\"#DejaVuSans-74\"/>\n      <use x=\"170.996094\" xlink:href=\"#DejaVuSans-6f\"/>\n      <use x=\"232.177734\" xlink:href=\"#DejaVuSans-63\"/>\n      <use x=\"287.158203\" xlink:href=\"#DejaVuSans-6f\"/>\n      <use x=\"348.339844\" xlink:href=\"#DejaVuSans-72\"/>\n      <use x=\"387.703125\" xlink:href=\"#DejaVuSans-72\"/>\n      <use x=\"426.566406\" xlink:href=\"#DejaVuSans-65\"/>\n      <use x=\"488.089844\" xlink:href=\"#DejaVuSans-6c\"/>\n      <use x=\"515.873047\" xlink:href=\"#DejaVuSans-61\"/>\n      <use x=\"577.152344\" xlink:href=\"#DejaVuSans-74\"/>\n      <use x=\"616.361328\" xlink:href=\"#DejaVuSans-69\"/>\n      <use x=\"644.144531\" xlink:href=\"#DejaVuSans-6f\"/>\n      <use x=\"705.326172\" xlink:href=\"#DejaVuSans-6e\"/>\n     </g>\n    </g>\n   </g>\n   <g id=\"line2d_35\">\n    <path clip-path=\"url(#p996fec41a1)\" d=\"M 58.523438 113.047718 \nL 393.323438 113.047718 \n\" style=\"fill:none;stroke:#808080;stroke-dasharray:5.55,2.4;stroke-dashoffset:0;stroke-width:1.5;\"/>\n   </g>\n   <g id=\"line2d_36\">\n    <path clip-path=\"url(#p996fec41a1)\" d=\"M 58.523438 114.642833 \nL 393.323438 114.642833 \n\" style=\"fill:none;stroke:#808080;stroke-linecap:square;stroke-width:1.5;\"/>\n   </g>\n   <g id=\"line2d_37\">\n    <path clip-path=\"url(#p996fec41a1)\" d=\"M 58.523438 119.719219 \nL 393.323438 119.719219 \n\" style=\"fill:none;stroke:#000000;stroke-linecap:square;stroke-width:1.5;\"/>\n   </g>\n   <g id=\"line2d_38\">\n    <path clip-path=\"url(#p996fec41a1)\" d=\"M 58.523438 124.795604 \nL 393.323438 124.795604 \n\" style=\"fill:none;stroke:#808080;stroke-linecap:square;stroke-width:1.5;\"/>\n   </g>\n   <g id=\"line2d_39\">\n    <path clip-path=\"url(#p996fec41a1)\" d=\"M 58.523438 126.39072 \nL 393.323438 126.39072 \n\" style=\"fill:none;stroke:#808080;stroke-dasharray:5.55,2.4;stroke-dashoffset:0;stroke-width:1.5;\"/>\n   </g>\n   <g id=\"line2d_40\">\n    <path clip-path=\"url(#p996fec41a1)\" d=\"M 58.523438 42.739126 \nL 58.713557 61.248896 \nL 59.093795 70.456447 \nL 59.664153 72.398994 \nL 59.854272 71.817588 \nL 60.234511 75.355561 \nL 60.614749 77.421082 \nL 60.804869 76.753355 \nL 61.185107 77.253099 \nL 61.375226 75.872537 \nL 61.565346 76.211197 \nL 61.755465 75.651132 \nL 61.945584 74.564547 \nL 62.325823 77.18762 \nL 62.515942 77.565261 \nL 62.706061 78.233625 \nL 63.0863 76.203559 \nL 63.276419 77.430085 \nL 63.656657 80.446615 \nL 63.846777 80.213263 \nL 64.036896 79.443439 \nL 64.227015 77.385894 \nL 64.607254 79.364555 \nL 64.987492 79.64885 \nL 65.177611 78.442022 \nL 65.367731 79.122303 \nL 65.55785 78.710278 \nL 65.747969 78.807119 \nL 65.938088 80.026171 \nL 66.128208 79.881214 \nL 66.318327 78.919409 \nL 66.508446 78.740617 \nL 66.698565 77.811514 \nL 67.078804 81.78376 \nL 67.268923 81.583653 \nL 67.459042 81.74627 \nL 67.839281 83.025926 \nL 68.0294 81.280953 \nL 68.219519 84.134779 \nL 68.409639 82.752003 \nL 68.599758 82.738864 \nL 68.789877 83.8672 \nL 69.360235 77.855462 \nL 69.740473 81.233244 \nL 69.930593 79.338692 \nL 70.120712 73.244692 \nL 70.310831 71.828541 \nL 70.50095 71.775739 \nL 70.69107 75.988006 \nL 70.881189 76.400978 \nL 71.071308 76.359556 \nL 71.451547 80.19207 \nL 71.641666 78.99817 \nL 71.831785 81.319727 \nL 72.021904 81.197565 \nL 72.592262 85.366772 \nL 72.782381 84.38978 \nL 72.972501 85.011056 \nL 73.16262 82.953773 \nL 73.352739 83.555237 \nL 73.732978 81.147691 \nL 73.923097 78.548384 \nL 74.113216 78.598494 \nL 74.303335 79.901431 \nL 74.493455 82.381139 \nL 74.873693 80.895338 \nL 75.063812 82.686518 \nL 75.253932 82.84418 \nL 75.444051 83.604485 \nL 75.63417 83.155878 \nL 76.014409 86.341579 \nL 76.394647 85.198579 \nL 76.584766 87.705792 \nL 76.774886 88.110732 \nL 76.965005 87.096283 \nL 77.155124 87.024242 \nL 77.345243 86.425027 \nL 77.535363 84.891267 \nL 77.915601 83.983108 \nL 78.10572 84.036404 \nL 78.29584 83.242708 \nL 78.485959 81.862174 \nL 78.676078 82.06024 \nL 78.866197 83.137004 \nL 79.246436 88.990689 \nL 79.436555 88.471848 \nL 79.816794 86.127608 \nL 80.006913 85.488064 \nL 80.197032 84.200553 \nL 80.387151 85.166386 \nL 80.577271 87.40743 \nL 80.76739 87.868711 \nL 80.957509 87.18652 \nL 81.147628 85.772211 \nL 81.527867 84.588209 \nL 81.717986 83.793845 \nL 81.908105 83.931468 \nL 82.098225 81.559082 \nL 82.288344 77.256762 \nL 82.478463 78.501564 \nL 82.668582 83.72846 \nL 82.858702 84.764879 \nL 83.048821 84.046273 \nL 83.23894 84.023393 \nL 84.189536 89.895959 \nL 84.379656 90.241698 \nL 84.569775 90.039951 \nL 84.759894 91.655713 \nL 84.950013 90.613562 \nL 85.140133 90.646813 \nL 85.330252 89.832886 \nL 85.520371 87.890155 \nL 85.71049 89.031457 \nL 85.90061 89.44153 \nL 86.090729 89.281818 \nL 86.280848 92.219097 \nL 86.470967 91.766624 \nL 86.661087 90.66261 \nL 86.851206 92.169922 \nL 87.231444 92.773325 \nL 87.611683 94.52271 \nL 87.801802 94.761867 \nL 88.182041 92.136539 \nL 88.37216 91.469008 \nL 88.752398 93.158375 \nL 89.132637 95.009262 \nL 89.322756 94.397194 \nL 89.702995 90.906627 \nL 89.893114 89.567256 \nL 90.083233 87.380613 \nL 90.273352 88.053936 \nL 90.463472 86.611777 \nL 91.033829 90.10314 \nL 91.223949 90.281712 \nL 91.984426 91.900733 \nL 92.364664 89.908456 \nL 92.554783 88.487064 \nL 92.744903 89.611737 \nL 92.935022 88.961832 \nL 93.125141 88.743628 \nL 94.075737 80.006474 \nL 94.265857 80.682078 \nL 94.646095 84.296776 \nL 94.836214 82.228931 \nL 95.216453 86.005247 \nL 95.596691 89.518773 \nL 95.786811 89.688083 \nL 95.97693 92.015146 \nL 96.357168 91.70337 \nL 96.547288 92.287248 \nL 96.737407 91.672651 \nL 97.117645 92.810794 \nL 97.497884 92.853374 \nL 97.688003 91.981785 \nL 97.878122 92.941885 \nL 98.068242 92.935296 \nL 98.44848 91.126203 \nL 98.638599 91.354411 \nL 98.828719 91.015931 \nL 99.018838 91.657581 \nL 99.399076 93.667475 \nL 99.589196 93.736951 \nL 99.779315 93.238426 \nL 99.969434 93.902638 \nL 100.159553 93.03322 \nL 100.729911 95.280255 \nL 100.92003 95.285067 \nL 101.11015 95.138622 \nL 101.300269 95.643017 \nL 101.490388 95.331271 \nL 101.680507 92.976339 \nL 101.870627 92.577837 \nL 102.060746 92.799538 \nL 102.440984 94.563781 \nL 103.011342 97.497682 \nL 103.391581 95.518501 \nL 103.5817 95.453255 \nL 103.771819 94.821557 \nL 103.961938 96.167253 \nL 104.152058 95.757388 \nL 104.342177 96.878198 \nL 104.532296 95.574019 \nL 104.722415 95.397463 \nL 105.292773 93.612264 \nL 105.482892 94.010695 \nL 105.673012 86.099485 \nL 105.863131 83.539059 \nL 106.433489 87.206279 \nL 106.623608 89.051455 \nL 106.813727 89.539788 \nL 107.003846 89.193435 \nL 107.384085 94.726038 \nL 107.574204 94.611704 \nL 107.954443 95.70727 \nL 108.144562 95.18292 \nL 108.334681 95.764442 \nL 108.5248 95.675819 \nL 108.71492 97.192871 \nL 108.905039 97.748345 \nL 109.095158 97.613027 \nL 109.475397 95.468716 \nL 109.665516 95.426327 \nL 110.425993 92.349812 \nL 110.616112 92.878089 \nL 110.806231 93.044552 \nL 110.996351 94.59697 \nL 111.18647 94.585233 \nL 111.376589 95.155811 \nL 111.566708 94.878167 \nL 111.756828 95.414422 \nL 111.946947 95.581884 \nL 112.327185 95.013454 \nL 112.517305 94.293959 \nL 112.707424 95.553434 \nL 112.897543 95.270477 \nL 113.277782 96.066331 \nL 113.467901 93.443973 \nL 113.65802 94.419959 \nL 113.848139 94.321445 \nL 114.038259 94.442161 \nL 114.228378 93.456151 \nL 114.418497 93.151192 \nL 114.608616 93.685791 \nL 114.798736 94.964263 \nL 114.988855 94.55056 \nL 115.178974 96.51 \nL 115.559213 94.993166 \nL 115.749332 94.140114 \nL 115.939451 92.436046 \nL 116.12957 93.620539 \nL 116.31969 95.912156 \nL 116.890047 92.007391 \nL 117.080167 91.758518 \nL 117.270286 92.099311 \nL 117.460405 89.921186 \nL 117.650524 90.203081 \nL 117.840644 91.308471 \nL 118.030763 91.021727 \nL 118.220882 89.615115 \nL 118.411001 89.639822 \nL 118.79124 87.175763 \nL 118.981359 86.035439 \nL 119.361598 90.297662 \nL 119.551717 94.218358 \nL 119.931955 96.518732 \nL 120.122075 96.202969 \nL 120.312194 96.908831 \nL 120.692432 98.698596 \nL 120.882552 98.665554 \nL 121.072671 98.206378 \nL 121.26279 96.321656 \nL 121.452909 95.706359 \nL 121.833148 95.815748 \nL 122.023267 97.352717 \nL 122.403506 95.015834 \nL 122.593625 94.836468 \nL 122.783744 97.462764 \nL 122.973863 97.531427 \nL 123.163983 98.39365 \nL 123.354102 100.786905 \nL 123.544221 100.894671 \nL 123.92446 98.300804 \nL 124.114579 98.859481 \nL 124.304698 99.012488 \nL 124.494817 100.437102 \nL 124.875056 100.749478 \nL 125.065175 100.737357 \nL 125.255294 99.634809 \nL 125.445414 99.424642 \nL 125.825652 95.246623 \nL 126.015771 94.12366 \nL 126.39601 96.846975 \nL 126.586129 99.210428 \nL 126.776248 99.173325 \nL 126.966368 99.5383 \nL 127.156487 97.766393 \nL 127.346606 97.77645 \nL 127.536725 97.166068 \nL 127.726845 97.0052 \nL 127.916964 98.441437 \nL 128.107083 98.79949 \nL 128.297202 97.673159 \nL 128.487322 98.883723 \nL 128.677441 98.090757 \nL 128.86756 97.932017 \nL 129.057679 95.692367 \nL 129.437918 95.785162 \nL 129.818156 94.234687 \nL 130.198395 94.762853 \nL 130.388514 92.96445 \nL 130.578633 92.708309 \nL 130.768753 89.369945 \nL 130.958872 90.17643 \nL 131.33911 97.196282 \nL 131.52923 97.319812 \nL 131.719349 98.839928 \nL 132.099587 99.482567 \nL 132.289707 98.031987 \nL 132.860064 101.266722 \nL 133.240303 99.263231 \nL 133.430422 98.955172 \nL 133.620541 99.55543 \nL 134.00078 100.932483 \nL 134.381018 98.895772 \nL 134.951376 101.552697 \nL 135.141495 101.895235 \nL 135.521734 103.867977 \nL 135.711853 103.465969 \nL 136.092092 104.905258 \nL 136.282211 104.725745 \nL 136.47233 104.162774 \nL 136.662449 104.257646 \nL 137.232807 106.428409 \nL 137.803165 103.104567 \nL 137.993284 102.139485 \nL 138.183403 100.269867 \nL 138.373523 101.828355 \nL 138.563642 104.926251 \nL 138.753761 104.388271 \nL 138.94388 104.645202 \nL 139.324119 106.8924 \nL 139.514238 107.032693 \nL 140.084596 106.234204 \nL 140.274715 106.937406 \nL 140.464834 106.572482 \nL 140.654954 106.985453 \nL 140.845073 106.973715 \nL 141.60555 99.986134 \nL 141.795669 99.278474 \nL 141.985788 100.526418 \nL 142.175908 100.957802 \nL 142.366027 102.953005 \nL 142.556146 102.381353 \nL 142.746265 101.213921 \nL 143.126504 105.433302 \nL 143.316623 106.047374 \nL 143.696862 108.057807 \nL 143.886981 107.992066 \nL 144.0771 107.013541 \nL 144.267219 107.524039 \nL 144.457339 110.057192 \nL 144.647458 110.553512 \nL 145.027696 110.362937 \nL 145.217816 110.860422 \nL 145.407935 111.758981 \nL 145.598054 110.994208 \nL 145.978293 106.655559 \nL 146.168412 107.141597 \nL 146.358531 106.113496 \nL 146.54865 106.752013 \nL 146.73877 109.235524 \nL 146.928889 109.317814 \nL 147.119008 109.622001 \nL 147.309127 109.666817 \nL 147.499247 109.987753 \nL 147.879485 107.982586 \nL 148.069604 108.555186 \nL 148.449843 110.968043 \nL 148.639962 109.689134 \nL 148.830081 109.504902 \nL 149.020201 108.896618 \nL 149.21032 110.116915 \nL 149.590558 108.546193 \nL 149.970797 109.638313 \nL 150.160916 109.715195 \nL 150.351035 109.9866 \nL 150.541155 110.674875 \nL 150.731274 110.607639 \nL 151.111512 108.188311 \nL 151.301632 109.533457 \nL 151.491751 109.964549 \nL 151.68187 110.841273 \nL 151.871989 112.243018 \nL 152.062109 112.479348 \nL 152.252228 111.187299 \nL 152.442347 110.727824 \nL 152.632466 111.219792 \nL 152.822586 112.31762 \nL 154.34354 103.112206 \nL 154.533659 104.240745 \nL 154.723778 103.730096 \nL 154.913897 104.347518 \nL 155.104017 108.130212 \nL 155.484255 109.386847 \nL 155.674374 111.059763 \nL 155.864494 111.048644 \nL 156.054613 111.466264 \nL 156.434851 114.563465 \nL 156.624971 115.446929 \nL 157.005209 113.159055 \nL 157.195328 113.82796 \nL 157.385448 113.970747 \nL 157.575567 114.497072 \nL 157.955805 114.739721 \nL 158.145925 114.49126 \nL 158.336044 113.096829 \nL 158.526163 113.055418 \nL 158.716282 113.904107 \nL 159.096521 115.912758 \nL 159.28664 115.943155 \nL 159.476759 116.213987 \nL 159.666879 116.035764 \nL 159.856998 115.621224 \nL 160.047117 116.722308 \nL 160.237236 116.730671 \nL 160.427356 116.555189 \nL 160.617475 117.280812 \nL 160.807594 116.22322 \nL 160.997713 117.655564 \nL 161.187833 117.209898 \nL 162.328548 111.664291 \nL 162.708787 116.312497 \nL 163.089025 116.378126 \nL 163.279144 114.732835 \nL 163.469264 114.556165 \nL 163.659383 114.731831 \nL 163.849502 114.474843 \nL 164.039621 115.140509 \nL 164.229741 114.824755 \nL 164.41986 114.183238 \nL 164.800098 116.43253 \nL 165.370456 113.2068 \nL 165.560575 113.107652 \nL 165.750695 114.441175 \nL 165.940814 114.492792 \nL 166.321052 113.04978 \nL 166.511172 110.975793 \nL 166.701291 111.04709 \nL 166.89141 110.620068 \nL 167.461768 116.442933 \nL 167.842006 115.358056 \nL 168.032126 116.51909 \nL 168.412364 119.629712 \nL 168.602483 120.668852 \nL 168.792603 119.376467 \nL 169.36296 118.394916 \nL 169.55308 119.709855 \nL 169.743199 118.963861 \nL 169.933318 117.262028 \nL 170.123438 116.926644 \nL 170.313557 116.884079 \nL 170.503676 116.356581 \nL 170.693795 118.617304 \nL 170.883915 118.402196 \nL 171.074034 118.726469 \nL 171.264153 119.346082 \nL 171.454272 119.256773 \nL 171.834511 118.282359 \nL 172.02463 119.165421 \nL 172.214749 118.775918 \nL 172.404869 119.335899 \nL 172.594988 119.216772 \nL 172.975226 120.369881 \nL 173.165346 119.960443 \nL 173.545584 118.580265 \nL 173.735703 119.279894 \nL 173.925823 118.990079 \nL 174.115942 117.143968 \nL 174.49618 119.050708 \nL 174.6863 121.295086 \nL 175.256657 121.389385 \nL 175.446777 122.575912 \nL 175.827015 119.402895 \nL 176.017134 118.28735 \nL 176.587492 119.550937 \nL 176.777611 121.113047 \nL 176.967731 121.601198 \nL 177.347969 119.546711 \nL 177.538088 119.686374 \nL 177.728208 118.008519 \nL 177.918327 117.410466 \nL 178.298565 115.479133 \nL 178.488685 119.012069 \nL 178.678804 120.034598 \nL 178.868923 116.658039 \nL 179.059042 116.142428 \nL 179.439281 121.215303 \nL 179.6294 121.941403 \nL 179.819519 120.800805 \nL 180.579996 124.332901 \nL 180.770116 123.91133 \nL 180.960235 123.851496 \nL 181.150354 123.917116 \nL 181.340473 124.160807 \nL 181.530593 123.152371 \nL 181.720712 123.168241 \nL 181.910831 122.309188 \nL 182.10095 122.74383 \nL 182.29107 123.609366 \nL 182.481189 122.930303 \nL 182.861427 124.69823 \nL 183.051547 124.631222 \nL 183.241666 124.253297 \nL 183.431785 124.886388 \nL 183.812024 123.929722 \nL 184.002143 124.084849 \nL 184.382381 125.128383 \nL 184.572501 126.407359 \nL 184.76262 126.897077 \nL 185.142858 124.977256 \nL 185.332978 125.054935 \nL 185.713216 123.267553 \nL 186.093455 124.124962 \nL 186.473693 123.741115 \nL 186.853932 124.876777 \nL 187.044051 125.613338 \nL 187.23417 127.935244 \nL 187.424289 127.32909 \nL 187.614409 127.903062 \nL 187.804528 128.002344 \nL 187.994647 127.520225 \nL 188.184766 125.136494 \nL 188.374886 124.413751 \nL 188.565005 124.216306 \nL 188.755124 126.35842 \nL 188.945243 125.569352 \nL 189.135363 124.048004 \nL 189.325482 123.841639 \nL 189.515601 122.947018 \nL 189.70572 122.811242 \nL 190.085959 119.326636 \nL 190.466197 126.23365 \nL 190.656317 126.606133 \nL 190.846436 125.644553 \nL 191.036555 125.405801 \nL 191.226674 126.208441 \nL 191.416794 125.890205 \nL 191.606913 125.275947 \nL 191.987151 126.735815 \nL 192.36739 128.751818 \nL 192.747628 130.773583 \nL 192.937748 130.823519 \nL 193.127867 131.348115 \nL 193.317986 131.30836 \nL 193.888344 128.620559 \nL 194.078463 129.692889 \nL 194.458702 130.518069 \nL 194.648821 130.679243 \nL 194.83894 131.406333 \nL 195.219179 130.416273 \nL 195.409298 130.363441 \nL 195.599417 130.514762 \nL 195.789536 130.338614 \nL 195.979656 129.806471 \nL 196.169775 130.111203 \nL 196.359894 129.622885 \nL 196.740133 131.242402 \nL 196.930252 130.859585 \nL 197.31049 129.503096 \nL 197.50061 129.252615 \nL 197.690729 129.204756 \nL 197.880848 129.415125 \nL 198.451206 128.717671 \nL 198.641325 129.62366 \nL 198.831444 129.680097 \nL 199.021564 131.059873 \nL 199.211683 131.21514 \nL 199.591921 130.786911 \nL 200.162279 130.766165 \nL 200.542518 131.909925 \nL 200.732637 131.472792 \nL 201.112875 128.789314 \nL 201.302995 130.040522 \nL 201.493114 130.044781 \nL 201.683233 129.18351 \nL 202.253591 121.808122 \nL 202.633829 128.645931 \nL 202.823949 127.811783 \nL 203.014068 127.544876 \nL 203.204187 128.178789 \nL 203.964664 132.432486 \nL 204.154783 132.664897 \nL 204.344903 131.838457 \nL 204.535022 132.707115 \nL 204.725141 132.469683 \nL 204.91526 132.412505 \nL 205.295499 132.556857 \nL 205.485618 132.024175 \nL 205.675737 130.37574 \nL 205.865857 130.696779 \nL 206.246095 132.820269 \nL 206.816453 134.264485 \nL 207.006572 133.557944 \nL 207.196691 132.250079 \nL 207.57693 133.213938 \nL 207.767049 133.123859 \nL 207.957168 133.2747 \nL 208.147288 132.704768 \nL 208.527526 133.186693 \nL 208.907765 131.876724 \nL 209.097884 132.083214 \nL 209.288003 131.878619 \nL 209.668242 131.062566 \nL 210.04848 132.583972 \nL 210.238599 132.649742 \nL 210.428719 133.293052 \nL 210.618838 132.519264 \nL 210.999076 134.264507 \nL 211.189196 133.586112 \nL 211.379315 133.329289 \nL 211.569434 132.549646 \nL 211.949673 132.051294 \nL 212.139792 133.865518 \nL 212.329911 134.145416 \nL 213.280507 131.166454 \nL 213.470627 132.078223 \nL 213.660746 132.218591 \nL 214.231104 127.945902 \nL 214.611342 130.753984 \nL 214.991581 129.940626 \nL 215.1817 130.656671 \nL 215.561938 129.731702 \nL 215.942177 131.955979 \nL 216.132296 133.455126 \nL 216.322415 133.348061 \nL 216.512535 133.940463 \nL 216.702654 133.887343 \nL 216.892773 134.689826 \nL 217.082892 134.106452 \nL 217.463131 134.043032 \nL 217.65325 133.738033 \nL 217.843369 133.142022 \nL 218.223608 133.336588 \nL 218.413727 132.993772 \nL 218.603846 132.181904 \nL 218.793966 133.743169 \nL 219.174204 133.393082 \nL 219.364323 133.599077 \nL 219.744562 134.555552 \nL 219.934681 133.982538 \nL 220.1248 134.245391 \nL 220.31492 134.748593 \nL 220.505039 135.814717 \nL 220.695158 135.638629 \nL 221.075397 134.734051 \nL 221.455635 133.664014 \nL 221.645754 132.836419 \nL 222.025993 134.758728 \nL 222.216112 133.623353 \nL 222.596351 132.971899 \nL 223.166708 136.448219 \nL 223.356828 136.370806 \nL 223.546947 135.784613 \nL 223.737066 135.74883 \nL 223.927185 135.578787 \nL 224.117305 135.003964 \nL 224.307424 135.500772 \nL 224.687662 135.332991 \nL 225.067901 132.780944 \nL 225.25802 133.223429 \nL 225.448139 134.197496 \nL 225.638259 133.803127 \nL 226.018497 134.827069 \nL 226.208616 134.194825 \nL 226.398736 132.182392 \nL 226.969093 134.640847 \nL 227.349332 136.09287 \nL 227.539451 135.750101 \nL 227.72957 135.692082 \nL 228.109809 136.81755 \nL 228.299928 136.618814 \nL 228.680167 137.591193 \nL 228.870286 137.805492 \nL 229.440644 135.951263 \nL 229.820882 136.06234 \nL 230.011001 136.024883 \nL 230.201121 137.727257 \nL 230.581359 137.678456 \nL 230.961598 138.7451 \nL 231.341836 136.44651 \nL 231.722075 137.690121 \nL 231.912194 137.189415 \nL 232.102313 137.727881 \nL 232.292432 137.735056 \nL 232.482552 137.594792 \nL 232.672671 138.203022 \nL 232.86279 138.077031 \nL 233.433148 136.230666 \nL 233.623267 136.190895 \nL 233.813386 135.926196 \nL 234.003506 135.968106 \nL 234.193625 135.050174 \nL 234.383744 134.75414 \nL 234.573863 135.398844 \nL 234.763983 135.322177 \nL 234.954102 136.33401 \nL 235.144221 136.234137 \nL 235.33434 136.347739 \nL 235.714579 137.24468 \nL 236.284937 135.935208 \nL 236.475056 136.015257 \nL 236.665175 135.761151 \nL 237.045414 134.589568 \nL 237.235533 133.997337 \nL 237.615771 132.315332 \nL 238.186129 134.055239 \nL 238.376248 134.588519 \nL 238.566368 134.181755 \nL 238.756487 134.437112 \nL 238.946606 134.346529 \nL 239.516964 135.446725 \nL 239.707083 134.98723 \nL 240.087322 136.738772 \nL 240.277441 137.001209 \nL 240.657679 138.592526 \nL 241.037918 138.742128 \nL 241.228037 139.21753 \nL 241.608276 138.605051 \nL 241.798395 138.737497 \nL 241.988514 138.571357 \nL 242.178633 138.1333 \nL 242.368753 138.678481 \nL 242.558872 138.823303 \nL 242.93911 138.003731 \nL 243.12923 137.973161 \nL 243.699587 137.253762 \nL 243.889707 137.466153 \nL 244.079826 137.292308 \nL 244.269945 137.625545 \nL 244.460064 137.543473 \nL 244.650184 137.783672 \nL 244.840303 137.707381 \nL 245.030422 136.717714 \nL 245.220541 136.374291 \nL 245.410661 137.006638 \nL 245.60078 136.294924 \nL 245.790899 136.308452 \nL 246.931615 137.212692 \nL 247.121734 138.028542 \nL 247.692092 138.498536 \nL 247.882211 139.041762 \nL 248.07233 138.981447 \nL 248.452569 138.081605 \nL 248.642688 138.264603 \nL 248.832807 137.465971 \nL 249.403165 136.761094 \nL 249.783403 133.392505 \nL 249.973523 133.436749 \nL 250.163642 135.027802 \nL 250.353761 135.292814 \nL 250.734 133.826885 \nL 251.114238 135.381566 \nL 251.304357 135.336665 \nL 251.494477 136.152722 \nL 251.684596 136.336644 \nL 251.874715 136.344053 \nL 252.064834 137.044789 \nL 252.254954 137.223371 \nL 252.445073 136.155435 \nL 252.825311 137.172047 \nL 253.015431 137.104218 \nL 253.775908 139.537654 \nL 254.156146 139.199274 \nL 254.346265 139.252886 \nL 254.726504 138.422671 \nL 255.106742 139.063851 \nL 255.296862 139.473826 \nL 255.486981 139.576654 \nL 255.867219 138.876647 \nL 256.057339 139.050597 \nL 256.247458 139.746623 \nL 256.437577 139.868374 \nL 256.627696 139.476302 \nL 256.817816 140.417715 \nL 257.007935 140.396789 \nL 257.388173 139.26219 \nL 257.578293 139.016418 \nL 257.958531 139.573863 \nL 258.14865 139.255155 \nL 258.33877 139.391555 \nL 258.528889 140.147195 \nL 258.719008 140.365155 \nL 258.909127 140.092276 \nL 259.099247 139.565915 \nL 259.289366 138.650964 \nL 259.479485 139.706163 \nL 260.049843 140.811685 \nL 260.430081 139.853222 \nL 260.620201 139.649208 \nL 260.81032 138.985766 \nL 261.000439 138.947931 \nL 261.190558 139.159704 \nL 261.380678 138.712337 \nL 261.570797 137.142945 \nL 261.760916 137.104784 \nL 262.141155 138.610721 \nL 262.331274 139.095401 \nL 262.521393 139.052584 \nL 262.711512 139.235628 \nL 262.901632 138.655103 \nL 263.091751 138.720271 \nL 263.28187 138.930471 \nL 263.471989 138.692716 \nL 263.662109 138.658814 \nL 263.852228 139.368628 \nL 264.042347 139.40142 \nL 264.232466 140.08789 \nL 264.422586 140.351316 \nL 264.612705 140.291201 \nL 264.802824 139.802553 \nL 264.992943 139.732112 \nL 265.183063 140.099288 \nL 265.75342 140.282489 \nL 265.94354 140.155519 \nL 266.133659 140.307243 \nL 266.323778 139.434621 \nL 266.704017 140.003996 \nL 266.894136 139.719542 \nL 267.084255 139.664727 \nL 267.464494 140.70595 \nL 268.034851 140.0336 \nL 268.224971 140.410103 \nL 268.41509 139.959534 \nL 268.605209 139.920024 \nL 268.795328 140.181141 \nL 268.985448 140.143835 \nL 269.365686 139.380696 \nL 269.555805 139.886371 \nL 269.745925 139.818321 \nL 269.936044 138.926249 \nL 270.126163 139.154622 \nL 270.316282 138.564304 \nL 270.696521 139.070827 \nL 270.88664 138.717228 \nL 271.076759 138.910394 \nL 271.456998 138.370533 \nL 271.647117 139.102613 \nL 271.837236 138.625142 \nL 272.027356 139.085777 \nL 272.217475 139.197449 \nL 272.407594 138.880956 \nL 272.787833 137.268983 \nL 272.977952 137.485621 \nL 273.54831 138.573474 \nL 273.738429 138.497199 \nL 273.928548 138.648789 \nL 274.308787 137.883616 \nL 274.689025 137.940049 \nL 274.879144 139.153173 \nL 275.259383 139.748034 \nL 275.449502 140.002096 \nL 276.01986 138.525139 \nL 276.590218 139.605961 \nL 277.160575 139.604953 \nL 277.730933 138.941167 \nL 278.301291 140.060801 \nL 278.681529 140.257124 \nL 279.061768 139.440484 \nL 279.251887 139.748787 \nL 279.632126 138.725433 \nL 279.822245 139.42109 \nL 280.012364 139.585923 \nL 280.202483 139.559308 \nL 280.582722 140.518441 \nL 280.96296 140.098862 \nL 281.15308 139.775044 \nL 281.343199 139.848364 \nL 281.913557 138.712062 \nL 282.103676 138.895503 \nL 282.293795 139.542499 \nL 282.483915 139.624789 \nL 282.864153 138.874144 \nL 283.434511 139.772492 \nL 284.004869 139.666534 \nL 284.194988 139.277188 \nL 284.385107 138.500758 \nL 284.575226 138.586013 \nL 284.765346 137.916668 \nL 284.955465 137.678363 \nL 285.145584 137.768077 \nL 285.525823 135.844064 \nL 286.09618 137.104294 \nL 286.476419 136.638765 \nL 286.856657 137.730943 \nL 287.046777 137.572038 \nL 287.236896 137.967031 \nL 287.427015 137.40573 \nL 287.617134 137.337618 \nL 287.807254 137.588357 \nL 287.997373 137.618889 \nL 288.187492 138.191461 \nL 288.567731 138.314427 \nL 288.75785 137.971727 \nL 288.947969 138.029687 \nL 289.518327 139.387834 \nL 289.708446 139.163226 \nL 290.088685 138.495793 \nL 290.849162 137.690134 \nL 291.039281 138.074186 \nL 291.609639 138.354025 \nL 291.799758 138.327237 \nL 292.179996 138.50444 \nL 292.370116 138.269685 \nL 292.560235 137.831939 \nL 293.130593 138.613002 \nL 293.320712 138.539649 \nL 293.510831 138.95402 \nL 293.89107 137.82663 \nL 294.271308 138.95017 \nL 294.461427 138.687551 \nL 294.841666 137.468438 \nL 295.412024 137.825634 \nL 295.602143 138.31734 \nL 295.792262 138.245792 \nL 295.982381 138.392091 \nL 296.36262 138.191166 \nL 296.552739 138.211343 \nL 296.742858 138.396595 \nL 296.932978 138.269127 \nL 297.693455 136.207195 \nL 297.883574 137.00398 \nL 298.453932 135.618273 \nL 298.644051 135.007577 \nL 299.024289 136.744577 \nL 299.214409 136.450176 \nL 299.784766 137.385597 \nL 299.974886 138.066241 \nL 300.165005 137.983118 \nL 300.545243 138.483175 \nL 300.735363 138.311744 \nL 301.685959 138.14942 \nL 301.876078 137.834875 \nL 302.256317 137.948294 \nL 302.446436 137.535771 \nL 302.636555 137.53166 \nL 302.826674 137.409303 \nL 303.016794 137.514614 \nL 303.206913 137.173073 \nL 303.397032 137.268955 \nL 303.587151 137.13392 \nL 303.96739 137.149257 \nL 304.157509 137.451518 \nL 304.537748 137.247572 \nL 304.727867 136.870979 \nL 304.917986 136.165928 \nL 305.298225 136.53998 \nL 305.678463 136.219641 \nL 305.868582 135.875837 \nL 306.058702 135.990088 \nL 306.43894 136.561935 \nL 306.629059 135.90747 \nL 306.819179 136.130103 \nL 307.009298 136.061908 \nL 307.389536 135.423368 \nL 307.579656 135.728078 \nL 307.769775 135.690105 \nL 308.340133 134.437636 \nL 308.720371 135.407938 \nL 308.91049 135.276141 \nL 309.670967 132.457806 \nL 309.861087 132.774281 \nL 310.051206 133.493408 \nL 310.241325 133.292668 \nL 310.431444 133.930504 \nL 310.621564 133.904464 \nL 311.001802 133.508411 \nL 311.382041 132.837115 \nL 311.57216 132.399096 \nL 311.762279 132.641068 \nL 311.952398 133.352216 \nL 312.142518 133.39391 \nL 312.332637 133.79863 \nL 312.522756 133.715887 \nL 312.902995 132.974968 \nL 313.093114 133.33724 \nL 313.283233 133.213553 \nL 313.473352 134.100242 \nL 313.853591 134.398499 \nL 314.04371 134.504221 \nL 314.233829 134.353107 \nL 314.614068 133.483603 \nL 314.804187 133.68615 \nL 314.994306 133.316332 \nL 315.374545 133.62782 \nL 315.564664 133.545565 \nL 315.754783 132.880629 \nL 315.944903 132.993296 \nL 316.135022 133.406776 \nL 316.325141 133.510038 \nL 316.51526 133.326421 \nL 316.70538 133.385229 \nL 316.895499 132.895717 \nL 317.085618 133.052625 \nL 317.275737 133.021421 \nL 317.465857 132.743758 \nL 317.655976 132.140123 \nL 317.846095 131.979893 \nL 318.036214 131.520979 \nL 318.416453 132.410946 \nL 318.606572 132.644223 \nL 319.367049 132.156856 \nL 319.747288 132.221284 \nL 320.127526 131.393268 \nL 320.317645 131.514487 \nL 320.697884 131.281972 \nL 320.888003 130.963931 \nL 321.078122 131.018791 \nL 321.458361 130.528386 \nL 322.028719 129.703317 \nL 322.218838 128.923612 \nL 322.408957 129.493635 \nL 322.789196 128.954768 \nL 323.169434 129.849252 \nL 323.359553 129.671236 \nL 323.549673 129.864675 \nL 323.739792 129.843311 \nL 324.500269 130.526955 \nL 324.690388 130.117973 \nL 324.880507 130.038433 \nL 325.070627 129.835445 \nL 325.260746 130.111551 \nL 325.450865 129.596352 \nL 325.640984 129.75238 \nL 325.831104 129.731132 \nL 326.211342 130.598656 \nL 326.591581 130.362199 \nL 326.7817 130.44476 \nL 327.161938 129.945168 \nL 327.352058 130.388925 \nL 327.732296 129.891876 \nL 327.922415 130.267942 \nL 328.112535 130.380116 \nL 328.492773 130.804778 \nL 328.682892 130.598268 \nL 329.063131 130.023043 \nL 329.25325 129.852284 \nL 329.443369 130.092954 \nL 329.633489 129.858544 \nL 329.823608 130.11912 \nL 330.013727 130.612275 \nL 330.393966 130.352377 \nL 330.584085 129.664979 \nL 330.774204 129.92783 \nL 331.344562 130.073593 \nL 331.534681 130.338071 \nL 331.91492 129.611101 \nL 332.105039 129.860986 \nL 332.295158 129.881309 \nL 332.485277 129.619167 \nL 332.675397 129.804602 \nL 333.055635 129.610445 \nL 333.245754 129.203691 \nL 333.816112 129.160681 \nL 334.196351 129.337904 \nL 334.38647 129.001041 \nL 334.766708 129.089163 \nL 334.956828 128.619801 \nL 335.146947 128.515787 \nL 335.717305 128.746004 \nL 335.907424 128.978644 \nL 336.097543 129.008403 \nL 336.287662 128.89492 \nL 336.667901 129.468617 \nL 337.238259 130.306061 \nL 337.808616 130.526874 \nL 338.188855 130.369239 \nL 338.759213 129.364171 \nL 338.949332 129.15069 \nL 339.51969 129.643565 \nL 339.709809 129.870741 \nL 340.090047 129.359742 \nL 340.470286 129.475123 \nL 340.660405 129.092388 \nL 340.850524 129.45708 \nL 341.040644 129.473525 \nL 341.230763 129.625694 \nL 341.611001 129.308379 \nL 341.99124 129.619866 \nL 342.181359 129.771153 \nL 343.131955 128.774201 \nL 343.322075 128.913278 \nL 343.512194 128.838169 \nL 343.702313 128.908197 \nL 343.892432 129.224045 \nL 344.082552 129.121757 \nL 344.272671 129.330395 \nL 344.46279 129.246994 \nL 344.843029 128.717791 \nL 345.033148 128.711133 \nL 345.413386 128.913908 \nL 345.603506 128.925719 \nL 345.793625 128.717706 \nL 345.983744 128.878789 \nL 346.363983 128.209435 \nL 346.554102 128.354837 \nL 346.744221 128.311512 \nL 347.12446 127.921523 \nL 347.314579 127.67615 \nL 347.694817 128.427189 \nL 348.075056 128.552403 \nL 348.265175 128.408902 \nL 348.645414 128.626719 \nL 349.025652 128.264656 \nL 349.215771 128.611673 \nL 349.405891 128.642311 \nL 349.59601 128.932994 \nL 349.786129 129.009906 \nL 349.976248 128.948382 \nL 350.166368 129.317162 \nL 350.926845 129.483087 \nL 351.116964 128.993381 \nL 351.307083 128.956555 \nL 351.497202 129.129283 \nL 351.687322 129.069699 \nL 352.06756 129.426825 \nL 352.447799 129.14264 \nL 352.637918 129.335187 \nL 353.018156 129.18361 \nL 353.208276 129.269497 \nL 353.398395 129.627366 \nL 353.778633 129.209291 \nL 354.158872 129.76044 \nL 354.53911 129.420277 \nL 354.72923 129.3303 \nL 354.919349 129.409824 \nL 355.109468 129.621741 \nL 355.299587 129.630518 \nL 355.869945 128.871263 \nL 356.250184 128.761224 \nL 356.630422 128.416619 \nL 356.820541 128.250013 \nL 357.20078 128.551171 \nL 357.771138 128.342285 \nL 357.961257 127.921499 \nL 358.341495 128.0236 \nL 358.531615 128.065858 \nL 358.911853 127.619717 \nL 359.292092 126.887605 \nL 359.482211 126.964779 \nL 359.862449 127.556109 \nL 360.052569 127.773432 \nL 360.432807 127.887376 \nL 360.622926 128.020993 \nL 361.003165 127.91342 \nL 361.193284 127.852496 \nL 361.573523 127.951753 \nL 361.763642 127.932821 \nL 361.953761 128.10266 \nL 362.334 127.879912 \nL 363.094477 127.896688 \nL 363.284596 127.783888 \nL 363.474715 127.520858 \nL 364.045073 127.866109 \nL 364.235192 127.766972 \nL 364.425311 127.889493 \nL 364.80555 127.615432 \nL 364.995669 127.599935 \nL 365.375908 127.41511 \nL 365.566027 127.537292 \nL 365.756146 127.350737 \nL 365.946265 127.33408 \nL 366.136385 127.573197 \nL 366.326504 127.534641 \nL 366.706742 127.176314 \nL 367.086981 127.403604 \nL 367.467219 127.364331 \nL 367.847458 127.008141 \nL 368.037577 127.023573 \nL 368.988173 126.566904 \nL 369.368412 126.748978 \nL 369.558531 126.766038 \nL 369.74865 126.652542 \nL 370.128889 126.126144 \nL 370.509127 126.188366 \nL 370.889366 126.062361 \nL 371.079485 126.222652 \nL 371.459724 125.857908 \nL 371.649843 126.044093 \nL 372.030081 126.034797 \nL 372.220201 126.248755 \nL 372.41032 126.225812 \nL 372.600439 126.50193 \nL 372.790558 126.572997 \nL 372.980678 126.362576 \nL 373.170797 125.921784 \nL 373.360916 126.153218 \nL 373.551035 126.080825 \nL 373.931274 126.463343 \nL 374.121393 126.482444 \nL 374.501632 126.127898 \nL 374.691751 126.11635 \nL 375.642347 125.303996 \nL 375.832466 125.127805 \nL 376.022586 125.132886 \nL 376.402824 124.888062 \nL 376.973182 124.788987 \nL 377.54354 124.399986 \nL 377.733659 124.471836 \nL 377.923778 124.237682 \nL 378.304017 124.491511 \nL 378.684255 124.299304 \nL 379.064494 124.369826 \nL 379.634851 124.179644 \nL 380.01509 123.575725 \nL 380.395328 123.375564 \nL 381.155805 123.288528 \nL 381.345925 123.35952 \nL 381.536044 123.298486 \nL 381.726163 123.376373 \nL 382.866879 122.618073 \nL 383.056998 122.62399 \nL 383.247117 122.400003 \nL 383.817475 122.266013 \nL 384.197713 121.928056 \nL 384.95819 121.923781 \nL 385.14831 121.983475 \nL 385.338429 121.776788 \nL 385.528548 121.822358 \nL 385.908787 121.635015 \nL 386.479144 121.691083 \nL 386.859383 121.815265 \nL 387.239621 121.938844 \nL 388.000098 121.750808 \nL 388.380337 121.643404 \nL 389.330933 121.689435 \nL 389.901291 121.557237 \nL 390.661768 121.341234 \nL 391.042006 121.056189 \nL 391.422245 120.943022 \nL 392.182722 120.342559 \nL 392.75308 119.828349 \nL 393.133318 119.717177 \nL 393.323438 119.719219 \nL 393.323438 119.719219 \n\" style=\"fill:none;stroke:#1f77b4;stroke-linecap:square;stroke-width:1.5;\"/>\n   </g>\n   <g id=\"patch_3\">\n    <path d=\"M 58.523438 228.439219 \nL 58.523438 10.999219 \n\" style=\"fill:none;stroke:#000000;stroke-linecap:square;stroke-linejoin:miter;stroke-width:0.8;\"/>\n   </g>\n   <g id=\"patch_4\">\n    <path d=\"M 393.323438 228.439219 \nL 393.323438 10.999219 \n\" style=\"fill:none;stroke:#000000;stroke-linecap:square;stroke-linejoin:miter;stroke-width:0.8;\"/>\n   </g>\n   <g id=\"patch_5\">\n    <path d=\"M 58.523438 228.439219 \nL 393.323438 228.439219 \n\" style=\"fill:none;stroke:#000000;stroke-linecap:square;stroke-linejoin:miter;stroke-width:0.8;\"/>\n   </g>\n   <g id=\"patch_6\">\n    <path d=\"M 58.523438 10.999219 \nL 393.323438 10.999219 \n\" style=\"fill:none;stroke:#000000;stroke-linecap:square;stroke-linejoin:miter;stroke-width:0.8;\"/>\n   </g>\n  </g>\n </g>\n <defs>\n  <clipPath id=\"p996fec41a1\">\n   <rect height=\"217.44\" width=\"334.8\" x=\"58.523438\" y=\"10.999219\"/>\n  </clipPath>\n </defs>\n</svg>\n",
      "image/png": "[encoded data removed]"
     },
     "metadata": {
      "needs_background": "light"
     }
    }
   ],
   "source": [
    "from pandas.plotting import autocorrelation_plot\n",
    "\n",
    "autocorrelation_plot(stocks['volume'])"
   ]
  },
  {
   "source": [
    "**Autocorrelation plot:**\n",
    "\n",
    "* ermöglicht es jede mögliche Periodizität zur gleichen Zeit zu überprüfen\n",
    "* auf der X Achse ist das Lag zu sehen und auf der y-Achse die Autokorrelation\n",
    "* je weiter weg von der 0 der Graph ist, desto größer ist der Einfluss"
   ],
   "cell_type": "markdown",
   "metadata": {}
  }
 ]
}