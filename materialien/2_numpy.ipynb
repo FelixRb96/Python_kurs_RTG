{
 "cells": [
  {
   "cell_type": "markdown",
   "metadata": {},
   "source": [
    "# Numpy, eine Library um effektiv mit Vektoren und Matrizen zu rechnen\n",
    "\n",
    "Warum sollte man eine externe bibliothek verwenden, wenn es bereits Listen etc. in Python gibt ?\n",
    "\n",
    "numpy hat gegenüber den standard Listen folgende Vorteile:\n",
    "\n",
    "* Der Datentyp mit dem in numpy typischerweise gerechnet wird, ist numpy.array. Dieser Datentyp hat viel mit Listen gemeinsam, erlaubt allerdings nur Zahlen als Einträge, was den Code erstens robuster gegenüber fehlern macht und zweitens den Code wesentlich beschleunigt.\n",
    "* Es gibt viele weitere nützliche Funktionen die es für Listen nicht gibt. So können z.B. Skalarprodukte von Vektoren oder Matrixmultiplikationen einfach per Funktion durchgeführt werden.\n",
    "* Es besteht die Möglichkeit bestimmte Sequenzen einfach per Funktion zu generieren."
   ]
  },
  {
   "cell_type": "code",
   "execution_count": 1,
   "metadata": {},
   "outputs": [],
   "source": [
    "import numpy as np"
   ]
  },
  {
   "cell_type": "code",
   "execution_count": 7,
   "metadata": {},
   "outputs": [],
   "source": [
    "# Es gibt mehrere Möglichkeiten ein numpy array zu erstellen. \n",
    "\n",
    "# Aus einer Liste\n",
    "list1 = list(range(10))\n",
    "a1 = np.array(list1)\n",
    "\n",
    "# direkt aus einer range\n",
    "a2 = np.array(range(10))\n",
    "\n",
    "# mit der numpy variante von range\n",
    "a3 = np.arange(10)"
   ]
  },
  {
   "cell_type": "markdown",
   "metadata": {},
   "source": [
    "### Shape von arrays\n",
    "\n",
    "Numpy arrays haben ein Attribut *Shape*. Dieses Attribut gibt uns die Form/oder die Dimension eines Arrays an. Man kann es aufrufen über:"
   ]
  },
  {
   "cell_type": "code",
   "execution_count": 12,
   "metadata": {},
   "outputs": [
    {
     "data": {
      "text/plain": [
       "(10,)"
      ]
     },
     "execution_count": 12,
     "metadata": {},
     "output_type": "execute_result"
    }
   ],
   "source": [
    "a1.shape"
   ]
  },
  {
   "cell_type": "markdown",
   "metadata": {},
   "source": [
    "Was zu verstehen ist als `a1` ist ein 10-dimensionaler Vektor, dabei wird erst einmal nicht zwischen Zeilen und Spaltenvektoren unterschieden. Wir können auch mehr mehrdimensionale Arrays erstellen wie folgt:"
   ]
  },
  {
   "cell_type": "code",
   "execution_count": 14,
   "metadata": {},
   "outputs": [
    {
     "data": {
      "text/plain": [
       "array([[0, 1, 2],\n",
       "       [3, 4, 5],\n",
       "       [6, 7, 8]])"
      ]
     },
     "execution_count": 14,
     "metadata": {},
     "output_type": "execute_result"
    }
   ],
   "source": [
    "a4 = np.arange(9)\n",
    "a4 = a4.reshape((3,3))"
   ]
  },
  {
   "cell_type": "markdown",
   "metadata": {},
   "source": [
    "Wobei 2 dimensionale arrays wie Matrizen angesehen und verwendet werden **können**. Wir sind aber nicht auf 2-dimensionale arrays beschränkt"
   ]
  },
  {
   "cell_type": "code",
   "execution_count": 18,
   "metadata": {},
   "outputs": [],
   "source": [
    "a5 = np.arange(0,1, 1/16)\n",
    "\n",
    "# wandle a5 in ein 2 x 2 x 4 array um\n",
    "a5.reshape((2,2,4))"
   ]
  },
  {
   "cell_type": "code",
   "execution_count": 21,
   "metadata": {},
   "outputs": [
    {
     "data": {
      "text/plain": [
       "array([[[0.    , 0.0625, 0.125 , 0.1875],\n",
       "        [0.25  , 0.3125, 0.375 , 0.4375]],\n",
       "\n",
       "       [[0.5   , 0.5625, 0.625 , 0.6875],\n",
       "        [0.75  , 0.8125, 0.875 , 0.9375]]])"
      ]
     },
     "execution_count": 21,
     "metadata": {},
     "output_type": "execute_result"
    }
   ],
   "source": [
    "a5 = a5.reshape((2,2,4))"
   ]
  },
  {
   "cell_type": "code",
   "execution_count": 24,
   "metadata": {},
   "outputs": [
    {
     "name": "stdout",
     "output_type": "stream",
     "text": [
      "Help on method_descriptor:\n",
      "\n",
      "reshape(...)\n",
      "    a.reshape(shape, order='C')\n",
      "    \n",
      "    Returns an array containing the same data with a new shape.\n",
      "    \n",
      "    Refer to `numpy.reshape` for full documentation.\n",
      "    \n",
      "    See Also\n",
      "    --------\n",
      "    numpy.reshape : equivalent function\n",
      "    \n",
      "    Notes\n",
      "    -----\n",
      "    Unlike the free function `numpy.reshape`, this method on `ndarray` allows\n",
      "    the elements of the shape parameter to be passed in as separate arguments.\n",
      "    For example, ``a.reshape(10, 11)`` is equivalent to\n",
      "    ``a.reshape((10, 11))``.\n",
      "\n"
     ]
    }
   ],
   "source": [
    "help(np.ndarray.reshape)"
   ]
  },
  {
   "cell_type": "markdown",
   "metadata": {},
   "source": [
    "### Erstellen von gängigen Arrays\n",
    "\n",
    "Was oft benötigt wird sind Vektoren der form:\n",
    "\n",
    "* eine Folge von Zahlen mit gleichem Abstand von a bis b, wobei a,b relle Zahlen sind\n",
    "* ein Vektor gefüllt mit einer Konstanten oder null\n",
    "* ein Vektor fester größe der sowieso anderweitig gefüllt wird"
   ]
  },
  {
   "cell_type": "code",
   "execution_count": 27,
   "metadata": {},
   "outputs": [
    {
     "data": {
      "text/plain": [
       "array([1.  , 1.05, 1.1 , 1.15, 1.2 , 1.25, 1.3 , 1.35, 1.4 , 1.45, 1.5 ,\n",
       "       1.55, 1.6 , 1.65, 1.7 , 1.75, 1.8 , 1.85, 1.9 , 1.95])"
      ]
     },
     "execution_count": 27,
     "metadata": {},
     "output_type": "execute_result"
    }
   ],
   "source": [
    "# Für den ersten Punkt sei als beispiel a = 1, b = 2, delta = 0.05\n",
    "a6 = np.arange(1,2, 0.05)\n",
    "\n",
    "# beachte dabei, dass auch hier wieder die obere Grenze nicht mit einbegriffen ist\n",
    "a6 "
   ]
  },
  {
   "cell_type": "code",
   "execution_count": 29,
   "metadata": {
    "scrolled": true
   },
   "outputs": [
    {
     "data": {
      "text/plain": [
       "array([1.        , 1.05263158, 1.10526316, 1.15789474, 1.21052632,\n",
       "       1.26315789, 1.31578947, 1.36842105, 1.42105263, 1.47368421,\n",
       "       1.52631579, 1.57894737, 1.63157895, 1.68421053, 1.73684211,\n",
       "       1.78947368, 1.84210526, 1.89473684, 1.94736842, 2.        ])"
      ]
     },
     "execution_count": 29,
     "metadata": {},
     "output_type": "execute_result"
    }
   ],
   "source": [
    "# Alternative: Erstelle n Werte zwischen zwei Werten\n",
    "a7 = np.linspace(1,2, 20)\n",
    "\n",
    "# Beachte: hier ist die obere Grenze mit einbegriffen\n",
    "a7"
   ]
  },
  {
   "cell_type": "code",
   "execution_count": 30,
   "metadata": {},
   "outputs": [
    {
     "data": {
      "text/plain": [
       "array([1., 1., 1., 1., 1., 1., 1., 1., 1., 1.])"
      ]
     },
     "execution_count": 30,
     "metadata": {},
     "output_type": "execute_result"
    }
   ],
   "source": [
    "# zum erstellen eines Vektors mit dem selben eintrag\n",
    "a8 = np.ones(10)\n",
    "a8 "
   ]
  },
  {
   "cell_type": "code",
   "execution_count": 37,
   "metadata": {},
   "outputs": [
    {
     "data": {
      "text/plain": [
       "array([-2.3, -2.3, -2.3, -2.3, -2.3, -2.3, -2.3, -2.3, -2.3, -2.3])"
      ]
     },
     "execution_count": 37,
     "metadata": {},
     "output_type": "execute_result"
    }
   ],
   "source": [
    "# Numpy arrays haben bereits eine Sinnvolle skalare multiplikation implementiert\n",
    "a9 = -2.3 * np.ones(10)\n",
    "a9"
   ]
  },
  {
   "cell_type": "markdown",
   "metadata": {},
   "source": [
    "Ein kurzer Vergleich mit Listen"
   ]
  },
  {
   "cell_type": "code",
   "execution_count": 39,
   "metadata": {
    "scrolled": true
   },
   "outputs": [
    {
     "data": {
      "text/plain": [
       "[0, 1, 2, 3, 4, 5, 6, 7, 8, 9]"
      ]
     },
     "execution_count": 39,
     "metadata": {},
     "output_type": "execute_result"
    }
   ],
   "source": [
    "l = [i for i in range(10)]\n",
    "l"
   ]
  },
  {
   "cell_type": "code",
   "execution_count": 41,
   "metadata": {},
   "outputs": [
    {
     "data": {
      "text/plain": [
       "[0, 1, 2, 3, 4, 5, 6, 7, 8, 9, 0, 1, 2, 3, 4, 5, 6, 7, 8, 9]"
      ]
     },
     "execution_count": 41,
     "metadata": {},
     "output_type": "execute_result"
    }
   ],
   "source": [
    "# Wichtig: Beim Arbeiten mit Listen ist normale Multiplikation NICHT skalare Multiplikation\n",
    "# 1.5 * l ist nicht definiert\n",
    "\n",
    "# Die Liste wird sich selbst angefügt bei multiplikation mit integers.\n",
    "2 * l"
   ]
  },
  {
   "cell_type": "markdown",
   "metadata": {},
   "source": [
    "erstellen von Standardmatrizen"
   ]
  },
  {
   "cell_type": "code",
   "execution_count": 43,
   "metadata": {},
   "outputs": [
    {
     "data": {
      "text/plain": [
       "array([[1., 0., 0., 0., 0.],\n",
       "       [0., 1., 0., 0., 0.],\n",
       "       [0., 0., 1., 0., 0.],\n",
       "       [0., 0., 0., 1., 0.],\n",
       "       [0., 0., 0., 0., 1.]])"
      ]
     },
     "execution_count": 43,
     "metadata": {},
     "output_type": "execute_result"
    }
   ],
   "source": [
    "# Einheitsmatrix\n",
    "m1 = np.eye(5)"
   ]
  },
  {
   "cell_type": "code",
   "execution_count": 46,
   "metadata": {},
   "outputs": [
    {
     "data": {
      "text/plain": [
       "array([[0., 0., 0., 0., 0.],\n",
       "       [0., 0., 0., 0., 0.],\n",
       "       [0., 0., 0., 0., 0.],\n",
       "       [0., 0., 0., 0., 0.],\n",
       "       [0., 0., 0., 0., 0.]])"
      ]
     },
     "execution_count": 46,
     "metadata": {},
     "output_type": "execute_result"
    }
   ],
   "source": [
    "m2 = np.zeros(shape = (5,5))"
   ]
  },
  {
   "cell_type": "code",
   "execution_count": 48,
   "metadata": {},
   "outputs": [
    {
     "data": {
      "text/plain": [
       "array([[1., 1., 1., 1., 1.],\n",
       "       [1., 1., 1., 1., 1.],\n",
       "       [1., 1., 1., 1., 1.],\n",
       "       [1., 1., 1., 1., 1.],\n",
       "       [1., 1., 1., 1., 1.]])"
      ]
     },
     "execution_count": 48,
     "metadata": {},
     "output_type": "execute_result"
    }
   ],
   "source": [
    "m3 = np.ones((5,5))"
   ]
  },
  {
   "cell_type": "markdown",
   "metadata": {},
   "source": [
    "### Erstellen von Zufallszahlen\n",
    "\n",
    "Numpy bietet viele verschiedene Möglichkeiten ein Array mit Zufallszahlen zu erzeugen. Es handelt sich dabei im Pseudozufallszahlen, die von einem Zufallszahlengenerator `np.random.default_rng`  erzeugt werden."
   ]
  },
  {
   "cell_type": "code",
   "execution_count": 58,
   "metadata": {},
   "outputs": [
    {
     "data": {
      "text/plain": [
       "array([0.4365452, 0.9183014])"
      ]
     },
     "execution_count": 58,
     "metadata": {},
     "output_type": "execute_result"
    }
   ],
   "source": [
    "# erstelle einen Zufallszahlengenerator. \n",
    "# Dieser Zufallszahlengenerator ist ein Objekt, mit dessen Methoden wir\n",
    "# Zufallszahlen mit der gewünschten Verteilung ziehen können. \n",
    "rng = np.random.default_rng(seed = 20210507)\n",
    "\n",
    "# ziehe zwei auf [0,1) gleichverteilte ZV'en\n",
    "rng.random(2)"
   ]
  },
  {
   "cell_type": "markdown",
   "metadata": {},
   "source": [
    "### Es finden sich fast alle gängigen Verteilungen"
   ]
  },
  {
   "cell_type": "code",
   "execution_count": 70,
   "metadata": {},
   "outputs": [
    {
     "data": {
      "text/plain": [
       "array([-1.75424634, -1.42471883, -1.15514401,  2.85629377, -2.13052755,\n",
       "        2.73754759,  1.59012972,  1.83111402,  6.46486169,  4.46145407,\n",
       "        6.51811051,  5.7892025 ,  2.68224204,  2.43331357,  0.00955122,\n",
       "        0.12419932,  4.67240449,  6.44753043,  4.35010728, -0.66584684])"
      ]
     },
     "execution_count": 70,
     "metadata": {},
     "output_type": "execute_result"
    }
   ],
   "source": [
    "arr = rng.normal(loc=2, scale=3, size=(20,))\n",
    "arr"
   ]
  },
  {
   "cell_type": "code",
   "execution_count": 68,
   "metadata": {},
   "outputs": [
    {
     "data": {
      "text/plain": [
       "3.7534551806135097"
      ]
     },
     "execution_count": 68,
     "metadata": {},
     "output_type": "execute_result"
    }
   ],
   "source": [
    "# Exponentialverteilung mit lambda = 3\n",
    "rng.exponential(3)"
   ]
  },
  {
   "cell_type": "code",
   "execution_count": 69,
   "metadata": {},
   "outputs": [
    {
     "data": {
      "text/plain": [
       "71"
      ]
     },
     "execution_count": 69,
     "metadata": {},
     "output_type": "execute_result"
    }
   ],
   "source": [
    "# diskrete gleichverteilung auf ganzen zahlen von 1 bis 99\n",
    "rng.integers(1,100)"
   ]
  },
  {
   "cell_type": "markdown",
   "metadata": {},
   "source": [
    "### Einfache Operationen mit Arrays\n",
    "\n",
    "Ausgabe per Methode von `numpy.array`"
   ]
  },
  {
   "cell_type": "code",
   "execution_count": 71,
   "metadata": {},
   "outputs": [
    {
     "data": {
      "text/plain": [
       "6.518110512408294"
      ]
     },
     "execution_count": 71,
     "metadata": {},
     "output_type": "execute_result"
    }
   ],
   "source": [
    "arr.max()"
   ]
  },
  {
   "cell_type": "code",
   "execution_count": 74,
   "metadata": {},
   "outputs": [
    {
     "data": {
      "text/plain": [
       "10"
      ]
     },
     "execution_count": 74,
     "metadata": {},
     "output_type": "execute_result"
    }
   ],
   "source": [
    "arr.argmax()"
   ]
  },
  {
   "cell_type": "code",
   "execution_count": 72,
   "metadata": {},
   "outputs": [
    {
     "data": {
      "text/plain": [
       "-2.130527545123525"
      ]
     },
     "execution_count": 72,
     "metadata": {},
     "output_type": "execute_result"
    }
   ],
   "source": [
    "arr.min()"
   ]
  },
  {
   "cell_type": "code",
   "execution_count": 73,
   "metadata": {},
   "outputs": [
    {
     "data": {
      "text/plain": [
       "4"
      ]
     },
     "execution_count": 73,
     "metadata": {},
     "output_type": "execute_result"
    }
   ],
   "source": [
    "arr.argmin()"
   ]
  },
  {
   "cell_type": "code",
   "execution_count": 75,
   "metadata": {},
   "outputs": [
    {
     "data": {
      "text/plain": [
       "array([-3.50849267, -2.84943767, -2.31028801,  5.71258754, -4.26105509,\n",
       "        5.47509519,  3.18025945,  3.66222803, 12.92972338,  8.92290814,\n",
       "       13.03622102, 11.57840501,  5.36448408,  4.86662714,  0.01910244,\n",
       "        0.24839864,  9.34480899, 12.89506086,  8.70021455, -1.33169368])"
      ]
     },
     "execution_count": 75,
     "metadata": {},
     "output_type": "execute_result"
    }
   ],
   "source": [
    "# Arrays können addiert werden \n",
    "arr + arr"
   ]
  },
  {
   "cell_type": "code",
   "execution_count": 76,
   "metadata": {},
   "outputs": [
    {
     "data": {
      "text/plain": [
       "array([ 0.24575366,  0.57528117,  0.84485599,  4.85629377, -0.13052755,\n",
       "        4.73754759,  3.59012972,  3.83111402,  8.46486169,  6.46145407,\n",
       "        8.51811051,  7.7892025 ,  4.68224204,  4.43331357,  2.00955122,\n",
       "        2.12419932,  6.67240449,  8.44753043,  6.35010728,  1.33415316])"
      ]
     },
     "execution_count": 76,
     "metadata": {},
     "output_type": "execute_result"
    }
   ],
   "source": [
    "# addiere ein skalar auf alle Einträge\n",
    "arr + 2"
   ]
  },
  {
   "cell_type": "code",
   "execution_count": 77,
   "metadata": {},
   "outputs": [
    {
     "data": {
      "text/plain": [
       "array([-0.        , -0.0749852 , -0.12159411,  0.45099375, -0.44853211,\n",
       "        0.72040726,  0.50214623,  0.67462095,  2.72204703,  2.11332035,\n",
       "        3.43058448,  3.35164355,  1.6940476 ,  1.66489876,  0.00703774,\n",
       "        0.09805209,  3.93465642,  5.76884302,  4.12115426, -0.66584684])"
      ]
     },
     "execution_count": 77,
     "metadata": {},
     "output_type": "execute_result"
    }
   ],
   "source": [
    "# komponentenweise Multiplikation\n",
    "arr * np.linspace(0,1,20)"
   ]
  },
  {
   "cell_type": "code",
   "execution_count": 78,
   "metadata": {
    "scrolled": true
   },
   "outputs": [
    {
     "data": {
      "text/plain": [
       "array([-17.54246336, -14.24718834, -11.55144007,  28.56293768,\n",
       "       -21.30527545,  27.37547595,  15.90129723,  18.31114016,\n",
       "        64.64861691,  44.61454069,  65.18110512,  57.89202503,\n",
       "        26.82242041,  24.33313572,   0.09551218,   1.24199318,\n",
       "        46.72404493,  64.47530432,  43.50107277,  -6.65846839])"
      ]
     },
     "execution_count": 78,
     "metadata": {},
     "output_type": "execute_result"
    }
   ],
   "source": [
    "# skalare Multiplikation\n",
    "arr * 10"
   ]
  },
  {
   "cell_type": "markdown",
   "metadata": {},
   "source": [
    "### Gängige mathematische Funktionen\n",
    "\n",
    "Die folgenden Funktionen können ebenso für Skalare Werte verwendet werden. Eine ausführliche Liste findet sich im Internet oder mithilfe von `help(np)` wenn numpy importiert is als np. Vorsicht die Liste ist lang."
   ]
  },
  {
   "cell_type": "code",
   "execution_count": 79,
   "metadata": {},
   "outputs": [
    {
     "data": {
      "text/plain": [
       "array([1.73037605e-01, 2.40576096e-01, 3.15012170e-01, 1.73969303e+01,\n",
       "       1.18774618e-01, 1.54490513e+01, 4.90438510e+00, 6.24083518e+00,\n",
       "       6.42175539e+02, 8.66133594e+01, 6.77297430e+02, 3.26752336e+02,\n",
       "       1.46178304e+01, 1.13965830e+01, 1.00959698e+00, 1.13224152e+00,\n",
       "       1.06954605e+02, 6.31141719e+02, 7.74867750e+01, 5.13838205e-01])"
      ]
     },
     "execution_count": 79,
     "metadata": {},
     "output_type": "execute_result"
    }
   ],
   "source": [
    "np.exp(arr)"
   ]
  },
  {
   "cell_type": "code",
   "execution_count": 80,
   "metadata": {
    "scrolled": true
   },
   "outputs": [
    {
     "name": "stderr",
     "output_type": "stream",
     "text": [
      "<ipython-input-80-b58949107b3d>:1: RuntimeWarning: invalid value encountered in sqrt\n",
      "  np.sqrt(arr)\n"
     ]
    },
    {
     "data": {
      "text/plain": [
       "array([       nan,        nan,        nan, 1.69005733,        nan,\n",
       "       1.65455359, 1.26100346, 1.35318662, 2.54260923, 2.11221544,\n",
       "       2.55305905, 2.40607616, 1.63775518, 1.55990819, 0.09773034,\n",
       "       0.35241924, 2.16157454, 2.53919878, 2.08569108,        nan])"
      ]
     },
     "execution_count": 80,
     "metadata": {},
     "output_type": "execute_result"
    }
   ],
   "source": [
    "# Gibt für negative Werte ein nan zurück Vorsicht! \n",
    "np.sqrt(arr)"
   ]
  },
  {
   "cell_type": "code",
   "execution_count": 81,
   "metadata": {
    "scrolled": true
   },
   "outputs": [
    {
     "name": "stderr",
     "output_type": "stream",
     "text": [
      "<ipython-input-81-9ee5d7d8183c>:1: RuntimeWarning: invalid value encountered in arccosh\n",
      "  np.arccosh(arr)\n"
     ]
    },
    {
     "data": {
      "text/plain": [
       "array([       nan,        nan,        nan, 1.71051598,        nan,\n",
       "       1.66504538, 1.03902504, 1.21344466, 2.55349275, 2.17581853,\n",
       "       2.56179476, 2.44159747, 1.64308576, 1.53722192,        nan,\n",
       "              nan, 2.22316772, 2.55077551, 2.14986679,        nan])"
      ]
     },
     "execution_count": 81,
     "metadata": {},
     "output_type": "execute_result"
    }
   ],
   "source": [
    "# Es sind die meisten gängigen Trigonometrischen Funktionen enthalten\n",
    "# Auch hier vorsicht mit Werten kleiner 1!\n",
    "np.arccosh(arr)"
   ]
  },
  {
   "cell_type": "markdown",
   "metadata": {},
   "source": [
    "### Arbeiten mit Indizes und Teilarrays\n",
    "\n",
    "Oftmals ist man daran interessiert, bloß bestimmte Teile eines Arrays zu verwenden. Dazu muss man sich mit der Indizerung von Arrays befassen. Diese ist der Syntax von Listen und der Syntax von Matlab ähnlich."
   ]
  },
  {
   "cell_type": "code",
   "execution_count": 87,
   "metadata": {},
   "outputs": [
    {
     "data": {
      "text/plain": [
       "array([-1.42471883, -1.15514401])"
      ]
     },
     "execution_count": 87,
     "metadata": {},
     "output_type": "execute_result"
    }
   ],
   "source": [
    "# Man erhält hier das Teilarray mit dem zweiten und dritten Eintrag\n",
    "arr[1:3]"
   ]
  },
  {
   "cell_type": "code",
   "execution_count": 89,
   "metadata": {},
   "outputs": [
    {
     "data": {
      "text/plain": [
       "array([[1.83111402, 6.46486169],\n",
       "       [2.68224204, 2.43331357]])"
      ]
     },
     "execution_count": 89,
     "metadata": {},
     "output_type": "execute_result"
    }
   ],
   "source": [
    "# mehrdimensionale arrays verhaöten sich ähnlich\n",
    "arr2 = arr.reshape(4,5)\n",
    "arr2[1:3, 2:4]"
   ]
  },
  {
   "cell_type": "code",
   "execution_count": 95,
   "metadata": {},
   "outputs": [
    {
     "data": {
      "text/plain": [
       "array([-1.15514401,  2.85629377, -2.13052755,  2.73754759,  1.59012972,\n",
       "        1.83111402,  6.46486169,  4.46145407,  6.51811051,  5.7892025 ,\n",
       "        2.68224204,  2.43331357,  0.00955122,  0.12419932,  4.67240449,\n",
       "        6.44753043,  4.35010728, -0.66584684])"
      ]
     },
     "execution_count": 95,
     "metadata": {},
     "output_type": "execute_result"
    }
   ],
   "source": [
    "# gibt alle Einträge ab dem zweiten Index aus\n",
    "arr[2:]"
   ]
  },
  {
   "cell_type": "code",
   "execution_count": 94,
   "metadata": {},
   "outputs": [
    {
     "data": {
      "text/plain": [
       "array([-1.75424634, -1.42471883, -1.15514401,  2.85629377, -2.13052755,\n",
       "        2.73754759,  1.59012972,  1.83111402,  6.46486169,  4.46145407,\n",
       "        6.51811051,  5.7892025 ,  2.68224204,  2.43331357,  0.00955122,\n",
       "        0.12419932,  4.67240449])"
      ]
     },
     "execution_count": 94,
     "metadata": {},
     "output_type": "execute_result"
    }
   ],
   "source": [
    "# Um ein Array von hinten zu indizieren, können wir mit dem \"-\" arbeiten\n",
    "# gibt den letzten eintrag aus\n",
    "arr[-1]"
   ]
  },
  {
   "cell_type": "code",
   "execution_count": 96,
   "metadata": {
    "scrolled": true
   },
   "outputs": [
    {
     "data": {
      "text/plain": [
       "array([-1.75424634, -1.42471883, -1.15514401,  2.85629377, -2.13052755,\n",
       "        2.73754759,  1.59012972,  1.83111402,  6.46486169,  4.46145407,\n",
       "        6.51811051,  5.7892025 ,  2.68224204,  2.43331357,  0.00955122,\n",
       "        0.12419932,  4.67240449])"
      ]
     },
     "execution_count": 96,
     "metadata": {},
     "output_type": "execute_result"
    }
   ],
   "source": [
    "# gibt alle Einträge bis auf die letzen 3 Einträge aus\n",
    "arr[:-3]"
   ]
  },
  {
   "cell_type": "markdown",
   "metadata": {},
   "source": [
    "### Rechnen mit Vektoren, Skalarprodukten und Matrizen"
   ]
  },
  {
   "cell_type": "code",
   "execution_count": 139,
   "metadata": {},
   "outputs": [],
   "source": [
    "# Wir initialisieren uns drei matrizen um wesentliche EIgenschaften zum rechnen mit Matrizen zu verdeutlichen\n",
    "random_matrix1 = rng.normal(2,3, size=(5,4))\n",
    "random_matrix2 = rng.normal(2,3, size=(4,6))\n",
    "random_matrix3 = rng.normal(2,3, size=(5,5))\n",
    "\n",
    "# weiterhin erstellen wir zwei vektoren\n",
    "v1 = rng.exponential(3, size=(100,))\n",
    "v2 = rng.exponential(3, size=(100,))"
   ]
  },
  {
   "cell_type": "code",
   "execution_count": 147,
   "metadata": {
    "scrolled": true
   },
   "outputs": [
    {
     "data": {
      "text/plain": [
       "820.8553605002005"
      ]
     },
     "execution_count": 147,
     "metadata": {},
     "output_type": "execute_result"
    }
   ],
   "source": [
    "# Funktion für das Skalarprodukt\n",
    "np.dot(v1, v2)"
   ]
  },
  {
   "cell_type": "code",
   "execution_count": 149,
   "metadata": {
    "scrolled": true
   },
   "outputs": [
    {
     "data": {
      "text/plain": [
       "820.8553605002005"
      ]
     },
     "execution_count": 149,
     "metadata": {},
     "output_type": "execute_result"
    }
   ],
   "source": [
    "# solange die Dimensionen gleich ist ignoriert die Funktion, ob es sich um Zeilen oder Spaltenvektoren handelt\n",
    "np.dot(v1, v2.T)"
   ]
  },
  {
   "cell_type": "code",
   "execution_count": 148,
   "metadata": {},
   "outputs": [
    {
     "data": {
      "text/plain": [
       "820.8553605002005"
      ]
     },
     "execution_count": 148,
     "metadata": {},
     "output_type": "execute_result"
    }
   ],
   "source": [
    "# oder alternativ mit \"@\"\n",
    "v1 @ v2"
   ]
  },
  {
   "cell_type": "code",
   "execution_count": 153,
   "metadata": {},
   "outputs": [],
   "source": [
    "# Für Matrizen wird empfohlen die Funktion np.matmul zu verwenden\n",
    "# dabei ist logischerweise mehr abhänigkeit vom shape der Arrays gegeben, und \n",
    "# deshalb falls M1 * M2 der mathematisch sinnvolle ausdruck ist, \n",
    "# übergibt man M1 als erstes Argument und M2 als zweites\n",
    "m1_times_m2 = np.matmul(random_matrix1, random_matrix2)"
   ]
  },
  {
   "cell_type": "code",
   "execution_count": 131,
   "metadata": {
    "scrolled": false
   },
   "outputs": [
    {
     "data": {
      "text/plain": [
       "(5, 6)"
      ]
     },
     "execution_count": 131,
     "metadata": {},
     "output_type": "execute_result"
    }
   ],
   "source": [
    "m1_times_m2.shape"
   ]
  },
  {
   "cell_type": "code",
   "execution_count": 132,
   "metadata": {},
   "outputs": [
    {
     "data": {
      "text/plain": [
       "array([[ 39.47462575,  19.30822699, -31.03276798,  19.36099327,\n",
       "         46.91887119,  33.35115559],\n",
       "       [ 43.16596531,  52.35574149,  -0.25331212,  43.43674838,\n",
       "         42.80273204,   8.94096896],\n",
       "       [  2.81282383,  10.17419294,   5.14036107,   4.74066846,\n",
       "          1.50633579, -13.77492845],\n",
       "       [ 50.06616884,  40.63287029, -15.05431109,  34.42453566,\n",
       "         43.77823115,  46.60933671],\n",
       "       [ 33.73802907,  69.79657871,  22.49769576,  42.41921927,\n",
       "         27.2746081 , -52.13305122]])"
      ]
     },
     "execution_count": 132,
     "metadata": {},
     "output_type": "execute_result"
    }
   ],
   "source": [
    "m1_times_m2"
   ]
  },
  {
   "cell_type": "code",
   "execution_count": 130,
   "metadata": {},
   "outputs": [
    {
     "data": {
      "text/plain": [
       "array([[ 39.47462575,  19.30822699, -31.03276798,  19.36099327,\n",
       "         46.91887119,  33.35115559],\n",
       "       [ 43.16596531,  52.35574149,  -0.25331212,  43.43674838,\n",
       "         42.80273204,   8.94096896],\n",
       "       [  2.81282383,  10.17419294,   5.14036107,   4.74066846,\n",
       "          1.50633579, -13.77492845],\n",
       "       [ 50.06616884,  40.63287029, -15.05431109,  34.42453566,\n",
       "         43.77823115,  46.60933671],\n",
       "       [ 33.73802907,  69.79657871,  22.49769576,  42.41921927,\n",
       "         27.2746081 , -52.13305122]])"
      ]
     },
     "execution_count": 130,
     "metadata": {},
     "output_type": "execute_result"
    }
   ],
   "source": [
    "# alternativ ist \"@\" der Operator für Matrixmultiplikation\n",
    "random_matrix1 @ random_matrix2"
   ]
  },
  {
   "cell_type": "code",
   "execution_count": 127,
   "metadata": {},
   "outputs": [
    {
     "data": {
      "text/plain": [
       "array([[ 6.70711011,  2.29930493, -1.24303898,  6.1555533 , -4.09461198],\n",
       "       [ 8.53469422,  5.36709557,  0.16441214,  5.22904782,  3.11483769],\n",
       "       [-2.00588028,  5.17621582,  0.59240375,  3.49525772,  5.44363837],\n",
       "       [ 2.77538392,  1.63439622,  0.87538655,  1.31737874,  4.33048016]])"
      ]
     },
     "execution_count": 127,
     "metadata": {},
     "output_type": "execute_result"
    }
   ],
   "source": [
    "# oftmals ist man auch an transponierten Matrizen interessiert\n",
    "random_matrix1.T"
   ]
  },
  {
   "cell_type": "code",
   "execution_count": 128,
   "metadata": {},
   "outputs": [
    {
     "data": {
      "text/plain": [
       "array([[ 6.70711011,  8.53469422, -2.00588028,  2.77538392],\n",
       "       [ 2.29930493,  5.36709557,  5.17621582,  1.63439622],\n",
       "       [-1.24303898,  0.16441214,  0.59240375,  0.87538655],\n",
       "       [ 6.1555533 ,  5.22904782,  3.49525772,  1.31737874],\n",
       "       [-4.09461198,  3.11483769,  5.44363837,  4.33048016]])"
      ]
     },
     "execution_count": 128,
     "metadata": {},
     "output_type": "execute_result"
    }
   ],
   "source": [
    "# vergleichen mit dem output von oben verdeutlicht es ist tatsächlich die Transponierte\n",
    "random_matrix1"
   ]
  },
  {
   "cell_type": "code",
   "execution_count": 129,
   "metadata": {
    "scrolled": true
   },
   "outputs": [
    {
     "data": {
      "text/plain": [
       "array([[ 6.70711011,  2.29930493, -1.24303898,  6.1555533 , -4.09461198],\n",
       "       [ 8.53469422,  5.36709557,  0.16441214,  5.22904782,  3.11483769],\n",
       "       [-2.00588028,  5.17621582,  0.59240375,  3.49525772,  5.44363837],\n",
       "       [ 2.77538392,  1.63439622,  0.87538655,  1.31737874,  4.33048016]])"
      ]
     },
     "execution_count": 129,
     "metadata": {},
     "output_type": "execute_result"
    }
   ],
   "source": [
    "# alternativ auch per  funktion aus numpy möglich\n",
    "np.transpose(random_matrix1)"
   ]
  },
  {
   "cell_type": "markdown",
   "metadata": {},
   "source": [
    "### Weitere Operationen mit Numpy und Matrizen\n",
    "\n",
    "Oftmals benötigt man die Lösung eines LGS oder Zerlegungen z.B. für symmetrische Matrizen die Eigenwertszerlegung oder die Choleskyzerlegung, diese  finden sich unter `np.linalg` als ein Submodul "
   ]
  },
  {
   "cell_type": "code",
   "execution_count": 155,
   "metadata": {},
   "outputs": [],
   "source": [
    "M1 = rng.normal(0, 3, size=(10,10))\n",
    "b1 = rng.gamma(1, 2, size=(10,))"
   ]
  },
  {
   "cell_type": "code",
   "execution_count": 158,
   "metadata": {
    "scrolled": true
   },
   "outputs": [],
   "source": [
    "# Lösen eines LGS\n",
    "x = np.linalg.solve(M1, b1)"
   ]
  },
  {
   "cell_type": "code",
   "execution_count": 160,
   "metadata": {},
   "outputs": [
    {
     "data": {
      "text/plain": [
       "array([0.19817717, 0.00639403, 0.64843064, 4.81498864, 0.25718154,\n",
       "       1.04115021, 2.017041  , 0.04023008, 0.83502396, 0.29666119])"
      ]
     },
     "execution_count": 160,
     "metadata": {},
     "output_type": "execute_result"
    }
   ],
   "source": [
    "b1"
   ]
  },
  {
   "cell_type": "code",
   "execution_count": 161,
   "metadata": {},
   "outputs": [
    {
     "data": {
      "text/plain": [
       "array([0.19817717, 0.00639403, 0.64843064, 4.81498864, 0.25718154,\n",
       "       1.04115021, 2.017041  , 0.04023008, 0.83502396, 0.29666119])"
      ]
     },
     "execution_count": 161,
     "metadata": {},
     "output_type": "execute_result"
    }
   ],
   "source": [
    "# probe ob x tatsächlich eine Lösung ist\n",
    "M1 @ x"
   ]
  },
  {
   "cell_type": "code",
   "execution_count": 163,
   "metadata": {},
   "outputs": [],
   "source": [
    "M2 = M1.T @ M1"
   ]
  },
  {
   "cell_type": "code",
   "execution_count": 170,
   "metadata": {},
   "outputs": [],
   "source": [
    "# Eigenwertzerlegung, gibt ein Tupel mit\n",
    "# Man beachte: Für große Matizen mit weiteren Eigenschaften gibt es \n",
    "# tuningparameter um z.B. Hermitesche MAtizen schneller zu faktorisieren\n",
    "A1, eigenvals, A1T = np.linalg.svd(M2)"
   ]
  },
  {
   "cell_type": "markdown",
   "metadata": {},
   "source": [
    "Alternativ lassen sich auch Cholesky und QR zerlegung einfach berechnen durch den entsprechenden gleichnamigen Befehl in `np.linalg`"
   ]
  },
  {
   "cell_type": "code",
   "execution_count": 172,
   "metadata": {
    "scrolled": true
   },
   "outputs": [
    {
     "data": {
      "text/plain": [
       "array([[133.33945427, -43.69398531, -17.2944175 , -74.74374708,\n",
       "        -16.87389257, -50.10262613, -12.31925995, -28.7309135 ,\n",
       "        -10.22358235, -65.86448997],\n",
       "       [-43.69398531, 140.79493423,   0.5911195 ,  46.61363586,\n",
       "        -25.72659234,  24.16762958,   5.46755073,  61.80496662,\n",
       "         14.6517129 ,  23.13094544],\n",
       "       [-17.2944175 ,   0.5911195 ,  75.50619189,  17.66979787,\n",
       "         -4.6838521 ,  20.30181572,  12.95395009, -61.25909837,\n",
       "         -1.73741533, -49.85843769],\n",
       "       [-74.74374708,  46.61363586,  17.66979787,  92.39481309,\n",
       "         -3.94120594,  95.49937955,   4.59901416,  19.9706307 ,\n",
       "         -5.13161655,  69.74927052],\n",
       "       [-16.87389257, -25.72659234,  -4.6838521 ,  -3.94120594,\n",
       "         61.17731287,  13.5650551 , -24.55828602,   2.75365856,\n",
       "         19.70526381,   6.56600786],\n",
       "       [-50.10262613,  24.16762958,  20.30181572,  95.49937955,\n",
       "         13.5650551 , 165.80880995,   3.69255562,   6.57831134,\n",
       "         13.04462855,  96.97736359],\n",
       "       [-12.31925995,   5.46755073,  12.95395009,   4.59901416,\n",
       "        -24.55828602,   3.69255562,  50.71370996,  14.21484407,\n",
       "          0.99591384,  -1.80246338],\n",
       "       [-28.7309135 ,  61.80496662, -61.25909837,  19.9706307 ,\n",
       "          2.75365856,   6.57831134,  14.21484407, 105.53469784,\n",
       "         11.16424951,  63.29194764],\n",
       "       [-10.22358235,  14.6517129 ,  -1.73741533,  -5.13161655,\n",
       "         19.70526381,  13.04462855,   0.99591384,  11.16424951,\n",
       "         29.44990834,   4.57425213],\n",
       "       [-65.86448997,  23.13094544, -49.85843769,  69.74927052,\n",
       "          6.56600786,  96.97736359,  -1.80246338,  63.29194764,\n",
       "          4.57425213, 139.37481043]])"
      ]
     },
     "execution_count": 172,
     "metadata": {},
     "output_type": "execute_result"
    }
   ],
   "source": [
    "# test ob die Eigenwertszerlegung klappt\n",
    "# A * D * A^T\n",
    "A1 @ np.diag(eigenvals) @A1T"
   ]
  },
  {
   "cell_type": "code",
   "execution_count": 169,
   "metadata": {},
   "outputs": [
    {
     "data": {
      "text/plain": [
       "array([[133.33945427, -43.69398531, -17.2944175 , -74.74374708,\n",
       "        -16.87389257, -50.10262613, -12.31925995, -28.7309135 ,\n",
       "        -10.22358235, -65.86448997],\n",
       "       [-43.69398531, 140.79493423,   0.5911195 ,  46.61363586,\n",
       "        -25.72659234,  24.16762958,   5.46755073,  61.80496662,\n",
       "         14.6517129 ,  23.13094544],\n",
       "       [-17.2944175 ,   0.5911195 ,  75.50619189,  17.66979787,\n",
       "         -4.6838521 ,  20.30181572,  12.95395009, -61.25909837,\n",
       "         -1.73741533, -49.85843769],\n",
       "       [-74.74374708,  46.61363586,  17.66979787,  92.39481309,\n",
       "         -3.94120594,  95.49937955,   4.59901416,  19.9706307 ,\n",
       "         -5.13161655,  69.74927052],\n",
       "       [-16.87389257, -25.72659234,  -4.6838521 ,  -3.94120594,\n",
       "         61.17731287,  13.5650551 , -24.55828602,   2.75365856,\n",
       "         19.70526381,   6.56600786],\n",
       "       [-50.10262613,  24.16762958,  20.30181572,  95.49937955,\n",
       "         13.5650551 , 165.80880995,   3.69255562,   6.57831134,\n",
       "         13.04462855,  96.97736359],\n",
       "       [-12.31925995,   5.46755073,  12.95395009,   4.59901416,\n",
       "        -24.55828602,   3.69255562,  50.71370996,  14.21484407,\n",
       "          0.99591384,  -1.80246338],\n",
       "       [-28.7309135 ,  61.80496662, -61.25909837,  19.9706307 ,\n",
       "          2.75365856,   6.57831134,  14.21484407, 105.53469784,\n",
       "         11.16424951,  63.29194764],\n",
       "       [-10.22358235,  14.6517129 ,  -1.73741533,  -5.13161655,\n",
       "         19.70526381,  13.04462855,   0.99591384,  11.16424951,\n",
       "         29.44990834,   4.57425213],\n",
       "       [-65.86448997,  23.13094544, -49.85843769,  69.74927052,\n",
       "          6.56600786,  96.97736359,  -1.80246338,  63.29194764,\n",
       "          4.57425213, 139.37481043]])"
      ]
     },
     "execution_count": 169,
     "metadata": {},
     "output_type": "execute_result"
    }
   ],
   "source": [
    "M2"
   ]
  },
  {
   "cell_type": "code",
   "execution_count": 173,
   "metadata": {},
   "outputs": [
    {
     "data": {
      "text/plain": [
       "788683097545926.4"
      ]
     },
     "execution_count": 173,
     "metadata": {},
     "output_type": "execute_result"
    }
   ],
   "source": [
    "# determinante kann auch einfach per funktion berechnet werden\n",
    "np.linalg.det(M2)"
   ]
  },
  {
   "cell_type": "markdown",
   "metadata": {},
   "source": [
    "# Grundlegende Statistiken\n",
    "\n",
    "In numpy sind bereits einfache zusammenfassende statistische Funktionen implementiert"
   ]
  },
  {
   "cell_type": "code",
   "execution_count": 175,
   "metadata": {},
   "outputs": [
    {
     "data": {
      "text/plain": [
       "-0.022858880272799274"
      ]
     },
     "execution_count": 175,
     "metadata": {},
     "output_type": "execute_result"
    }
   ],
   "source": [
    "v3 = rng.normal(0, 3, size=(1000,))\n",
    "\n",
    "# mittelwert\n",
    "np.mean(v3)"
   ]
  },
  {
   "cell_type": "code",
   "execution_count": 177,
   "metadata": {
    "scrolled": true
   },
   "outputs": [
    {
     "data": {
      "text/plain": [
       "9.162558507896339"
      ]
     },
     "execution_count": 177,
     "metadata": {},
     "output_type": "execute_result"
    }
   ],
   "source": [
    "np.var(v3)"
   ]
  },
  {
   "cell_type": "code",
   "execution_count": 180,
   "metadata": {},
   "outputs": [
    {
     "data": {
      "text/plain": [
       "array([-3.83646311, -1.65391326,  4.95639647])"
      ]
     },
     "execution_count": 180,
     "metadata": {},
     "output_type": "execute_result"
    }
   ],
   "source": [
    "# bereche gleich mehrere Qunatile für einen Vektor gleichzeitig\n",
    "np.quantile(v3, [0.1, 0.3, 0.95])"
   ]
  },
  {
   "cell_type": "code",
   "execution_count": 187,
   "metadata": {},
   "outputs": [
    {
     "name": "stdout",
     "output_type": "stream",
     "text": [
      "[-3.84004833 -1.65824436  4.95694169]\n",
      "-0.025702579113908056\n"
     ]
    }
   ],
   "source": [
    "# praktisch zu wissen: es gibt in numpy auch alle funktionen bzgl statistik robust bzgl nan's\n",
    "v3_corrupted = v3\n",
    "v3_corrupted[3] = np.nan\n",
    "\n",
    "print(np.nanquantile(v3_corrupted, [0.1, 0.3, 0.95]))\n",
    "print(np.nanmean(v3_corrupted))"
   ]
  },
  {
   "cell_type": "code",
   "execution_count": 186,
   "metadata": {},
   "outputs": [
    {
     "data": {
      "text/plain": [
       "array([nan, nan, nan])"
      ]
     },
     "execution_count": 186,
     "metadata": {},
     "output_type": "execute_result"
    }
   ],
   "source": [
    "# funktioniert nicht\n",
    "np.quantile(v3_corrupted, [0.1, 0.3, 0.95])"
   ]
  },
  {
   "cell_type": "markdown",
   "metadata": {},
   "source": [
    "### Was bringt uns das alles für Stochastik ??? \n",
    "\n",
    "##### Beispiel: Simulation von Brownschen Bewegungen \n",
    "\n",
    "Als Gaussprozess ist eine Brownsche Bewegung $\\{X_t, t \\in [0, \\infty) \\}$ gegeben durch $\\mu(t) = 0$ und $Cov(X_s, X_t) = \\min \\{ s,t \\}$. Wir können also Pfade auf einer diskreten Indexteilmenge simulieren, indem wir die Kovarianzmatrix mithilfe der Choleskyzerlegung zerlegen und einen Vektor von Standardnormalverteilten ZV'en an die Matrixwurzel von $\\Sigma$ multiplizeren. Die Umsetzung ist \"einfach\":"
   ]
  },
  {
   "cell_type": "code",
   "execution_count": 188,
   "metadata": {},
   "outputs": [],
   "source": [
    "indexset = np.linspace(0, 3, 1000)"
   ]
  },
  {
   "cell_type": "code",
   "execution_count": 230,
   "metadata": {},
   "outputs": [
    {
     "data": {
      "text/plain": [
       "array([0.        , 0.003003  , 0.00600601, 0.00900901, 0.01201201,\n",
       "       0.01501502, 0.01801802, 0.02102102, 0.02402402, 0.02702703])"
      ]
     },
     "execution_count": 230,
     "metadata": {},
     "output_type": "execute_result"
    }
   ],
   "source": [
    "# Zeitpunkte an denen wir simulieren\n",
    "indexset[:10]"
   ]
  },
  {
   "cell_type": "code",
   "execution_count": 205,
   "metadata": {},
   "outputs": [],
   "source": [
    "def create_covmat(indexset):\n",
    "    \"\"\"Create the covariance matrix belonging to a browinan motion sampled at the times of indexset\"\"\"\n",
    "    n_pts = indexset.shape[0]\n",
    "    result = np.empty((n_pts, n_pts))\n",
    "    print(result.shape)\n",
    "    \n",
    "    # Ja es geht viel besser aber ich war faul \n",
    "    for i, val1 in enumerate(indexset):\n",
    "        for j, val2 in enumerate(indexset):\n",
    "            result[i,j] = np.minimum(val1, val2)\n",
    "    \n",
    "    return result\n",
    "\n",
    "covmat = create_covmat(indexset)"
   ]
  },
  {
   "cell_type": "code",
   "execution_count": 225,
   "metadata": {},
   "outputs": [
    {
     "data": {
      "text/plain": [
       "array([[0.        , 0.        , 0.        , 0.        , 0.        ],\n",
       "       [0.        , 0.003003  , 0.003003  , 0.003003  , 0.003003  ],\n",
       "       [0.        , 0.003003  , 0.00600601, 0.00600601, 0.00600601],\n",
       "       [0.        , 0.003003  , 0.00600601, 0.00900901, 0.00900901],\n",
       "       [0.        , 0.003003  , 0.00600601, 0.00900901, 0.01201201]])"
      ]
     },
     "execution_count": 225,
     "metadata": {},
     "output_type": "execute_result"
    }
   ],
   "source": [
    "# Kurze Überprüfung der Kovarianzmatrix\n",
    "covmat[:5, :5]"
   ]
  },
  {
   "cell_type": "code",
   "execution_count": 216,
   "metadata": {},
   "outputs": [],
   "source": [
    "# Aus numerischen stabilitätsgründen addieren wir eine kleine Zahl auf die Diagonale\n",
    "A = np.linalg.cholesky(covmat + 10 ** (-12) * np.eye(1000))"
   ]
  },
  {
   "cell_type": "markdown",
   "metadata": {},
   "source": [
    "Nun gilt Wegen $A A^T = \\Sigma$, wobei $\\Sigma$ die Kovarianzmatrix der Brownschen Bewegeung an unseren Samplestellen ist, dass für UIV Normalverteilte Zufallsvariablen $Z$ das Matrix-Vektor Produkt $AZ$ gerade die selbe Kovarianz wie die Brownsche Bewegung hat. Der Mittelwert ist Null, also folgt $AZ$ der Gleichen Verteilung wie eine Brownsche Bewegung an unsere Samplestellen. \n",
    "\n",
    "Wir simulieren gleich mehrere Pfade indem wir eine Matrix von UIV Normalverteilten ZV'en sampeln und die Anzahl der Zeilen der anzahl der Samplepunkte, die Anzahl der Spalten der Anzahl der Pfade entspricht."
   ]
  },
  {
   "cell_type": "code",
   "execution_count": 227,
   "metadata": {},
   "outputs": [],
   "source": [
    "Z = rng.normal(0,1, (1000, 20))"
   ]
  },
  {
   "cell_type": "code",
   "execution_count": 228,
   "metadata": {},
   "outputs": [],
   "source": [
    "simulated_path = A @ Z "
   ]
  },
  {
   "cell_type": "code",
   "execution_count": 229,
   "metadata": {},
   "outputs": [
    {
     "data": {
      "text/plain": [
       "[<matplotlib.lines.Line2D at 0x7f8133213820>,\n",
       " <matplotlib.lines.Line2D at 0x7f8133213940>,\n",
       " <matplotlib.lines.Line2D at 0x7f8133213a00>,\n",
       " <matplotlib.lines.Line2D at 0x7f8133213ac0>,\n",
       " <matplotlib.lines.Line2D at 0x7f8133213b80>,\n",
       " <matplotlib.lines.Line2D at 0x7f8133213c40>,\n",
       " <matplotlib.lines.Line2D at 0x7f8133213d00>,\n",
       " <matplotlib.lines.Line2D at 0x7f8133213dc0>,\n",
       " <matplotlib.lines.Line2D at 0x7f8133213e80>,\n",
       " <matplotlib.lines.Line2D at 0x7f8133213f40>,\n",
       " <matplotlib.lines.Line2D at 0x7f8133213fa0>,\n",
       " <matplotlib.lines.Line2D at 0x7f81332270a0>,\n",
       " <matplotlib.lines.Line2D at 0x7f8133227190>,\n",
       " <matplotlib.lines.Line2D at 0x7f8133227250>,\n",
       " <matplotlib.lines.Line2D at 0x7f8133227310>,\n",
       " <matplotlib.lines.Line2D at 0x7f81332273d0>,\n",
       " <matplotlib.lines.Line2D at 0x7f8133227490>,\n",
       " <matplotlib.lines.Line2D at 0x7f8133227550>,\n",
       " <matplotlib.lines.Line2D at 0x7f8133227610>,\n",
       " <matplotlib.lines.Line2D at 0x7f81332276d0>]"
      ]
     },
     "execution_count": 229,
     "metadata": {},
     "output_type": "execute_result"
    },
    {
     "data": {
      "image/png": "[encoded data removed]",
      "text/plain": [
       "<Figure size 432x288 with 1 Axes>"
      ]
     },
     "metadata": {
      "needs_background": "light"
     },
     "output_type": "display_data"
    }
   ],
   "source": [
    "import matplotlib.pyplot as plt\n",
    "\n",
    "plt.plot(indexset, simulated_path)"
   ]
  },
  {
   "cell_type": "markdown",
   "metadata": {},
   "source": [
    "Was wir daraus lernen:"
   ]
  },
  {
   "cell_type": "code",
   "execution_count": 7,
   "metadata": {},
   "outputs": [],
   "source": [
    "from IPython.display import Image\n",
    "\n",
    "# Image(\"../misc/tradeoffer_stochastic_process.png\")"
   ]
  }
 ],
 "metadata": {
  "kernelspec": {
   "display_name": "Python 3",
   "language": "python",
   "name": "python3"
  },
  "language_info": {
   "codemirror_mode": {
    "name": "ipython",
    "version": 3
   },
   "file_extension": ".py",
   "mimetype": "text/x-python",
   "name": "python",
   "nbconvert_exporter": "python",
   "pygments_lexer": "ipython3",
   "version": "3.8.5"
  }
 },
 "nbformat": 4,
 "nbformat_minor": 4
}
