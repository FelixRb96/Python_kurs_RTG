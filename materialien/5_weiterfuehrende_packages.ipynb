{
 "cells": [
  {
   "cell_type": "markdown",
   "metadata": {},
   "source": [
    "# Weiterführende Themen\n",
    "\n",
    "Wir geben einen kleinen Ausblick auf weitere Packages, die nützlich sein können zum wissenschaftlichen arbeiten mit Python. Natürlich sind die folgenden Themen und Packages nur eine Auswahl. Folgende Themen stellen wir kurz vor:\n",
    "\n",
    "* Scipy: Eine Projekt zu dem numpy dazugehört, allerdings mehr Funktionalität in richtung Optimierung, Fouriertransformationen und eine größere Liste an Verteilungen für RNG's\n",
    "* statsmodels: Die Library für Statistik in Python\n",
    "* Scikit-learn: Die Library die Machine Learning leicht macht\n",
    "* Tensorflow: Eine weitere Library zum schnellen rechnen mit Arrays mit Fokus auf Deep Learning\n",
    "\n",
    "### Scipy\n",
    "\n",
    "Ein Begriff mit zwei Bedeungen im Bezug auf Python: \n",
    "\n",
    "1. Eine Sammlung von Libraries als ein Projekt, dazu gehören numpy, pandas, matplotlib und weitere\n",
    "2. Eine Library selbst, die sich mit wissenschaftlichem Rechnen befasst\n",
    "\n",
    "Wir Fokussieren uns auf Punkt 2."
   ]
  },
  {
   "cell_type": "code",
   "execution_count": 4,
   "metadata": {},
   "outputs": [],
   "source": [
    "# Falls wir an der diskrete Fouriertransformation eines Vektors interessiert sind, \n",
    "# so können wir folgenden Code ausführen\n",
    "import numpy as np\n",
    "from scipy.fft import fft, ifft\n",
    "\n",
    "# erstellen eines Beispielhaften Vektors\n",
    "x = np.array([1.0, 2.0, 1.0, -1.0, 1.5, 1.3, 0.4])\n",
    "\n",
    "# diskrete Fouriertrafo des Vektors\n",
    "dft_x = fft(x)\n",
    "\n",
    "# inverse Fouriertrafo\n",
    "x_reconstr = ifft(dft_x)"
   ]
  },
  {
   "cell_type": "code",
   "execution_count": 13,
   "metadata": {},
   "outputs": [
    {
     "name": "stdout",
     "output_type": "stream",
     "text": [
      "[ 6.2       -0.j          1.53409294+0.12625735j -1.29453374-3.64462849j\n",
      "  0.16044079+1.50855635j  0.16044079-1.50855635j -1.29453374+3.64462849j\n",
      "  1.53409294-0.12625735j]\n",
      "[ 1. +0.j  2. +0.j  1. +0.j -1. +0.j  1.5+0.j  1.3+0.j  0.4+0.j]\n"
     ]
    }
   ],
   "source": [
    "print(dft_x)\n",
    "print(x_reconstr)"
   ]
  },
  {
   "cell_type": "code",
   "execution_count": 16,
   "metadata": {},
   "outputs": [
    {
     "data": {
      "text/plain": [
       "      fun: -0.9999999999999687\n",
       " hess_inv: array([[1.19873241, 0.20031597],\n",
       "       [0.20031597, 0.1992586 ]])\n",
       "      jac: array([ 2.08616257e-07, -4.47034836e-07])\n",
       "  message: 'Optimization terminated successfully.'\n",
       "     nfev: 36\n",
       "      nit: 11\n",
       "     njev: 12\n",
       "   status: 0\n",
       "  success: True\n",
       "        x: array([-1.99999985,  0.99999994])"
      ]
     },
     "execution_count": 16,
     "metadata": {},
     "output_type": "execute_result"
    }
   ],
   "source": [
    "# Optimierungsprobleme können mittels dem Modul optimize und den entsprechenden Funktionen gelöst werden.\n",
    "# Wir betrachten beispielsweise ein allg. Minimierungsproblem, es gibt weitere Algorithmen für \n",
    "# Quadratic Programming, lineare Optimirungsprobleme etc.\n",
    "from scipy.optimize import minimize\n",
    "\n",
    "def f(x):\n",
    "    return x[1]**2 + 1/2 * x[0]** 2 * x[1] ** 2 + 3 * x[1] * x[0] - x[0]\n",
    "\n",
    "# Man kann (und sollte) weitere Ableitungen übebrgeben, hier bin ich aber mal faul \n",
    "minimize(f, np.array([1.0,2.2]))"
   ]
  },
  {
   "cell_type": "markdown",
   "metadata": {},
   "source": [
    "Es existieren weitere Module für BLAS Funktionen, image processing, numerische Integration etc."
   ]
  },
  {
   "cell_type": "markdown",
   "metadata": {},
   "source": [
    "### Statsmodels\n",
    "\n",
    "Statistik mit linearen Modellen, logistischer Regression, klassischen Time Series Modellen etc. Die Nutzung ist dabei sehr an die Syntax der `lm()`Funktion aus R angelehnt und der Output ist quasi genauso zu lesen."
   ]
  },
  {
   "cell_type": "code",
   "execution_count": 1,
   "metadata": {},
   "outputs": [],
   "source": [
    "# In den Submodulen api und formula.api werden die wichtigen Funktionen von Statsmodels\n",
    "# sinnvoll und übersichtlich dargestellt.\n",
    "import statsmodels.api as sm\n",
    "import statsmodels.formula.api as smf\n",
    "\n",
    "# lade irgendeinen datensatz als Beispiel\n",
    "df = sm.datasets.get_rdataset(\"faithful\").data"
   ]
  },
  {
   "cell_type": "markdown",
   "metadata": {},
   "source": [
    "Der Datensatz befasst sich mit Geysiren und dem Zusammenhang von vergangener Zeit zwischen Eruptionen und der Dauer einer Eruption des Geysirs. Der folgende Plot legt nahe einen linearen Zusammenhang zu modellieren."
   ]
  },
  {
   "cell_type": "code",
   "execution_count": 2,
   "metadata": {},
   "outputs": [
    {
     "data": {
      "text/plain": [
       "<matplotlib.axes._subplots.AxesSubplot at 0x7fe01378a0d0>"
      ]
     },
     "execution_count": 2,
     "metadata": {},
     "output_type": "execute_result"
    },
    {
     "data": {
      "image/png": "[encoded data removed]",
      "text/plain": [
       "<Figure size 432x288 with 1 Axes>"
      ]
     },
     "metadata": {
      "needs_background": "light"
     },
     "output_type": "display_data"
    }
   ],
   "source": [
    "df.plot.scatter(x = 'waiting', y = 'eruptions')"
   ]
  },
  {
   "cell_type": "code",
   "execution_count": 5,
   "metadata": {},
   "outputs": [],
   "source": [
    "# der logarithmus ist statistisch gesehen nicht notwendig aber verdeutlicht die Anwendung von numpy funktionen\n",
    "fit = smf.ols('eruptions ~ waiting', data = df).fit()\n",
    "fit2 = smf.ols('eruptions ~ waiting + np.log(waiting)', data = df).fit()"
   ]
  },
  {
   "cell_type": "code",
   "execution_count": 6,
   "metadata": {},
   "outputs": [
    {
     "data": {
      "text/html": [
       "<table class=\"simpletable\">\n",
       "<caption>OLS Regression Results</caption>\n",
       "<tr>\n",
       "  <th>Dep. Variable:</th>        <td>eruptions</td>    <th>  R-squared:         </th> <td>   0.811</td> \n",
       "</tr>\n",
       "<tr>\n",
       "  <th>Model:</th>                   <td>OLS</td>       <th>  Adj. R-squared:    </th> <td>   0.811</td> \n",
       "</tr>\n",
       "<tr>\n",
       "  <th>Method:</th>             <td>Least Squares</td>  <th>  F-statistic:       </th> <td>   1162.</td> \n",
       "</tr>\n",
       "<tr>\n",
       "  <th>Date:</th>             <td>Sat, 01 May 2021</td> <th>  Prob (F-statistic):</th> <td>8.13e-100</td>\n",
       "</tr>\n",
       "<tr>\n",
       "  <th>Time:</th>                 <td>15:57:20</td>     <th>  Log-Likelihood:    </th> <td> -194.51</td> \n",
       "</tr>\n",
       "<tr>\n",
       "  <th>No. Observations:</th>      <td>   272</td>      <th>  AIC:               </th> <td>   393.0</td> \n",
       "</tr>\n",
       "<tr>\n",
       "  <th>Df Residuals:</th>          <td>   270</td>      <th>  BIC:               </th> <td>   400.2</td> \n",
       "</tr>\n",
       "<tr>\n",
       "  <th>Df Model:</th>              <td>     1</td>      <th>                     </th>     <td> </td>    \n",
       "</tr>\n",
       "<tr>\n",
       "  <th>Covariance Type:</th>      <td>nonrobust</td>    <th>                     </th>     <td> </td>    \n",
       "</tr>\n",
       "</table>\n",
       "<table class=\"simpletable\">\n",
       "<tr>\n",
       "      <td></td>         <th>coef</th>     <th>std err</th>      <th>t</th>      <th>P>|t|</th>  <th>[0.025</th>    <th>0.975]</th>  \n",
       "</tr>\n",
       "<tr>\n",
       "  <th>Intercept</th> <td>   -1.8740</td> <td>    0.160</td> <td>  -11.702</td> <td> 0.000</td> <td>   -2.189</td> <td>   -1.559</td>\n",
       "</tr>\n",
       "<tr>\n",
       "  <th>waiting</th>   <td>    0.0756</td> <td>    0.002</td> <td>   34.089</td> <td> 0.000</td> <td>    0.071</td> <td>    0.080</td>\n",
       "</tr>\n",
       "</table>\n",
       "<table class=\"simpletable\">\n",
       "<tr>\n",
       "  <th>Omnibus:</th>       <td> 4.133</td> <th>  Durbin-Watson:     </th> <td>   2.561</td>\n",
       "</tr>\n",
       "<tr>\n",
       "  <th>Prob(Omnibus):</th> <td> 0.127</td> <th>  Jarque-Bera (JB):  </th> <td>   3.173</td>\n",
       "</tr>\n",
       "<tr>\n",
       "  <th>Skew:</th>          <td>-0.138</td> <th>  Prob(JB):          </th> <td>   0.205</td>\n",
       "</tr>\n",
       "<tr>\n",
       "  <th>Kurtosis:</th>      <td> 2.548</td> <th>  Cond. No.          </th> <td>    384.</td>\n",
       "</tr>\n",
       "</table><br/><br/>Notes:<br/>[1] Standard Errors assume that the covariance matrix of the errors is correctly specified."
      ],
      "text/plain": [
       "<class 'statsmodels.iolib.summary.Summary'>\n",
       "\"\"\"\n",
       "                            OLS Regression Results                            \n",
       "==============================================================================\n",
       "Dep. Variable:              eruptions   R-squared:                       0.811\n",
       "Model:                            OLS   Adj. R-squared:                  0.811\n",
       "Method:                 Least Squares   F-statistic:                     1162.\n",
       "Date:                Sat, 01 May 2021   Prob (F-statistic):          8.13e-100\n",
       "Time:                        15:57:20   Log-Likelihood:                -194.51\n",
       "No. Observations:                 272   AIC:                             393.0\n",
       "Df Residuals:                     270   BIC:                             400.2\n",
       "Df Model:                           1                                         \n",
       "Covariance Type:            nonrobust                                         \n",
       "==============================================================================\n",
       "                 coef    std err          t      P>|t|      [0.025      0.975]\n",
       "------------------------------------------------------------------------------\n",
       "Intercept     -1.8740      0.160    -11.702      0.000      -2.189      -1.559\n",
       "waiting        0.0756      0.002     34.089      0.000       0.071       0.080\n",
       "==============================================================================\n",
       "Omnibus:                        4.133   Durbin-Watson:                   2.561\n",
       "Prob(Omnibus):                  0.127   Jarque-Bera (JB):                3.173\n",
       "Skew:                          -0.138   Prob(JB):                        0.205\n",
       "Kurtosis:                       2.548   Cond. No.                         384.\n",
       "==============================================================================\n",
       "\n",
       "Notes:\n",
       "[1] Standard Errors assume that the covariance matrix of the errors is correctly specified.\n",
       "\"\"\""
      ]
     },
     "execution_count": 6,
     "metadata": {},
     "output_type": "execute_result"
    }
   ],
   "source": [
    "fit.summary()"
   ]
  },
  {
   "cell_type": "code",
   "execution_count": 10,
   "metadata": {},
   "outputs": [
    {
     "data": {
      "text/plain": [
       "0    2.361149\n",
       "1    4.705615\n",
       "2    0.810776\n",
       "3    1.529242\n",
       "dtype: float64"
      ]
     },
     "execution_count": 10,
     "metadata": {},
     "output_type": "execute_result"
    }
   ],
   "source": [
    "# Predictions benötigen einen Pandas DataFrame, die Umsetzung ist wie folgt\n",
    "import pandas as pd\n",
    "\n",
    "predict_for = pd.DataFrame({'waiting' : np.array([56, 87, 35.5, 45])})\n",
    "fit.predict(predict_for)"
   ]
  },
  {
   "cell_type": "markdown",
   "metadata": {},
   "source": [
    "Die Umsetzung in PYthon bleibt dabei insgesamt gleich, egal ob man mit generalisierten linearen modellen, generalized least squares, Zeitreihen etc. Arbeitet. \n",
    "\n",
    "### Sklearn \n",
    "\n",
    "Scikit-learn ist eine Library mit dem Ziel die Nutzung von gängigen Machine Learning Methoden schnell und einfach zu gestalten. Trotzdem sind dabei die meisten gängigen Metriken vorhanden und Parameter immer noch optimierbar. Die Nutzung gestatltet sich dabei folgendermaßen:\n",
    "\n",
    "* Folgt ähnlich wie statsmodels immer einer festen Struktur. \n",
    "* Dabei wird nur unterschieden zwischen Regression, Klassifikation und Clustering/PCA was die Modelle angeht \n",
    "* Die Syntax ist insbesondere knapp und einfach:\n",
    "\n",
    "\n",
    "1. `model = sklearn.algorithm_we_want_to_use.modelname_classifier/regressor(Hyperparameters)`\n",
    "2. `model.fit(training_input, training_output)`\n",
    "3. `y_pred = model.predict(test_input)`\n",
    "4. `sklearn.metrics.metric_we_care_about(y_true, y_pred)`\n",
    "\n",
    "Ist in etwa der grobe ablauf eines jeden Machine Learning Models und ist tatsächlich in etwa 4 Zeilen umsetzbar."
   ]
  },
  {
   "cell_type": "code",
   "execution_count": 8,
   "metadata": {},
   "outputs": [],
   "source": [
    "from sklearn import datasets\n",
    "\n",
    "# The digits dataset\n",
    "digits = datasets.load_digits()"
   ]
  },
  {
   "cell_type": "code",
   "execution_count": 11,
   "metadata": {},
   "outputs": [
    {
     "data": {
      "text/plain": [
       "<matplotlib.image.AxesImage at 0x7fe00d81a1c0>"
      ]
     },
     "execution_count": 11,
     "metadata": {},
     "output_type": "execute_result"
    },
    {
     "data": {
      "image/png": "[encoded data removed]",
      "text/plain": [
       "<Figure size 432x288 with 1 Axes>"
      ]
     },
     "metadata": {
      "needs_background": "light"
     },
     "output_type": "display_data"
    }
   ],
   "source": [
    "import matplotlib.pyplot as plt\n",
    "\n",
    "# Soll wahrscheinlich eine Null darstellen\n",
    "plt.imshow(digits['images'][0])"
   ]
  },
  {
   "cell_type": "code",
   "execution_count": 13,
   "metadata": {},
   "outputs": [
    {
     "data": {
      "text/plain": [
       "0"
      ]
     },
     "execution_count": 13,
     "metadata": {},
     "output_type": "execute_result"
    }
   ],
   "source": [
    "# Ist tatsächlich eine Null\n",
    "digits['target'][0]"
   ]
  },
  {
   "cell_type": "code",
   "execution_count": 80,
   "metadata": {},
   "outputs": [],
   "source": [
    "n_samples = len(digits.images)\n",
    "data = digits.images.reshape((n_samples, -1))\n",
    "\n",
    "# Lade ein paar Modelle (Random Forrest, support vecotr machine, decision tree)\n",
    "from sklearn import svm, ensemble, tree\n",
    "\n",
    "# Es gibt theoretisch weitere tuningparameter, für eine quick and dirty einführung überspringen wir diese\n",
    "model_svm = svm.SVC()\n",
    "model_random_forrest = ensemble.RandomForestClassifier()\n",
    "model_tree = tree.DecisionTreeClassifier()"
   ]
  },
  {
   "cell_type": "code",
   "execution_count": 73,
   "metadata": {},
   "outputs": [
    {
     "data": {
      "text/plain": [
       "DecisionTreeClassifier()"
      ]
     },
     "execution_count": 73,
     "metadata": {},
     "output_type": "execute_result"
    }
   ],
   "source": [
    "# We learn the digits on the first half of the digits\n",
    "model_svm.fit(data[:n_samples // 2], digits.target[:n_samples // 2])\n",
    "model_random_forrest.fit(data[:n_samples // 2], digits.target[:n_samples // 2])\n",
    "model_tree.fit(data[:n_samples // 2], digits.target[:n_samples // 2])"
   ]
  },
  {
   "cell_type": "code",
   "execution_count": 77,
   "metadata": {},
   "outputs": [
    {
     "name": "stdout",
     "output_type": "stream",
     "text": [
      "Classification report for classifier SVC():\n",
      "              precision    recall  f1-score   support\n",
      "\n",
      "           0       0.99      0.99      0.99        88\n",
      "           1       0.97      0.97      0.97        91\n",
      "           2       1.00      0.98      0.99        86\n",
      "           3       0.98      0.87      0.92        91\n",
      "           4       0.99      0.96      0.97        92\n",
      "           5       0.93      0.97      0.95        91\n",
      "           6       0.99      0.99      0.99        91\n",
      "           7       0.95      0.99      0.97        89\n",
      "           8       0.92      0.95      0.94        88\n",
      "           9       0.92      0.96      0.94        92\n",
      "\n",
      "    accuracy                           0.96       899\n",
      "   macro avg       0.96      0.96      0.96       899\n",
      "weighted avg       0.96      0.96      0.96       899\n",
      "\n",
      "\n",
      "Confusion matrix:\n",
      "[[87  0  0  0  1  0  0  0  0  0]\n",
      " [ 0 88  0  0  0  0  0  0  1  2]\n",
      " [ 1  0 84  1  0  0  0  0  0  0]\n",
      " [ 0  0  0 79  0  3  0  4  5  0]\n",
      " [ 0  0  0  0 88  0  0  0  1  3]\n",
      " [ 0  0  0  0  0 88  1  0  0  2]\n",
      " [ 0  1  0  0  0  0 90  0  0  0]\n",
      " [ 0  0  0  0  0  1  0 88  0  0]\n",
      " [ 0  2  0  0  0  1  0  0 84  1]\n",
      " [ 0  0  0  1  0  2  0  1  0 88]]\n"
     ]
    }
   ],
   "source": [
    "from sklearn import metrics\n",
    "\n",
    "# wir erstellen die predictions um die performance zu bewerten\n",
    "expected = digits.target[n_samples // 2:]\n",
    "predicted = model_svm.predict(data[n_samples // 2:])\n",
    "\n",
    "# Wir geben uns die Confusion matrix als eine der Standardmetriken für alle Classifier aus\n",
    "print(\"Classification report for classifier %s:\\n%s\\n\"\n",
    "      % (model_svm, metrics.classification_report(expected, predicted)))\n",
    "print(\"Confusion matrix:\\n%s\" % metrics.confusion_matrix(expected, predicted))"
   ]
  },
  {
   "cell_type": "code",
   "execution_count": 78,
   "metadata": {},
   "outputs": [
    {
     "name": "stdout",
     "output_type": "stream",
     "text": [
      "Classification report for classifier RandomForestClassifier():\n",
      "              precision    recall  f1-score   support\n",
      "\n",
      "           0       0.98      0.99      0.98        88\n",
      "           1       0.95      0.89      0.92        91\n",
      "           2       0.95      0.91      0.93        86\n",
      "           3       0.90      0.85      0.87        91\n",
      "           4       0.98      0.93      0.96        92\n",
      "           5       0.91      0.96      0.93        91\n",
      "           6       0.98      0.99      0.98        91\n",
      "           7       0.94      0.98      0.96        89\n",
      "           8       0.89      0.88      0.88        88\n",
      "           9       0.86      0.95      0.90        92\n",
      "\n",
      "    accuracy                           0.93       899\n",
      "   macro avg       0.93      0.93      0.93       899\n",
      "weighted avg       0.93      0.93      0.93       899\n",
      "\n",
      "\n",
      "Confusion matrix:\n",
      "[[87  0  0  0  1  0  0  0  0  0]\n",
      " [ 0 81  0  3  0  1  0  0  0  6]\n",
      " [ 1  0 78  4  0  0  0  0  0  3]\n",
      " [ 0  0  3 77  0  2  0  3  6  0]\n",
      " [ 1  0  0  0 86  1  1  2  0  1]\n",
      " [ 0  0  0  0  0 87  1  0  0  3]\n",
      " [ 0  1  0  0  0  0 90  0  0  0]\n",
      " [ 0  0  0  0  0  0  0 87  2  0]\n",
      " [ 0  3  1  1  1  3  0  1 77  1]\n",
      " [ 0  0  0  1  0  2  0  0  2 87]]\n"
     ]
    }
   ],
   "source": [
    "from sklearn import metrics\n",
    "\n",
    "# wir erstellen die predictions um die performance zu bewerten\n",
    "expected = digits.target[n_samples // 2:]\n",
    "predicted = model_random_forrest.predict(data[n_samples // 2:])\n",
    "\n",
    "# Wir geben uns die Confusion matrix als eine der Standardmetriken für alle Classifier aus\n",
    "print(\"Classification report for classifier %s:\\n%s\\n\"\n",
    "      % (model_random_forrest, metrics.classification_report(expected, predicted)))\n",
    "print(\"Confusion matrix:\\n%s\" % metrics.confusion_matrix(expected, predicted))"
   ]
  },
  {
   "cell_type": "code",
   "execution_count": 79,
   "metadata": {},
   "outputs": [
    {
     "name": "stdout",
     "output_type": "stream",
     "text": [
      "Classification report for classifier DecisionTreeClassifier():\n",
      "              precision    recall  f1-score   support\n",
      "\n",
      "           0       0.92      0.90      0.91        88\n",
      "           1       0.77      0.64      0.70        91\n",
      "           2       0.86      0.71      0.78        86\n",
      "           3       0.69      0.77      0.73        91\n",
      "           4       0.90      0.79      0.84        92\n",
      "           5       0.61      0.75      0.67        91\n",
      "           6       0.87      0.88      0.87        91\n",
      "           7       0.87      0.80      0.83        89\n",
      "           8       0.64      0.62      0.63        88\n",
      "           9       0.65      0.79      0.71        92\n",
      "\n",
      "    accuracy                           0.77       899\n",
      "   macro avg       0.78      0.76      0.77       899\n",
      "weighted avg       0.78      0.77      0.77       899\n",
      "\n",
      "\n",
      "Confusion matrix:\n",
      "[[79  0  0  0  1  4  2  0  1  1]\n",
      " [ 0 58  5  7  3  0  0  4  4 10]\n",
      " [ 1  5 61 10  0  0  3  0  3  3]\n",
      " [ 0  2  2 70  0  3  0  5  6  3]\n",
      " [ 6  0  0  0 73  4  3  0  3  3]\n",
      " [ 0  4  0  1  0 68  1  0  1 16]\n",
      " [ 0  1  1  0  1  0 80  0  8  0]\n",
      " [ 0  0  0  4  1  8  0 71  4  1]\n",
      " [ 0  4  2  5  2 12  3  2 55  3]\n",
      " [ 0  1  0  5  0 12  0  0  1 73]]\n"
     ]
    }
   ],
   "source": [
    "from sklearn import metrics\n",
    "\n",
    "# wir erstellen die predictions um die performance zu bewerten\n",
    "expected = digits.target[n_samples // 2:]\n",
    "predicted = model_tree.predict(data[n_samples // 2:])\n",
    "\n",
    "# Wir geben uns die Confusion matrix als eine der Standardmetriken für alle Classifier aus\n",
    "print(\"Classification report for classifier %s:\\n%s\\n\"\n",
    "      % (model_tree, metrics.classification_report(expected, predicted)))\n",
    "print(\"Confusion matrix:\\n%s\" % metrics.confusion_matrix(expected, predicted))"
   ]
  },
  {
   "cell_type": "markdown",
   "metadata": {},
   "source": [
    "Für Regression importiert man das entsprechende Objekt `nameOfAlgorithmRegressor()` und geht analog zu dem vorgehen mit den Classifiern for und verwendet statt accuracy usw. metriken wie z.B. MSE, MAE, etc.\n",
    "\n",
    "### Tensorflow\n",
    "\n",
    "Tensorflow ist eine Library, die sich ähnlich wie numpy damit befasst, effektiv mit Vektoren und Matrizen zu rechnen, darüber hinaus aber vor allem auch bereits viele vordefinierte Modelle wie z.B. Neuronale Netze implementiert hat, und den Umgang mit diesen effizient gestaltet.\n",
    "\n",
    "Wir zeigen kurz, dass der Umgang mit Tensoren (der name für arrays in tensorflow) ähnlich ist wie der mit numpy arrays."
   ]
  },
  {
   "cell_type": "code",
   "execution_count": 113,
   "metadata": {},
   "outputs": [],
   "source": [
    "import tensorflow as tf"
   ]
  },
  {
   "cell_type": "code",
   "execution_count": 125,
   "metadata": {},
   "outputs": [],
   "source": [
    "t1 = tf.constant(np.arange(0,2, 0.01))"
   ]
  },
  {
   "cell_type": "code",
   "execution_count": 126,
   "metadata": {
    "scrolled": false
   },
   "outputs": [
    {
     "data": {
      "text/plain": [
       "<tf.Tensor: shape=(200,), dtype=float64, numpy=\n",
       "array([0.  , 0.01, 0.02, 0.03, 0.04, 0.05, 0.06, 0.07, 0.08, 0.09, 0.1 ,\n",
       "       0.11, 0.12, 0.13, 0.14, 0.15, 0.16, 0.17, 0.18, 0.19, 0.2 , 0.21,\n",
       "       0.22, 0.23, 0.24, 0.25, 0.26, 0.27, 0.28, 0.29, 0.3 , 0.31, 0.32,\n",
       "       0.33, 0.34, 0.35, 0.36, 0.37, 0.38, 0.39, 0.4 , 0.41, 0.42, 0.43,\n",
       "       0.44, 0.45, 0.46, 0.47, 0.48, 0.49, 0.5 , 0.51, 0.52, 0.53, 0.54,\n",
       "       0.55, 0.56, 0.57, 0.58, 0.59, 0.6 , 0.61, 0.62, 0.63, 0.64, 0.65,\n",
       "       0.66, 0.67, 0.68, 0.69, 0.7 , 0.71, 0.72, 0.73, 0.74, 0.75, 0.76,\n",
       "       0.77, 0.78, 0.79, 0.8 , 0.81, 0.82, 0.83, 0.84, 0.85, 0.86, 0.87,\n",
       "       0.88, 0.89, 0.9 , 0.91, 0.92, 0.93, 0.94, 0.95, 0.96, 0.97, 0.98,\n",
       "       0.99, 1.  , 1.01, 1.02, 1.03, 1.04, 1.05, 1.06, 1.07, 1.08, 1.09,\n",
       "       1.1 , 1.11, 1.12, 1.13, 1.14, 1.15, 1.16, 1.17, 1.18, 1.19, 1.2 ,\n",
       "       1.21, 1.22, 1.23, 1.24, 1.25, 1.26, 1.27, 1.28, 1.29, 1.3 , 1.31,\n",
       "       1.32, 1.33, 1.34, 1.35, 1.36, 1.37, 1.38, 1.39, 1.4 , 1.41, 1.42,\n",
       "       1.43, 1.44, 1.45, 1.46, 1.47, 1.48, 1.49, 1.5 , 1.51, 1.52, 1.53,\n",
       "       1.54, 1.55, 1.56, 1.57, 1.58, 1.59, 1.6 , 1.61, 1.62, 1.63, 1.64,\n",
       "       1.65, 1.66, 1.67, 1.68, 1.69, 1.7 , 1.71, 1.72, 1.73, 1.74, 1.75,\n",
       "       1.76, 1.77, 1.78, 1.79, 1.8 , 1.81, 1.82, 1.83, 1.84, 1.85, 1.86,\n",
       "       1.87, 1.88, 1.89, 1.9 , 1.91, 1.92, 1.93, 1.94, 1.95, 1.96, 1.97,\n",
       "       1.98, 1.99])>"
      ]
     },
     "execution_count": 126,
     "metadata": {},
     "output_type": "execute_result"
    }
   ],
   "source": [
    "t1"
   ]
  },
  {
   "cell_type": "code",
   "execution_count": 127,
   "metadata": {},
   "outputs": [],
   "source": [
    "# tf.Tensor datentyp hat keine Methode reshape, \n",
    "# dafür kann man reshape operationen aber mit einer Funktion durchführen\n",
    "t2 = tf.reshape(t1, (20,10))"
   ]
  },
  {
   "cell_type": "code",
   "execution_count": 128,
   "metadata": {},
   "outputs": [
    {
     "data": {
      "text/plain": [
       "array([[0.  , 0.01, 0.02, 0.03, 0.04, 0.05, 0.06, 0.07, 0.08, 0.09],\n",
       "       [0.1 , 0.11, 0.12, 0.13, 0.14, 0.15, 0.16, 0.17, 0.18, 0.19],\n",
       "       [0.2 , 0.21, 0.22, 0.23, 0.24, 0.25, 0.26, 0.27, 0.28, 0.29],\n",
       "       [0.3 , 0.31, 0.32, 0.33, 0.34, 0.35, 0.36, 0.37, 0.38, 0.39],\n",
       "       [0.4 , 0.41, 0.42, 0.43, 0.44, 0.45, 0.46, 0.47, 0.48, 0.49],\n",
       "       [0.5 , 0.51, 0.52, 0.53, 0.54, 0.55, 0.56, 0.57, 0.58, 0.59],\n",
       "       [0.6 , 0.61, 0.62, 0.63, 0.64, 0.65, 0.66, 0.67, 0.68, 0.69],\n",
       "       [0.7 , 0.71, 0.72, 0.73, 0.74, 0.75, 0.76, 0.77, 0.78, 0.79],\n",
       "       [0.8 , 0.81, 0.82, 0.83, 0.84, 0.85, 0.86, 0.87, 0.88, 0.89],\n",
       "       [0.9 , 0.91, 0.92, 0.93, 0.94, 0.95, 0.96, 0.97, 0.98, 0.99],\n",
       "       [1.  , 1.01, 1.02, 1.03, 1.04, 1.05, 1.06, 1.07, 1.08, 1.09],\n",
       "       [1.1 , 1.11, 1.12, 1.13, 1.14, 1.15, 1.16, 1.17, 1.18, 1.19],\n",
       "       [1.2 , 1.21, 1.22, 1.23, 1.24, 1.25, 1.26, 1.27, 1.28, 1.29],\n",
       "       [1.3 , 1.31, 1.32, 1.33, 1.34, 1.35, 1.36, 1.37, 1.38, 1.39],\n",
       "       [1.4 , 1.41, 1.42, 1.43, 1.44, 1.45, 1.46, 1.47, 1.48, 1.49],\n",
       "       [1.5 , 1.51, 1.52, 1.53, 1.54, 1.55, 1.56, 1.57, 1.58, 1.59],\n",
       "       [1.6 , 1.61, 1.62, 1.63, 1.64, 1.65, 1.66, 1.67, 1.68, 1.69],\n",
       "       [1.7 , 1.71, 1.72, 1.73, 1.74, 1.75, 1.76, 1.77, 1.78, 1.79],\n",
       "       [1.8 , 1.81, 1.82, 1.83, 1.84, 1.85, 1.86, 1.87, 1.88, 1.89],\n",
       "       [1.9 , 1.91, 1.92, 1.93, 1.94, 1.95, 1.96, 1.97, 1.98, 1.99]])"
      ]
     },
     "execution_count": 128,
     "metadata": {},
     "output_type": "execute_result"
    }
   ],
   "source": [
    "# konertieren zu numpy arrays ist ebenfalls möglich\n",
    "t2.numpy()"
   ]
  },
  {
   "cell_type": "code",
   "execution_count": 129,
   "metadata": {},
   "outputs": [
    {
     "data": {
      "text/plain": [
       "<tf.Tensor: shape=(4, 4), dtype=float64, numpy=\n",
       "array([[0.43, 0.44, 0.45, 0.46],\n",
       "       [0.53, 0.54, 0.55, 0.56],\n",
       "       [0.63, 0.64, 0.65, 0.66],\n",
       "       [0.73, 0.74, 0.75, 0.76]])>"
      ]
     },
     "execution_count": 129,
     "metadata": {},
     "output_type": "execute_result"
    }
   ],
   "source": [
    "# subsetting ist analog\n",
    "t2[4:8, 3:7]"
   ]
  },
  {
   "cell_type": "code",
   "execution_count": 130,
   "metadata": {},
   "outputs": [],
   "source": [
    "# Zufallszahlen fast analog zu numpy via tf.random.verteilungsname\n",
    "t3 = tf.random.normal((10,30))"
   ]
  },
  {
   "cell_type": "code",
   "execution_count": 131,
   "metadata": {
    "scrolled": true
   },
   "outputs": [
    {
     "data": {
      "text/plain": [
       "<tf.Tensor: shape=(10, 30), dtype=float32, numpy=\n",
       "array([[ 2.5922964 ,  2.9969175 ,  2.138007  ,  1.0854472 ,  0.14291948,\n",
       "         0.362793  , -1.3202636 , -0.3083913 , -1.7940445 ,  0.30078918,\n",
       "         0.55743176, -0.63118356, -0.41747978,  1.5908556 , -1.0324161 ,\n",
       "        -1.101154  ,  0.08347847,  0.18730709, -0.436149  , -0.55926347,\n",
       "         0.76740426,  0.52439284,  2.0329206 , -0.30576923,  0.36767063,\n",
       "        -0.87469524, -1.0522177 , -0.02960121, -2.155303  , -0.11339814],\n",
       "       [-0.88198245, -0.82148826,  0.07564889, -2.140666  ,  1.1723198 ,\n",
       "        -0.3528231 , -2.2640772 , -1.6511031 ,  1.6449037 , -0.1592277 ,\n",
       "        -1.4702775 ,  1.5820211 , -1.1852429 ,  1.6700991 , -0.959636  ,\n",
       "        -0.6382957 , -2.3058703 , -0.37181288,  1.1191168 ,  1.4173439 ,\n",
       "         0.15887058, -0.45858777,  1.9044102 , -0.4545062 , -2.2464728 ,\n",
       "        -0.93225104,  0.8912092 , -0.536885  ,  0.987509  , -1.0645226 ],\n",
       "       [-0.6057425 , -0.8402748 ,  1.2423592 , -0.05551877,  0.3324425 ,\n",
       "        -1.2056475 ,  0.7003603 ,  0.70612705,  0.9074266 ,  1.6548772 ,\n",
       "         0.5355321 ,  1.093634  , -0.39107522, -0.40655494, -0.66441566,\n",
       "        -0.13078538, -1.5406387 ,  2.6636913 ,  0.52514666, -0.46070644,\n",
       "         0.66216606,  2.7692637 , -0.5859811 ,  0.86965615,  1.1852983 ,\n",
       "        -0.29587355, -0.254788  ,  0.38857138,  0.44271153, -1.0421835 ],\n",
       "       [-0.19287057,  0.13748871,  0.35950157, -0.1828641 , -0.40663293,\n",
       "         0.20907679,  1.8028543 ,  0.44271564, -0.675666  ,  0.877277  ,\n",
       "         2.0307488 ,  1.294857  ,  0.14649011,  0.49218026, -0.3866274 ,\n",
       "         1.3449521 , -0.03614925,  1.142468  ,  0.7003746 ,  0.29642946,\n",
       "         1.3456935 , -0.5259301 , -1.4468051 ,  0.46864927, -0.22461246,\n",
       "        -1.0888572 ,  0.38574532,  0.5536985 , -0.11689201, -0.73889524],\n",
       "       [-0.3653275 ,  0.25304943,  0.03500266, -0.77411264, -0.05946313,\n",
       "         1.0319346 , -0.47790465,  1.028882  ,  0.13092212,  2.1621354 ,\n",
       "         0.7814651 ,  0.96661323, -1.5929027 , -2.1066723 , -0.82830685,\n",
       "         0.00749551,  0.4221432 , -0.2751899 ,  0.07422579,  0.73969203,\n",
       "        -0.8001908 ,  0.56801605,  0.42694864, -0.5827696 , -1.4002898 ,\n",
       "        -0.52299047,  2.015878  ,  0.86875004,  0.31839177, -0.6853208 ],\n",
       "       [-0.62668324,  0.77908826,  1.0720181 , -0.2947285 ,  1.8855555 ,\n",
       "         1.1759392 , -0.21367303, -0.5007352 ,  0.12645422,  0.0264237 ,\n",
       "         0.4750449 ,  1.153663  , -0.2662363 , -0.44469732, -0.82866937,\n",
       "        -0.7336971 , -0.32488972, -0.21369252, -0.14359987,  0.50916225,\n",
       "         0.2064751 , -1.131828  , -1.2591388 , -0.44642708, -0.4842297 ,\n",
       "         1.0236872 , -0.49047747, -0.9110657 ,  0.3132899 ,  1.1074365 ],\n",
       "       [ 0.2501897 ,  0.33152106,  1.4687041 , -0.6887326 , -0.40552735,\n",
       "         1.2741798 ,  0.59218985,  0.30918416,  1.4667745 , -0.6072399 ,\n",
       "         1.0875148 ,  0.0850855 ,  0.24307106,  1.9098634 , -0.41420025,\n",
       "         2.339849  ,  0.7481821 ,  1.1758716 ,  0.49314737, -1.0028663 ,\n",
       "         0.85467654, -0.37123838, -0.9088779 ,  0.5340286 , -0.5920249 ,\n",
       "         1.1062369 ,  0.8741345 ,  0.0707781 , -0.31131518,  1.4759974 ],\n",
       "       [ 0.19555268, -0.22965796, -0.14572291, -0.4752117 , -1.054425  ,\n",
       "         0.47571555,  0.11883072, -0.77032334, -1.4256145 , -0.25286186,\n",
       "        -0.71498156,  0.24517816, -0.01354516,  1.9190984 ,  0.950453  ,\n",
       "         0.03348391,  1.4489421 , -0.63874954, -0.8465654 ,  1.0825083 ,\n",
       "        -2.1573348 , -0.0394755 ,  0.3970125 , -1.5255438 ,  0.81215245,\n",
       "        -2.3156095 , -0.32791713, -1.1314285 ,  1.1480875 ,  0.47740325],\n",
       "       [-1.0719216 ,  0.33631432, -2.49143   ,  0.01540154, -0.4681682 ,\n",
       "         0.5726391 ,  1.5285615 , -1.695983  , -0.49158394, -0.57897687,\n",
       "         0.8884157 ,  1.835802  , -1.2581888 ,  0.08667368,  0.87900716,\n",
       "         1.001593  ,  0.80300266, -0.25066108, -0.57397586, -1.0754775 ,\n",
       "        -0.5217908 ,  0.9212487 , -0.16817287,  1.2409915 ,  1.1103604 ,\n",
       "         0.6170765 ,  0.19151141, -1.4650735 ,  1.5488157 ,  0.47533798],\n",
       "       [ 0.32352668, -0.18989395, -0.6013504 , -0.6606104 ,  0.6415327 ,\n",
       "         0.25927588, -2.0600731 , -1.9925905 , -0.9936059 ,  0.01958753,\n",
       "         1.9456482 ,  1.251194  , -0.11422484,  0.75342333, -0.13651438,\n",
       "         0.47677347,  0.2857005 , -0.6671817 , -0.9028154 ,  0.18347798,\n",
       "        -0.6070645 , -1.0511256 ,  0.407257  ,  0.68388563,  0.33947414,\n",
       "        -1.4675643 , -0.8091742 ,  2.1076605 , -1.1290911 ,  1.1363794 ]],\n",
       "      dtype=float32)>"
      ]
     },
     "execution_count": 131,
     "metadata": {},
     "output_type": "execute_result"
    }
   ],
   "source": [
    "t3"
   ]
  },
  {
   "cell_type": "code",
   "execution_count": 132,
   "metadata": {
    "scrolled": true
   },
   "outputs": [
    {
     "ename": "InvalidArgumentError",
     "evalue": "cannot compute MatMul as input #1(zero-based) was expected to be a double tensor but is a float tensor [Op:MatMul]",
     "output_type": "error",
     "traceback": [
      "\u001b[0;31m---------------------------------------------------------------------------\u001b[0m",
      "\u001b[0;31mInvalidArgumentError\u001b[0m                      Traceback (most recent call last)",
      "\u001b[0;32m<ipython-input-132-87be4a3f5743>\u001b[0m in \u001b[0;36m<module>\u001b[0;34m\u001b[0m\n\u001b[0;32m----> 1\u001b[0;31m \u001b[0mtf\u001b[0m\u001b[0;34m.\u001b[0m\u001b[0mmatmul\u001b[0m\u001b[0;34m(\u001b[0m\u001b[0mt2\u001b[0m\u001b[0;34m,\u001b[0m \u001b[0mt3\u001b[0m\u001b[0;34m)\u001b[0m\u001b[0;34m\u001b[0m\u001b[0;34m\u001b[0m\u001b[0m\n\u001b[0m",
      "\u001b[0;32m~/.local/lib/python3.8/site-packages/tensorflow/python/util/dispatch.py\u001b[0m in \u001b[0;36mwrapper\u001b[0;34m(*args, **kwargs)\u001b[0m\n\u001b[1;32m    199\u001b[0m     \u001b[0;34m\"\"\"Call target, and fall back on dispatchers if there is a TypeError.\"\"\"\u001b[0m\u001b[0;34m\u001b[0m\u001b[0;34m\u001b[0m\u001b[0m\n\u001b[1;32m    200\u001b[0m     \u001b[0;32mtry\u001b[0m\u001b[0;34m:\u001b[0m\u001b[0;34m\u001b[0m\u001b[0;34m\u001b[0m\u001b[0m\n\u001b[0;32m--> 201\u001b[0;31m       \u001b[0;32mreturn\u001b[0m \u001b[0mtarget\u001b[0m\u001b[0;34m(\u001b[0m\u001b[0;34m*\u001b[0m\u001b[0margs\u001b[0m\u001b[0;34m,\u001b[0m \u001b[0;34m**\u001b[0m\u001b[0mkwargs\u001b[0m\u001b[0;34m)\u001b[0m\u001b[0;34m\u001b[0m\u001b[0;34m\u001b[0m\u001b[0m\n\u001b[0m\u001b[1;32m    202\u001b[0m     \u001b[0;32mexcept\u001b[0m \u001b[0;34m(\u001b[0m\u001b[0mTypeError\u001b[0m\u001b[0;34m,\u001b[0m \u001b[0mValueError\u001b[0m\u001b[0;34m)\u001b[0m\u001b[0;34m:\u001b[0m\u001b[0;34m\u001b[0m\u001b[0;34m\u001b[0m\u001b[0m\n\u001b[1;32m    203\u001b[0m       \u001b[0;31m# Note: convert_to_eager_tensor currently raises a ValueError, not a\u001b[0m\u001b[0;34m\u001b[0m\u001b[0;34m\u001b[0m\u001b[0;34m\u001b[0m\u001b[0m\n",
      "\u001b[0;32m~/.local/lib/python3.8/site-packages/tensorflow/python/ops/math_ops.py\u001b[0m in \u001b[0;36mmatmul\u001b[0;34m(a, b, transpose_a, transpose_b, adjoint_a, adjoint_b, a_is_sparse, b_is_sparse, name)\u001b[0m\n\u001b[1;32m   3251\u001b[0m       \u001b[0;32mreturn\u001b[0m \u001b[0mret\u001b[0m\u001b[0;34m\u001b[0m\u001b[0;34m\u001b[0m\u001b[0m\n\u001b[1;32m   3252\u001b[0m     \u001b[0;32melse\u001b[0m\u001b[0;34m:\u001b[0m\u001b[0;34m\u001b[0m\u001b[0;34m\u001b[0m\u001b[0m\n\u001b[0;32m-> 3253\u001b[0;31m       return gen_math_ops.mat_mul(\n\u001b[0m\u001b[1;32m   3254\u001b[0m           a, b, transpose_a=transpose_a, transpose_b=transpose_b, name=name)\n\u001b[1;32m   3255\u001b[0m \u001b[0;34m\u001b[0m\u001b[0m\n",
      "\u001b[0;32m~/.local/lib/python3.8/site-packages/tensorflow/python/ops/gen_math_ops.py\u001b[0m in \u001b[0;36mmat_mul\u001b[0;34m(a, b, transpose_a, transpose_b, name)\u001b[0m\n\u001b[1;32m   5622\u001b[0m       \u001b[0;32mreturn\u001b[0m \u001b[0m_result\u001b[0m\u001b[0;34m\u001b[0m\u001b[0;34m\u001b[0m\u001b[0m\n\u001b[1;32m   5623\u001b[0m     \u001b[0;32mexcept\u001b[0m \u001b[0m_core\u001b[0m\u001b[0;34m.\u001b[0m\u001b[0m_NotOkStatusException\u001b[0m \u001b[0;32mas\u001b[0m \u001b[0me\u001b[0m\u001b[0;34m:\u001b[0m\u001b[0;34m\u001b[0m\u001b[0;34m\u001b[0m\u001b[0m\n\u001b[0;32m-> 5624\u001b[0;31m       \u001b[0m_ops\u001b[0m\u001b[0;34m.\u001b[0m\u001b[0mraise_from_not_ok_status\u001b[0m\u001b[0;34m(\u001b[0m\u001b[0me\u001b[0m\u001b[0;34m,\u001b[0m \u001b[0mname\u001b[0m\u001b[0;34m)\u001b[0m\u001b[0;34m\u001b[0m\u001b[0;34m\u001b[0m\u001b[0m\n\u001b[0m\u001b[1;32m   5625\u001b[0m     \u001b[0;32mexcept\u001b[0m \u001b[0m_core\u001b[0m\u001b[0;34m.\u001b[0m\u001b[0m_FallbackException\u001b[0m\u001b[0;34m:\u001b[0m\u001b[0;34m\u001b[0m\u001b[0;34m\u001b[0m\u001b[0m\n\u001b[1;32m   5626\u001b[0m       \u001b[0;32mpass\u001b[0m\u001b[0;34m\u001b[0m\u001b[0;34m\u001b[0m\u001b[0m\n",
      "\u001b[0;32m~/.local/lib/python3.8/site-packages/tensorflow/python/framework/ops.py\u001b[0m in \u001b[0;36mraise_from_not_ok_status\u001b[0;34m(e, name)\u001b[0m\n\u001b[1;32m   6841\u001b[0m   \u001b[0mmessage\u001b[0m \u001b[0;34m=\u001b[0m \u001b[0me\u001b[0m\u001b[0;34m.\u001b[0m\u001b[0mmessage\u001b[0m \u001b[0;34m+\u001b[0m \u001b[0;34m(\u001b[0m\u001b[0;34m\" name: \"\u001b[0m \u001b[0;34m+\u001b[0m \u001b[0mname\u001b[0m \u001b[0;32mif\u001b[0m \u001b[0mname\u001b[0m \u001b[0;32mis\u001b[0m \u001b[0;32mnot\u001b[0m \u001b[0;32mNone\u001b[0m \u001b[0;32melse\u001b[0m \u001b[0;34m\"\"\u001b[0m\u001b[0;34m)\u001b[0m\u001b[0;34m\u001b[0m\u001b[0;34m\u001b[0m\u001b[0m\n\u001b[1;32m   6842\u001b[0m   \u001b[0;31m# pylint: disable=protected-access\u001b[0m\u001b[0;34m\u001b[0m\u001b[0;34m\u001b[0m\u001b[0;34m\u001b[0m\u001b[0m\n\u001b[0;32m-> 6843\u001b[0;31m   \u001b[0msix\u001b[0m\u001b[0;34m.\u001b[0m\u001b[0mraise_from\u001b[0m\u001b[0;34m(\u001b[0m\u001b[0mcore\u001b[0m\u001b[0;34m.\u001b[0m\u001b[0m_status_to_exception\u001b[0m\u001b[0;34m(\u001b[0m\u001b[0me\u001b[0m\u001b[0;34m.\u001b[0m\u001b[0mcode\u001b[0m\u001b[0;34m,\u001b[0m \u001b[0mmessage\u001b[0m\u001b[0;34m)\u001b[0m\u001b[0;34m,\u001b[0m \u001b[0;32mNone\u001b[0m\u001b[0;34m)\u001b[0m\u001b[0;34m\u001b[0m\u001b[0;34m\u001b[0m\u001b[0m\n\u001b[0m\u001b[1;32m   6844\u001b[0m   \u001b[0;31m# pylint: enable=protected-access\u001b[0m\u001b[0;34m\u001b[0m\u001b[0;34m\u001b[0m\u001b[0;34m\u001b[0m\u001b[0m\n\u001b[1;32m   6845\u001b[0m \u001b[0;34m\u001b[0m\u001b[0m\n",
      "\u001b[0;32m/usr/lib/python3/dist-packages/six.py\u001b[0m in \u001b[0;36mraise_from\u001b[0;34m(value, from_value)\u001b[0m\n",
      "\u001b[0;31mInvalidArgumentError\u001b[0m: cannot compute MatMul as input #1(zero-based) was expected to be a double tensor but is a float tensor [Op:MatMul]"
     ]
    }
   ],
   "source": [
    "# Etwas vorsicht bei Matrixmultiplikation, Tensorflow hat eigene Datentypen und ist hier\n",
    "# wesentlich sensibler als numpy oder base Python\n",
    "tf.matmul(t2, t3)"
   ]
  },
  {
   "cell_type": "code",
   "execution_count": 133,
   "metadata": {
    "scrolled": true
   },
   "outputs": [
    {
     "data": {
      "text/plain": [
       "<tf.Tensor: shape=(20, 30), dtype=float32, numpy=\n",
       "array([[-1.00604311e-01,  4.18105721e-02, -8.41245651e-02,\n",
       "        -2.06515476e-01,  2.02154107e-02,  2.57602304e-01,\n",
       "        -3.61991837e-03, -3.23371887e-01, -1.14650615e-01,\n",
       "         4.69401777e-02,  3.73324960e-01,  4.54625517e-01,\n",
       "        -1.89606383e-01,  2.40504235e-01, -9.33526643e-03,\n",
       "         2.60736734e-01,  1.81955412e-01,  7.87809491e-03,\n",
       "        -1.18347816e-01,  1.49764167e-02, -1.62592962e-01,\n",
       "        -4.47882712e-02, -8.55011642e-02,  6.73580691e-02,\n",
       "         5.49904704e-02, -1.96074069e-01,  4.34890315e-02,\n",
       "         5.74052148e-03,  1.27596989e-01,  2.36582503e-01],\n",
       "       [-1.38900578e-01,  3.17117035e-01,  2.31149241e-01,\n",
       "        -6.23675108e-01,  1.98270783e-01,  6.37910664e-01,\n",
       "        -1.62939385e-01, -7.66593695e-01, -2.25053981e-01,\n",
       "         3.91218543e-01,  9.84979153e-01,  1.34231186e+00,\n",
       "        -6.74539864e-01,  7.86931217e-01, -3.51467818e-01,\n",
       "         5.20758152e-01,  1.40345514e-01,  2.83083141e-01,\n",
       "        -1.17457278e-01,  1.28006428e-01, -1.71702430e-01,\n",
       "         7.56853372e-02, -5.54384757e-03,  1.15577593e-01,\n",
       "        -5.82769439e-02, -6.71158075e-01,  1.85879439e-01,\n",
       "        -2.71905330e-03,  2.32217431e-01,  3.39405924e-01],\n",
       "       [-1.77196816e-01,  5.92423439e-01,  5.46423018e-01,\n",
       "        -1.04083455e+00,  3.76326054e-01,  1.01821887e+00,\n",
       "        -3.22258860e-01, -1.20981550e+00, -3.35457385e-01,\n",
       "         7.35496879e-01,  1.59663343e+00,  2.22999835e+00,\n",
       "        -1.15947330e+00,  1.33335805e+00, -6.93600416e-01,\n",
       "         7.80779660e-01,  9.87356827e-02,  5.58288097e-01,\n",
       "        -1.16566658e-01,  2.41036415e-01, -1.80811942e-01,\n",
       "         1.96158960e-01,  7.44134337e-02,  1.63797081e-01,\n",
       "        -1.71544284e-01, -1.14624226e+00,  3.28269780e-01,\n",
       "        -1.11785680e-02,  3.36837858e-01,  4.42229301e-01],\n",
       "       [-2.15493023e-01,  8.67729843e-01,  8.61697078e-01,\n",
       "        -1.45799422e+00,  5.54381430e-01,  1.39852738e+00,\n",
       "        -4.81578380e-01, -1.65303719e+00, -4.45860773e-01,\n",
       "         1.07977521e+00,  2.20828772e+00,  3.11768460e+00,\n",
       "        -1.64440668e+00,  1.87978494e+00, -1.03573298e+00,\n",
       "         1.04080117e+00,  5.71258068e-02,  8.33493352e-01,\n",
       "        -1.15676023e-01,  3.54066521e-01, -1.89921364e-01,\n",
       "         3.16632509e-01,  1.54370725e-01,  2.12016627e-01,\n",
       "        -2.84811735e-01, -1.62132609e+00,  4.70660210e-01,\n",
       "        -1.96381137e-02,  4.41458166e-01,  5.45052826e-01],\n",
       "       [-2.53789246e-01,  1.14303637e+00,  1.17697048e+00,\n",
       "        -1.87515378e+00,  7.32436717e-01,  1.77883577e+00,\n",
       "        -6.40897810e-01, -2.09625912e+00, -5.56264162e-01,\n",
       "         1.42405343e+00,  2.81994176e+00,  4.00537109e+00,\n",
       "        -2.12934017e+00,  2.42621183e+00, -1.37786555e+00,\n",
       "         1.30082262e+00,  1.55157642e-02,  1.10869813e+00,\n",
       "        -1.14785574e-01,  4.67096508e-01, -1.99030995e-01,\n",
       "         4.37106043e-01,  2.34328091e-01,  2.60236144e-01,\n",
       "        -3.98079157e-01, -2.09641027e+00,  6.13050580e-01,\n",
       "        -2.80975364e-02,  5.46078622e-01,  6.47876263e-01],\n",
       "       [-2.92085528e-01,  1.41834271e+00,  1.49224424e+00,\n",
       "        -2.29231334e+00,  9.10492063e-01,  2.15914416e+00,\n",
       "        -8.00217390e-01, -2.53948069e+00, -6.66667461e-01,\n",
       "         1.76833200e+00,  3.43159580e+00,  4.89305735e+00,\n",
       "        -2.61427355e+00,  2.97263861e+00, -1.71999824e+00,\n",
       "         1.56084418e+00, -2.60939039e-02,  1.38390303e+00,\n",
       "        -1.13894895e-01,  5.80126464e-01, -2.08140463e-01,\n",
       "         5.57579696e-01,  3.14285457e-01,  3.08455586e-01,\n",
       "        -5.11346459e-01, -2.57149458e+00,  7.55440891e-01,\n",
       "        -3.65572013e-02,  6.50698960e-01,  7.50699699e-01],\n",
       "       [-3.30381751e-01,  1.69364917e+00,  1.80751848e+00,\n",
       "        -2.70947313e+00,  1.08854747e+00,  2.53945208e+00,\n",
       "        -9.59536672e-01, -2.98270249e+00, -7.77070820e-01,\n",
       "         2.11261058e+00,  4.04325008e+00,  5.78074408e+00,\n",
       "        -3.09920716e+00,  3.51906586e+00, -2.06213045e+00,\n",
       "         1.82086563e+00, -6.77039474e-02,  1.65910828e+00,\n",
       "        -1.13004506e-01,  6.93156600e-01, -2.17250034e-01,\n",
       "         6.78053260e-01,  3.94243002e-01,  3.56675267e-01,\n",
       "        -6.24613822e-01, -3.04657865e+00,  8.97831321e-01,\n",
       "        -4.50167432e-02,  7.55319476e-01,  8.53523016e-01],\n",
       "       [-3.68678033e-01,  1.96895564e+00,  2.12279272e+00,\n",
       "        -3.12663269e+00,  1.26660287e+00,  2.91976070e+00,\n",
       "        -1.11885631e+00, -3.42592430e+00, -8.87474239e-01,\n",
       "         2.45688891e+00,  4.65490484e+00,  6.66843033e+00,\n",
       "        -3.58414054e+00,  4.06549263e+00, -2.40426302e+00,\n",
       "         2.08088708e+00, -1.09313920e-01,  1.93431365e+00,\n",
       "        -1.12113789e-01,  8.06186616e-01, -2.26359233e-01,\n",
       "         7.98527002e-01,  4.74199921e-01,  4.04894710e-01,\n",
       "        -7.37881124e-01, -3.52166271e+00,  1.04022157e+00,\n",
       "        -5.34761660e-02,  8.59939873e-01,  9.56346512e-01],\n",
       "       [-4.06974345e-01,  2.24426222e+00,  2.43806601e+00,\n",
       "        -3.54379225e+00,  1.44465804e+00,  3.30006909e+00,\n",
       "        -1.27817559e+00, -3.86914587e+00, -9.97877538e-01,\n",
       "         2.80116725e+00,  5.26655865e+00,  7.55611658e+00,\n",
       "        -4.06907415e+00,  4.61191893e+00, -2.74639606e+00,\n",
       "         2.34090853e+00, -1.50923759e-01,  2.20951843e+00,\n",
       "        -1.11223437e-01,  9.19216514e-01, -2.35468790e-01,\n",
       "         9.19000387e-01,  5.54157376e-01,  4.53114152e-01,\n",
       "        -8.51148605e-01, -3.99674654e+00,  1.18261194e+00,\n",
       "        -6.19358346e-02,  9.64560211e-01,  1.05917001e+00],\n",
       "       [-4.45270568e-01,  2.51956820e+00,  2.75333953e+00,\n",
       "        -3.96095204e+00,  1.62271321e+00,  3.68037724e+00,\n",
       "        -1.43749547e+00, -4.31236792e+00, -1.10828102e+00,\n",
       "         3.14544559e+00,  5.87821293e+00,  8.44380379e+00,\n",
       "        -4.55400753e+00,  5.15834665e+00, -3.08852816e+00,\n",
       "         2.60092998e+00, -1.92533791e-01,  2.48472357e+00,\n",
       "        -1.10332660e-01,  1.03224683e+00, -2.44578570e-01,\n",
       "         1.03947425e+00,  6.34114861e-01,  5.01333773e-01,\n",
       "        -9.64415848e-01, -4.47183084e+00,  1.32500231e+00,\n",
       "        -7.03953728e-02,  1.06918097e+00,  1.16199327e+00],\n",
       "       [-4.83566701e-01,  2.79487467e+00,  3.06861305e+00,\n",
       "        -4.37811136e+00,  1.80076861e+00,  4.06068563e+00,\n",
       "        -1.59681499e+00, -4.75558996e+00, -1.21868467e+00,\n",
       "         3.48972321e+00,  6.48986721e+00,  9.33148956e+00,\n",
       "        -5.03894043e+00,  5.70477343e+00, -3.43066025e+00,\n",
       "         2.86095142e+00, -2.34143406e-01,  2.75992823e+00,\n",
       "        -1.09442241e-01,  1.14527678e+00, -2.53688157e-01,\n",
       "         1.15994751e+00,  7.14072287e-01,  5.49553394e-01,\n",
       "        -1.07768309e+00, -4.94691515e+00,  1.46739304e+00,\n",
       "        -7.88549185e-02,  1.17380106e+00,  1.26481688e+00],\n",
       "       [-5.21862924e-01,  3.07018137e+00,  3.38388753e+00,\n",
       "        -4.79527140e+00,  1.97882414e+00,  4.44099426e+00,\n",
       "        -1.75613463e+00, -5.19881105e+00, -1.32908773e+00,\n",
       "         3.83400249e+00,  7.10152149e+00,  1.02191763e+01,\n",
       "        -5.52387428e+00,  6.25120068e+00, -3.77279353e+00,\n",
       "         3.12097311e+00, -2.75753647e-01,  3.03513360e+00,\n",
       "        -1.08551763e-01,  1.25830698e+00, -2.62797385e-01,\n",
       "         1.28042114e+00,  7.94029474e-01,  5.97772837e-01,\n",
       "        -1.19095063e+00, -5.42199898e+00,  1.60978317e+00,\n",
       "        -8.73142183e-02,  1.27842128e+00,  1.36764014e+00],\n",
       "       [-5.60159206e-01,  3.34548783e+00,  3.69916153e+00,\n",
       "        -5.21243048e+00,  2.15687943e+00,  4.82130241e+00,\n",
       "        -1.91545391e+00, -5.64203310e+00, -1.43949091e+00,\n",
       "         4.17828083e+00,  7.71317577e+00,  1.11068630e+01,\n",
       "        -6.00880718e+00,  6.79762697e+00, -4.11492634e+00,\n",
       "         3.38099456e+00, -3.17363501e-01,  3.31033850e+00,\n",
       "        -1.07660882e-01,  1.37133694e+00, -2.71906644e-01,\n",
       "         1.40089512e+00,  8.73986363e-01,  6.45992339e-01,\n",
       "        -1.30421770e+00, -5.89708281e+00,  1.75217366e+00,\n",
       "        -9.57740098e-02,  1.38304174e+00,  1.47046340e+00],\n",
       "       [-5.98455608e-01,  3.62079406e+00,  4.01443529e+00,\n",
       "        -5.62959051e+00,  2.33493471e+00,  5.20161104e+00,\n",
       "        -2.07477331e+00, -6.08525467e+00, -1.54989457e+00,\n",
       "         4.52255964e+00,  8.32483006e+00,  1.19945498e+01,\n",
       "        -6.49374151e+00,  7.34405375e+00, -4.45705891e+00,\n",
       "         3.64101601e+00, -3.58973265e-01,  3.58554363e+00,\n",
       "        -1.06770344e-01,  1.48436677e+00, -2.81016231e-01,\n",
       "         1.52136874e+00,  9.53943610e-01,  6.94211960e-01,\n",
       "        -1.41748536e+00, -6.37216711e+00,  1.89456439e+00,\n",
       "        -1.04233317e-01,  1.48766267e+00,  1.57328713e+00],\n",
       "       [-6.36751711e-01,  3.89610076e+00,  4.32970858e+00,\n",
       "        -6.04675007e+00,  2.51299000e+00,  5.58191967e+00,\n",
       "        -2.23409271e+00, -6.52847672e+00, -1.66029787e+00,\n",
       "         4.86683655e+00,  8.93648338e+00,  1.28822346e+01,\n",
       "        -6.97867489e+00,  7.89048052e+00, -4.79919147e+00,\n",
       "         3.90103769e+00, -4.00583208e-01,  3.86074805e+00,\n",
       "        -1.05880044e-01,  1.59739697e+00, -2.90126294e-01,\n",
       "         1.64184201e+00,  1.03390121e+00,  7.42431343e-01,\n",
       "        -1.53075290e+00, -6.84725046e+00,  2.03695416e+00,\n",
       "        -1.12693094e-01,  1.59228277e+00,  1.67611027e+00],\n",
       "       [-6.75048053e-01,  4.17140675e+00,  4.64498329e+00,\n",
       "        -6.46390963e+00,  2.69104505e+00,  5.96222734e+00,\n",
       "        -2.39341235e+00, -6.97169876e+00, -1.77070141e+00,\n",
       "         5.21111536e+00,  9.54813862e+00,  1.37699223e+01,\n",
       "        -7.46360779e+00,  8.43690777e+00, -5.14132404e+00,\n",
       "         4.16105890e+00, -4.42192912e-01,  4.13595343e+00,\n",
       "        -1.04989626e-01,  1.71042669e+00, -2.99235404e-01,\n",
       "         1.76231563e+00,  1.11385858e+00,  7.90650785e-01,\n",
       "        -1.64401960e+00, -7.32233524e+00,  2.17934465e+00,\n",
       "        -1.21152639e-01,  1.69690323e+00,  1.77893353e+00],\n",
       "       [-7.13344216e-01,  4.44671392e+00,  4.96025658e+00,\n",
       "        -6.88106918e+00,  2.86910105e+00,  6.34253550e+00,\n",
       "        -2.55273223e+00, -7.41492033e+00, -1.88110471e+00,\n",
       "         5.55539417e+00,  1.01597929e+01,  1.46576099e+01,\n",
       "        -7.94854116e+00,  8.98333454e+00, -5.48345709e+00,\n",
       "         4.42108011e+00, -4.83802915e-01,  4.41115808e+00,\n",
       "        -1.04098611e-01,  1.82345676e+00, -3.08344692e-01,\n",
       "         1.88278902e+00,  1.19381583e+00,  8.38870585e-01,\n",
       "        -1.75728738e+00, -7.79741859e+00,  2.32173538e+00,\n",
       "        -1.29611939e-01,  1.80152309e+00,  1.88175702e+00],\n",
       "       [-7.51640558e-01,  4.72202015e+00,  5.27552986e+00,\n",
       "        -7.29822874e+00,  3.04715633e+00,  6.72284412e+00,\n",
       "        -2.71205139e+00, -7.85814190e+00, -1.99150801e+00,\n",
       "         5.89967346e+00,  1.07714462e+01,  1.55452967e+01,\n",
       "        -8.43347454e+00,  9.52976227e+00, -5.82558918e+00,\n",
       "         4.68110180e+00, -5.25412977e-01,  4.68636370e+00,\n",
       "        -1.03208326e-01,  1.93648696e+00, -3.17454129e-01,\n",
       "         2.00326347e+00,  1.27377355e+00,  8.87090027e-01,\n",
       "        -1.87055504e+00, -8.27250290e+00,  2.46412587e+00,\n",
       "        -1.38071492e-01,  1.90614390e+00,  1.98458099e+00],\n",
       "       [-7.89936781e-01,  4.99732590e+00,  5.59080410e+00,\n",
       "        -7.71538782e+00,  3.22521162e+00,  7.10315228e+00,\n",
       "        -2.87137032e+00, -8.30136299e+00, -2.10191131e+00,\n",
       "         6.24395084e+00,  1.13831005e+01,  1.64329815e+01,\n",
       "        -8.91840839e+00,  1.00761890e+01, -6.16772175e+00,\n",
       "         4.94112349e+00, -5.67022562e-01,  4.96156883e+00,\n",
       "        -1.02317452e-01,  2.04951715e+00, -3.26563478e-01,\n",
       "         2.12373590e+00,  1.35373044e+00,  9.35309649e-01,\n",
       "        -1.98382270e+00, -8.74758720e+00,  2.60651588e+00,\n",
       "        -1.46531105e-01,  2.01076460e+00,  2.08740425e+00],\n",
       "       [-8.28233004e-01,  5.27263260e+00,  5.90607786e+00,\n",
       "        -8.13254833e+00,  3.40326691e+00,  7.48346043e+00,\n",
       "        -3.03069067e+00, -8.74458694e+00, -2.21231461e+00,\n",
       "         6.58822870e+00,  1.19947548e+01,  1.73206673e+01,\n",
       "        -9.40334129e+00,  1.06226158e+01, -6.50985432e+00,\n",
       "         5.20114470e+00, -6.08631968e-01,  5.23677444e+00,\n",
       "        -1.01427197e-01,  2.16254663e+00, -3.35673451e-01,\n",
       "         2.24420929e+00,  1.43368769e+00,  9.83529091e-01,\n",
       "        -2.09709001e+00, -9.22267151e+00,  2.74890614e+00,\n",
       "        -1.54990911e-01,  2.11538482e+00,  2.19022799e+00]], dtype=float32)>"
      ]
     },
     "execution_count": 133,
     "metadata": {},
     "output_type": "execute_result"
    }
   ],
   "source": [
    "# Aufpassen mit den datentypen in tensorflow, an sonsten bleibt alles von der Idee\n",
    "# wie in numpy\n",
    "t2 = tf.cast(t2, tf.float32)\n",
    "tf.matmul(t2, t3)"
   ]
  },
  {
   "cell_type": "code",
   "execution_count": 18,
   "metadata": {},
   "outputs": [],
   "source": [
    "from IPython.display import Image\n",
    "#Image(\"../misc/where_AI.png\")"
   ]
  },
  {
   "cell_type": "code",
   "execution_count": 112,
   "metadata": {},
   "outputs": [
    {
     "name": "stdout",
     "output_type": "stream",
     "text": [
      "Epoch 1/10\n",
      "1875/1875 [==============================] - 12s 6ms/step - loss: 0.1808 - accuracy: 0.9445\n",
      "Epoch 2/10\n",
      "1875/1875 [==============================] - 12s 6ms/step - loss: 0.0773 - accuracy: 0.9763\n",
      "Epoch 3/10\n",
      "1875/1875 [==============================] - 15s 8ms/step - loss: 0.0537 - accuracy: 0.9833\n",
      "Epoch 4/10\n",
      "1875/1875 [==============================] - 12s 6ms/step - loss: 0.0398 - accuracy: 0.9875\n",
      "Epoch 5/10\n",
      "1875/1875 [==============================] - 12s 6ms/step - loss: 0.0315 - accuracy: 0.9898\n",
      "Epoch 6/10\n",
      "1875/1875 [==============================] - 12s 6ms/step - loss: 0.0269 - accuracy: 0.9911\n",
      "Epoch 7/10\n",
      "1875/1875 [==============================] - 12s 6ms/step - loss: 0.0230 - accuracy: 0.9925\n",
      "Epoch 8/10\n",
      "1875/1875 [==============================] - 12s 6ms/step - loss: 0.0198 - accuracy: 0.9937\n",
      "Epoch 9/10\n",
      "1875/1875 [==============================] - 12s 7ms/step - loss: 0.0182 - accuracy: 0.9942\n",
      "Epoch 10/10\n",
      "1875/1875 [==============================] - 12s 7ms/step - loss: 0.0161 - accuracy: 0.9948\n",
      "313/313 [==============================] - 1s 2ms/step - loss: 0.0873 - accuracy: 0.9820\n"
     ]
    },
    {
     "data": {
      "text/plain": [
       "[0.08728741109371185, 0.9819999933242798]"
      ]
     },
     "execution_count": 112,
     "metadata": {},
     "output_type": "execute_result"
    }
   ],
   "source": [
    "# submodul von tensorflow für schnelles erstellen von neuronalen Netzen\n",
    "from tensorflow import keras\n",
    "\n",
    "# im untermodul datasets finden sich beispielhafte Datensätze\n",
    "mnist = keras.datasets.mnist\n",
    "\n",
    "(x_train, y_train),(x_test, y_test) = mnist.load_data()\n",
    "x_train, x_test = x_train / 255.0, x_test / 255.0\n",
    "\n",
    "# Untermodul models gibt einen Konstruktor für ein model objekt\n",
    "model = tf.keras.models.Sequential([\n",
    "  tf.keras.layers.Flatten(input_shape=(28, 28)),\n",
    "    # Die Layers werden in einer Liste von keras.layers.LayerName zusammengefasst\n",
    "  tf.keras.layers.Dense(1024, activation='relu'),\n",
    "  tf.keras.layers.Dense(128, activation='relu'),\n",
    "  tf.keras.layers.Dense(10, activation='softmax')\n",
    "])\n",
    "\n",
    "# Wenn die Modellarchitektur festgelegt ist, wird dem Modell ein \n",
    "# Optimizer und eine Lossfunktion hinzugefügt, damit das Minimeirungsproblem \n",
    "# vollständig ist. Optional kann man weitere MEtriken hinzufügen.\n",
    "model.compile(optimizer='adam',\n",
    "              loss='sparse_categorical_crossentropy',\n",
    "              metrics=['accuracy'])\n",
    "\n",
    "# Trainieren des Modells\n",
    "model.fit(x_train, y_train, epochs=10)\n",
    "\n",
    "# Evaluation nach Training\n",
    "model.evaluate(x_test, y_test)"
   ]
  }
 ],
 "metadata": {
  "kernelspec": {
   "display_name": "Python 3",
   "language": "python",
   "name": "python3"
  },
  "language_info": {
   "codemirror_mode": {
    "name": "ipython",
    "version": 3
   },
   "file_extension": ".py",
   "mimetype": "text/x-python",
   "name": "python",
   "nbconvert_exporter": "python",
   "pygments_lexer": "ipython3",
   "version": "3.8.5"
  }
 },
 "nbformat": 4,
 "nbformat_minor": 4
}
